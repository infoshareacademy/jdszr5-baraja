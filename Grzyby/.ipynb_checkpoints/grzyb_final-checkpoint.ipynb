{
 "cells": [
  {
   "cell_type": "markdown",
   "metadata": {},
   "source": [
    "## Linki"
   ]
  },
  {
   "cell_type": "markdown",
   "metadata": {},
   "source": [
    "https://www.analyticsvidhya.com/blog/2016/03/complete-guide-parameter-tuning-xgboost-with-codes-python/"
   ]
  },
  {
   "cell_type": "markdown",
   "metadata": {},
   "source": [
    "## Opis cech (features)"
   ]
  },
  {
   "cell_type": "markdown",
   "metadata": {
    "jupyter": {
     "source_hidden": true
    }
   },
   "source": [
    "### Lista występujących cech w danych:\n",
    "\n",
    "##### 1. class  _klasa_:\n",
    "- edible = e    > _jadalne_\n",
    "- poisonous = p > _trujące_\n",
    "\n",
    "##### 2. cap-shape  _kształt kapelusza_:\n",
    "- bell = b      > _dzwon_\n",
    "- conical = c   > _stożkowy_\n",
    "- convex = x    > _wypukły_\n",
    "- flat = f      > _płaski_\n",
    "- knobbed = k   > _gałkowy_\n",
    "- sunken = s    > _wklęsły_\n",
    "\n",
    "##### 3. cap-surface  _powierzchnia kapelusza_:\n",
    "- fibrous = f   > _włóknista_\n",
    "- grooves = g   > _rowkowata_\n",
    "- scaly = y     > _łuskowata_\n",
    "- smooth = s    > _gładka_\n",
    "\n",
    "##### 3. cap-color _kolor kapelusza_:\n",
    "- brown = n     > _brązowy_\n",
    "- buff = b      > _jasnobrązowożółty_\n",
    "- cinnamon = c  > _cynamon_\n",
    "- gray = g      > _szary_\n",
    "- green = r     > _zielony_\n",
    "- pink = p      > _różowy_\n",
    "- purple = u    > _fioletowy_\n",
    "- red = e       > _czerwony_\n",
    "- white = w     > _biały_\n",
    "- yellow = y    > _zółty_\n",
    "\n",
    "##### 4. bruises _bruzdy_:\n",
    "- bruises = t   > _prawda_\n",
    "- no = f        > _fałsz_\n",
    "\n",
    "##### 5. odor _zapach_:\n",
    "- almond=a > _migdałowy_\n",
    "- anise=l >_anyżowy_\n",
    "- creoote=c >_kreotyzowy_\n",
    "- fishy=y >_rybi_\n",
    "- foul=f >_śmierdzący_\n",
    "- musty=m >_stęchły_\n",
    "- none=n \n",
    "- pungent=p >_cierpki_\n",
    "- spicy=s > _pikantny_\n",
    "\n",
    "##### 6. gill-attachment _blaszki:\n",
    "- attached=a\n",
    "- descending=d\n",
    "- free=f\n",
    "- notched=n\n",
    "\n",
    "##### 7. gill-spacing _odstępy blaszek_:\n",
    "- close=c\n",
    "- crowded=w\n",
    "- distant=d\n",
    "\n",
    "##### 8. gill-size _rozmiar blaszek_:\n",
    "- broad=b\n",
    "- narrow=n\n",
    "\n",
    "##### 9. gill-color _kolor blaszek_:\n",
    "- black=k\n",
    "- brown=n\n",
    "- buff=b\n",
    "- chocolate=h\n",
    "- gray=g\n",
    "- green=r\n",
    "- orange=o\n",
    "- pink=p\n",
    "- purple=u\n",
    "- red=e\n",
    "- white=w\n",
    "- yellow=y\n",
    "\n",
    "##### 10. stalk-shape _trzon_:\n",
    "- enlarging=e\n",
    "- tapering=t\n",
    "\n",
    "##### 11. stalk-root _korzeń trzonu_:\n",
    "- bulbous=b\n",
    "- club=c\n",
    "- cup=u\n",
    "- equal=e\n",
    "- rhizomorphs=z\n",
    "- rooted=r\n",
    "- missing=?\n",
    "\n",
    "##### 12. stalk-surface-above-ring _powierzchnia trzonu powyżej pierścienia_:\n",
    "- fibrous=f > _włóknista_\n",
    "- scaly=y > _łuskowata_\n",
    "- silky=k > _jedwabista_\n",
    "- smooth=s > _gładka_\n",
    "\n",
    "##### 13. stalk-surface-below-ring _powierzchnia trzonu poniżej pierścienia_:\n",
    "- fibrous=f\n",
    "- scaly=y\n",
    "- silky=k\n",
    "- smooth=s\n",
    "\n",
    "##### 14. stalk-color-above-ring _kolor trzonu powyżej pierścienia_:\n",
    "- brown=n\n",
    "- buff=b\n",
    "- cinnamon=c\n",
    "- gray=g\n",
    "- orange=o\n",
    "- pink=p\n",
    "- red=e\n",
    "- white=w\n",
    "- yellow=y\n",
    "\n",
    "##### 15. stalk-color-below-ring _kolor trzonu poniżej pierścienia_:\n",
    "- brown=n\n",
    "- buff=b\n",
    "- cinnamon=c\n",
    "- gray=g\n",
    "- orange=o\n",
    "- pink=p\n",
    "- red=e\n",
    "- white=w\n",
    "- yellow=y\n",
    "\n",
    "##### 16. veil-type _typ welonu_:\n",
    "- parial=p\n",
    "- universal=u\n",
    "\n",
    "##### 17. veil-color _kolor welonu_:\n",
    "- brown=n,\n",
    "- orange=o\n",
    "- white=w\n",
    "- yellow=y\n",
    "\n",
    "##### 18. ring-number _ilość pierścieni_:\n",
    "- none=none=o,two=t\n",
    "\n",
    "##### 19. ring-type _rodzaj pierścienia_:\n",
    "- cobwebby=c\n",
    "- evanescent=e\n",
    "- flaring=f\n",
    "- large=l\n",
    "- none=n\n",
    "- pendant=p\n",
    "- sheathing=s\n",
    "- zone=z\n",
    "\n",
    "##### 20. spore-print-color _kolor zarodników_:\n",
    "- black=k\n",
    "- brown=n\n",
    "- buff=b\n",
    "- chocolate=h\n",
    "- green=r\n",
    "- orange=o\n",
    "- purple=u\n",
    "- white=w\n",
    "- yellow=y\n",
    "\n",
    "##### 21. population _populacja_:\n",
    "- abundant=a\n",
    "- clustered=c\n",
    "- numerous=n\n",
    "- scattered=s\n",
    "- several=v\n",
    "- solitary=y\n",
    "\n",
    "##### 22. habitat _środowisko występowania_:\n",
    "- grasses=g\n",
    "- leaves=l\n",
    "- meadows=m\n",
    "- paths=p\n",
    "- urban=u\n",
    "- waste=w\n",
    "- woods=d"
   ]
  },
  {
   "cell_type": "code",
<<<<<<< HEAD
   "execution_count": 89,
=======
   "execution_count": 1,
>>>>>>> 45032fa9164101c16758a24bb52b9071bd0b3c6c
   "metadata": {},
   "outputs": [],
   "source": [
    "import pandas as pd\n",
    "import numpy as np\n",
    "import matplotlib.pyplot as plt\n",
    "import xgboost as xgb\n",
    "from sklearn.ensemble import RandomForestClassifier\n",
    "from sklearn.model_selection import train_test_split\n",
    "from sklearn.tree import DecisionTreeClassifier, plot_tree\n",
    "from sklearn.linear_model import LogisticRegression\n",
    "from mlxtend import plotting\n",
    "from sklearn.metrics import balanced_accuracy_score, roc_auc_score, make_scorer, accuracy_score\n",
    "from sklearn.metrics import confusion_matrix, classification_report\n",
    "from sklearn.metrics import plot_confusion_matrix"
   ]
  },
  {
   "cell_type": "code",
<<<<<<< HEAD
   "execution_count": 52,
=======
   "execution_count": 2,
>>>>>>> 45032fa9164101c16758a24bb52b9071bd0b3c6c
   "metadata": {},
   "outputs": [],
   "source": [
    "df = pd.read_csv('mushrooms.csv')\n",
    "df_columns = pd.read_csv('mushrooms.csv')"
   ]
  },
  {
   "cell_type": "code",
<<<<<<< HEAD
   "execution_count": 53,
=======
   "execution_count": 3,
>>>>>>> 45032fa9164101c16758a24bb52b9071bd0b3c6c
   "metadata": {},
   "outputs": [
    {
     "data": {
      "text/html": [
       "<div>\n",
       "<style scoped>\n",
       "    .dataframe tbody tr th:only-of-type {\n",
       "        vertical-align: middle;\n",
       "    }\n",
       "\n",
       "    .dataframe tbody tr th {\n",
       "        vertical-align: top;\n",
       "    }\n",
       "\n",
       "    .dataframe thead th {\n",
       "        text-align: right;\n",
       "    }\n",
       "</style>\n",
       "<table border=\"1\" class=\"dataframe\">\n",
       "  <thead>\n",
       "    <tr style=\"text-align: right;\">\n",
       "      <th></th>\n",
       "      <th>class</th>\n",
       "      <th>cap-shape</th>\n",
       "      <th>cap-surface</th>\n",
       "      <th>cap-color</th>\n",
       "      <th>bruises</th>\n",
       "      <th>odor</th>\n",
       "      <th>gill-attachment</th>\n",
       "      <th>gill-spacing</th>\n",
       "      <th>gill-size</th>\n",
       "      <th>gill-color</th>\n",
       "      <th>...</th>\n",
       "      <th>stalk-surface-below-ring</th>\n",
       "      <th>stalk-color-above-ring</th>\n",
       "      <th>stalk-color-below-ring</th>\n",
       "      <th>veil-type</th>\n",
       "      <th>veil-color</th>\n",
       "      <th>ring-number</th>\n",
       "      <th>ring-type</th>\n",
       "      <th>spore-print-color</th>\n",
       "      <th>population</th>\n",
       "      <th>habitat</th>\n",
       "    </tr>\n",
       "  </thead>\n",
       "  <tbody>\n",
       "    <tr>\n",
       "      <th>0</th>\n",
       "      <td>p</td>\n",
       "      <td>x</td>\n",
       "      <td>s</td>\n",
       "      <td>n</td>\n",
       "      <td>t</td>\n",
       "      <td>p</td>\n",
       "      <td>f</td>\n",
       "      <td>c</td>\n",
       "      <td>n</td>\n",
       "      <td>k</td>\n",
       "      <td>...</td>\n",
       "      <td>s</td>\n",
       "      <td>w</td>\n",
       "      <td>w</td>\n",
       "      <td>p</td>\n",
       "      <td>w</td>\n",
       "      <td>o</td>\n",
       "      <td>p</td>\n",
       "      <td>k</td>\n",
       "      <td>s</td>\n",
       "      <td>u</td>\n",
       "    </tr>\n",
       "    <tr>\n",
       "      <th>1</th>\n",
       "      <td>e</td>\n",
       "      <td>x</td>\n",
       "      <td>s</td>\n",
       "      <td>y</td>\n",
       "      <td>t</td>\n",
       "      <td>a</td>\n",
       "      <td>f</td>\n",
       "      <td>c</td>\n",
       "      <td>b</td>\n",
       "      <td>k</td>\n",
       "      <td>...</td>\n",
       "      <td>s</td>\n",
       "      <td>w</td>\n",
       "      <td>w</td>\n",
       "      <td>p</td>\n",
       "      <td>w</td>\n",
       "      <td>o</td>\n",
       "      <td>p</td>\n",
       "      <td>n</td>\n",
       "      <td>n</td>\n",
       "      <td>g</td>\n",
       "    </tr>\n",
       "    <tr>\n",
       "      <th>2</th>\n",
       "      <td>e</td>\n",
       "      <td>b</td>\n",
       "      <td>s</td>\n",
       "      <td>w</td>\n",
       "      <td>t</td>\n",
       "      <td>l</td>\n",
       "      <td>f</td>\n",
       "      <td>c</td>\n",
       "      <td>b</td>\n",
       "      <td>n</td>\n",
       "      <td>...</td>\n",
       "      <td>s</td>\n",
       "      <td>w</td>\n",
       "      <td>w</td>\n",
       "      <td>p</td>\n",
       "      <td>w</td>\n",
       "      <td>o</td>\n",
       "      <td>p</td>\n",
       "      <td>n</td>\n",
       "      <td>n</td>\n",
       "      <td>m</td>\n",
       "    </tr>\n",
       "    <tr>\n",
       "      <th>3</th>\n",
       "      <td>p</td>\n",
       "      <td>x</td>\n",
       "      <td>y</td>\n",
       "      <td>w</td>\n",
       "      <td>t</td>\n",
       "      <td>p</td>\n",
       "      <td>f</td>\n",
       "      <td>c</td>\n",
       "      <td>n</td>\n",
       "      <td>n</td>\n",
       "      <td>...</td>\n",
       "      <td>s</td>\n",
       "      <td>w</td>\n",
       "      <td>w</td>\n",
       "      <td>p</td>\n",
       "      <td>w</td>\n",
       "      <td>o</td>\n",
       "      <td>p</td>\n",
       "      <td>k</td>\n",
       "      <td>s</td>\n",
       "      <td>u</td>\n",
       "    </tr>\n",
       "    <tr>\n",
       "      <th>4</th>\n",
       "      <td>e</td>\n",
       "      <td>x</td>\n",
       "      <td>s</td>\n",
       "      <td>g</td>\n",
       "      <td>f</td>\n",
       "      <td>n</td>\n",
       "      <td>f</td>\n",
       "      <td>w</td>\n",
       "      <td>b</td>\n",
       "      <td>k</td>\n",
       "      <td>...</td>\n",
       "      <td>s</td>\n",
       "      <td>w</td>\n",
       "      <td>w</td>\n",
       "      <td>p</td>\n",
       "      <td>w</td>\n",
       "      <td>o</td>\n",
       "      <td>e</td>\n",
       "      <td>n</td>\n",
       "      <td>a</td>\n",
       "      <td>g</td>\n",
       "    </tr>\n",
       "  </tbody>\n",
       "</table>\n",
       "<p>5 rows × 23 columns</p>\n",
       "</div>"
      ],
      "text/plain": [
       "  class cap-shape cap-surface cap-color bruises odor gill-attachment  \\\n",
       "0     p         x           s         n       t    p               f   \n",
       "1     e         x           s         y       t    a               f   \n",
       "2     e         b           s         w       t    l               f   \n",
       "3     p         x           y         w       t    p               f   \n",
       "4     e         x           s         g       f    n               f   \n",
       "\n",
       "  gill-spacing gill-size gill-color  ... stalk-surface-below-ring  \\\n",
       "0            c         n          k  ...                        s   \n",
       "1            c         b          k  ...                        s   \n",
       "2            c         b          n  ...                        s   \n",
       "3            c         n          n  ...                        s   \n",
       "4            w         b          k  ...                        s   \n",
       "\n",
       "  stalk-color-above-ring stalk-color-below-ring veil-type veil-color  \\\n",
       "0                      w                      w         p          w   \n",
       "1                      w                      w         p          w   \n",
       "2                      w                      w         p          w   \n",
       "3                      w                      w         p          w   \n",
       "4                      w                      w         p          w   \n",
       "\n",
       "  ring-number ring-type spore-print-color population habitat  \n",
       "0           o         p                 k          s       u  \n",
       "1           o         p                 n          n       g  \n",
       "2           o         p                 n          n       m  \n",
       "3           o         p                 k          s       u  \n",
       "4           o         e                 n          a       g  \n",
       "\n",
       "[5 rows x 23 columns]"
      ]
     },
     "execution_count": 53,
     "metadata": {},
     "output_type": "execute_result"
    }
   ],
   "source": [
    "# domyślnie podaje 5 wierszy\n",
    "df.head()"
   ]
  },
  {
   "cell_type": "code",
<<<<<<< HEAD
   "execution_count": 54,
=======
   "execution_count": 4,
>>>>>>> 45032fa9164101c16758a24bb52b9071bd0b3c6c
   "metadata": {
    "jupyter": {
     "outputs_hidden": true
    }
   },
   "outputs": [
    {
     "name": "stdout",
     "output_type": "stream",
     "text": [
      "<class 'pandas.core.frame.DataFrame'>\n",
      "RangeIndex: 8124 entries, 0 to 8123\n",
      "Data columns (total 23 columns):\n",
      " #   Column                    Non-Null Count  Dtype \n",
      "---  ------                    --------------  ----- \n",
      " 0   class                     8124 non-null   object\n",
      " 1   cap-shape                 8124 non-null   object\n",
      " 2   cap-surface               8124 non-null   object\n",
      " 3   cap-color                 8124 non-null   object\n",
      " 4   bruises                   8124 non-null   object\n",
      " 5   odor                      8124 non-null   object\n",
      " 6   gill-attachment           8124 non-null   object\n",
      " 7   gill-spacing              8124 non-null   object\n",
      " 8   gill-size                 8124 non-null   object\n",
      " 9   gill-color                8124 non-null   object\n",
      " 10  stalk-shape               8124 non-null   object\n",
      " 11  stalk-root                8124 non-null   object\n",
      " 12  stalk-surface-above-ring  8124 non-null   object\n",
      " 13  stalk-surface-below-ring  8124 non-null   object\n",
      " 14  stalk-color-above-ring    8124 non-null   object\n",
      " 15  stalk-color-below-ring    8124 non-null   object\n",
      " 16  veil-type                 8124 non-null   object\n",
      " 17  veil-color                8124 non-null   object\n",
      " 18  ring-number               8124 non-null   object\n",
      " 19  ring-type                 8124 non-null   object\n",
      " 20  spore-print-color         8124 non-null   object\n",
      " 21  population                8124 non-null   object\n",
      " 22  habitat                   8124 non-null   object\n",
      "dtypes: object(23)\n",
      "memory usage: 1.4+ MB\n"
     ]
    }
   ],
   "source": [
    "# object Dtype = string\n",
    "df.info()"
   ]
  },
  {
   "cell_type": "code",
<<<<<<< HEAD
   "execution_count": 55,
=======
   "execution_count": 5,
>>>>>>> 45032fa9164101c16758a24bb52b9071bd0b3c6c
   "metadata": {
    "jupyter": {
     "outputs_hidden": true
    }
   },
   "outputs": [
    {
     "data": {
      "text/html": [
       "<div>\n",
       "<style scoped>\n",
       "    .dataframe tbody tr th:only-of-type {\n",
       "        vertical-align: middle;\n",
       "    }\n",
       "\n",
       "    .dataframe tbody tr th {\n",
       "        vertical-align: top;\n",
       "    }\n",
       "\n",
       "    .dataframe thead th {\n",
       "        text-align: right;\n",
       "    }\n",
       "</style>\n",
       "<table border=\"1\" class=\"dataframe\">\n",
       "  <thead>\n",
       "    <tr style=\"text-align: right;\">\n",
       "      <th></th>\n",
       "      <th>class</th>\n",
       "      <th>cap-shape</th>\n",
       "      <th>cap-surface</th>\n",
       "      <th>cap-color</th>\n",
       "      <th>bruises</th>\n",
       "      <th>odor</th>\n",
       "      <th>gill-attachment</th>\n",
       "      <th>gill-spacing</th>\n",
       "      <th>gill-size</th>\n",
       "      <th>gill-color</th>\n",
       "      <th>...</th>\n",
       "      <th>stalk-surface-below-ring</th>\n",
       "      <th>stalk-color-above-ring</th>\n",
       "      <th>stalk-color-below-ring</th>\n",
       "      <th>veil-type</th>\n",
       "      <th>veil-color</th>\n",
       "      <th>ring-number</th>\n",
       "      <th>ring-type</th>\n",
       "      <th>spore-print-color</th>\n",
       "      <th>population</th>\n",
       "      <th>habitat</th>\n",
       "    </tr>\n",
       "  </thead>\n",
       "  <tbody>\n",
       "    <tr>\n",
       "      <th>count</th>\n",
       "      <td>8124</td>\n",
       "      <td>8124</td>\n",
       "      <td>8124</td>\n",
       "      <td>8124</td>\n",
       "      <td>8124</td>\n",
       "      <td>8124</td>\n",
       "      <td>8124</td>\n",
       "      <td>8124</td>\n",
       "      <td>8124</td>\n",
       "      <td>8124</td>\n",
       "      <td>...</td>\n",
       "      <td>8124</td>\n",
       "      <td>8124</td>\n",
       "      <td>8124</td>\n",
       "      <td>8124</td>\n",
       "      <td>8124</td>\n",
       "      <td>8124</td>\n",
       "      <td>8124</td>\n",
       "      <td>8124</td>\n",
       "      <td>8124</td>\n",
       "      <td>8124</td>\n",
       "    </tr>\n",
       "    <tr>\n",
       "      <th>unique</th>\n",
       "      <td>2</td>\n",
       "      <td>6</td>\n",
       "      <td>4</td>\n",
       "      <td>10</td>\n",
       "      <td>2</td>\n",
       "      <td>9</td>\n",
       "      <td>2</td>\n",
       "      <td>2</td>\n",
       "      <td>2</td>\n",
       "      <td>12</td>\n",
       "      <td>...</td>\n",
       "      <td>4</td>\n",
       "      <td>9</td>\n",
       "      <td>9</td>\n",
       "      <td>1</td>\n",
       "      <td>4</td>\n",
       "      <td>3</td>\n",
       "      <td>5</td>\n",
       "      <td>9</td>\n",
       "      <td>6</td>\n",
       "      <td>7</td>\n",
       "    </tr>\n",
       "    <tr>\n",
       "      <th>top</th>\n",
       "      <td>e</td>\n",
       "      <td>x</td>\n",
       "      <td>y</td>\n",
       "      <td>n</td>\n",
       "      <td>f</td>\n",
       "      <td>n</td>\n",
       "      <td>f</td>\n",
       "      <td>c</td>\n",
       "      <td>b</td>\n",
       "      <td>b</td>\n",
       "      <td>...</td>\n",
       "      <td>s</td>\n",
       "      <td>w</td>\n",
       "      <td>w</td>\n",
       "      <td>p</td>\n",
       "      <td>w</td>\n",
       "      <td>o</td>\n",
       "      <td>p</td>\n",
       "      <td>w</td>\n",
       "      <td>v</td>\n",
       "      <td>d</td>\n",
       "    </tr>\n",
       "    <tr>\n",
       "      <th>freq</th>\n",
       "      <td>4208</td>\n",
       "      <td>3656</td>\n",
       "      <td>3244</td>\n",
       "      <td>2284</td>\n",
       "      <td>4748</td>\n",
       "      <td>3528</td>\n",
       "      <td>7914</td>\n",
       "      <td>6812</td>\n",
       "      <td>5612</td>\n",
       "      <td>1728</td>\n",
       "      <td>...</td>\n",
       "      <td>4936</td>\n",
       "      <td>4464</td>\n",
       "      <td>4384</td>\n",
       "      <td>8124</td>\n",
       "      <td>7924</td>\n",
       "      <td>7488</td>\n",
       "      <td>3968</td>\n",
       "      <td>2388</td>\n",
       "      <td>4040</td>\n",
       "      <td>3148</td>\n",
       "    </tr>\n",
       "  </tbody>\n",
       "</table>\n",
       "<p>4 rows × 23 columns</p>\n",
       "</div>"
      ],
      "text/plain": [
       "       class cap-shape cap-surface cap-color bruises  odor gill-attachment  \\\n",
       "count   8124      8124        8124      8124    8124  8124            8124   \n",
       "unique     2         6           4        10       2     9               2   \n",
       "top        e         x           y         n       f     n               f   \n",
       "freq    4208      3656        3244      2284    4748  3528            7914   \n",
       "\n",
       "       gill-spacing gill-size gill-color  ... stalk-surface-below-ring  \\\n",
       "count          8124      8124       8124  ...                     8124   \n",
       "unique            2         2         12  ...                        4   \n",
       "top               c         b          b  ...                        s   \n",
       "freq           6812      5612       1728  ...                     4936   \n",
       "\n",
       "       stalk-color-above-ring stalk-color-below-ring veil-type veil-color  \\\n",
       "count                    8124                   8124      8124       8124   \n",
       "unique                      9                      9         1          4   \n",
       "top                         w                      w         p          w   \n",
       "freq                     4464                   4384      8124       7924   \n",
       "\n",
       "       ring-number ring-type spore-print-color population habitat  \n",
       "count         8124      8124              8124       8124    8124  \n",
       "unique           3         5                 9          6       7  \n",
       "top              o         p                 w          v       d  \n",
       "freq          7488      3968              2388       4040    3148  \n",
       "\n",
       "[4 rows x 23 columns]"
      ]
     },
     "execution_count": 55,
     "metadata": {},
     "output_type": "execute_result"
    }
   ],
   "source": [
    "df.describe()"
   ]
  },
  {
   "cell_type": "code",
<<<<<<< HEAD
   "execution_count": 56,
=======
   "execution_count": 6,
>>>>>>> 45032fa9164101c16758a24bb52b9071bd0b3c6c
   "metadata": {},
   "outputs": [
    {
     "name": "stdout",
     "output_type": "stream",
     "text": [
      "Liczba grzybów jadalnych: 4208, trujących: 3916.\n"
     ]
    }
   ],
   "source": [
    "# Liczebność grzybór jadalnych (e) i trujących (p):\n",
    "jadalne = df[\"class\"].value_counts()[\"e\"]\n",
    "trujace = df[\"class\"].value_counts()[\"p\"]\n",
    "print(f\"Liczba grzybów jadalnych: {jadalne}, trujących: {trujace}.\")"
   ]
  },
  {
   "cell_type": "code",
<<<<<<< HEAD
   "execution_count": 57,
=======
   "execution_count": 7,
>>>>>>> 45032fa9164101c16758a24bb52b9071bd0b3c6c
   "metadata": {},
   "outputs": [
    {
     "data": {
      "text/plain": [
       "False"
      ]
     },
     "execution_count": 57,
     "metadata": {},
     "output_type": "execute_result"
    }
   ],
   "source": [
    "#sprawdzenie duplikatów\n",
    "df.duplicated().any()"
   ]
  },
  {
   "cell_type": "code",
<<<<<<< HEAD
   "execution_count": 58,
=======
   "execution_count": 8,
>>>>>>> 45032fa9164101c16758a24bb52b9071bd0b3c6c
   "metadata": {
    "jupyter": {
     "outputs_hidden": true
    }
   },
   "outputs": [
    {
     "data": {
      "text/plain": [
       "class                       0\n",
       "cap-shape                   0\n",
       "cap-surface                 0\n",
       "cap-color                   0\n",
       "bruises                     0\n",
       "odor                        0\n",
       "gill-attachment             0\n",
       "gill-spacing                0\n",
       "gill-size                   0\n",
       "gill-color                  0\n",
       "stalk-shape                 0\n",
       "stalk-root                  0\n",
       "stalk-surface-above-ring    0\n",
       "stalk-surface-below-ring    0\n",
       "stalk-color-above-ring      0\n",
       "stalk-color-below-ring      0\n",
       "veil-type                   0\n",
       "veil-color                  0\n",
       "ring-number                 0\n",
       "ring-type                   0\n",
       "spore-print-color           0\n",
       "population                  0\n",
       "habitat                     0\n",
       "dtype: int64"
      ]
     },
     "execution_count": 58,
     "metadata": {},
     "output_type": "execute_result"
    }
   ],
   "source": [
    "# Sprawdzenie brakujących wartości\n",
    "df.isnull().sum()"
   ]
  },
  {
   "cell_type": "code",
<<<<<<< HEAD
   "execution_count": 59,
=======
   "execution_count": 9,
>>>>>>> 45032fa9164101c16758a24bb52b9071bd0b3c6c
   "metadata": {
    "jupyter": {
     "outputs_hidden": true
    }
   },
   "outputs": [
    {
     "data": {
      "text/plain": [
       "class                       0\n",
       "cap-shape                   0\n",
       "cap-surface                 0\n",
       "cap-color                   0\n",
       "bruises                     0\n",
       "odor                        0\n",
       "gill-attachment             0\n",
       "gill-spacing                0\n",
       "gill-size                   0\n",
       "gill-color                  0\n",
       "stalk-shape                 0\n",
       "stalk-root                  0\n",
       "stalk-surface-above-ring    0\n",
       "stalk-surface-below-ring    0\n",
       "stalk-color-above-ring      0\n",
       "stalk-color-below-ring      0\n",
       "veil-type                   0\n",
       "veil-color                  0\n",
       "ring-number                 0\n",
       "ring-type                   0\n",
       "spore-print-color           0\n",
       "population                  0\n",
       "habitat                     0\n",
       "dtype: int64"
      ]
     },
     "execution_count": 59,
     "metadata": {},
     "output_type": "execute_result"
    }
   ],
   "source": [
    "# Sprawdzenie wartości NaN\n",
    "df.isna().sum()"
   ]
  },
  {
   "cell_type": "code",
<<<<<<< HEAD
   "execution_count": 60,
=======
   "execution_count": 3,
>>>>>>> 45032fa9164101c16758a24bb52b9071bd0b3c6c
   "metadata": {},
   "outputs": [],
   "source": [
    "#zamiana danych na OHE, wywalamy class p - to będzie nasz target (class_e)\n",
    "df = pd.get_dummies(df)\n",
    "df = df.drop([\"class_p\"], axis=1)"
   ]
  },
  {
   "cell_type": "code",
<<<<<<< HEAD
   "execution_count": 61,
=======
   "execution_count": 5,
>>>>>>> 45032fa9164101c16758a24bb52b9071bd0b3c6c
   "metadata": {},
   "outputs": [],
   "source": [
    "y = df.class_e\n",
    "x = df.drop([\"class_e\"], axis=1)"
   ]
  },
  {
   "cell_type": "code",
<<<<<<< HEAD
   "execution_count": 62,
=======
   "execution_count": 6,
>>>>>>> 45032fa9164101c16758a24bb52b9071bd0b3c6c
   "metadata": {},
   "outputs": [],
   "source": [
    "X_train, X_test, y_train, y_test = train_test_split(x, y, test_size=0.2)"
   ]
  },
  {
   "cell_type": "code",
<<<<<<< HEAD
   "execution_count": 63,
=======
   "execution_count": 7,
   "metadata": {},
   "outputs": [],
   "source": [
    "zmienna = X_test"
   ]
  },
  {
   "cell_type": "code",
   "execution_count": 14,
>>>>>>> 45032fa9164101c16758a24bb52b9071bd0b3c6c
   "metadata": {},
   "outputs": [
    {
     "data": {
      "text/plain": [
       "RandomForestClassifier(max_depth=5, n_estimators=5, random_state=1)"
      ]
     },
<<<<<<< HEAD
     "execution_count": 63,
=======
     "execution_count": 14,
>>>>>>> 45032fa9164101c16758a24bb52b9071bd0b3c6c
     "metadata": {},
     "output_type": "execute_result"
    }
   ],
   "source": [
    "rf_classifier = RandomForestClassifier(n_estimators = 5, criterion = 'gini', max_depth=5, bootstrap=True, random_state=1)\n",
    "\n",
    "rf_classifier.fit(X_train, y_train)"
   ]
  },
  {
   "cell_type": "code",
<<<<<<< HEAD
   "execution_count": 64,
=======
   "execution_count": 15,
>>>>>>> 45032fa9164101c16758a24bb52b9071bd0b3c6c
   "metadata": {},
   "outputs": [
    {
     "data": {
      "text/plain": [
<<<<<<< HEAD
       "0.9950769230769231"
      ]
     },
     "execution_count": 64,
=======
       "0.9864615384615385"
      ]
     },
     "execution_count": 15,
>>>>>>> 45032fa9164101c16758a24bb52b9071bd0b3c6c
     "metadata": {},
     "output_type": "execute_result"
    }
   ],
   "source": [
    "rf_classifier.score(X_test, y_test)"
   ]
  },
  {
   "cell_type": "code",
<<<<<<< HEAD
   "execution_count": 65,
=======
   "execution_count": 16,
>>>>>>> 45032fa9164101c16758a24bb52b9071bd0b3c6c
   "metadata": {},
   "outputs": [
    {
     "data": {
<<<<<<< HEAD
      "image/png": "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\n",
=======
      "image/png": "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",
>>>>>>> 45032fa9164101c16758a24bb52b9071bd0b3c6c
      "text/plain": [
       "<Figure size 1080x864 with 1 Axes>"
      ]
     },
     "metadata": {
      "needs_background": "light"
     },
     "output_type": "display_data"
    }
   ],
   "source": [
    "plt.figure(figsize = (15,12))\n",
    "\n",
    "plot_tree(rf_classifier.estimators_[0],\n",
    "        feature_names=x.columns,\n",
    "        class_names=[\"0\",\"1\"],\n",
    "        filled=True);"
   ]
  },
  {
   "cell_type": "code",
<<<<<<< HEAD
   "execution_count": 66,
=======
   "execution_count": 17,
>>>>>>> 45032fa9164101c16758a24bb52b9071bd0b3c6c
   "metadata": {},
   "outputs": [],
   "source": [
    "feature_importances = pd.DataFrame(rf_classifier.feature_importances_, index=x.columns,\n",
    "                                   columns=['importance']).sort_values('importance', ascending=False)\n",
    "\n"
   ]
  },
  {
   "cell_type": "code",
<<<<<<< HEAD
   "execution_count": 67,
=======
   "execution_count": 18,
>>>>>>> 45032fa9164101c16758a24bb52b9071bd0b3c6c
   "metadata": {},
   "outputs": [
    {
     "data": {
      "text/plain": [
<<<<<<< HEAD
       "41"
      ]
     },
     "execution_count": 67,
=======
       "36"
      ]
     },
     "execution_count": 18,
>>>>>>> 45032fa9164101c16758a24bb52b9071bd0b3c6c
     "metadata": {},
     "output_type": "execute_result"
    }
   ],
   "source": [
    "most_important_features = feature_importances[feature_importances[\"importance\"] > 0]\n",
    "len(most_important_features)"
   ]
  },
  {
   "cell_type": "code",
<<<<<<< HEAD
   "execution_count": 68,
=======
   "execution_count": 19,
>>>>>>> 45032fa9164101c16758a24bb52b9071bd0b3c6c
   "metadata": {},
   "outputs": [
    {
     "data": {
      "text/html": [
       "<div>\n",
       "<style scoped>\n",
       "    .dataframe tbody tr th:only-of-type {\n",
       "        vertical-align: middle;\n",
       "    }\n",
       "\n",
       "    .dataframe tbody tr th {\n",
       "        vertical-align: top;\n",
       "    }\n",
       "\n",
       "    .dataframe thead th {\n",
       "        text-align: right;\n",
       "    }\n",
       "</style>\n",
       "<table border=\"1\" class=\"dataframe\">\n",
       "  <thead>\n",
       "    <tr style=\"text-align: right;\">\n",
       "      <th></th>\n",
       "      <th>importance</th>\n",
       "    </tr>\n",
       "  </thead>\n",
       "  <tbody>\n",
       "    <tr>\n",
<<<<<<< HEAD
       "      <th>stalk-surface-below-ring_k</th>\n",
       "      <td>0.166113</td>\n",
       "    </tr>\n",
       "    <tr>\n",
       "      <th>odor_n</th>\n",
       "      <td>0.157838</td>\n",
       "    </tr>\n",
       "    <tr>\n",
       "      <th>gill-color_b</th>\n",
       "      <td>0.093064</td>\n",
       "    </tr>\n",
       "    <tr>\n",
       "      <th>bruises_f</th>\n",
       "      <td>0.083805</td>\n",
       "    </tr>\n",
       "    <tr>\n",
       "      <th>habitat_g</th>\n",
       "      <td>0.063340</td>\n",
       "    </tr>\n",
       "    <tr>\n",
       "      <th>odor_f</th>\n",
       "      <td>0.056042</td>\n",
       "    </tr>\n",
       "    <tr>\n",
       "      <th>stalk-surface-below-ring_s</th>\n",
       "      <td>0.040602</td>\n",
       "    </tr>\n",
       "    <tr>\n",
       "      <th>spore-print-color_w</th>\n",
       "      <td>0.032517</td>\n",
       "    </tr>\n",
       "    <tr>\n",
       "      <th>ring-type_l</th>\n",
       "      <td>0.023157</td>\n",
       "    </tr>\n",
       "    <tr>\n",
       "      <th>bruises_t</th>\n",
       "      <td>0.023101</td>\n",
       "    </tr>\n",
       "    <tr>\n",
       "      <th>odor_p</th>\n",
       "      <td>0.022277</td>\n",
       "    </tr>\n",
       "    <tr>\n",
       "      <th>stalk-root_e</th>\n",
       "      <td>0.022162</td>\n",
       "    </tr>\n",
       "    <tr>\n",
       "      <th>stalk-color-below-ring_p</th>\n",
       "      <td>0.020783</td>\n",
       "    </tr>\n",
       "    <tr>\n",
       "      <th>odor_c</th>\n",
       "      <td>0.017366</td>\n",
       "    </tr>\n",
       "    <tr>\n",
       "      <th>stalk-color-above-ring_w</th>\n",
       "      <td>0.017203</td>\n",
       "    </tr>\n",
       "    <tr>\n",
       "      <th>stalk-surface-above-ring_f</th>\n",
       "      <td>0.014041</td>\n",
       "    </tr>\n",
       "    <tr>\n",
       "      <th>stalk-shape_t</th>\n",
       "      <td>0.013538</td>\n",
       "    </tr>\n",
       "    <tr>\n",
       "      <th>spore-print-color_k</th>\n",
       "      <td>0.013457</td>\n",
       "    </tr>\n",
       "    <tr>\n",
       "      <th>spore-print-color_r</th>\n",
       "      <td>0.012054</td>\n",
       "    </tr>\n",
       "    <tr>\n",
       "      <th>gill-size_n</th>\n",
       "      <td>0.011232</td>\n",
       "    </tr>\n",
       "    <tr>\n",
       "      <th>stalk-root_c</th>\n",
       "      <td>0.009563</td>\n",
       "    </tr>\n",
       "    <tr>\n",
       "      <th>ring-number_o</th>\n",
       "      <td>0.009051</td>\n",
       "    </tr>\n",
       "    <tr>\n",
       "      <th>spore-print-color_h</th>\n",
       "      <td>0.008775</td>\n",
       "    </tr>\n",
       "    <tr>\n",
       "      <th>habitat_u</th>\n",
       "      <td>0.007972</td>\n",
       "    </tr>\n",
       "    <tr>\n",
       "      <th>population_n</th>\n",
       "      <td>0.007892</td>\n",
       "    </tr>\n",
       "    <tr>\n",
       "      <th>stalk-color-above-ring_e</th>\n",
       "      <td>0.007204</td>\n",
       "    </tr>\n",
       "    <tr>\n",
       "      <th>stalk-shape_e</th>\n",
       "      <td>0.007163</td>\n",
       "    </tr>\n",
       "    <tr>\n",
       "      <th>stalk-color-above-ring_n</th>\n",
       "      <td>0.006087</td>\n",
       "    </tr>\n",
       "    <tr>\n",
       "      <th>population_s</th>\n",
       "      <td>0.005526</td>\n",
       "    </tr>\n",
       "    <tr>\n",
       "      <th>gill-color_g</th>\n",
       "      <td>0.004148</td>\n",
       "    </tr>\n",
       "    <tr>\n",
       "      <th>population_v</th>\n",
       "      <td>0.003963</td>\n",
       "    </tr>\n",
       "    <tr>\n",
       "      <th>habitat_p</th>\n",
       "      <td>0.003877</td>\n",
       "    </tr>\n",
       "    <tr>\n",
       "      <th>cap-surface_y</th>\n",
       "      <td>0.003872</td>\n",
       "    </tr>\n",
       "    <tr>\n",
       "      <th>stalk-color-above-ring_p</th>\n",
       "      <td>0.003096</td>\n",
       "    </tr>\n",
       "    <tr>\n",
       "      <th>cap-shape_s</th>\n",
       "      <td>0.002911</td>\n",
       "    </tr>\n",
       "    <tr>\n",
       "      <th>cap-shape_b</th>\n",
       "      <td>0.001347</td>\n",
       "    </tr>\n",
       "    <tr>\n",
       "      <th>gill-color_r</th>\n",
       "      <td>0.001259</td>\n",
       "    </tr>\n",
       "    <tr>\n",
       "      <th>cap-surface_g</th>\n",
       "      <td>0.000970</td>\n",
       "    </tr>\n",
       "    <tr>\n",
       "      <th>cap-color_w</th>\n",
       "      <td>0.000730</td>\n",
       "    </tr>\n",
       "    <tr>\n",
       "      <th>cap-shape_c</th>\n",
       "      <td>0.000563</td>\n",
       "    </tr>\n",
       "    <tr>\n",
       "      <th>cap-color_p</th>\n",
       "      <td>0.000339</td>\n",
=======
       "      <th>odor_n</th>\n",
       "      <td>0.196013</td>\n",
       "    </tr>\n",
       "    <tr>\n",
       "      <th>stalk-surface-below-ring_k</th>\n",
       "      <td>0.176357</td>\n",
       "    </tr>\n",
       "    <tr>\n",
       "      <th>bruises_f</th>\n",
       "      <td>0.094749</td>\n",
       "    </tr>\n",
       "    <tr>\n",
       "      <th>odor_f</th>\n",
       "      <td>0.092603</td>\n",
       "    </tr>\n",
       "    <tr>\n",
       "      <th>gill-color_b</th>\n",
       "      <td>0.092406</td>\n",
       "    </tr>\n",
       "    <tr>\n",
       "      <th>habitat_g</th>\n",
       "      <td>0.057746</td>\n",
       "    </tr>\n",
       "    <tr>\n",
       "      <th>stalk-surface-below-ring_s</th>\n",
       "      <td>0.042190</td>\n",
       "    </tr>\n",
       "    <tr>\n",
       "      <th>ring-type_l</th>\n",
       "      <td>0.024673</td>\n",
       "    </tr>\n",
       "    <tr>\n",
       "      <th>cap-color_y</th>\n",
       "      <td>0.021130</td>\n",
       "    </tr>\n",
       "    <tr>\n",
       "      <th>odor_p</th>\n",
       "      <td>0.020997</td>\n",
       "    </tr>\n",
       "    <tr>\n",
       "      <th>stalk-root_e</th>\n",
       "      <td>0.020214</td>\n",
       "    </tr>\n",
       "    <tr>\n",
       "      <th>stalk-color-below-ring_p</th>\n",
       "      <td>0.017977</td>\n",
       "    </tr>\n",
       "    <tr>\n",
       "      <th>ring-type_p</th>\n",
       "      <td>0.017906</td>\n",
       "    </tr>\n",
       "    <tr>\n",
       "      <th>stalk-shape_t</th>\n",
       "      <td>0.017443</td>\n",
       "    </tr>\n",
       "    <tr>\n",
       "      <th>ring-number_o</th>\n",
       "      <td>0.015244</td>\n",
       "    </tr>\n",
       "    <tr>\n",
       "      <th>stalk-surface-above-ring_s</th>\n",
       "      <td>0.013446</td>\n",
       "    </tr>\n",
       "    <tr>\n",
       "      <th>bruises_t</th>\n",
       "      <td>0.011806</td>\n",
       "    </tr>\n",
       "    <tr>\n",
       "      <th>cap-surface_f</th>\n",
       "      <td>0.011602</td>\n",
       "    </tr>\n",
       "    <tr>\n",
       "      <th>habitat_u</th>\n",
       "      <td>0.008599</td>\n",
       "    </tr>\n",
       "    <tr>\n",
       "      <th>stalk-color-below-ring_g</th>\n",
       "      <td>0.008578</td>\n",
       "    </tr>\n",
       "    <tr>\n",
       "      <th>stalk-root_b</th>\n",
       "      <td>0.006774</td>\n",
       "    </tr>\n",
       "    <tr>\n",
       "      <th>odor_c</th>\n",
       "      <td>0.006702</td>\n",
       "    </tr>\n",
       "    <tr>\n",
       "      <th>gill-color_r</th>\n",
       "      <td>0.004544</td>\n",
       "    </tr>\n",
       "    <tr>\n",
       "      <th>stalk-root_c</th>\n",
       "      <td>0.003973</td>\n",
       "    </tr>\n",
       "    <tr>\n",
       "      <th>habitat_p</th>\n",
       "      <td>0.003755</td>\n",
       "    </tr>\n",
       "    <tr>\n",
       "      <th>cap-color_b</th>\n",
       "      <td>0.002914</td>\n",
       "    </tr>\n",
       "    <tr>\n",
       "      <th>odor_y</th>\n",
       "      <td>0.002268</td>\n",
       "    </tr>\n",
       "    <tr>\n",
       "      <th>cap-shape_f</th>\n",
       "      <td>0.001563</td>\n",
       "    </tr>\n",
       "    <tr>\n",
       "      <th>stalk-root_?</th>\n",
       "      <td>0.001349</td>\n",
       "    </tr>\n",
       "    <tr>\n",
       "      <th>population_y</th>\n",
       "      <td>0.001244</td>\n",
       "    </tr>\n",
       "    <tr>\n",
       "      <th>cap-color_c</th>\n",
       "      <td>0.001226</td>\n",
       "    </tr>\n",
       "    <tr>\n",
       "      <th>spore-print-color_n</th>\n",
       "      <td>0.000657</td>\n",
       "    </tr>\n",
       "    <tr>\n",
       "      <th>gill-color_g</th>\n",
       "      <td>0.000460</td>\n",
       "    </tr>\n",
       "    <tr>\n",
       "      <th>habitat_m</th>\n",
       "      <td>0.000326</td>\n",
       "    </tr>\n",
       "    <tr>\n",
       "      <th>ring-type_e</th>\n",
       "      <td>0.000311</td>\n",
       "    </tr>\n",
       "    <tr>\n",
       "      <th>gill-size_n</th>\n",
       "      <td>0.000256</td>\n",
>>>>>>> 45032fa9164101c16758a24bb52b9071bd0b3c6c
       "    </tr>\n",
       "  </tbody>\n",
       "</table>\n",
       "</div>"
      ],
      "text/plain": [
       "                            importance\n",
<<<<<<< HEAD
       "stalk-surface-below-ring_k    0.166113\n",
       "odor_n                        0.157838\n",
       "gill-color_b                  0.093064\n",
       "bruises_f                     0.083805\n",
       "habitat_g                     0.063340\n",
       "odor_f                        0.056042\n",
       "stalk-surface-below-ring_s    0.040602\n",
       "spore-print-color_w           0.032517\n",
       "ring-type_l                   0.023157\n",
       "bruises_t                     0.023101\n",
       "odor_p                        0.022277\n",
       "stalk-root_e                  0.022162\n",
       "stalk-color-below-ring_p      0.020783\n",
       "odor_c                        0.017366\n",
       "stalk-color-above-ring_w      0.017203\n",
       "stalk-surface-above-ring_f    0.014041\n",
       "stalk-shape_t                 0.013538\n",
       "spore-print-color_k           0.013457\n",
       "spore-print-color_r           0.012054\n",
       "gill-size_n                   0.011232\n",
       "stalk-root_c                  0.009563\n",
       "ring-number_o                 0.009051\n",
       "spore-print-color_h           0.008775\n",
       "habitat_u                     0.007972\n",
       "population_n                  0.007892\n",
       "stalk-color-above-ring_e      0.007204\n",
       "stalk-shape_e                 0.007163\n",
       "stalk-color-above-ring_n      0.006087\n",
       "population_s                  0.005526\n",
       "gill-color_g                  0.004148\n",
       "population_v                  0.003963\n",
       "habitat_p                     0.003877\n",
       "cap-surface_y                 0.003872\n",
       "stalk-color-above-ring_p      0.003096\n",
       "cap-shape_s                   0.002911\n",
       "cap-shape_b                   0.001347\n",
       "gill-color_r                  0.001259\n",
       "cap-surface_g                 0.000970\n",
       "cap-color_w                   0.000730\n",
       "cap-shape_c                   0.000563\n",
       "cap-color_p                   0.000339"
      ]
     },
     "execution_count": 68,
=======
       "odor_n                        0.196013\n",
       "stalk-surface-below-ring_k    0.176357\n",
       "bruises_f                     0.094749\n",
       "odor_f                        0.092603\n",
       "gill-color_b                  0.092406\n",
       "habitat_g                     0.057746\n",
       "stalk-surface-below-ring_s    0.042190\n",
       "ring-type_l                   0.024673\n",
       "cap-color_y                   0.021130\n",
       "odor_p                        0.020997\n",
       "stalk-root_e                  0.020214\n",
       "stalk-color-below-ring_p      0.017977\n",
       "ring-type_p                   0.017906\n",
       "stalk-shape_t                 0.017443\n",
       "ring-number_o                 0.015244\n",
       "stalk-surface-above-ring_s    0.013446\n",
       "bruises_t                     0.011806\n",
       "cap-surface_f                 0.011602\n",
       "habitat_u                     0.008599\n",
       "stalk-color-below-ring_g      0.008578\n",
       "stalk-root_b                  0.006774\n",
       "odor_c                        0.006702\n",
       "gill-color_r                  0.004544\n",
       "stalk-root_c                  0.003973\n",
       "habitat_p                     0.003755\n",
       "cap-color_b                   0.002914\n",
       "odor_y                        0.002268\n",
       "cap-shape_f                   0.001563\n",
       "stalk-root_?                  0.001349\n",
       "population_y                  0.001244\n",
       "cap-color_c                   0.001226\n",
       "spore-print-color_n           0.000657\n",
       "gill-color_g                  0.000460\n",
       "habitat_m                     0.000326\n",
       "ring-type_e                   0.000311\n",
       "gill-size_n                   0.000256"
      ]
     },
     "execution_count": 19,
>>>>>>> 45032fa9164101c16758a24bb52b9071bd0b3c6c
     "metadata": {},
     "output_type": "execute_result"
    }
   ],
   "source": [
    "feature_importances[feature_importances[\"importance\"] > 0]"
   ]
  },
  {
   "cell_type": "code",
<<<<<<< HEAD
   "execution_count": 69,
=======
   "execution_count": 20,
>>>>>>> 45032fa9164101c16758a24bb52b9071bd0b3c6c
   "metadata": {},
   "outputs": [
    {
     "data": {
      "text/html": [
       "<div>\n",
       "<style scoped>\n",
       "    .dataframe tbody tr th:only-of-type {\n",
       "        vertical-align: middle;\n",
       "    }\n",
       "\n",
       "    .dataframe tbody tr th {\n",
       "        vertical-align: top;\n",
       "    }\n",
       "\n",
       "    .dataframe thead th {\n",
       "        text-align: right;\n",
       "    }\n",
       "</style>\n",
       "<table border=\"1\" class=\"dataframe\">\n",
       "  <thead>\n",
       "    <tr style=\"text-align: right;\">\n",
       "      <th></th>\n",
       "      <th>importance</th>\n",
       "    </tr>\n",
       "  </thead>\n",
       "  <tbody>\n",
       "    <tr>\n",
<<<<<<< HEAD
       "      <th>stalk-surface-below-ring_k</th>\n",
       "      <td>0.166113</td>\n",
       "    </tr>\n",
       "    <tr>\n",
       "      <th>odor_n</th>\n",
       "      <td>0.157838</td>\n",
       "    </tr>\n",
       "    <tr>\n",
       "      <th>gill-color_b</th>\n",
       "      <td>0.093064</td>\n",
       "    </tr>\n",
       "    <tr>\n",
       "      <th>bruises_f</th>\n",
       "      <td>0.083805</td>\n",
       "    </tr>\n",
       "    <tr>\n",
       "      <th>habitat_g</th>\n",
       "      <td>0.063340</td>\n",
       "    </tr>\n",
       "    <tr>\n",
       "      <th>odor_f</th>\n",
       "      <td>0.056042</td>\n",
=======
       "      <th>odor_n</th>\n",
       "      <td>0.196013</td>\n",
       "    </tr>\n",
       "    <tr>\n",
       "      <th>stalk-surface-below-ring_k</th>\n",
       "      <td>0.176357</td>\n",
       "    </tr>\n",
       "    <tr>\n",
       "      <th>bruises_f</th>\n",
       "      <td>0.094749</td>\n",
       "    </tr>\n",
       "    <tr>\n",
       "      <th>odor_f</th>\n",
       "      <td>0.092603</td>\n",
       "    </tr>\n",
       "    <tr>\n",
       "      <th>gill-color_b</th>\n",
       "      <td>0.092406</td>\n",
       "    </tr>\n",
       "    <tr>\n",
       "      <th>habitat_g</th>\n",
       "      <td>0.057746</td>\n",
>>>>>>> 45032fa9164101c16758a24bb52b9071bd0b3c6c
       "    </tr>\n",
       "  </tbody>\n",
       "</table>\n",
       "</div>"
      ],
      "text/plain": [
       "                            importance\n",
<<<<<<< HEAD
       "stalk-surface-below-ring_k    0.166113\n",
       "odor_n                        0.157838\n",
       "gill-color_b                  0.093064\n",
       "bruises_f                     0.083805\n",
       "habitat_g                     0.063340\n",
       "odor_f                        0.056042"
      ]
     },
     "execution_count": 69,
=======
       "odor_n                        0.196013\n",
       "stalk-surface-below-ring_k    0.176357\n",
       "bruises_f                     0.094749\n",
       "odor_f                        0.092603\n",
       "gill-color_b                  0.092406\n",
       "habitat_g                     0.057746"
      ]
     },
     "execution_count": 20,
>>>>>>> 45032fa9164101c16758a24bb52b9071bd0b3c6c
     "metadata": {},
     "output_type": "execute_result"
    }
   ],
   "source": [
    "most_important_features[most_important_features[\"importance\"] > 0.05]"
   ]
  },
  {
   "cell_type": "code",
<<<<<<< HEAD
   "execution_count": 70,
=======
   "execution_count": 21,
>>>>>>> 45032fa9164101c16758a24bb52b9071bd0b3c6c
   "metadata": {},
   "outputs": [
    {
     "data": {
      "text/plain": [
<<<<<<< HEAD
       "[<matplotlib.lines.Line2D at 0x25f34b85910>]"
      ]
     },
     "execution_count": 70,
=======
       "[<matplotlib.lines.Line2D at 0x1c9cb2d3220>]"
      ]
     },
     "execution_count": 21,
>>>>>>> 45032fa9164101c16758a24bb52b9071bd0b3c6c
     "metadata": {},
     "output_type": "execute_result"
    },
    {
     "data": {
<<<<<<< HEAD
      "image/png": "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\n",
=======
      "image/png": "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",
>>>>>>> 45032fa9164101c16758a24bb52b9071bd0b3c6c
      "text/plain": [
       "<Figure size 2160x720 with 1 Axes>"
      ]
     },
     "metadata": {
      "needs_background": "light"
     },
     "output_type": "display_data"
    }
   ],
   "source": [
    "plt.figure(figsize=(30,10))\n",
    "plt.plot(most_important_features, \"o\" )"
   ]
  },
  {
   "cell_type": "code",
<<<<<<< HEAD
   "execution_count": 71,
=======
   "execution_count": 22,
>>>>>>> 45032fa9164101c16758a24bb52b9071bd0b3c6c
   "metadata": {},
   "outputs": [
    {
     "data": {
      "text/plain": [
       "True"
      ]
     },
<<<<<<< HEAD
     "execution_count": 71,
=======
     "execution_count": 22,
>>>>>>> 45032fa9164101c16758a24bb52b9071bd0b3c6c
     "metadata": {},
     "output_type": "execute_result"
    }
   ],
   "source": [
    "z = df_columns.columns\n",
    "x_columns = pd.DataFrame(x) \n",
    "proba = x_columns.columns\n",
    "z[1] in proba[0]\n"
   ]
  },
  {
   "cell_type": "code",
<<<<<<< HEAD
   "execution_count": 72,
=======
   "execution_count": 23,
>>>>>>> 45032fa9164101c16758a24bb52b9071bd0b3c6c
   "metadata": {},
   "outputs": [
    {
     "data": {
      "text/html": [
       "<div>\n",
       "<style scoped>\n",
       "    .dataframe tbody tr th:only-of-type {\n",
       "        vertical-align: middle;\n",
       "    }\n",
       "\n",
       "    .dataframe tbody tr th {\n",
       "        vertical-align: top;\n",
       "    }\n",
       "\n",
       "    .dataframe thead th {\n",
       "        text-align: right;\n",
       "    }\n",
       "</style>\n",
       "<table border=\"1\" class=\"dataframe\">\n",
       "  <thead>\n",
       "    <tr style=\"text-align: right;\">\n",
       "      <th></th>\n",
       "      <th>importance</th>\n",
       "    </tr>\n",
       "  </thead>\n",
       "  <tbody>\n",
       "    <tr>\n",
<<<<<<< HEAD
       "      <th>stalk-surface-below-ring_k</th>\n",
       "      <td>0.166113</td>\n",
       "    </tr>\n",
       "    <tr>\n",
       "      <th>odor_n</th>\n",
       "      <td>0.157838</td>\n",
       "    </tr>\n",
       "    <tr>\n",
       "      <th>gill-color_b</th>\n",
       "      <td>0.093064</td>\n",
       "    </tr>\n",
       "    <tr>\n",
       "      <th>bruises_f</th>\n",
       "      <td>0.083805</td>\n",
       "    </tr>\n",
       "    <tr>\n",
       "      <th>habitat_g</th>\n",
       "      <td>0.063340</td>\n",
=======
       "      <th>odor_n</th>\n",
       "      <td>0.196013</td>\n",
       "    </tr>\n",
       "    <tr>\n",
       "      <th>stalk-surface-below-ring_k</th>\n",
       "      <td>0.176357</td>\n",
       "    </tr>\n",
       "    <tr>\n",
       "      <th>bruises_f</th>\n",
       "      <td>0.094749</td>\n",
       "    </tr>\n",
       "    <tr>\n",
       "      <th>odor_f</th>\n",
       "      <td>0.092603</td>\n",
       "    </tr>\n",
       "    <tr>\n",
       "      <th>gill-color_b</th>\n",
       "      <td>0.092406</td>\n",
>>>>>>> 45032fa9164101c16758a24bb52b9071bd0b3c6c
       "    </tr>\n",
       "    <tr>\n",
       "      <th>...</th>\n",
       "      <td>...</td>\n",
       "    </tr>\n",
       "    <tr>\n",
<<<<<<< HEAD
       "      <th>gill-color_n</th>\n",
       "      <td>0.000000</td>\n",
       "    </tr>\n",
       "    <tr>\n",
       "      <th>gill-color_k</th>\n",
       "      <td>0.000000</td>\n",
       "    </tr>\n",
       "    <tr>\n",
       "      <th>gill-color_h</th>\n",
       "      <td>0.000000</td>\n",
       "    </tr>\n",
       "    <tr>\n",
       "      <th>gill-color_e</th>\n",
=======
       "      <th>gill-color_p</th>\n",
       "      <td>0.000000</td>\n",
       "    </tr>\n",
       "    <tr>\n",
       "      <th>gill-color_o</th>\n",
       "      <td>0.000000</td>\n",
       "    </tr>\n",
       "    <tr>\n",
       "      <th>gill-color_n</th>\n",
       "      <td>0.000000</td>\n",
       "    </tr>\n",
       "    <tr>\n",
       "      <th>gill-color_k</th>\n",
>>>>>>> 45032fa9164101c16758a24bb52b9071bd0b3c6c
       "      <td>0.000000</td>\n",
       "    </tr>\n",
       "    <tr>\n",
       "      <th>habitat_w</th>\n",
       "      <td>0.000000</td>\n",
       "    </tr>\n",
       "  </tbody>\n",
       "</table>\n",
       "<p>117 rows × 1 columns</p>\n",
       "</div>"
      ],
      "text/plain": [
       "                            importance\n",
<<<<<<< HEAD
       "stalk-surface-below-ring_k    0.166113\n",
       "odor_n                        0.157838\n",
       "gill-color_b                  0.093064\n",
       "bruises_f                     0.083805\n",
       "habitat_g                     0.063340\n",
       "...                                ...\n",
       "gill-color_n                  0.000000\n",
       "gill-color_k                  0.000000\n",
       "gill-color_h                  0.000000\n",
       "gill-color_e                  0.000000\n",
=======
       "odor_n                        0.196013\n",
       "stalk-surface-below-ring_k    0.176357\n",
       "bruises_f                     0.094749\n",
       "odor_f                        0.092603\n",
       "gill-color_b                  0.092406\n",
       "...                                ...\n",
       "gill-color_p                  0.000000\n",
       "gill-color_o                  0.000000\n",
       "gill-color_n                  0.000000\n",
       "gill-color_k                  0.000000\n",
>>>>>>> 45032fa9164101c16758a24bb52b9071bd0b3c6c
       "habitat_w                     0.000000\n",
       "\n",
       "[117 rows x 1 columns]"
      ]
     },
<<<<<<< HEAD
     "execution_count": 72,
=======
     "execution_count": 23,
>>>>>>> 45032fa9164101c16758a24bb52b9071bd0b3c6c
     "metadata": {},
     "output_type": "execute_result"
    }
   ],
   "source": [
    "feature_importances"
   ]
  },
  {
   "cell_type": "code",
<<<<<<< HEAD
   "execution_count": 73,
=======
   "execution_count": 24,
>>>>>>> 45032fa9164101c16758a24bb52b9071bd0b3c6c
   "metadata": {},
   "outputs": [],
   "source": [
    "fi = pd.DataFrame(feature_importances).reset_index()\n",
    "fi.columns = [\"feature\", \"importance\"]"
   ]
  },
  {
   "cell_type": "code",
<<<<<<< HEAD
   "execution_count": 74,
=======
   "execution_count": 25,
>>>>>>> 45032fa9164101c16758a24bb52b9071bd0b3c6c
   "metadata": {},
   "outputs": [
    {
     "name": "stdout",
     "output_type": "stream",
     "text": [
      "   feature  importance\n",
<<<<<<< HEAD
      "1   odor_n    0.157838\n",
      "5   odor_f    0.056042\n",
      "10  odor_p    0.022277\n",
      "13  odor_c    0.017366\n",
      "76  odor_y    0.000000\n",
      "77  odor_s    0.000000\n",
      "78  odor_m    0.000000\n",
      "79  odor_l    0.000000\n",
      "80  odor_a    0.000000\n"
=======
      "0   odor_n    0.196013\n",
      "3   odor_f    0.092603\n",
      "9   odor_p    0.020997\n",
      "21  odor_c    0.006702\n",
      "26  odor_y    0.002268\n",
      "76  odor_s    0.000000\n",
      "77  odor_m    0.000000\n",
      "78  odor_l    0.000000\n",
      "79  odor_a    0.000000\n"
>>>>>>> 45032fa9164101c16758a24bb52b9071bd0b3c6c
     ]
    }
   ],
   "source": [
    "odor = fi[fi[\"feature\"].str.contains(\"odor\")]\n",
    "print(odor)"
   ]
  },
  {
   "cell_type": "code",
<<<<<<< HEAD
   "execution_count": 75,
=======
   "execution_count": 26,
>>>>>>> 45032fa9164101c16758a24bb52b9071bd0b3c6c
   "metadata": {},
   "outputs": [
    {
     "name": "stdout",
     "output_type": "stream",
     "text": [
      "class 0.0\n",
<<<<<<< HEAD
      "cap-shape 0.004820517734877175\n",
      "cap-surface 0.004842341282111593\n",
      "cap-color 0.0010686705601340588\n",
      "bruises 0.1069063257424175\n",
      "odor 0.2535226120335246\n",
      "gill-attachment 0.0\n",
      "gill-spacing 0.0\n",
      "gill-size 0.011232288325438534\n",
      "gill-color 0.09847028536602345\n",
      "stalk-shape 0.020700724056176734\n",
      "stalk-root 0.031725610960953\n",
      "stalk-surface-above-ring 0.014041242194414313\n",
      "stalk-surface-below-ring 0.20671486003352998\n",
      "stalk-color-above-ring 0.033589644340430304\n",
      "stalk-color-below-ring 0.020783407154744613\n",
      "veil-type 0.0\n",
      "veil-color 0.0\n",
      "ring-number 0.009051049371529975\n",
      "ring-type 0.023157009706803566\n",
      "spore-print-color 0.06680281863487478\n",
      "population 0.017381583921284277\n",
      "habitat 0.07518900858073158\n"
=======
      "cap-shape 0.0015633927389474887\n",
      "cap-surface 0.011601964994782018\n",
      "cap-color 0.025270098416401595\n",
      "bruises 0.10655512659855747\n",
      "odor 0.3185822851417629\n",
      "gill-attachment 0.0\n",
      "gill-spacing 0.0\n",
      "gill-size 0.0002560664584998722\n",
      "gill-color 0.09741031114394534\n",
      "stalk-shape 0.01744278748202591\n",
      "stalk-root 0.03231033125269918\n",
      "stalk-surface-above-ring 0.013446457257386286\n",
      "stalk-surface-below-ring 0.21854628892497124\n",
      "stalk-color-above-ring 0.0\n",
      "stalk-color-below-ring 0.026554655923185434\n",
      "veil-type 0.0\n",
      "veil-color 0.0\n",
      "ring-number 0.015243888441675398\n",
      "ring-type 0.042890332033027063\n",
      "spore-print-color 0.0006567826746670327\n",
      "population 0.001244202381877136\n",
      "habitat 0.07042502813558872\n"
>>>>>>> 45032fa9164101c16758a24bb52b9071bd0b3c6c
     ]
    }
   ],
   "source": [
    "slownik = {}\n",
    "for f in z:\n",
    "    odor = fi[fi[\"feature\"].str.contains(f)].importance.sum()\n",
    "    print(f, odor)"
   ]
  },
  {
   "cell_type": "code",
<<<<<<< HEAD
   "execution_count": 76,
=======
   "execution_count": 27,
>>>>>>> 45032fa9164101c16758a24bb52b9071bd0b3c6c
   "metadata": {},
   "outputs": [
    {
     "name": "stdout",
     "output_type": "stream",
     "text": [
<<<<<<< HEAD
      "stalk-surface-below-ring_k 0.1661130953221567\n",
      "odor_n 0.15783800090977923\n",
      "gill-color_b 0.09306372564760164\n",
      "bruises_f 0.08380531182849765\n",
      "habitat_g 0.06334023489570162\n",
      "odor_f 0.05604202829866252\n",
      "stalk-surface-below-ring_s 0.04060176471137328\n",
      "spore-print-color_w 0.03251676767402212\n",
      "ring-type_l 0.023157009706803566\n",
      "bruises_t 0.023101013913919843\n",
      "odor_p 0.02227701258084473\n",
      "stalk-root_e 0.022162311508930783\n",
      "stalk-color-below-ring_p 0.020783407154744613\n",
      "odor_c 0.017365570244238134\n",
      "stalk-color-above-ring_w 0.017203277988485016\n",
      "stalk-surface-above-ring_f 0.014041242194414313\n",
      "stalk-shape_t 0.013537892385304695\n",
      "spore-print-color_k 0.013456822870491075\n",
      "spore-print-color_r 0.012053863600679315\n",
      "gill-size_n 0.011232288325438534\n",
      "stalk-root_c 0.009563299452022216\n",
      "ring-number_o 0.009051049371529975\n",
      "spore-print-color_h 0.008775364489682276\n",
      "habitat_u 0.0079721237745808\n",
      "population_n 0.007892419930742986\n",
      "stalk-color-above-ring_e 0.007203559055906798\n",
      "stalk-shape_e 0.007162831670872037\n",
      "stalk-color-above-ring_n 0.006087078962378553\n",
      "population_s 0.0055257041461746915\n",
      "gill-color_g 0.0041476119960095195\n",
      "population_v 0.003963459844366602\n",
      "habitat_p 0.0038766499104491573\n",
      "cap-surface_y 0.0038724283154361223\n",
      "stalk-color-above-ring_p 0.0030957283336599368\n",
      "cap-shape_s 0.0029105287347999187\n",
      "cap-shape_b 0.0013472705554072556\n",
      "gill-color_r 0.0012589477224122924\n",
      "cap-surface_g 0.0009699129666754704\n",
      "cap-color_w 0.0007297233117990532\n",
      "cap-shape_c 0.0005627184446700004\n",
      "cap-color_p 0.0003389472483350055\n",
      "habitat_m 0.0\n",
      "habitat_l 0.0\n",
      "stalk-color-below-ring_y 0.0\n",
      "stalk-color-below-ring_e 0.0\n",
      "stalk-color-below-ring_b 0.0\n",
      "stalk-color-below-ring_g 0.0\n",
      "stalk-color-below-ring_o 0.0\n",
      "veil-type_p 0.0\n",
      "stalk-color-below-ring_c 0.0\n",
      "stalk-color-below-ring_n 0.0\n",
      "stalk-color-below-ring_w 0.0\n",
      "spore-print-color_y 0.0\n",
      "veil-color_n 0.0\n",
      "ring-type_p 0.0\n",
      "population_a 0.0\n",
      "population_c 0.0\n",
      "spore-print-color_u 0.0\n",
      "spore-print-color_o 0.0\n",
      "spore-print-color_n 0.0\n",
      "population_y 0.0\n",
      "spore-print-color_b 0.0\n",
      "ring-type_n 0.0\n",
      "veil-color_o 0.0\n",
      "stalk-color-above-ring_y 0.0\n",
      "habitat_d 0.0\n",
      "ring-type_f 0.0\n",
      "ring-type_e 0.0\n",
      "ring-number_t 0.0\n",
      "ring-number_n 0.0\n",
      "veil-color_w 0.0\n",
      "veil-color_y 0.0\n",
      "stalk-surface-above-ring_s 0.0\n",
      "stalk-color-above-ring_o 0.0\n",
      "stalk-color-above-ring_g 0.0\n",
      "gill-attachment_a 0.0\n",
      "odor_y 0.0\n",
=======
      "odor_n 0.19601284814925082\n",
      "stalk-surface-below-ring_k 0.1763567605489311\n",
      "bruises_f 0.09474874260243453\n",
      "odor_f 0.09260295181544353\n",
      "gill-color_b 0.09240637105154174\n",
      "habitat_g 0.05774566180428878\n",
      "stalk-surface-below-ring_s 0.042189528376040134\n",
      "ring-type_l 0.024673143896835486\n",
      "cap-color_y 0.021130059625788802\n",
      "odor_p 0.020996750885758142\n",
      "stalk-root_e 0.020214433429134312\n",
      "stalk-color-below-ring_p 0.01797659334680398\n",
      "ring-type_p 0.01790630324512107\n",
      "stalk-shape_t 0.01744278748202591\n",
      "ring-number_o 0.015243888441675398\n",
      "stalk-surface-above-ring_s 0.013446457257386286\n",
      "bruises_t 0.011806383996122943\n",
      "cap-surface_f 0.011601964994782018\n",
      "habitat_u 0.008598802092766967\n",
      "stalk-color-below-ring_g 0.008578062576381454\n",
      "stalk-root_b 0.006773728539574398\n",
      "odor_c 0.006701582255215493\n",
      "gill-color_r 0.004543784682885762\n",
      "stalk-root_c 0.003973292657441207\n",
      "habitat_p 0.0037549929744814356\n",
      "cap-color_b 0.0029137750303804555\n",
      "odor_y 0.002268152036094914\n",
      "cap-shape_f 0.0015633927389474887\n",
      "stalk-root_? 0.0013488766265492616\n",
      "population_y 0.001244202381877136\n",
      "cap-color_c 0.001226263760232337\n",
      "spore-print-color_n 0.0006567826746670327\n",
      "gill-color_g 0.0004601554095178408\n",
      "habitat_m 0.00032557126405153864\n",
      "ring-type_e 0.00031088489107050616\n",
      "gill-size_n 0.0002560664584998722\n",
      "veil-type_p 0.0\n",
      "veil-color_n 0.0\n",
      "population_c 0.0\n",
      "stalk-color-below-ring_y 0.0\n",
      "stalk-color-below-ring_w 0.0\n",
      "veil-color_o 0.0\n",
      "stalk-color-below-ring_n 0.0\n",
      "stalk-color-below-ring_e 0.0\n",
      "stalk-color-below-ring_c 0.0\n",
      "stalk-color-below-ring_b 0.0\n",
      "stalk-color-above-ring_y 0.0\n",
      "stalk-color-below-ring_o 0.0\n",
      "ring-number_t 0.0\n",
      "veil-color_w 0.0\n",
      "spore-print-color_k 0.0\n",
      "spore-print-color_y 0.0\n",
      "population_n 0.0\n",
      "population_s 0.0\n",
      "spore-print-color_w 0.0\n",
      "population_v 0.0\n",
      "spore-print-color_u 0.0\n",
      "spore-print-color_r 0.0\n",
      "spore-print-color_o 0.0\n",
      "spore-print-color_h 0.0\n",
      "veil-color_y 0.0\n",
      "spore-print-color_b 0.0\n",
      "stalk-color-above-ring_p 0.0\n",
      "ring-type_n 0.0\n",
      "habitat_d 0.0\n",
      "ring-type_f 0.0\n",
      "population_a 0.0\n",
      "habitat_l 0.0\n",
      "ring-number_n 0.0\n",
      "stalk-color-above-ring_w 0.0\n",
      "cap-shape_b 0.0\n",
      "stalk-color-above-ring_o 0.0\n",
      "cap-color_r 0.0\n",
      "gill-spacing_c 0.0\n",
      "gill-attachment_f 0.0\n",
      "gill-attachment_a 0.0\n",
>>>>>>> 45032fa9164101c16758a24bb52b9071bd0b3c6c
      "odor_s 0.0\n",
      "odor_m 0.0\n",
      "odor_l 0.0\n",
      "odor_a 0.0\n",
<<<<<<< HEAD
      "cap-color_y 0.0\n",
      "cap-color_u 0.0\n",
      "cap-color_r 0.0\n",
      "cap-color_n 0.0\n",
      "cap-color_g 0.0\n",
      "cap-color_e 0.0\n",
      "cap-color_c 0.0\n",
      "cap-color_b 0.0\n",
      "cap-surface_s 0.0\n",
      "cap-surface_f 0.0\n",
      "cap-shape_x 0.0\n",
      "cap-shape_k 0.0\n",
      "cap-shape_f 0.0\n",
      "gill-attachment_f 0.0\n",
      "gill-spacing_c 0.0\n",
      "gill-spacing_w 0.0\n",
      "stalk-root_? 0.0\n",
=======
      "cap-color_w 0.0\n",
      "cap-color_u 0.0\n",
      "cap-color_p 0.0\n",
      "stalk-color-above-ring_n 0.0\n",
      "cap-color_n 0.0\n",
      "cap-color_g 0.0\n",
      "cap-color_e 0.0\n",
      "cap-surface_y 0.0\n",
      "cap-surface_s 0.0\n",
      "cap-surface_g 0.0\n",
      "cap-shape_x 0.0\n",
      "cap-shape_s 0.0\n",
      "cap-shape_k 0.0\n",
      "gill-spacing_w 0.0\n",
      "gill-size_b 0.0\n",
      "gill-color_e 0.0\n",
      "gill-color_h 0.0\n",
      "stalk-color-above-ring_g 0.0\n",
      "stalk-color-above-ring_e 0.0\n",
>>>>>>> 45032fa9164101c16758a24bb52b9071bd0b3c6c
      "stalk-color-above-ring_c 0.0\n",
      "stalk-color-above-ring_b 0.0\n",
      "stalk-surface-below-ring_y 0.0\n",
      "stalk-surface-below-ring_f 0.0\n",
      "stalk-surface-above-ring_y 0.0\n",
<<<<<<< HEAD
      "stalk-surface-above-ring_k 0.0\n",
      "stalk-root_r 0.0\n",
      "stalk-root_b 0.0\n",
      "gill-color_y 0.0\n",
      "gill-size_b 0.0\n",
=======
      "cap-shape_c 0.0\n",
      "stalk-surface-above-ring_k 0.0\n",
      "stalk-surface-above-ring_f 0.0\n",
      "stalk-root_r 0.0\n",
      "stalk-shape_e 0.0\n",
      "gill-color_y 0.0\n",
>>>>>>> 45032fa9164101c16758a24bb52b9071bd0b3c6c
      "gill-color_w 0.0\n",
      "gill-color_u 0.0\n",
      "gill-color_p 0.0\n",
      "gill-color_o 0.0\n",
      "gill-color_n 0.0\n",
      "gill-color_k 0.0\n",
<<<<<<< HEAD
      "gill-color_h 0.0\n",
      "gill-color_e 0.0\n",
=======
>>>>>>> 45032fa9164101c16758a24bb52b9071bd0b3c6c
      "habitat_w 0.0\n"
     ]
    }
   ],
   "source": [
    "for row in fi.itertuples():\n",
    "    print(row.feature, row.importance)"
   ]
  },
  {
   "cell_type": "code",
<<<<<<< HEAD
   "execution_count": 77,
=======
   "execution_count": 28,
>>>>>>> 45032fa9164101c16758a24bb52b9071bd0b3c6c
   "metadata": {},
   "outputs": [],
   "source": [
    "#tworzenie widgetów"
   ]
  },
  {
   "cell_type": "code",
<<<<<<< HEAD
   "execution_count": 78,
=======
   "execution_count": 8,
>>>>>>> 45032fa9164101c16758a24bb52b9071bd0b3c6c
   "metadata": {},
   "outputs": [],
   "source": [
    "import ipywidgets as widgets\n",
    "from IPython.display import display"
<<<<<<< HEAD
   ]
  },
  {
   "cell_type": "code",
   "execution_count": 79,
   "metadata": {},
   "outputs": [],
   "source": [
    "widgets_cap_shape = widgets.Dropdown(options=[\"bell\", \"conical\", \"convex\", \"flat\", \"knobbed\", \"sunken\"])\n",
    "widgets_cap_surface = widgets.Dropdown(options=[\"fibrous\", \"grooves\", \"scaly\", \"smooth\"])\n",
    "widgets_cap_color = widgets.Dropdown(options=[\"brown\", \"buff\", \"cinnamon\", \"gray\", \"green\", \"pink\", \"purple\", \"red\", \"white\", \"yellow\"])\n",
    "widget_bruises = widgets.Dropdown(options=[\"Yes\", \"No\"])"
   ]
  },
  {
   "cell_type": "code",
   "execution_count": 80,
   "metadata": {},
   "outputs": [
    {
     "data": {
      "application/vnd.jupyter.widget-view+json": {
       "model_id": "9343f5b1f6944d7e81d7ffc0237473bf",
       "version_major": 2,
       "version_minor": 0
      },
      "text/plain": [
       "interactive(children=(Dropdown(description='Cap_Shape', options=('bell', 'conical', 'convex', 'flat', 'knobbed…"
      ]
     },
     "metadata": {},
     "output_type": "display_data"
    },
    {
     "data": {
      "text/plain": [
       "<function __main__.widget_handler(Cap_Shape, Cap_Surface, Cap_Color, Bruises)>"
      ]
     },
     "execution_count": 80,
     "metadata": {},
     "output_type": "execute_result"
    }
   ],
   "source": [
    "values = {\"Cap Shape\": widgets_cap_shape.value, \"Cap Surface\": widgets_cap_surface.value, \"Cap Color\": widgets_cap_color.value, \"Bruises\": widget_bruises.value}\n",
    "\n",
    "def widget_handler(Cap_Shape, Cap_Surface, Cap_Color, Bruises):\n",
    "    values[\"Cap Shape\"] = Cap_Shape\n",
    "    values[\"Cap Surface\"] = Cap_Surface\n",
    "    values[\"Cap Color\"] = Cap_Color\n",
    "    values[\"Bruises\"] = Bruises\n",
    "\n",
    "widgets.interact(widget_handler, Cap_Shape = widgets_cap_shape, Cap_Surface = widgets_cap_surface, Cap_Color = widgets_cap_color, Bruises = widget_bruises)"
=======
>>>>>>> 45032fa9164101c16758a24bb52b9071bd0b3c6c
   ]
  },
  {
   "cell_type": "code",
<<<<<<< HEAD
   "execution_count": 81,
   "metadata": {},
   "outputs": [
    {
     "name": "stdout",
     "output_type": "stream",
     "text": [
      "{'Cap Shape': 'bell', 'Cap Surface': 'fibrous', 'Cap Color': 'brown', 'Bruises': 'Yes'}\n"
     ]
    }
   ],
   "source": [
    "print(values)"
   ]
  },
  {
   "cell_type": "code",
   "execution_count": 82,
   "metadata": {},
   "outputs": [],
   "source": [
    "run_button = widgets.Button(description = \"Run\")\n",
    "\n",
    "def button_callback(button):\n",
    "    print(values)\n",
    "\n",
    "run_button.on_click(button_callback)"
=======
   "execution_count": 44,
   "metadata": {},
   "outputs": [],
   "source": [
    "widgets_cap_shape = widgets.Dropdown(options=[\"bell\", \"conical\", \"convex\", \"flat\", \"knobbed\", \"sunken\"])\n",
    "widgets_cap_surface = widgets.Dropdown(options=[\"fibrous\", \"grooves\", \"scaly\", \"smooth\"])\n",
    "widgets_cap_color = widgets.Dropdown(options=[\"brown\", \"buff\", \"cinnamon\", \"gray\", \"green\", \"pink\", \"purple\", \"red\", \"white\", \"yellow\"])\n",
    "widget_bruises = widgets.Dropdown(options=[\"Yes\", \"No\"])\n",
    "widget_odor = widgets.Dropdown(options=[\"almond\", \"anise\", \"creoote\", \"fishy\", \"foul\", \"musty\", \"none\", \"pungent\", \"spicy\"])\n",
    "widget_gill_attachment = widgets.Dropdown(options=[\"attached\", \"free\"])\n",
    "widget_gill_spacing = widgets.Dropdown(options=[\"close\", \"crowded\"])\n",
    "widget_gill_size = widgets.Dropdown(options=[\"broad\", \"narrow\"])\n",
    "widget_gill_color = widgets.Dropdown(options=[\"black\", \"brown\", \"buff\", \"chocolate\", \"gray\", \"green\", \"orange\", \"pink\", \"purple\", \"red\", \"white\", \"yellow\"])\n",
    "widget_stalk_shape = widgets.Dropdown(options=[\"enlarging\", \"tapering\"])\n",
    "widget_stalk_root = widgets.Dropdown(options=[\"bulbous\", \"club\", \"equal\", \"rooted\", \"missing\"])\n",
    "widget_stalk_surface_above_ring = widgets.Dropdown(options=[\"fibrous\", \"scaly\", \"silky\", \"smooth\"])\n",
    "widget_stalk_surface_below_ring = widgets.Dropdown(options=[\"fibrous\", \"scaly\", \"silky\", \"smooth\"])\n",
    "widget_stalk_color_above_ring = widgets.Dropdown(options=[\"brown\", \"buff\", \"cinnamon\", \"gray\", \"orange\", \"pink\", \"red\", \"white\", \"yellow\"])\n",
    "widget_stalk_color_below_ring = widgets.Dropdown(options=[\"brown\", \"buff\", \"cinnamon\", \"gray\", \"orange\", \"pink\", \"red\", \"white\", \"yellow\"])\n",
    "widget_veil_type = widgets.Dropdown(options=[\"parial\"])\n",
    "widget_veil_color = widgets.Dropdown(options=[\"brown\", \"orange\", \"white\", \"yellow\"])\n",
    "widget_ring_number = widgets.Dropdown(options=[\"none\", \"two\"])\n",
    "widget_ring_type = widgets.Dropdown(options=[\"evanescent\", \"flaring\", \"large\", \"none\", \"pendant\"])\n",
    "widget_spore_print_color = widgets.Dropdown(options=[\"black\", \"brown\", \"buff\", \"chocolate\", \"green\", \"orange\", \"purple\", \"white\", \"yellow\"])\n",
    "widget_population = widgets.Dropdown(options=[\"abundant\", \"clustered\", \"numerous\", \"scattered\", \"several\", \"solitary\"])\n",
    "widget_habitat = widgets.Dropdown(options=[\"grasses\", \"leaves\", \"meadows\", \"paths\", \"urban\", \"waste\", \"woods\"])"
>>>>>>> 45032fa9164101c16758a24bb52b9071bd0b3c6c
   ]
  },
  {
   "cell_type": "code",
<<<<<<< HEAD
   "execution_count": 83,
   "metadata": {},
   "outputs": [
    {
     "data": {
      "application/vnd.jupyter.widget-view+json": {
       "model_id": "41455fae05f14a438e13c56143990f3f",
       "version_major": 2,
       "version_minor": 0
      },
      "text/plain": [
       "Dropdown(description='Cap_Shape', options=('bell', 'conical', 'convex', 'flat', 'knobbed', 'sunken'), value='b…"
      ]
     },
     "metadata": {},
     "output_type": "display_data"
    },
    {
     "data": {
      "application/vnd.jupyter.widget-view+json": {
       "model_id": "2264bb00a83646ebbb5b04bb865c59b8",
       "version_major": 2,
       "version_minor": 0
      },
      "text/plain": [
       "Dropdown(description='Cap_Surface', options=('fibrous', 'grooves', 'scaly', 'smooth'), value='fibrous')"
      ]
     },
     "metadata": {},
     "output_type": "display_data"
    },
    {
     "data": {
      "application/vnd.jupyter.widget-view+json": {
       "model_id": "6a676fffa78d416bb487af074de1b923",
       "version_major": 2,
       "version_minor": 0
      },
      "text/plain": [
       "Dropdown(description='Cap_Color', options=('brown', 'buff', 'cinnamon', 'gray', 'green', 'pink', 'purple', 're…"
      ]
     },
     "metadata": {},
     "output_type": "display_data"
    },
    {
     "data": {
      "application/vnd.jupyter.widget-view+json": {
       "model_id": "7f1628346efa40e3a53c737e8b260f0b",
=======
   "execution_count": 45,
   "metadata": {},
   "outputs": [
    {
     "data": {
      "application/vnd.jupyter.widget-view+json": {
       "model_id": "1894543ad2904c98abe9abc908b314d6",
>>>>>>> 45032fa9164101c16758a24bb52b9071bd0b3c6c
       "version_major": 2,
       "version_minor": 0
      },
      "text/plain": [
       "Dropdown(description='Bruises', options=('Yes', 'No'), value='Yes')"
      ]
     },
     "metadata": {},
     "output_type": "display_data"
    },
    {
     "data": {
      "application/vnd.jupyter.widget-view+json": {
       "model_id": "7a18c8c3bb8b49bb8cdc0cc098259f44",
       "version_major": 2,
       "version_minor": 0
      },
      "text/plain": [
<<<<<<< HEAD
       "Button(description='Run', style=ButtonStyle())"
      ]
     },
=======
       "<function __main__.widget_handler(Cap_Shape, Cap_Surface, Cap_Color, Bruises, Odor, Gill_Attachment, Gill_Spacing, Gill_Size, Gill_Color, Stalk_Shape, Stalk_Root, Stalk_Surface_Above_Ring, Stalk_Surface_Below_Ring, Stalk_Color_Above_Ring, Stalk_Color_Below_Ring, Veil_Type, Veil_Color, Ring_Number, Ring_Type, Spore_Print_Color, Population, Habitat)>"
      ]
     },
     "execution_count": 45,
>>>>>>> 45032fa9164101c16758a24bb52b9071bd0b3c6c
     "metadata": {},
     "output_type": "display_data"
    }
   ],
   "source": [
<<<<<<< HEAD
    "display(widgets_cap_shape, widgets_cap_surface, widgets_cap_color, widget_bruises, run_button)"
=======
    "values = {\n",
    "    \"Cap Shape\": widgets_cap_shape.value, \n",
    "    \"Cap Surface\": widgets_cap_surface.value, \n",
    "    \"Cap Color\": widgets_cap_color.value,\n",
    "    \"Bruises\": widget_bruises.value,\n",
    "    \"Odor\": widget_odor.value,\n",
    "    \"Gill_Attachment\": widget_gill_attachment.value,\n",
    "    \"Gill_Spacing\": widget_gill_spacing.value,\n",
    "    \"Gill_Size\": widget_gill_size.value,\n",
    "    \"Gill_Color\": widget_gill_color.value,\n",
    "    \"Stalk_Shape\": widget_stalk_shape.value,\n",
    "    \"Stalk_Root\": widget_stalk_root.value,\n",
    "    \"Stalk_Surface_Above_Ring\": widget_stalk_surface_above_ring.value,\n",
    "    \"Stalk_Surface_Below_Ring\": widget_stalk_surface_below_ring.value,\n",
    "    \"Stalk_Color_Above_Ring\": widget_stalk_color_above_ring.value,\n",
    "    \"Stalk_Color_Below_Ring\": widget_stalk_color_below_ring.value,\n",
    "    \"Veil_Type\": widget_veil_type.value,\n",
    "    \"Veil_Color\": widget_veil_color.value,\n",
    "    \"Ring_Number\": widget_ring_number.value,\n",
    "    \"Ring_Type\": widget_ring_type.value,\n",
    "    \"Spore_Print_Color\": widget_spore_print_color.value,\n",
    "    \"Population\": widget_population.value,\n",
    "    \"Habitat\": widget_habitat.value,\n",
    "    }\n",
    "\n",
    "def widget_handler(Cap_Shape, Cap_Surface, Cap_Color, Bruises, Odor, Gill_Attachment, Gill_Spacing, Gill_Size, Gill_Color, Stalk_Shape, Stalk_Root, Stalk_Surface_Above_Ring, Stalk_Surface_Below_Ring, Stalk_Color_Above_Ring, Stalk_Color_Below_Ring, Veil_Type, Veil_Color, Ring_Number, Ring_Type, Spore_Print_Color, Population, Habitat):\n",
    "    values[\"Cap Shape\"] = Cap_Shape\n",
    "    values[\"Cap Surface\"] = Cap_Surface\n",
    "    values[\"Cap Color\"] = Cap_Color\n",
    "    values[\"Bruises\"] = Bruises\n",
    "    values[\"Odor\"] = Odor\n",
    "    values[\"Gill_Attachment\"] = Gill_Attachment\n",
    "    values[\"Gill_Spacing\"] = Gill_Spacing\n",
    "    values[\"Gill_Size\"] = Gill_Size\n",
    "    values[\"Gill_Color\"] = Gill_Color\n",
    "    values[\"Stalk_Shape\"] = Stalk_Shape\n",
    "    values[\"Stalk_Root\"] = Stalk_Root\n",
    "    values[\"Stalk_Surface_Above_Ring\"] = Stalk_Surface_Above_Ring\n",
    "    values[\"Stalk_Surface_Below_Ring\"] = Stalk_Surface_Below_Ring\n",
    "    values[\"Stalk_Color_Above_Ring\"] = Stalk_Color_Above_Ring\n",
    "    values[\"Stalk_Color_Below_Ring\"] = Stalk_Color_Below_Ring\n",
    "    values[\"Veil_Type\"] = Veil_Type\n",
    "    values[\"Veil_Color\"] = Veil_Color\n",
    "    values[\"Ring_Number\"] = Ring_Number\n",
    "    values[\"Ring_Type\"] = Ring_Type\n",
    "    values[\"Spore_Print_Color\"] = Spore_Print_Color\n",
    "    values[\"Population\"] = Population\n",
    "    values[\"Habitat\"] = Habitat\n",
    "\n",
    "widgets.interact(\n",
    "    widget_handler,\n",
    "    Cap_Shape = widgets_cap_shape, \n",
    "    Cap_Surface = widgets_cap_surface, \n",
    "    Cap_Color = widgets_cap_color, \n",
    "    Bruises = widget_bruises, \n",
    "    Odor = widget_odor, \n",
    "    Gill_Attachment = widget_gill_attachment, \n",
    "    Gill_Spacing = widget_gill_spacing, \n",
    "    Gill_Size = widget_gill_size, \n",
    "    Gill_Color = widget_gill_color, \n",
    "    Stalk_Shape = widget_stalk_shape, \n",
    "    Stalk_Root = widget_stalk_root, \n",
    "    Stalk_Surface_Above_Ring = widget_stalk_surface_above_ring, \n",
    "    Stalk_Surface_Below_Ring = widget_stalk_surface_below_ring, \n",
    "    Stalk_Color_Above_Ring = widget_stalk_color_above_ring, \n",
    "    Stalk_Color_Below_Ring = widget_stalk_color_below_ring, \n",
    "    Veil_Type = widget_veil_type, \n",
    "    Veil_Color = widget_veil_color, \n",
    "    Ring_Number = widget_ring_number, \n",
    "    Ring_Type = widget_ring_type, \n",
    "    Spore_Print_Color = widget_spore_print_color, \n",
    "    Population = widget_population, \n",
    "    Habitat = widget_habitat)"
>>>>>>> 45032fa9164101c16758a24bb52b9071bd0b3c6c
   ]
  },
  {
   "cell_type": "code",
<<<<<<< HEAD
   "execution_count": 84,
   "metadata": {},
   "outputs": [
    {
     "data": {
      "text/plain": [
       "XGBClassifier(base_score=0.5, booster='gbtree', colsample_bylevel=1,\n",
       "              colsample_bynode=1, colsample_bytree=1, enable_categorical=False,\n",
       "              eval_metric='error', gamma=0, gpu_id=-1, importance_type=None,\n",
       "              interaction_constraints='', learning_rate=0.300000012,\n",
       "              max_delta_step=0, max_depth=3, min_child_weight=1, missing=nan,\n",
       "              monotone_constraints='()', n_estimators=100, n_jobs=4,\n",
       "              num_parallel_tree=1, predictor='auto', random_state=0,\n",
       "              reg_alpha=0, reg_lambda=1, scale_pos_weight=1, subsample=1,\n",
       "              tree_method='exact', use_label_encoder=False,\n",
       "              validate_parameters=1, verbosity=None)"
      ]
     },
     "execution_count": 84,
     "metadata": {},
     "output_type": "execute_result"
    }
   ],
   "source": [
    "xgb_cl_1 = xgb.XGBClassifier( n_estimators=100,\n",
    "                           max_depth=3,\n",
    "                           use_label_encoder=False,\n",
    "                           eval_metric='error'\n",
    "                        )\n",
    "xgb_cl_1.fit(X_train, y_train)"
   ]
  },
  {
   "cell_type": "code",
   "execution_count": 91,
=======
   "execution_count": 46,
>>>>>>> 45032fa9164101c16758a24bb52b9071bd0b3c6c
   "metadata": {},
   "outputs": [
    {
     "name": "stdout",
     "output_type": "stream",
     "text": [
<<<<<<< HEAD
      "Accuracy:  1.0\n"
=======
      "{'Cap Shape': 'bell', 'Cap Surface': 'fibrous', 'Cap Color': 'brown', 'Bruises': 'Yes', 'Odor': 'almond', 'Gill_Attachment': 'attached', 'Gill_Spacing': 'close', 'Gill_Size': 'broad', 'Gill_Color': 'black', 'Stalk_Shape': 'enlarging', 'Stalk_Root': 'bulbous', 'Stalk_Surface_Above_Ring': 'fibrous', 'Stalk_Surface_Below_Ring': 'fibrous', 'Stalk_Color_Above_Ring': 'brown', 'Stalk_Color_Below_Ring': 'brown', 'Veil_Type': 'parial', 'Veil_Color': 'brown', 'Ring_Number': 'none', 'Ring_Type': 'evanescent', 'Spore_Print_Color': 'black', 'Population': 'abundant', 'Habitat': 'urban'}\n"
>>>>>>> 45032fa9164101c16758a24bb52b9071bd0b3c6c
     ]
    }
   ],
   "source": [
    "y_pred = xgb_cl_1.predict(X_test)\n",
    "acc = accuracy_score(y_test, y_pred)\n",
    "print(\"Accuracy: \", acc)"
   ]
  },
  {
   "cell_type": "code",
<<<<<<< HEAD
   "execution_count": 92,
=======
   "execution_count": 47,
>>>>>>> 45032fa9164101c16758a24bb52b9071bd0b3c6c
   "metadata": {},
   "outputs": [
    {
     "name": "stdout",
     "output_type": "stream",
     "text": [
      "              precision    recall  f1-score   support\n",
      "\n",
      "           0       1.00      1.00      1.00       791\n",
      "           1       1.00      1.00      1.00       834\n",
      "\n",
      "    accuracy                           1.00      1625\n",
      "   macro avg       1.00      1.00      1.00      1625\n",
      "weighted avg       1.00      1.00      1.00      1625\n",
      "\n"
     ]
    }
   ],
   "source": [
<<<<<<< HEAD
    "report_class = classification_report(y_test, y_pred)\n",
    "print(report_class)"
=======
    "run_button = widgets.Button(description = \"Run\")\n",
    "\n",
    "def button_callback(button):\n",
    "    print(values)\n",
    "    \n",
    "\n",
    "run_button.on_click(button_callback)"
>>>>>>> 45032fa9164101c16758a24bb52b9071bd0b3c6c
   ]
  },
  {
   "cell_type": "code",
<<<<<<< HEAD
   "execution_count": 86,
   "metadata": {
    "scrolled": true
   },
   "outputs": [
    {
     "data": {
      "text/plain": [
       "<sklearn.metrics._plot.confusion_matrix.ConfusionMatrixDisplay at 0x25f317c3520>"
      ]
     },
     "execution_count": 86,
=======
   "execution_count": 48,
   "metadata": {},
   "outputs": [
    {
     "data": {
      "application/vnd.jupyter.widget-view+json": {
       "model_id": "421e5616faa746da83fa39bd92823715",
       "version_major": 2,
       "version_minor": 0
      },
      "text/plain": [
       "Dropdown(description='Cap_Shape', options=('bell', 'conical', 'convex', 'flat', 'knobbed', 'sunken'), value='b…"
      ]
     },
>>>>>>> 45032fa9164101c16758a24bb52b9071bd0b3c6c
     "metadata": {},
     "output_type": "display_data"
    },
    {
     "data": {
<<<<<<< HEAD
      "image/png": "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\n",
=======
      "application/vnd.jupyter.widget-view+json": {
       "model_id": "c434f71ea218446bb05de9bfa66cdf68",
       "version_major": 2,
       "version_minor": 0
      },
>>>>>>> 45032fa9164101c16758a24bb52b9071bd0b3c6c
      "text/plain": [
       "Dropdown(description='Cap_Surface', options=('fibrous', 'grooves', 'scaly', 'smooth'), value='fibrous')"
      ]
     },
     "metadata": {},
     "output_type": "display_data"
<<<<<<< HEAD
    }
   ],
   "source": [
    "plot_confusion_matrix(xgb_cl_1,\n",
    "                      X_test,\n",
    "                      y_test,\n",
    "                      values_format='d',\n",
    "                      display_labels=[\"Jadalne\", \"Trujace\"])"
   ]
  },
  {
   "cell_type": "code",
   "execution_count": 88,
   "metadata": {},
   "outputs": [
    {
     "data": {
      "text/plain": [
       "<AxesSubplot:title={'center':'Feature importance'}, xlabel='F score', ylabel='Features'>"
      ]
     },
     "execution_count": 88,
     "metadata": {},
     "output_type": "execute_result"
    },
    {
     "data": {
      "image/png": "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\n",
      "text/plain": [
       "<Figure size 720x576 with 1 Axes>"
      ]
     },
     "metadata": {
      "needs_background": "light"
     },
     "output_type": "display_data"
    }
   ],
   "source": [
    "from matplotlib.pylab import rcParams\n",
    "##set up the parameters\n",
    "rcParams['figure.figsize'] = 10, 8\n",
    "\n",
    "xgb.plot_importance(xgb_cl_1)"
   ]
  },
  {
   "cell_type": "code",
   "execution_count": 87,
   "metadata": {},
   "outputs": [
=======
    },
>>>>>>> 45032fa9164101c16758a24bb52b9071bd0b3c6c
    {
     "data": {
      "application/vnd.jupyter.widget-view+json": {
       "model_id": "f939e0cda3f241b991984ba4d1599fa9",
       "version_major": 2,
       "version_minor": 0
      },
      "text/plain": [
       "Dropdown(description='Cap_Color', options=('brown', 'buff', 'cinnamon', 'gray', 'green', 'pink', 'purple', 're…"
      ]
     },
<<<<<<< HEAD
     "execution_count": 87,
     "metadata": {},
     "output_type": "execute_result"
    }
   ],
   "source": [
    "xgb_cl_2 = xgb.XGBClassifier(n_estimators=100,\n",
    "                             seed=42,\n",
    "                             objective='binary:logistic',\n",
    "                             use_label_encoder=False,\n",
    "                             eval_metric='aucpr'\n",
    "                             )\n",
    "xgb_cl_2.fit(X_train, y_train)"
   ]
  },
  {
   "cell_type": "code",
   "execution_count": 85,
   "metadata": {},
   "outputs": [
=======
     "metadata": {},
     "output_type": "display_data"
    },
    {
     "data": {
      "application/vnd.jupyter.widget-view+json": {
       "model_id": "c65321164cbf4ddeb56bec7b1006f6fa",
       "version_major": 2,
       "version_minor": 0
      },
      "text/plain": [
       "Dropdown(description='Bruises', options=('Yes', 'No'), value='Yes')"
      ]
     },
     "metadata": {},
     "output_type": "display_data"
    },
    {
     "data": {
      "application/vnd.jupyter.widget-view+json": {
       "model_id": "e7cbd7d45d7e40db9be85704bc8f5640",
       "version_major": 2,
       "version_minor": 0
      },
      "text/plain": [
       "Dropdown(description='Odor', options=('almond', 'anise', 'creoote', 'fishy', 'foul', 'musty', 'none', 'pungent…"
      ]
     },
     "metadata": {},
     "output_type": "display_data"
    },
    {
     "data": {
      "application/vnd.jupyter.widget-view+json": {
       "model_id": "6ac8b351375c4d66a5cb581022082428",
       "version_major": 2,
       "version_minor": 0
      },
      "text/plain": [
       "Dropdown(description='Gill_Attachment', options=('attached', 'free'), value='attached')"
      ]
     },
     "metadata": {},
     "output_type": "display_data"
    },
    {
     "data": {
      "application/vnd.jupyter.widget-view+json": {
       "model_id": "06e561abff2d4199938b5616a0b48081",
       "version_major": 2,
       "version_minor": 0
      },
      "text/plain": [
       "Dropdown(description='Gill_Spacing', options=('close', 'crowded'), value='close')"
      ]
     },
     "metadata": {},
     "output_type": "display_data"
    },
    {
     "data": {
      "application/vnd.jupyter.widget-view+json": {
       "model_id": "b92611c00f414f4397cfe1aa8cc31ce2",
       "version_major": 2,
       "version_minor": 0
      },
      "text/plain": [
       "Dropdown(description='Gill_Size', options=('broad', 'narrow'), value='broad')"
      ]
     },
     "metadata": {},
     "output_type": "display_data"
    },
    {
     "data": {
      "application/vnd.jupyter.widget-view+json": {
       "model_id": "0e646b3352114b80be3d703ac95d1aae",
       "version_major": 2,
       "version_minor": 0
      },
      "text/plain": [
       "Dropdown(description='Gill_Color', options=('black', 'brown', 'buff', 'chocolate', 'gray', 'green', 'orange', …"
      ]
     },
     "metadata": {},
     "output_type": "display_data"
    },
    {
     "data": {
      "application/vnd.jupyter.widget-view+json": {
       "model_id": "7b6dc481a9b8406397a47e5474fc1c40",
       "version_major": 2,
       "version_minor": 0
      },
      "text/plain": [
       "Dropdown(description='Stalk_Shape', options=('enlarging', 'tapering'), value='enlarging')"
      ]
     },
     "metadata": {},
     "output_type": "display_data"
    },
    {
     "data": {
      "application/vnd.jupyter.widget-view+json": {
       "model_id": "ba7fcb954df64083b8e69fa47b979f2f",
       "version_major": 2,
       "version_minor": 0
      },
      "text/plain": [
       "Dropdown(description='Stalk_Root', options=('bulbous', 'club', 'equal', 'rooted', 'missing'), value='bulbous')"
      ]
     },
     "metadata": {},
     "output_type": "display_data"
    },
    {
     "data": {
      "application/vnd.jupyter.widget-view+json": {
       "model_id": "41259838ca5642068fdaa780adfffbac",
       "version_major": 2,
       "version_minor": 0
      },
      "text/plain": [
       "Dropdown(description='Stalk_Surface_Above_Ring', options=('fibrous', 'scaly', 'silky', 'smooth'), value='fibro…"
      ]
     },
     "metadata": {},
     "output_type": "display_data"
    },
    {
     "data": {
      "application/vnd.jupyter.widget-view+json": {
       "model_id": "09b1c0236f44474e908d3007cfc338cb",
       "version_major": 2,
       "version_minor": 0
      },
      "text/plain": [
       "Dropdown(description='Stalk_Surface_Below_Ring', options=('fibrous', 'scaly', 'silky', 'smooth'), value='fibro…"
      ]
     },
     "metadata": {},
     "output_type": "display_data"
    },
    {
     "data": {
      "application/vnd.jupyter.widget-view+json": {
       "model_id": "0e1b87577b894dd7a2c9df6e4facffd1",
       "version_major": 2,
       "version_minor": 0
      },
      "text/plain": [
       "Dropdown(description='Stalk_Color_Above_Ring', options=('brown', 'buff', 'cinnamon', 'gray', 'orange', 'pink',…"
      ]
     },
     "metadata": {},
     "output_type": "display_data"
    },
    {
     "data": {
      "application/vnd.jupyter.widget-view+json": {
       "model_id": "d740243d770d491c9a2b1f1b1d0d5b17",
       "version_major": 2,
       "version_minor": 0
      },
      "text/plain": [
       "Dropdown(description='Stalk_Color_Below_Ring', options=('brown', 'buff', 'cinnamon', 'gray', 'orange', 'pink',…"
      ]
     },
     "metadata": {},
     "output_type": "display_data"
    },
    {
     "data": {
      "application/vnd.jupyter.widget-view+json": {
       "model_id": "d83190ca7a3d497f926dacaca353f010",
       "version_major": 2,
       "version_minor": 0
      },
      "text/plain": [
       "Dropdown(description='Veil_Type', options=('parial',), value='parial')"
      ]
     },
     "metadata": {},
     "output_type": "display_data"
    },
    {
     "data": {
      "application/vnd.jupyter.widget-view+json": {
       "model_id": "d66b42a0568143f28bd8ecf60ea06acc",
       "version_major": 2,
       "version_minor": 0
      },
      "text/plain": [
       "Dropdown(description='Veil_Color', options=('brown', 'orange', 'white', 'yellow'), value='brown')"
      ]
     },
     "metadata": {},
     "output_type": "display_data"
    },
    {
     "data": {
      "application/vnd.jupyter.widget-view+json": {
       "model_id": "69c89ad9c41c4bb1b5981b25ec63aa71",
       "version_major": 2,
       "version_minor": 0
      },
      "text/plain": [
       "Dropdown(description='Ring_Number', options=('none', 'two'), value='none')"
      ]
     },
     "metadata": {},
     "output_type": "display_data"
    },
    {
     "data": {
      "application/vnd.jupyter.widget-view+json": {
       "model_id": "1cbce842e09d4800b1bcf2402bed4c81",
       "version_major": 2,
       "version_minor": 0
      },
      "text/plain": [
       "Dropdown(description='Ring_Type', options=('evanescent', 'flaring', 'large', 'none', 'pendant'), value='evanes…"
      ]
     },
     "metadata": {},
     "output_type": "display_data"
    },
    {
     "data": {
      "application/vnd.jupyter.widget-view+json": {
       "model_id": "5de11436d41146489f1dd45407eeec3a",
       "version_major": 2,
       "version_minor": 0
      },
      "text/plain": [
       "Dropdown(description='Spore_Print_Color', options=('black', 'brown', 'buff', 'chocolate', 'green', 'orange', '…"
      ]
     },
     "metadata": {},
     "output_type": "display_data"
    },
    {
     "data": {
      "application/vnd.jupyter.widget-view+json": {
       "model_id": "8faa6c8baf124d9485949faca2648f03",
       "version_major": 2,
       "version_minor": 0
      },
      "text/plain": [
       "Dropdown(description='Population', options=('abundant', 'clustered', 'numerous', 'scattered', 'several', 'soli…"
      ]
     },
     "metadata": {},
     "output_type": "display_data"
    },
>>>>>>> 45032fa9164101c16758a24bb52b9071bd0b3c6c
    {
     "data": {
      "application/vnd.jupyter.widget-view+json": {
       "model_id": "ab765d737cbc4b2f86d5352fef9fee06",
       "version_major": 2,
       "version_minor": 0
      },
      "text/plain": [
<<<<<<< HEAD
       "<sklearn.metrics._plot.confusion_matrix.ConfusionMatrixDisplay at 0x25f317210d0>"
=======
       "Dropdown(description='Habitat', index=4, options=('grasses', 'leaves', 'meadows', 'paths', 'urban', 'waste', '…"
>>>>>>> 45032fa9164101c16758a24bb52b9071bd0b3c6c
      ]
     },
     "execution_count": 85,
     "metadata": {},
     "output_type": "execute_result"
    },
    {
     "data": {
<<<<<<< HEAD
      "image/png": "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\n",
=======
      "application/vnd.jupyter.widget-view+json": {
       "model_id": "6f3d07d3ebd24f0ca1501ddc5fe23df9",
       "version_major": 2,
       "version_minor": 0
      },
>>>>>>> 45032fa9164101c16758a24bb52b9071bd0b3c6c
      "text/plain": [
       "<Figure size 432x288 with 2 Axes>"
      ]
     },
     "metadata": {
      "needs_background": "light"
     },
     "output_type": "display_data"
<<<<<<< HEAD
    }
   ],
   "source": [
=======
    },
    {
     "name": "stdout",
     "output_type": "stream",
     "text": [
      "{'Cap Shape': 'bell', 'Cap Surface': 'fibrous', 'Cap Color': 'brown', 'Bruises': 'Yes', 'Odor': 'almond', 'Gill_Attachment': 'attached', 'Gill_Spacing': 'close', 'Gill_Size': 'broad', 'Gill_Color': 'black', 'Stalk_Shape': 'enlarging', 'Stalk_Root': 'bulbous', 'Stalk_Surface_Above_Ring': 'fibrous', 'Stalk_Surface_Below_Ring': 'fibrous', 'Stalk_Color_Above_Ring': 'brown', 'Stalk_Color_Below_Ring': 'brown', 'Veil_Type': 'parial', 'Veil_Color': 'brown', 'Ring_Number': 'none', 'Ring_Type': 'evanescent', 'Spore_Print_Color': 'black', 'Population': 'abundant', 'Habitat': 'grasses'}\n",
      "{'Cap Shape': 'bell', 'Cap Surface': 'fibrous', 'Cap Color': 'brown', 'Bruises': 'Yes', 'Odor': 'almond', 'Gill_Attachment': 'attached', 'Gill_Spacing': 'close', 'Gill_Size': 'broad', 'Gill_Color': 'black', 'Stalk_Shape': 'enlarging', 'Stalk_Root': 'bulbous', 'Stalk_Surface_Above_Ring': 'fibrous', 'Stalk_Surface_Below_Ring': 'fibrous', 'Stalk_Color_Above_Ring': 'brown', 'Stalk_Color_Below_Ring': 'gray', 'Veil_Type': 'parial', 'Veil_Color': 'brown', 'Ring_Number': 'none', 'Ring_Type': 'evanescent', 'Spore_Print_Color': 'black', 'Population': 'abundant', 'Habitat': 'grasses'}\n",
      "{'Cap Shape': 'convex', 'Cap Surface': 'grooves', 'Cap Color': 'gray', 'Bruises': 'No', 'Odor': 'anise', 'Gill_Attachment': 'attached', 'Gill_Spacing': 'close', 'Gill_Size': 'narrow', 'Gill_Color': 'red', 'Stalk_Shape': 'tapering', 'Stalk_Root': 'missing', 'Stalk_Surface_Above_Ring': 'smooth', 'Stalk_Surface_Below_Ring': 'fibrous', 'Stalk_Color_Above_Ring': 'orange', 'Stalk_Color_Below_Ring': 'gray', 'Veil_Type': 'parial', 'Veil_Color': 'white', 'Ring_Number': 'none', 'Ring_Type': 'large', 'Spore_Print_Color': 'buff', 'Population': 'numerous', 'Habitat': 'meadows'}\n"
     ]
    }
   ],
   "source": [
    "display(widgets_cap_shape, widgets_cap_surface, widgets_cap_color, widget_bruises, widget_odor, widget_gill_attachment, widget_gill_spacing, widget_gill_size, widget_gill_color, widget_stalk_shape, widget_stalk_root, widget_stalk_surface_above_ring, widget_stalk_surface_below_ring, widget_stalk_color_above_ring, widget_stalk_color_below_ring, widget_veil_type, widget_veil_color, widget_ring_number, widget_ring_type, widget_spore_print_color, widget_population, widget_habitat, run_button)"
   ]
  },
  {
   "cell_type": "code",
   "execution_count": 49,
   "metadata": {},
   "outputs": [
    {
     "data": {
      "text/plain": [
       "{'Cap Shape': 'bell',\n",
       " 'Cap Surface': 'fibrous',\n",
       " 'Cap Color': 'brown',\n",
       " 'Bruises': 'Yes',\n",
       " 'Odor': 'almond',\n",
       " 'Gill_Attachment': 'attached',\n",
       " 'Gill_Spacing': 'close',\n",
       " 'Gill_Size': 'broad',\n",
       " 'Gill_Color': 'black',\n",
       " 'Stalk_Shape': 'enlarging',\n",
       " 'Stalk_Root': 'bulbous',\n",
       " 'Stalk_Surface_Above_Ring': 'fibrous',\n",
       " 'Stalk_Surface_Below_Ring': 'fibrous',\n",
       " 'Stalk_Color_Above_Ring': 'brown',\n",
       " 'Stalk_Color_Below_Ring': 'gray',\n",
       " 'Veil_Type': 'parial',\n",
       " 'Veil_Color': 'brown',\n",
       " 'Ring_Number': 'none',\n",
       " 'Ring_Type': 'evanescent',\n",
       " 'Spore_Print_Color': 'black',\n",
       " 'Population': 'abundant',\n",
       " 'Habitat': 'grasses'}"
      ]
     },
     "execution_count": 49,
     "metadata": {},
     "output_type": "execute_result"
    }
   ],
   "source": [
    "values"
   ]
  },
  {
   "cell_type": "code",
   "execution_count": 12,
   "metadata": {},
   "outputs": [
    {
     "data": {
      "text/plain": [
       "XGBClassifier(base_score=0.5, booster='gbtree', colsample_bylevel=1,\n",
       "              colsample_bynode=1, colsample_bytree=1, enable_categorical=False,\n",
       "              eval_metric='error', gamma=0, gpu_id=-1, importance_type=None,\n",
       "              interaction_constraints='', learning_rate=0.300000012,\n",
       "              max_delta_step=0, max_depth=3, min_child_weight=1, missing=nan,\n",
       "              monotone_constraints='()', n_estimators=100, n_jobs=16,\n",
       "              num_parallel_tree=1, predictor='auto', random_state=0,\n",
       "              reg_alpha=0, reg_lambda=1, scale_pos_weight=1, subsample=1,\n",
       "              tree_method='exact', use_label_encoder=False,\n",
       "              validate_parameters=1, verbosity=None)"
      ]
     },
     "execution_count": 12,
     "metadata": {},
     "output_type": "execute_result"
    }
   ],
   "source": [
    "xgb_cl_1 = xgb.XGBClassifier( n_estimators=100,\n",
    "                           max_depth=3,\n",
    "                           use_label_encoder=False,\n",
    "                           eval_metric='error'\n",
    "                        )\n",
    "xgb_cl_1.fit(X_train, y_train)"
   ]
  },
  {
   "cell_type": "code",
   "execution_count": 13,
   "metadata": {},
   "outputs": [
    {
     "data": {
      "text/plain": [
       "<sklearn.metrics._plot.confusion_matrix.ConfusionMatrixDisplay at 0x1e6f74284c0>"
      ]
     },
     "execution_count": 13,
     "metadata": {},
     "output_type": "execute_result"
    },
    {
     "data": {
      "image/png": "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",
      "text/plain": [
       "<Figure size 432x288 with 2 Axes>"
      ]
     },
     "metadata": {
      "needs_background": "light"
     },
     "output_type": "display_data"
    }
   ],
   "source": [
    "plot_confusion_matrix(xgb_cl_1,\n",
    "                      X_test,\n",
    "                      y_test,\n",
    "                      values_format='d',\n",
    "                      display_labels=[\"Jadalne\", \"Trujace\"])"
   ]
  },
  {
   "cell_type": "code",
   "execution_count": 14,
   "metadata": {},
   "outputs": [
    {
     "data": {
      "text/plain": [
       "XGBClassifier(base_score=0.5, booster='gbtree', colsample_bylevel=1,\n",
       "              colsample_bynode=1, colsample_bytree=1, enable_categorical=False,\n",
       "              eval_metric='aucpr', gamma=0, gpu_id=-1, importance_type=None,\n",
       "              interaction_constraints='', learning_rate=0.300000012,\n",
       "              max_delta_step=0, max_depth=6, min_child_weight=1, missing=nan,\n",
       "              monotone_constraints='()', n_estimators=100, n_jobs=16,\n",
       "              num_parallel_tree=1, predictor='auto', random_state=42,\n",
       "              reg_alpha=0, reg_lambda=1, scale_pos_weight=1, seed=42,\n",
       "              subsample=1, tree_method='exact', use_label_encoder=False,\n",
       "              validate_parameters=1, ...)"
      ]
     },
     "execution_count": 14,
     "metadata": {},
     "output_type": "execute_result"
    }
   ],
   "source": [
    "xgb_cl_2 = xgb.XGBClassifier(n_estimators=100,\n",
    "                             seed=42,\n",
    "                             objective='binary:logistic',\n",
    "                             use_label_encoder=False,\n",
    "                             eval_metric='aucpr'\n",
    "                             )\n",
    "xgb_cl_2.fit(X_train, y_train)"
   ]
  },
  {
   "cell_type": "code",
   "execution_count": 15,
   "metadata": {},
   "outputs": [
    {
     "data": {
      "text/plain": [
       "<sklearn.metrics._plot.confusion_matrix.ConfusionMatrixDisplay at 0x1e6f0978910>"
      ]
     },
     "execution_count": 15,
     "metadata": {},
     "output_type": "execute_result"
    },
    {
     "data": {
      "image/png": "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",
      "text/plain": [
       "<Figure size 432x288 with 2 Axes>"
      ]
     },
     "metadata": {
      "needs_background": "light"
     },
     "output_type": "display_data"
    }
   ],
   "source": [
>>>>>>> 45032fa9164101c16758a24bb52b9071bd0b3c6c
    "plot_confusion_matrix(xgb_cl_2,\n",
    "                      X_test,\n",
    "                      y_test,\n",
    "                      values_format='d',\n",
    "                      display_labels=[\"Jadalne\", \"Trujace\"])"
<<<<<<< HEAD
   ]
  },
  {
   "cell_type": "code",
   "execution_count": null,
   "metadata": {},
   "outputs": [],
   "source": []
=======
   ]
  },
  {
   "cell_type": "code",
   "execution_count": 50,
   "metadata": {},
   "outputs": [],
   "source": [
    "empty_df = pd.DataFrame(zmienna.iloc[0]).transpose()\n"
   ]
  },
  {
   "cell_type": "code",
   "execution_count": 51,
   "metadata": {},
   "outputs": [],
   "source": [
    "empty_df.iloc[0] = 0"
   ]
  },
  {
   "cell_type": "code",
   "execution_count": 52,
   "metadata": {},
   "outputs": [],
   "source": [
    "empty_df.reset_index().drop(\"index\", axis=1, inplace=True)"
   ]
  },
  {
   "cell_type": "code",
   "execution_count": 53,
   "metadata": {},
   "outputs": [
    {
     "data": {
      "text/html": [
       "<div>\n",
       "<style scoped>\n",
       "    .dataframe tbody tr th:only-of-type {\n",
       "        vertical-align: middle;\n",
       "    }\n",
       "\n",
       "    .dataframe tbody tr th {\n",
       "        vertical-align: top;\n",
       "    }\n",
       "\n",
       "    .dataframe thead th {\n",
       "        text-align: right;\n",
       "    }\n",
       "</style>\n",
       "<table border=\"1\" class=\"dataframe\">\n",
       "  <thead>\n",
       "    <tr style=\"text-align: right;\">\n",
       "      <th></th>\n",
       "      <th>cap-shape_b</th>\n",
       "      <th>cap-shape_c</th>\n",
       "      <th>cap-shape_f</th>\n",
       "      <th>cap-shape_k</th>\n",
       "      <th>cap-shape_s</th>\n",
       "      <th>cap-shape_x</th>\n",
       "      <th>cap-surface_f</th>\n",
       "      <th>cap-surface_g</th>\n",
       "      <th>cap-surface_s</th>\n",
       "      <th>cap-surface_y</th>\n",
       "      <th>...</th>\n",
       "      <th>population_s</th>\n",
       "      <th>population_v</th>\n",
       "      <th>population_y</th>\n",
       "      <th>habitat_d</th>\n",
       "      <th>habitat_g</th>\n",
       "      <th>habitat_l</th>\n",
       "      <th>habitat_m</th>\n",
       "      <th>habitat_p</th>\n",
       "      <th>habitat_u</th>\n",
       "      <th>habitat_w</th>\n",
       "    </tr>\n",
       "  </thead>\n",
       "  <tbody>\n",
       "    <tr>\n",
       "      <th>8110</th>\n",
       "      <td>0</td>\n",
       "      <td>0</td>\n",
       "      <td>0</td>\n",
       "      <td>0</td>\n",
       "      <td>0</td>\n",
       "      <td>0</td>\n",
       "      <td>0</td>\n",
       "      <td>0</td>\n",
       "      <td>0</td>\n",
       "      <td>0</td>\n",
       "      <td>...</td>\n",
       "      <td>0</td>\n",
       "      <td>0</td>\n",
       "      <td>0</td>\n",
       "      <td>0</td>\n",
       "      <td>0</td>\n",
       "      <td>0</td>\n",
       "      <td>0</td>\n",
       "      <td>0</td>\n",
       "      <td>0</td>\n",
       "      <td>0</td>\n",
       "    </tr>\n",
       "  </tbody>\n",
       "</table>\n",
       "<p>1 rows × 117 columns</p>\n",
       "</div>"
      ],
      "text/plain": [
       "      cap-shape_b  cap-shape_c  cap-shape_f  cap-shape_k  cap-shape_s  \\\n",
       "8110            0            0            0            0            0   \n",
       "\n",
       "      cap-shape_x  cap-surface_f  cap-surface_g  cap-surface_s  cap-surface_y  \\\n",
       "8110            0              0              0              0              0   \n",
       "\n",
       "      ...  population_s  population_v  population_y  habitat_d  habitat_g  \\\n",
       "8110  ...             0             0             0          0          0   \n",
       "\n",
       "      habitat_l  habitat_m  habitat_p  habitat_u  habitat_w  \n",
       "8110          0          0          0          0          0  \n",
       "\n",
       "[1 rows x 117 columns]"
      ]
     },
     "execution_count": 53,
     "metadata": {},
     "output_type": "execute_result"
    }
   ],
   "source": [
    "empty_df"
   ]
  },
  {
   "cell_type": "code",
   "execution_count": 20,
   "metadata": {},
   "outputs": [],
   "source": [
    "index_cap_shape = [\"bell\", \"conical\", \"convex\", \"flat\", \"knobbed\", \"sunken\"]\n",
    "index_cap_surface = [\"fibrous\", \"grooves\", \"scaly\", \"smooth\"]\n",
    "index_cap_color = [\"brown\", \"buff\", \"cinnamon\", \"gray\", \"green\", \"pink\", \"purple\", \"red\", \"white\", \"yellow\"]\n",
    "index_bruises = [\"Yes\", \"No\"]\n",
    "index_odor = [\"almond\", \"anise\", \"creoote\", \"fishy\", \"foul\", \"musty\", \"none\", \"pungent\", \"spicy\"]\n",
    "index_gill_attachment = [\"attached\", \"descending\", \"free\", \"notched\"]\n",
    "index_gill_spacing = [\"close\", \"crowded\", \"distant\"]\n",
    "index_gill_size = [\"broad\", \"narrow\"]\n",
    "index_gill_color = [\"black\", \"brown\", \"buff\", \"chocolate\", \"gray\", \"green\", \"orange\", \"pink\", \"purple\", \"red\", \"white\", \"yellow\"]\n",
    "index_stalk_shape = [\"enlarging\", \"tapering\"]\n",
    "index_stalk_root = [\"bulbous\", \"club\", \"cup\", \"equal\", \"rhizomorphs\", \"rooted\", \"missing\"]\n",
    "index_stalk_surface_above_ring = [\"fibrous\", \"scaly\", \"silky\", \"smooth\"]\n",
    "index_stalk_surface_below_ring = [\"fibrous\", \"scaly\", \"silky\", \"smooth\"]\n",
    "index_stalk_color_above_ring = [\"brown\", \"buff\", \"cinnamon\", \"gray\", \"orange\", \"pink\", \"red\", \"white\", \"yellow\"]\n",
    "index_stalk_color_below_ring = [\"brown\", \"buff\", \"cinnamon\", \"gray\", \"orange\", \"pink\", \"red\", \"white\", \"yellow\"]\n",
    "index_veil_type = [\"parial\", \"universal\"]\n",
    "index_veil_color = [\"brown\", \"orange\", \"white\", \"yellow\"]\n",
    "index_ring_number = [\"none\", \"two\"]\n",
    "index_ring_type = [\"cobwebby\", \"evanescent\", \"flaring\", \"large\", \"none\", \"pendant\", \"sheathing\", \"zone\"]\n",
    "index_spore_print_color = [\"black\", \"brown\", \"buff\", \"chocolate\", \"green\", \"orange\", \"purple\", \"white\", \"yellow\"]\n",
    "index_population = [\"abundant\", \"clustered\", \"numerous\", \"scattered\", \"several\", \"solitary\"]\n",
    "index_habitat = [\"grasses\", \"leaves\", \"meadows\", \"paths\", \"urban\", \"waste\", \"woods\"]"
   ]
  },
  {
   "cell_type": "code",
   "execution_count": null,
   "metadata": {},
   "outputs": [],
   "source": [
    "index_cap_shape.index(\"conical\")"
   ]
  },
  {
   "cell_type": "code",
   "execution_count": 55,
   "metadata": {},
   "outputs": [
    {
     "data": {
      "text/plain": [
       "['convex',\n",
       " 'grooves',\n",
       " 'gray',\n",
       " 'No',\n",
       " 'anise',\n",
       " 'attached',\n",
       " 'close',\n",
       " 'narrow',\n",
       " 'red',\n",
       " 'tapering',\n",
       " 'missing',\n",
       " 'smooth',\n",
       " 'fibrous',\n",
       " 'orange',\n",
       " 'gray',\n",
       " 'parial',\n",
       " 'white',\n",
       " 'none',\n",
       " 'large',\n",
       " 'buff',\n",
       " 'numerous',\n",
       " 'meadows']"
      ]
     },
     "execution_count": 55,
     "metadata": {},
     "output_type": "execute_result"
    }
   ],
   "source": [
    "dictionary_values = values.values()\n",
    "dictionary_values = list(dictionary_values)\n",
    "dictionary_values"
   ]
  },
  {
   "cell_type": "code",
   "execution_count": null,
   "metadata": {},
   "outputs": [],
   "source": []
  },
  {
   "cell_type": "code",
   "execution_count": 56,
   "metadata": {},
   "outputs": [],
   "source": [
    "def mush_convertion_columns(chosen_values):\n",
    "\n",
    "    index_cap_shape = [\"bell\", \"conical\", \"convex\", \"flat\", \"knobbed\", \"sunken\"]\n",
    "    find_index_cap_shape = ['cap-shape_b', 'cap-shape_c', 'cap-shape_x', 'cap-shape_f', 'cap-shape_k', 'cap-shape_s']\n",
    "    raz = find_index_cap_shape[index_cap_shape.index(chosen_values[0])]\n",
    "\n",
    "    index_cap_surface = [\"fibrous\", \"grooves\", \"scaly\", \"smooth\"]\n",
    "    find_index_cap_surface = ['cap-surface_f', 'cap-surface_g', 'cap-surface_y', 'cap-surface_s']\n",
    "    dwa = find_index_cap_surface[index_cap_surface.index(chosen_values[1])]\n",
    "\n",
    "    index_cap_color = [\"brown\", \"buff\", \"cinnamon\", \"gray\", \"green\", \"pink\", \"purple\", \"red\", \"white\", \"yellow\"]\n",
    "    find_index_cap_color = ['cap-color_n', 'cap-color_b', 'cap-color_c', 'cap-color_g', 'cap-color_r', 'cap-color_p', 'cap-color_u', 'cap-color_e', 'cap-color_w', 'cap-color_y']\n",
    "    trzy = find_index_cap_color[index_cap_color.index(chosen_values[2])]\n",
    "\n",
    "    index_bruises = [\"Yes\", \"No\"]\n",
    "    find_index_bruises = ['bruises_t', 'bruises_f']\n",
    "    cztery = find_index_bruises[index_bruises.index(chosen_values[3])]\n",
    "\n",
    "    index_odor = [\"almond\", \"anise\", \"creoote\", \"fishy\", \"foul\", \"musty\", \"none\", \"pungent\", \"spicy\"]\n",
    "    find_index_odor = ['odor_a', 'odor_l', 'odor_c', 'odor_y', 'odor_f', 'odor_m', 'odor_n', 'odor_p', 'odor_s']\n",
    "    piec = find_index_odor[index_odor.index(chosen_values[4])]\n",
    "\n",
    "    index_gill_attachment = [\"attached\", \"free\"]\n",
    "    find_index_gill_attachment = ['gill-attachment_a', 'gill-attachment_f']\n",
    "    szesc = find_index_gill_attachment[index_gill_attachment.index(chosen_values[5])]\n",
    "\n",
    "    index_gill_spacing = [\"close\", \"crowded\"]\n",
    "    find_index_gill_spacing = ['gill-spacing_c', 'gill-spacing_w']\n",
    "    siedem = find_index_gill_spacing[index_gill_spacing.index(chosen_values[6])]\n",
    "\n",
    "    index_gill_size = [\"broad\", \"narrow\"]\n",
    "    find_index_gill_size = ['gill-size_b', 'gill-size_n']\n",
    "    osiem = find_index_gill_size[index_gill_size.index(chosen_values[7])]\n",
    "\n",
    "    index_gill_color = [\"black\", \"brown\", \"buff\", \"chocolate\", \"gray\", \"green\", \"orange\", \"pink\", \"purple\", \"red\", \"white\", \"yellow\"]\n",
    "    find_index_gill_color = ['gill-color_k', 'gill-color_n', 'gill-color_b', 'gill-color_h', 'gill-color_g', 'gill-color_r', 'gill-color_o', 'gill-color_p', 'gill-color_u', 'gill-color_e', 'gill-color_w', 'gill-color_y']\n",
    "    dziewiec = find_index_gill_color[index_gill_color.index(chosen_values[8])]\n",
    "\n",
    "    index_stalk_shape = [\"enlarging\", \"tapering\"]\n",
    "    find_index_stalk_shape = ['stalk-shape_e', 'stalk-shape_t']\n",
    "    dziesiec = find_index_stalk_shape[index_stalk_shape.index(chosen_values[9])]\n",
    "\n",
    "    index_stalk_root = [\"bulbous\", \"club\", \"equal\", \"rooted\", \"missing\"]\n",
    "    find_index_stalk_root = ['stalk-root_b', 'stalk-root_c', 'stalk-root_e', 'stalk-root_r', 'stalk-root_?']\n",
    "    jedenascie = find_index_stalk_root[index_stalk_root.index(chosen_values[10])]\n",
    "\n",
    "    index_stalk_surface_above_ring = [\"fibrous\", \"scaly\", \"silky\", \"smooth\"]\n",
    "    find_index_stalk_surface_above_ring = ['stalk-surface-above-ring_f', 'stalk-surface-above-ring_y', 'stalk-surface-above-ring_k', 'stalk-surface-above-ring_s']\n",
    "    dwanascie = find_index_stalk_surface_above_ring[index_stalk_surface_above_ring.index(chosen_values[11])]\n",
    "\n",
    "    index_stalk_surface_below_ring = [\"fibrous\", \"scaly\", \"silky\", \"smooth\"]\n",
    "    find_index_stalk_surface_below_ring = ['stalk-surface-below-ring_f', 'stalk-surface-below-ring_y', 'stalk-surface-below-ring_k', 'stalk-surface-below-ring_s']\n",
    "    trzynascie = find_index_stalk_surface_below_ring[index_stalk_surface_below_ring.index(chosen_values[12])]\n",
    "\n",
    "    index_stalk_color_above_ring = [\"brown\", \"buff\", \"cinnamon\", \"gray\", \"orange\", \"pink\", \"red\", \"white\", \"yellow\"]\n",
    "    find_index_stalk_color_above_ring = ['stalk-color-above-ring_n', 'stalk-color-above-ring_b','stalk-color-above-ring_c', 'stalk-color-above-ring_g','stalk-color-above-ring_o', 'stalk-color-above-ring_p','stalk-color-above-ring_e', 'stalk-color-above-ring_w','stalk-color-above-ring_y']\n",
    "    czernascie = find_index_stalk_color_above_ring[index_stalk_color_above_ring.index(chosen_values[13])]\n",
    "\n",
    "    index_stalk_color_below_ring = [\"brown\", \"buff\", \"cinnamon\", \"gray\", \"orange\", \"pink\", \"red\", \"white\", \"yellow\"]\n",
    "    find_index_stalk_color_below_ring = ['stalk-color-below-ring_n', 'stalk-color-below-ring_b','stalk-color-below-ring_c', 'stalk-color-below-ring_g','stalk-color-below-ring_o', 'stalk-color-below-ring_p','stalk-color-below-ring_e', 'stalk-color-below-ring_w','stalk-color-below-ring_y']\n",
    "    pietnascie = find_index_stalk_color_below_ring[index_stalk_color_below_ring.index(chosen_values[14])]\n",
    "\n",
    "    index_veil_type = [\"parial\"]\n",
    "    find_index_veil_type = ['veil-type_p']\n",
    "    szesnascie = find_index_veil_type[index_veil_type.index(chosen_values[15])]\n",
    "\n",
    "    index_veil_color = [\"brown\", \"orange\", \"white\", \"yellow\"]\n",
    "    find_index_veil_color = ['veil-color_n', 'veil-color_o', 'veil-color_w', 'veil-color_y']\n",
    "    siedemnascie = find_index_veil_color[index_veil_color.index(chosen_values[16])]\n",
    "\n",
    "    index_ring_number = [\"none\", \"two\"]\n",
    "    find_index_ring_number = ['ring-number_n', 'ring-number_t']\n",
    "    osiemnascie = find_index_ring_number[index_ring_number.index(chosen_values[17])]\n",
    "\n",
    "    index_ring_type = [\"evanescent\", \"flaring\", \"large\", \"none\", \"pendant\"]\n",
    "    find_index_ring_type = ['ring-type_e', 'ring-type_f', 'ring-type_l', 'ring-type_n', 'ring-type_p']\n",
    "    dziewietnascie = find_index_ring_type[index_ring_type.index(chosen_values[18])]\n",
    "\n",
    "    index_spore_print_color = [\"black\", \"brown\", \"buff\", \"chocolate\", \"green\", \"orange\", \"purple\", \"white\", \"yellow\"]\n",
    "    find_index_spore_print_color = ['spore-print-color_k', 'spore-print-color_n', 'spore-print-color_b','spore-print-color_h', 'spore-print-color_r', 'spore-print-color_o','spore-print-color_u', 'spore-print-color_w', 'spore-print-color_y']\n",
    "    dwadziescia = find_index_spore_print_color[index_spore_print_color.index(chosen_values[19])]\n",
    "\n",
    "    index_population = [\"abundant\", \"clustered\", \"numerous\", \"scattered\", \"several\", \"solitary\"]\n",
    "    find_index_population = ['population_a', 'population_c', 'population_n', 'population_s','population_v', 'population_y']\n",
    "    dwadziesciajeden = find_index_population[index_population.index(chosen_values[20])]\n",
    "\n",
    "    index_habitat = [\"grasses\", \"leaves\", \"meadows\", \"paths\", \"urban\", \"waste\", \"woods\"]\n",
    "    find_index_habitat = ['habitat_g', 'habitat_l', 'habitat_m', 'habitat_p', 'habitat_u', 'habitat_w', 'habitat_d']\n",
    "    dwadziesciadwa = find_index_habitat[index_habitat.index(chosen_values[21])]\n",
    "\n",
    "    \n",
    "    return [raz, dwa, trzy, cztery, piec, szesc, siedem, osiem, dziewiec, dziesiec, jedenascie, dwanascie, trzynascie, czernascie, pietnascie, szesnascie, siedemnascie, osiemnascie, dziewietnascie, dwadziescia, dwadziesciajeden, dwadziesciadwa]"
   ]
  },
  {
   "cell_type": "code",
   "execution_count": 57,
   "metadata": {},
   "outputs": [
    {
     "data": {
      "text/plain": [
       "['cap-shape_x',\n",
       " 'cap-surface_g',\n",
       " 'cap-color_g',\n",
       " 'bruises_f',\n",
       " 'odor_l',\n",
       " 'gill-attachment_a',\n",
       " 'gill-spacing_c',\n",
       " 'gill-size_n',\n",
       " 'gill-color_e',\n",
       " 'stalk-shape_t',\n",
       " 'stalk-root_?',\n",
       " 'stalk-surface-above-ring_s',\n",
       " 'stalk-surface-below-ring_f',\n",
       " 'stalk-color-above-ring_o',\n",
       " 'stalk-color-below-ring_g',\n",
       " 'veil-type_p',\n",
       " 'veil-color_w',\n",
       " 'ring-number_n',\n",
       " 'ring-type_l',\n",
       " 'spore-print-color_b',\n",
       " 'population_n',\n",
       " 'habitat_m']"
      ]
     },
     "execution_count": 57,
     "metadata": {},
     "output_type": "execute_result"
    }
   ],
   "source": [
    "convertion = mush_convertion_columns(dictionary_values)\n",
    "convertion"
   ]
  },
  {
   "cell_type": "code",
   "execution_count": 58,
   "metadata": {},
   "outputs": [],
   "source": [
    "def predicted_values(empty_data, chosen_list):\n",
    "    empty_data.loc[:, chosen_list] = 1\n",
    "    return empty_data\n"
   ]
  },
  {
   "cell_type": "code",
   "execution_count": 59,
   "metadata": {},
   "outputs": [
    {
     "data": {
      "text/html": [
       "<div>\n",
       "<style scoped>\n",
       "    .dataframe tbody tr th:only-of-type {\n",
       "        vertical-align: middle;\n",
       "    }\n",
       "\n",
       "    .dataframe tbody tr th {\n",
       "        vertical-align: top;\n",
       "    }\n",
       "\n",
       "    .dataframe thead th {\n",
       "        text-align: right;\n",
       "    }\n",
       "</style>\n",
       "<table border=\"1\" class=\"dataframe\">\n",
       "  <thead>\n",
       "    <tr style=\"text-align: right;\">\n",
       "      <th></th>\n",
       "      <th>cap-shape_b</th>\n",
       "      <th>cap-shape_c</th>\n",
       "      <th>cap-shape_f</th>\n",
       "      <th>cap-shape_k</th>\n",
       "      <th>cap-shape_s</th>\n",
       "      <th>cap-shape_x</th>\n",
       "      <th>cap-surface_f</th>\n",
       "      <th>cap-surface_g</th>\n",
       "      <th>cap-surface_s</th>\n",
       "      <th>cap-surface_y</th>\n",
       "      <th>...</th>\n",
       "      <th>population_s</th>\n",
       "      <th>population_v</th>\n",
       "      <th>population_y</th>\n",
       "      <th>habitat_d</th>\n",
       "      <th>habitat_g</th>\n",
       "      <th>habitat_l</th>\n",
       "      <th>habitat_m</th>\n",
       "      <th>habitat_p</th>\n",
       "      <th>habitat_u</th>\n",
       "      <th>habitat_w</th>\n",
       "    </tr>\n",
       "  </thead>\n",
       "  <tbody>\n",
       "    <tr>\n",
       "      <th>8110</th>\n",
       "      <td>0</td>\n",
       "      <td>0</td>\n",
       "      <td>0</td>\n",
       "      <td>0</td>\n",
       "      <td>0</td>\n",
       "      <td>1</td>\n",
       "      <td>0</td>\n",
       "      <td>1</td>\n",
       "      <td>0</td>\n",
       "      <td>0</td>\n",
       "      <td>...</td>\n",
       "      <td>0</td>\n",
       "      <td>0</td>\n",
       "      <td>0</td>\n",
       "      <td>0</td>\n",
       "      <td>0</td>\n",
       "      <td>0</td>\n",
       "      <td>1</td>\n",
       "      <td>0</td>\n",
       "      <td>0</td>\n",
       "      <td>0</td>\n",
       "    </tr>\n",
       "  </tbody>\n",
       "</table>\n",
       "<p>1 rows × 117 columns</p>\n",
       "</div>"
      ],
      "text/plain": [
       "      cap-shape_b  cap-shape_c  cap-shape_f  cap-shape_k  cap-shape_s  \\\n",
       "8110            0            0            0            0            0   \n",
       "\n",
       "      cap-shape_x  cap-surface_f  cap-surface_g  cap-surface_s  cap-surface_y  \\\n",
       "8110            1              0              1              0              0   \n",
       "\n",
       "      ...  population_s  population_v  population_y  habitat_d  habitat_g  \\\n",
       "8110  ...             0             0             0          0          0   \n",
       "\n",
       "      habitat_l  habitat_m  habitat_p  habitat_u  habitat_w  \n",
       "8110          0          1          0          0          0  \n",
       "\n",
       "[1 rows x 117 columns]"
      ]
     },
     "execution_count": 59,
     "metadata": {},
     "output_type": "execute_result"
    }
   ],
   "source": [
    "predicted_values(empty_df, convertion)"
   ]
  },
  {
   "cell_type": "code",
   "execution_count": null,
   "metadata": {},
   "outputs": [],
   "source": [
    "index_gill_attachment = [\"attached\", \"descending\", \"free\", \"notched\"] #no descending, notched\n",
    "find_index_gill_attachment = ['gill-attachment_a', 'gill-attachment_f'] \n",
    "\n",
    "index_gill_spacing = [\"close\", \"crowded\", \"distant\"] #no distant\n",
    "find_index_gill_spacing = ['gill-spacing_c', 'gill-spacing_w']\n",
    "\n",
    "index_stalk_root = [\"bulbous\", \"club\", \"cup\", \"equal\", \"rhizomorphs\", \"rooted\", \"missing\"] # rhizomorphs=z , cup=u\n",
    "find_index_stalk_root = ['stalk-root_?', 'stalk-root_b', 'stalk-root_c', 'stalk-root_e', 'stalk-root_r']\n",
    "\n",
    "index_veil_type = [\"parial\", \"universal\"] # no universal\n",
    "find_index_veil_type = ['veil-type_p']\n",
    "\n",
    "index_ring_number = [\"none\", \"two\"] #no one\n",
    "find_index_ring_number = ['ring-number_n', 'ring-number_o', 'ring-number_t']\n",
    "\n",
    "index_ring_type = [\"cobwebby\", \"evanescent\", \"flaring\", \"large\", \"none\", \"pendant\", \"sheathing\", \"zone\"] # cobwebby=c, sheathing=s s, zone=z s\n",
    "find_index_ring_type = ['ring-type_e', 'ring-type_f', 'ring-type_l', 'ring-type_n', 'ring-type_p']"
   ]
>>>>>>> 45032fa9164101c16758a24bb52b9071bd0b3c6c
  }
 ],
 "metadata": {
  "kernelspec": {
   "display_name": "Python 3",
   "language": "python",
   "name": "python3"
  },
  "language_info": {
   "codemirror_mode": {
    "name": "ipython",
    "version": 3
   },
   "file_extension": ".py",
   "mimetype": "text/x-python",
   "name": "python",
   "nbconvert_exporter": "python",
   "pygments_lexer": "ipython3",
   "version": "3.8.8"
  }
 },
 "nbformat": 4,
 "nbformat_minor": 4
}
