{
 "cells": [
  {
   "cell_type": "markdown",
   "metadata": {},
   "source": [
    "## Linki"
   ]
  },
  {
   "cell_type": "markdown",
   "metadata": {},
   "source": [
    "https://www.analyticsvidhya.com/blog/2016/03/complete-guide-parameter-tuning-xgboost-with-codes-python/"
   ]
  },
  {
   "cell_type": "markdown",
   "metadata": {},
   "source": [
    "## Opis cech (features)"
   ]
  },
  {
   "cell_type": "markdown",
   "metadata": {
    "jupyter": {
     "source_hidden": true
    }
   },
   "source": [
    "### Lista występujących cech w danych:\n",
    "\n",
    "##### 1. class  _klasa_:\n",
    "- edible = e    > _jadalne_\n",
    "- poisonous = p > _trujące_\n",
    "\n",
    "##### 2. cap-shape  _kształt kapelusza_:\n",
    "- bell = b      > _dzwon_\n",
    "- conical = c   > _stożkowy_\n",
    "- convex = x    > _wypukły_\n",
    "- flat = f      > _płaski_\n",
    "- knobbed = k   > _gałkowy_\n",
    "- sunken = s    > _wklęsły_\n",
    "\n",
    "##### 3. cap-surface  _powierzchnia kapelusza_:\n",
    "- fibrous = f   > _włóknista_\n",
    "- grooves = g   > _rowkowata_\n",
    "- scaly = y     > _łuskowata_\n",
    "- smooth = s    > _gładka_\n",
    "\n",
    "##### 3. cap-color _kolor kapelusza_:\n",
    "- brown = n     > _brązowy_\n",
    "- buff = b      > _jasnobrązowożółty_\n",
    "- cinnamon = c  > _cynamon_\n",
    "- gray = g      > _szary_\n",
    "- green = r     > _zielony_\n",
    "- pink = p      > _różowy_\n",
    "- purple = u    > _fioletowy_\n",
    "- red = e       > _czerwony_\n",
    "- white = w     > _biały_\n",
    "- yellow = y    > _zółty_\n",
    "\n",
    "##### 4. bruises _bruzdy_:\n",
    "- bruises = t   > _prawda_\n",
    "- no = f        > _fałsz_\n",
    "\n",
    "##### 5. odor _zapach_:\n",
    "- almond=a > _migdałowy_\n",
    "- anise=l >_anyżowy_\n",
    "- creoote=c >_kreotyzowy_\n",
    "- fishy=y >_rybi_\n",
    "- foul=f >_śmierdzący_\n",
    "- musty=m >_stęchły_\n",
    "- none=n \n",
    "- pungent=p >_cierpki_\n",
    "- spicy=s > _pikantny_\n",
    "\n",
    "##### 6. gill-attachment _blaszki:\n",
    "- attached=a\n",
    "- descending=d\n",
    "- free=f\n",
    "- notched=n\n",
    "\n",
    "##### 7. gill-spacing _odstępy blaszek_:\n",
    "- close=c\n",
    "- crowded=w\n",
    "- distant=d\n",
    "\n",
    "##### 8. gill-size _rozmiar blaszek_:\n",
    "- broad=b\n",
    "- narrow=n\n",
    "\n",
    "##### 9. gill-color _kolor blaszek_:\n",
    "- black=k\n",
    "- brown=n\n",
    "- buff=b\n",
    "- chocolate=h\n",
    "- gray=g\n",
    "- green=r\n",
    "- orange=o\n",
    "- pink=p\n",
    "- purple=u\n",
    "- red=e\n",
    "- white=w\n",
    "- yellow=y\n",
    "\n",
    "##### 10. stalk-shape _trzon_:\n",
    "- enlarging=e\n",
    "- tapering=t\n",
    "\n",
    "##### 11. stalk-root _korzeń trzonu_:\n",
    "- bulbous=b\n",
    "- club=c\n",
    "- cup=u\n",
    "- equal=e\n",
    "- rhizomorphs=z\n",
    "- rooted=r\n",
    "- missing=?\n",
    "\n",
    "##### 12. stalk-surface-above-ring _powierzchnia trzonu powyżej pierścienia_:\n",
    "- fibrous=f > _włóknista_\n",
    "- scaly=y > _łuskowata_\n",
    "- silky=k > _jedwabista_\n",
    "- smooth=s > _gładka_\n",
    "\n",
    "##### 13. stalk-surface-below-ring _powierzchnia trzonu poniżej pierścienia_:\n",
    "- fibrous=f\n",
    "- scaly=y\n",
    "- silky=k\n",
    "- smooth=s\n",
    "\n",
    "##### 14. stalk-color-above-ring _kolor trzonu powyżej pierścienia_:\n",
    "- brown=n\n",
    "- buff=b\n",
    "- cinnamon=c\n",
    "- gray=g\n",
    "- orange=o\n",
    "- pink=p\n",
    "- red=e\n",
    "- white=w\n",
    "- yellow=y\n",
    "\n",
    "##### 15. stalk-color-below-ring _kolor trzonu poniżej pierścienia_:\n",
    "- brown=n\n",
    "- buff=b\n",
    "- cinnamon=c\n",
    "- gray=g\n",
    "- orange=o\n",
    "- pink=p\n",
    "- red=e\n",
    "- white=w\n",
    "- yellow=y\n",
    "\n",
    "##### 16. veil-type _typ welonu_:\n",
    "- parial=p\n",
    "- universal=u\n",
    "\n",
    "##### 17. veil-color _kolor welonu_:\n",
    "- brown=n,\n",
    "- orange=o\n",
    "- white=w\n",
    "- yellow=y\n",
    "\n",
    "##### 18. ring-number _ilość pierścieni_:\n",
    "- none=none=o,two=t\n",
    "\n",
    "##### 19. ring-type _rodzaj pierścienia_:\n",
    "- cobwebby=c\n",
    "- evanescent=e\n",
    "- flaring=f\n",
    "- large=l\n",
    "- none=n\n",
    "- pendant=p\n",
    "- sheathing=s\n",
    "- zone=z\n",
    "\n",
    "##### 20. spore-print-color _kolor zarodników_:\n",
    "- black=k\n",
    "- brown=n\n",
    "- buff=b\n",
    "- chocolate=h\n",
    "- green=r\n",
    "- orange=o\n",
    "- purple=u\n",
    "- white=w\n",
    "- yellow=y\n",
    "\n",
    "##### 21. population _populacja_:\n",
    "- abundant=a\n",
    "- clustered=c\n",
    "- numerous=n\n",
    "- scattered=s\n",
    "- several=v\n",
    "- solitary=y\n",
    "\n",
    "##### 22. habitat _środowisko występowania_:\n",
    "- grasses=g\n",
    "- leaves=l\n",
    "- meadows=m\n",
    "- paths=p\n",
    "- urban=u\n",
    "- waste=w\n",
    "- woods=d"
   ]
  },
  {
   "cell_type": "code",
<<<<<<< HEAD
   "execution_count": 37,
=======
   "execution_count": null,
>>>>>>> 21659dfc44594dace5bb0cce2d3d907fe3d22168
   "metadata": {},
   "outputs": [],
   "source": [
    "import pandas as pd\n",
    "import numpy as np\n",
    "import matplotlib.pyplot as plt\n",
<<<<<<< HEAD
    "import xgboost as xgb\n",
    "from sklearn.ensemble import RandomForestClassifier\n",
    "from sklearn.model_selection import train_test_split\n",
    "from sklearn.tree import DecisionTreeClassifier, plot_tree\n",
    "from sklearn.linear_model import LogisticRegression\n",
    "from mlxtend import plotting\n",
    "from sklearn.metrics import balanced_accuracy_score, roc_auc_score, make_scorer\n",
    "from sklearn.metrics import confusion_matrix\n",
    "from sklearn.metrics import plot_confusion_matrix"
=======
    "from sklearn.ensemble import RandomForestClassifier\n",
    "from sklearn.datasets import load_iris, load_digits, make_circles, make_moons\n",
    "from sklearn.model_selection import train_test_split\n",
    "from sklearn.tree import DecisionTreeClassifier, plot_tree\n",
    "from sklearn.linear_model import LogisticRegression\n",
    "from mlxtend import plotting"
>>>>>>> 21659dfc44594dace5bb0cce2d3d907fe3d22168
   ]
  },
  {
   "cell_type": "code",
<<<<<<< HEAD
   "execution_count": 2,
=======
   "execution_count": null,
>>>>>>> 21659dfc44594dace5bb0cce2d3d907fe3d22168
   "metadata": {},
   "outputs": [],
   "source": [
    "df = pd.read_csv('mushrooms.csv')\n",
    "df_columns = pd.read_csv('mushrooms.csv')"
   ]
  },
  {
   "cell_type": "code",
<<<<<<< HEAD
   "execution_count": 3,
   "metadata": {},
   "outputs": [
    {
     "data": {
      "text/html": [
       "<div>\n",
       "<style scoped>\n",
       "    .dataframe tbody tr th:only-of-type {\n",
       "        vertical-align: middle;\n",
       "    }\n",
       "\n",
       "    .dataframe tbody tr th {\n",
       "        vertical-align: top;\n",
       "    }\n",
       "\n",
       "    .dataframe thead th {\n",
       "        text-align: right;\n",
       "    }\n",
       "</style>\n",
       "<table border=\"1\" class=\"dataframe\">\n",
       "  <thead>\n",
       "    <tr style=\"text-align: right;\">\n",
       "      <th></th>\n",
       "      <th>class</th>\n",
       "      <th>cap-shape</th>\n",
       "      <th>cap-surface</th>\n",
       "      <th>cap-color</th>\n",
       "      <th>bruises</th>\n",
       "      <th>odor</th>\n",
       "      <th>gill-attachment</th>\n",
       "      <th>gill-spacing</th>\n",
       "      <th>gill-size</th>\n",
       "      <th>gill-color</th>\n",
       "      <th>...</th>\n",
       "      <th>stalk-surface-below-ring</th>\n",
       "      <th>stalk-color-above-ring</th>\n",
       "      <th>stalk-color-below-ring</th>\n",
       "      <th>veil-type</th>\n",
       "      <th>veil-color</th>\n",
       "      <th>ring-number</th>\n",
       "      <th>ring-type</th>\n",
       "      <th>spore-print-color</th>\n",
       "      <th>population</th>\n",
       "      <th>habitat</th>\n",
       "    </tr>\n",
       "  </thead>\n",
       "  <tbody>\n",
       "    <tr>\n",
       "      <th>0</th>\n",
       "      <td>p</td>\n",
       "      <td>x</td>\n",
       "      <td>s</td>\n",
       "      <td>n</td>\n",
       "      <td>t</td>\n",
       "      <td>p</td>\n",
       "      <td>f</td>\n",
       "      <td>c</td>\n",
       "      <td>n</td>\n",
       "      <td>k</td>\n",
       "      <td>...</td>\n",
       "      <td>s</td>\n",
       "      <td>w</td>\n",
       "      <td>w</td>\n",
       "      <td>p</td>\n",
       "      <td>w</td>\n",
       "      <td>o</td>\n",
       "      <td>p</td>\n",
       "      <td>k</td>\n",
       "      <td>s</td>\n",
       "      <td>u</td>\n",
       "    </tr>\n",
       "    <tr>\n",
       "      <th>1</th>\n",
       "      <td>e</td>\n",
       "      <td>x</td>\n",
       "      <td>s</td>\n",
       "      <td>y</td>\n",
       "      <td>t</td>\n",
       "      <td>a</td>\n",
       "      <td>f</td>\n",
       "      <td>c</td>\n",
       "      <td>b</td>\n",
       "      <td>k</td>\n",
       "      <td>...</td>\n",
       "      <td>s</td>\n",
       "      <td>w</td>\n",
       "      <td>w</td>\n",
       "      <td>p</td>\n",
       "      <td>w</td>\n",
       "      <td>o</td>\n",
       "      <td>p</td>\n",
       "      <td>n</td>\n",
       "      <td>n</td>\n",
       "      <td>g</td>\n",
       "    </tr>\n",
       "    <tr>\n",
       "      <th>2</th>\n",
       "      <td>e</td>\n",
       "      <td>b</td>\n",
       "      <td>s</td>\n",
       "      <td>w</td>\n",
       "      <td>t</td>\n",
       "      <td>l</td>\n",
       "      <td>f</td>\n",
       "      <td>c</td>\n",
       "      <td>b</td>\n",
       "      <td>n</td>\n",
       "      <td>...</td>\n",
       "      <td>s</td>\n",
       "      <td>w</td>\n",
       "      <td>w</td>\n",
       "      <td>p</td>\n",
       "      <td>w</td>\n",
       "      <td>o</td>\n",
       "      <td>p</td>\n",
       "      <td>n</td>\n",
       "      <td>n</td>\n",
       "      <td>m</td>\n",
       "    </tr>\n",
       "    <tr>\n",
       "      <th>3</th>\n",
       "      <td>p</td>\n",
       "      <td>x</td>\n",
       "      <td>y</td>\n",
       "      <td>w</td>\n",
       "      <td>t</td>\n",
       "      <td>p</td>\n",
       "      <td>f</td>\n",
       "      <td>c</td>\n",
       "      <td>n</td>\n",
       "      <td>n</td>\n",
       "      <td>...</td>\n",
       "      <td>s</td>\n",
       "      <td>w</td>\n",
       "      <td>w</td>\n",
       "      <td>p</td>\n",
       "      <td>w</td>\n",
       "      <td>o</td>\n",
       "      <td>p</td>\n",
       "      <td>k</td>\n",
       "      <td>s</td>\n",
       "      <td>u</td>\n",
       "    </tr>\n",
       "    <tr>\n",
       "      <th>4</th>\n",
       "      <td>e</td>\n",
       "      <td>x</td>\n",
       "      <td>s</td>\n",
       "      <td>g</td>\n",
       "      <td>f</td>\n",
       "      <td>n</td>\n",
       "      <td>f</td>\n",
       "      <td>w</td>\n",
       "      <td>b</td>\n",
       "      <td>k</td>\n",
       "      <td>...</td>\n",
       "      <td>s</td>\n",
       "      <td>w</td>\n",
       "      <td>w</td>\n",
       "      <td>p</td>\n",
       "      <td>w</td>\n",
       "      <td>o</td>\n",
       "      <td>e</td>\n",
       "      <td>n</td>\n",
       "      <td>a</td>\n",
       "      <td>g</td>\n",
       "    </tr>\n",
       "  </tbody>\n",
       "</table>\n",
       "<p>5 rows × 23 columns</p>\n",
       "</div>"
      ],
      "text/plain": [
       "  class cap-shape cap-surface cap-color bruises odor gill-attachment  \\\n",
       "0     p         x           s         n       t    p               f   \n",
       "1     e         x           s         y       t    a               f   \n",
       "2     e         b           s         w       t    l               f   \n",
       "3     p         x           y         w       t    p               f   \n",
       "4     e         x           s         g       f    n               f   \n",
       "\n",
       "  gill-spacing gill-size gill-color  ... stalk-surface-below-ring  \\\n",
       "0            c         n          k  ...                        s   \n",
       "1            c         b          k  ...                        s   \n",
       "2            c         b          n  ...                        s   \n",
       "3            c         n          n  ...                        s   \n",
       "4            w         b          k  ...                        s   \n",
       "\n",
       "  stalk-color-above-ring stalk-color-below-ring veil-type veil-color  \\\n",
       "0                      w                      w         p          w   \n",
       "1                      w                      w         p          w   \n",
       "2                      w                      w         p          w   \n",
       "3                      w                      w         p          w   \n",
       "4                      w                      w         p          w   \n",
       "\n",
       "  ring-number ring-type spore-print-color population habitat  \n",
       "0           o         p                 k          s       u  \n",
       "1           o         p                 n          n       g  \n",
       "2           o         p                 n          n       m  \n",
       "3           o         p                 k          s       u  \n",
       "4           o         e                 n          a       g  \n",
       "\n",
       "[5 rows x 23 columns]"
      ]
     },
     "execution_count": 3,
     "metadata": {},
     "output_type": "execute_result"
    }
   ],
=======
   "execution_count": null,
   "metadata": {},
   "outputs": [],
>>>>>>> 21659dfc44594dace5bb0cce2d3d907fe3d22168
   "source": [
    "# domyślnie podaje 5 wierszy\n",
    "df.head()"
   ]
  },
  {
   "cell_type": "code",
<<<<<<< HEAD
   "execution_count": 4,
=======
   "execution_count": null,
>>>>>>> 21659dfc44594dace5bb0cce2d3d907fe3d22168
   "metadata": {
    "jupyter": {
     "outputs_hidden": true
    }
   },
<<<<<<< HEAD
   "outputs": [
    {
     "name": "stdout",
     "output_type": "stream",
     "text": [
      "<class 'pandas.core.frame.DataFrame'>\n",
      "RangeIndex: 8124 entries, 0 to 8123\n",
      "Data columns (total 23 columns):\n",
      " #   Column                    Non-Null Count  Dtype \n",
      "---  ------                    --------------  ----- \n",
      " 0   class                     8124 non-null   object\n",
      " 1   cap-shape                 8124 non-null   object\n",
      " 2   cap-surface               8124 non-null   object\n",
      " 3   cap-color                 8124 non-null   object\n",
      " 4   bruises                   8124 non-null   object\n",
      " 5   odor                      8124 non-null   object\n",
      " 6   gill-attachment           8124 non-null   object\n",
      " 7   gill-spacing              8124 non-null   object\n",
      " 8   gill-size                 8124 non-null   object\n",
      " 9   gill-color                8124 non-null   object\n",
      " 10  stalk-shape               8124 non-null   object\n",
      " 11  stalk-root                8124 non-null   object\n",
      " 12  stalk-surface-above-ring  8124 non-null   object\n",
      " 13  stalk-surface-below-ring  8124 non-null   object\n",
      " 14  stalk-color-above-ring    8124 non-null   object\n",
      " 15  stalk-color-below-ring    8124 non-null   object\n",
      " 16  veil-type                 8124 non-null   object\n",
      " 17  veil-color                8124 non-null   object\n",
      " 18  ring-number               8124 non-null   object\n",
      " 19  ring-type                 8124 non-null   object\n",
      " 20  spore-print-color         8124 non-null   object\n",
      " 21  population                8124 non-null   object\n",
      " 22  habitat                   8124 non-null   object\n",
      "dtypes: object(23)\n",
      "memory usage: 1.4+ MB\n"
     ]
    }
   ],
=======
   "outputs": [],
>>>>>>> 21659dfc44594dace5bb0cce2d3d907fe3d22168
   "source": [
    "# object Dtype = string\n",
    "df.info()"
   ]
  },
  {
   "cell_type": "code",
<<<<<<< HEAD
   "execution_count": 5,
=======
   "execution_count": null,
>>>>>>> 21659dfc44594dace5bb0cce2d3d907fe3d22168
   "metadata": {
    "jupyter": {
     "outputs_hidden": true
    }
   },
<<<<<<< HEAD
   "outputs": [
    {
     "data": {
      "text/html": [
       "<div>\n",
       "<style scoped>\n",
       "    .dataframe tbody tr th:only-of-type {\n",
       "        vertical-align: middle;\n",
       "    }\n",
       "\n",
       "    .dataframe tbody tr th {\n",
       "        vertical-align: top;\n",
       "    }\n",
       "\n",
       "    .dataframe thead th {\n",
       "        text-align: right;\n",
       "    }\n",
       "</style>\n",
       "<table border=\"1\" class=\"dataframe\">\n",
       "  <thead>\n",
       "    <tr style=\"text-align: right;\">\n",
       "      <th></th>\n",
       "      <th>class</th>\n",
       "      <th>cap-shape</th>\n",
       "      <th>cap-surface</th>\n",
       "      <th>cap-color</th>\n",
       "      <th>bruises</th>\n",
       "      <th>odor</th>\n",
       "      <th>gill-attachment</th>\n",
       "      <th>gill-spacing</th>\n",
       "      <th>gill-size</th>\n",
       "      <th>gill-color</th>\n",
       "      <th>...</th>\n",
       "      <th>stalk-surface-below-ring</th>\n",
       "      <th>stalk-color-above-ring</th>\n",
       "      <th>stalk-color-below-ring</th>\n",
       "      <th>veil-type</th>\n",
       "      <th>veil-color</th>\n",
       "      <th>ring-number</th>\n",
       "      <th>ring-type</th>\n",
       "      <th>spore-print-color</th>\n",
       "      <th>population</th>\n",
       "      <th>habitat</th>\n",
       "    </tr>\n",
       "  </thead>\n",
       "  <tbody>\n",
       "    <tr>\n",
       "      <th>count</th>\n",
       "      <td>8124</td>\n",
       "      <td>8124</td>\n",
       "      <td>8124</td>\n",
       "      <td>8124</td>\n",
       "      <td>8124</td>\n",
       "      <td>8124</td>\n",
       "      <td>8124</td>\n",
       "      <td>8124</td>\n",
       "      <td>8124</td>\n",
       "      <td>8124</td>\n",
       "      <td>...</td>\n",
       "      <td>8124</td>\n",
       "      <td>8124</td>\n",
       "      <td>8124</td>\n",
       "      <td>8124</td>\n",
       "      <td>8124</td>\n",
       "      <td>8124</td>\n",
       "      <td>8124</td>\n",
       "      <td>8124</td>\n",
       "      <td>8124</td>\n",
       "      <td>8124</td>\n",
       "    </tr>\n",
       "    <tr>\n",
       "      <th>unique</th>\n",
       "      <td>2</td>\n",
       "      <td>6</td>\n",
       "      <td>4</td>\n",
       "      <td>10</td>\n",
       "      <td>2</td>\n",
       "      <td>9</td>\n",
       "      <td>2</td>\n",
       "      <td>2</td>\n",
       "      <td>2</td>\n",
       "      <td>12</td>\n",
       "      <td>...</td>\n",
       "      <td>4</td>\n",
       "      <td>9</td>\n",
       "      <td>9</td>\n",
       "      <td>1</td>\n",
       "      <td>4</td>\n",
       "      <td>3</td>\n",
       "      <td>5</td>\n",
       "      <td>9</td>\n",
       "      <td>6</td>\n",
       "      <td>7</td>\n",
       "    </tr>\n",
       "    <tr>\n",
       "      <th>top</th>\n",
       "      <td>e</td>\n",
       "      <td>x</td>\n",
       "      <td>y</td>\n",
       "      <td>n</td>\n",
       "      <td>f</td>\n",
       "      <td>n</td>\n",
       "      <td>f</td>\n",
       "      <td>c</td>\n",
       "      <td>b</td>\n",
       "      <td>b</td>\n",
       "      <td>...</td>\n",
       "      <td>s</td>\n",
       "      <td>w</td>\n",
       "      <td>w</td>\n",
       "      <td>p</td>\n",
       "      <td>w</td>\n",
       "      <td>o</td>\n",
       "      <td>p</td>\n",
       "      <td>w</td>\n",
       "      <td>v</td>\n",
       "      <td>d</td>\n",
       "    </tr>\n",
       "    <tr>\n",
       "      <th>freq</th>\n",
       "      <td>4208</td>\n",
       "      <td>3656</td>\n",
       "      <td>3244</td>\n",
       "      <td>2284</td>\n",
       "      <td>4748</td>\n",
       "      <td>3528</td>\n",
       "      <td>7914</td>\n",
       "      <td>6812</td>\n",
       "      <td>5612</td>\n",
       "      <td>1728</td>\n",
       "      <td>...</td>\n",
       "      <td>4936</td>\n",
       "      <td>4464</td>\n",
       "      <td>4384</td>\n",
       "      <td>8124</td>\n",
       "      <td>7924</td>\n",
       "      <td>7488</td>\n",
       "      <td>3968</td>\n",
       "      <td>2388</td>\n",
       "      <td>4040</td>\n",
       "      <td>3148</td>\n",
       "    </tr>\n",
       "  </tbody>\n",
       "</table>\n",
       "<p>4 rows × 23 columns</p>\n",
       "</div>"
      ],
      "text/plain": [
       "       class cap-shape cap-surface cap-color bruises  odor gill-attachment  \\\n",
       "count   8124      8124        8124      8124    8124  8124            8124   \n",
       "unique     2         6           4        10       2     9               2   \n",
       "top        e         x           y         n       f     n               f   \n",
       "freq    4208      3656        3244      2284    4748  3528            7914   \n",
       "\n",
       "       gill-spacing gill-size gill-color  ... stalk-surface-below-ring  \\\n",
       "count          8124      8124       8124  ...                     8124   \n",
       "unique            2         2         12  ...                        4   \n",
       "top               c         b          b  ...                        s   \n",
       "freq           6812      5612       1728  ...                     4936   \n",
       "\n",
       "       stalk-color-above-ring stalk-color-below-ring veil-type veil-color  \\\n",
       "count                    8124                   8124      8124       8124   \n",
       "unique                      9                      9         1          4   \n",
       "top                         w                      w         p          w   \n",
       "freq                     4464                   4384      8124       7924   \n",
       "\n",
       "       ring-number ring-type spore-print-color population habitat  \n",
       "count         8124      8124              8124       8124    8124  \n",
       "unique           3         5                 9          6       7  \n",
       "top              o         p                 w          v       d  \n",
       "freq          7488      3968              2388       4040    3148  \n",
       "\n",
       "[4 rows x 23 columns]"
      ]
     },
     "execution_count": 5,
     "metadata": {},
     "output_type": "execute_result"
    }
   ],
=======
   "outputs": [],
>>>>>>> 21659dfc44594dace5bb0cce2d3d907fe3d22168
   "source": [
    "df.describe()"
   ]
  },
  {
   "cell_type": "code",
<<<<<<< HEAD
   "execution_count": 6,
   "metadata": {},
   "outputs": [
    {
     "name": "stdout",
     "output_type": "stream",
     "text": [
      "Liczba grzybów jadalnych: 4208, trujących: 3916.\n"
     ]
    }
   ],
=======
   "execution_count": null,
   "metadata": {},
   "outputs": [],
>>>>>>> 21659dfc44594dace5bb0cce2d3d907fe3d22168
   "source": [
    "# Liczebność grzybór jadalnych (e) i trujących (p):\n",
    "jadalne = df[\"class\"].value_counts()[\"e\"]\n",
    "trujace = df[\"class\"].value_counts()[\"p\"]\n",
    "print(f\"Liczba grzybów jadalnych: {jadalne}, trujących: {trujace}.\")"
   ]
  },
  {
   "cell_type": "code",
<<<<<<< HEAD
   "execution_count": 7,
   "metadata": {},
   "outputs": [
    {
     "data": {
      "text/plain": [
       "False"
      ]
     },
     "execution_count": 7,
     "metadata": {},
     "output_type": "execute_result"
    }
   ],
=======
   "execution_count": null,
   "metadata": {},
   "outputs": [],
>>>>>>> 21659dfc44594dace5bb0cce2d3d907fe3d22168
   "source": [
    "#sprawdzenie duplikatów\n",
    "df.duplicated().any()"
   ]
  },
  {
   "cell_type": "code",
<<<<<<< HEAD
   "execution_count": 8,
=======
   "execution_count": null,
>>>>>>> 21659dfc44594dace5bb0cce2d3d907fe3d22168
   "metadata": {
    "jupyter": {
     "outputs_hidden": true
    }
   },
<<<<<<< HEAD
   "outputs": [
    {
     "data": {
      "text/plain": [
       "class                       0\n",
       "cap-shape                   0\n",
       "cap-surface                 0\n",
       "cap-color                   0\n",
       "bruises                     0\n",
       "odor                        0\n",
       "gill-attachment             0\n",
       "gill-spacing                0\n",
       "gill-size                   0\n",
       "gill-color                  0\n",
       "stalk-shape                 0\n",
       "stalk-root                  0\n",
       "stalk-surface-above-ring    0\n",
       "stalk-surface-below-ring    0\n",
       "stalk-color-above-ring      0\n",
       "stalk-color-below-ring      0\n",
       "veil-type                   0\n",
       "veil-color                  0\n",
       "ring-number                 0\n",
       "ring-type                   0\n",
       "spore-print-color           0\n",
       "population                  0\n",
       "habitat                     0\n",
       "dtype: int64"
      ]
     },
     "execution_count": 8,
     "metadata": {},
     "output_type": "execute_result"
    }
   ],
=======
   "outputs": [],
>>>>>>> 21659dfc44594dace5bb0cce2d3d907fe3d22168
   "source": [
    "# Sprawdzenie brakujących wartości\n",
    "df.isnull().sum()"
   ]
  },
  {
   "cell_type": "code",
<<<<<<< HEAD
   "execution_count": 9,
=======
   "execution_count": null,
>>>>>>> 21659dfc44594dace5bb0cce2d3d907fe3d22168
   "metadata": {
    "jupyter": {
     "outputs_hidden": true
    }
   },
<<<<<<< HEAD
   "outputs": [
    {
     "data": {
      "text/plain": [
       "class                       0\n",
       "cap-shape                   0\n",
       "cap-surface                 0\n",
       "cap-color                   0\n",
       "bruises                     0\n",
       "odor                        0\n",
       "gill-attachment             0\n",
       "gill-spacing                0\n",
       "gill-size                   0\n",
       "gill-color                  0\n",
       "stalk-shape                 0\n",
       "stalk-root                  0\n",
       "stalk-surface-above-ring    0\n",
       "stalk-surface-below-ring    0\n",
       "stalk-color-above-ring      0\n",
       "stalk-color-below-ring      0\n",
       "veil-type                   0\n",
       "veil-color                  0\n",
       "ring-number                 0\n",
       "ring-type                   0\n",
       "spore-print-color           0\n",
       "population                  0\n",
       "habitat                     0\n",
       "dtype: int64"
      ]
     },
     "execution_count": 9,
     "metadata": {},
     "output_type": "execute_result"
    }
   ],
=======
   "outputs": [],
>>>>>>> 21659dfc44594dace5bb0cce2d3d907fe3d22168
   "source": [
    "# Sprawdzenie wartości NaN\n",
    "df.isna().sum()"
   ]
  },
  {
   "cell_type": "code",
<<<<<<< HEAD
   "execution_count": 10,
=======
   "execution_count": null,
>>>>>>> 21659dfc44594dace5bb0cce2d3d907fe3d22168
   "metadata": {},
   "outputs": [],
   "source": [
    "#zamiana danych na OHE, wywalamy class p - to będzie nasz target (class_e)\n",
    "df = pd.get_dummies(df)\n",
    "df = df.drop([\"class_p\"], axis=1)"
   ]
  },
  {
   "cell_type": "code",
<<<<<<< HEAD
   "execution_count": 11,
=======
   "execution_count": null,
>>>>>>> 21659dfc44594dace5bb0cce2d3d907fe3d22168
   "metadata": {},
   "outputs": [],
   "source": [
    "y = df.class_e\n",
    "x = df.drop([\"class_e\"], axis=1)"
   ]
  },
  {
   "cell_type": "code",
<<<<<<< HEAD
   "execution_count": 12,
=======
   "execution_count": null,
>>>>>>> 21659dfc44594dace5bb0cce2d3d907fe3d22168
   "metadata": {},
   "outputs": [],
   "source": [
    "X_train, X_test, y_train, y_test = train_test_split(x, y, test_size=0.2)"
   ]
  },
  {
   "cell_type": "code",
<<<<<<< HEAD
   "execution_count": 13,
   "metadata": {},
   "outputs": [
    {
     "data": {
      "text/plain": [
       "RandomForestClassifier(max_depth=5, n_estimators=5, random_state=1)"
      ]
     },
     "execution_count": 13,
     "metadata": {},
     "output_type": "execute_result"
    }
   ],
=======
   "execution_count": null,
   "metadata": {},
   "outputs": [],
>>>>>>> 21659dfc44594dace5bb0cce2d3d907fe3d22168
   "source": [
    "rf_classifier = RandomForestClassifier(n_estimators = 5, criterion = 'gini', max_depth=5, bootstrap=True, random_state=1)\n",
    "\n",
    "rf_classifier.fit(X_train, y_train)"
   ]
  },
  {
   "cell_type": "code",
<<<<<<< HEAD
   "execution_count": 14,
   "metadata": {},
   "outputs": [
    {
     "data": {
      "text/plain": [
       "0.9815384615384616"
      ]
     },
     "execution_count": 14,
     "metadata": {},
     "output_type": "execute_result"
    }
   ],
=======
   "execution_count": null,
   "metadata": {},
   "outputs": [],
>>>>>>> 21659dfc44594dace5bb0cce2d3d907fe3d22168
   "source": [
    "rf_classifier.score(X_test, y_test)"
   ]
  },
  {
   "cell_type": "code",
<<<<<<< HEAD
   "execution_count": 15,
   "metadata": {},
   "outputs": [
    {
     "data": {
      "image/png": "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\n",
      "text/plain": [
       "<Figure size 1080x864 with 1 Axes>"
      ]
     },
     "metadata": {
      "needs_background": "light"
     },
     "output_type": "display_data"
    }
   ],
=======
   "execution_count": null,
   "metadata": {},
   "outputs": [],
>>>>>>> 21659dfc44594dace5bb0cce2d3d907fe3d22168
   "source": [
    "plt.figure(figsize = (15,12))\n",
    "\n",
    "plot_tree(rf_classifier.estimators_[0],\n",
    "        feature_names=x.columns,\n",
    "        class_names=[\"0\",\"1\"],\n",
    "        filled=True);"
   ]
  },
  {
   "cell_type": "code",
<<<<<<< HEAD
   "execution_count": 16,
=======
   "execution_count": null,
>>>>>>> 21659dfc44594dace5bb0cce2d3d907fe3d22168
   "metadata": {},
   "outputs": [],
   "source": [
    "feature_importances = pd.DataFrame(rf_classifier.feature_importances_, index=x.columns,\n",
    "                                   columns=['importance']).sort_values('importance', ascending=False)\n",
    "\n"
   ]
  },
  {
   "cell_type": "code",
<<<<<<< HEAD
   "execution_count": 17,
   "metadata": {},
   "outputs": [
    {
     "data": {
      "text/plain": [
       "38"
      ]
     },
     "execution_count": 17,
     "metadata": {},
     "output_type": "execute_result"
    }
   ],
=======
   "execution_count": null,
   "metadata": {},
   "outputs": [],
>>>>>>> 21659dfc44594dace5bb0cce2d3d907fe3d22168
   "source": [
    "most_important_features = feature_importances[feature_importances[\"importance\"] > 0]\n",
    "len(most_important_features)"
   ]
  },
  {
   "cell_type": "code",
<<<<<<< HEAD
   "execution_count": 18,
   "metadata": {},
   "outputs": [
    {
     "data": {
      "text/html": [
       "<div>\n",
       "<style scoped>\n",
       "    .dataframe tbody tr th:only-of-type {\n",
       "        vertical-align: middle;\n",
       "    }\n",
       "\n",
       "    .dataframe tbody tr th {\n",
       "        vertical-align: top;\n",
       "    }\n",
       "\n",
       "    .dataframe thead th {\n",
       "        text-align: right;\n",
       "    }\n",
       "</style>\n",
       "<table border=\"1\" class=\"dataframe\">\n",
       "  <thead>\n",
       "    <tr style=\"text-align: right;\">\n",
       "      <th></th>\n",
       "      <th>importance</th>\n",
       "    </tr>\n",
       "  </thead>\n",
       "  <tbody>\n",
       "    <tr>\n",
       "      <th>odor_n</th>\n",
       "      <td>0.180686</td>\n",
       "    </tr>\n",
       "    <tr>\n",
       "      <th>stalk-surface-below-ring_k</th>\n",
       "      <td>0.173362</td>\n",
       "    </tr>\n",
       "    <tr>\n",
       "      <th>gill-color_b</th>\n",
       "      <td>0.094609</td>\n",
       "    </tr>\n",
       "    <tr>\n",
       "      <th>bruises_f</th>\n",
       "      <td>0.093799</td>\n",
       "    </tr>\n",
       "    <tr>\n",
       "      <th>odor_f</th>\n",
       "      <td>0.055892</td>\n",
       "    </tr>\n",
       "    <tr>\n",
       "      <th>gill-size_b</th>\n",
       "      <td>0.050056</td>\n",
       "    </tr>\n",
       "    <tr>\n",
       "      <th>stalk-surface-below-ring_s</th>\n",
       "      <td>0.038354</td>\n",
       "    </tr>\n",
       "    <tr>\n",
       "      <th>odor_p</th>\n",
       "      <td>0.037405</td>\n",
       "    </tr>\n",
       "    <tr>\n",
       "      <th>stalk-shape_t</th>\n",
       "      <td>0.029212</td>\n",
       "    </tr>\n",
       "    <tr>\n",
       "      <th>spore-print-color_w</th>\n",
       "      <td>0.026757</td>\n",
       "    </tr>\n",
       "    <tr>\n",
       "      <th>ring-type_l</th>\n",
       "      <td>0.021420</td>\n",
       "    </tr>\n",
       "    <tr>\n",
       "      <th>stalk-root_e</th>\n",
       "      <td>0.020927</td>\n",
       "    </tr>\n",
       "    <tr>\n",
       "      <th>stalk-color-below-ring_p</th>\n",
       "      <td>0.018756</td>\n",
       "    </tr>\n",
       "    <tr>\n",
       "      <th>habitat_g</th>\n",
       "      <td>0.017092</td>\n",
       "    </tr>\n",
       "    <tr>\n",
       "      <th>odor_c</th>\n",
       "      <td>0.016362</td>\n",
       "    </tr>\n",
       "    <tr>\n",
       "      <th>ring-type_p</th>\n",
       "      <td>0.015713</td>\n",
       "    </tr>\n",
       "    <tr>\n",
       "      <th>spore-print-color_k</th>\n",
       "      <td>0.014538</td>\n",
       "    </tr>\n",
       "    <tr>\n",
       "      <th>bruises_t</th>\n",
       "      <td>0.013615</td>\n",
       "    </tr>\n",
       "    <tr>\n",
       "      <th>stalk-surface-above-ring_f</th>\n",
       "      <td>0.012193</td>\n",
       "    </tr>\n",
       "    <tr>\n",
       "      <th>gill-size_n</th>\n",
       "      <td>0.011835</td>\n",
       "    </tr>\n",
       "    <tr>\n",
       "      <th>population_n</th>\n",
       "      <td>0.008044</td>\n",
       "    </tr>\n",
       "    <tr>\n",
       "      <th>ring-number_o</th>\n",
       "      <td>0.006948</td>\n",
       "    </tr>\n",
       "    <tr>\n",
       "      <th>odor_a</th>\n",
       "      <td>0.006799</td>\n",
       "    </tr>\n",
       "    <tr>\n",
       "      <th>spore-print-color_h</th>\n",
       "      <td>0.006122</td>\n",
       "    </tr>\n",
       "    <tr>\n",
       "      <th>spore-print-color_r</th>\n",
       "      <td>0.004676</td>\n",
       "    </tr>\n",
       "    <tr>\n",
       "      <th>cap-surface_s</th>\n",
       "      <td>0.004330</td>\n",
       "    </tr>\n",
       "    <tr>\n",
       "      <th>cap-color_p</th>\n",
       "      <td>0.003752</td>\n",
       "    </tr>\n",
       "    <tr>\n",
       "      <th>population_y</th>\n",
       "      <td>0.002893</td>\n",
       "    </tr>\n",
       "    <tr>\n",
       "      <th>gill-color_r</th>\n",
       "      <td>0.002782</td>\n",
       "    </tr>\n",
       "    <tr>\n",
       "      <th>cap-surface_y</th>\n",
       "      <td>0.002528</td>\n",
       "    </tr>\n",
       "    <tr>\n",
       "      <th>stalk-color-above-ring_p</th>\n",
       "      <td>0.002499</td>\n",
       "    </tr>\n",
       "    <tr>\n",
       "      <th>population_v</th>\n",
       "      <td>0.002333</td>\n",
       "    </tr>\n",
       "    <tr>\n",
       "      <th>cap-shape_b</th>\n",
       "      <td>0.001232</td>\n",
       "    </tr>\n",
       "    <tr>\n",
       "      <th>cap-surface_g</th>\n",
       "      <td>0.000740</td>\n",
       "    </tr>\n",
       "    <tr>\n",
       "      <th>population_c</th>\n",
       "      <td>0.000678</td>\n",
       "    </tr>\n",
       "    <tr>\n",
       "      <th>gill-color_g</th>\n",
       "      <td>0.000543</td>\n",
       "    </tr>\n",
       "    <tr>\n",
       "      <th>habitat_l</th>\n",
       "      <td>0.000390</td>\n",
       "    </tr>\n",
       "    <tr>\n",
       "      <th>stalk-root_c</th>\n",
       "      <td>0.000127</td>\n",
       "    </tr>\n",
       "  </tbody>\n",
       "</table>\n",
       "</div>"
      ],
      "text/plain": [
       "                            importance\n",
       "odor_n                        0.180686\n",
       "stalk-surface-below-ring_k    0.173362\n",
       "gill-color_b                  0.094609\n",
       "bruises_f                     0.093799\n",
       "odor_f                        0.055892\n",
       "gill-size_b                   0.050056\n",
       "stalk-surface-below-ring_s    0.038354\n",
       "odor_p                        0.037405\n",
       "stalk-shape_t                 0.029212\n",
       "spore-print-color_w           0.026757\n",
       "ring-type_l                   0.021420\n",
       "stalk-root_e                  0.020927\n",
       "stalk-color-below-ring_p      0.018756\n",
       "habitat_g                     0.017092\n",
       "odor_c                        0.016362\n",
       "ring-type_p                   0.015713\n",
       "spore-print-color_k           0.014538\n",
       "bruises_t                     0.013615\n",
       "stalk-surface-above-ring_f    0.012193\n",
       "gill-size_n                   0.011835\n",
       "population_n                  0.008044\n",
       "ring-number_o                 0.006948\n",
       "odor_a                        0.006799\n",
       "spore-print-color_h           0.006122\n",
       "spore-print-color_r           0.004676\n",
       "cap-surface_s                 0.004330\n",
       "cap-color_p                   0.003752\n",
       "population_y                  0.002893\n",
       "gill-color_r                  0.002782\n",
       "cap-surface_y                 0.002528\n",
       "stalk-color-above-ring_p      0.002499\n",
       "population_v                  0.002333\n",
       "cap-shape_b                   0.001232\n",
       "cap-surface_g                 0.000740\n",
       "population_c                  0.000678\n",
       "gill-color_g                  0.000543\n",
       "habitat_l                     0.000390\n",
       "stalk-root_c                  0.000127"
      ]
     },
     "execution_count": 18,
     "metadata": {},
     "output_type": "execute_result"
    }
   ],
=======
   "execution_count": null,
   "metadata": {},
   "outputs": [],
>>>>>>> 21659dfc44594dace5bb0cce2d3d907fe3d22168
   "source": [
    "feature_importances[feature_importances[\"importance\"] > 0]"
   ]
  },
  {
   "cell_type": "code",
<<<<<<< HEAD
   "execution_count": 19,
   "metadata": {},
   "outputs": [
    {
     "data": {
      "text/html": [
       "<div>\n",
       "<style scoped>\n",
       "    .dataframe tbody tr th:only-of-type {\n",
       "        vertical-align: middle;\n",
       "    }\n",
       "\n",
       "    .dataframe tbody tr th {\n",
       "        vertical-align: top;\n",
       "    }\n",
       "\n",
       "    .dataframe thead th {\n",
       "        text-align: right;\n",
       "    }\n",
       "</style>\n",
       "<table border=\"1\" class=\"dataframe\">\n",
       "  <thead>\n",
       "    <tr style=\"text-align: right;\">\n",
       "      <th></th>\n",
       "      <th>importance</th>\n",
       "    </tr>\n",
       "  </thead>\n",
       "  <tbody>\n",
       "    <tr>\n",
       "      <th>odor_n</th>\n",
       "      <td>0.180686</td>\n",
       "    </tr>\n",
       "    <tr>\n",
       "      <th>stalk-surface-below-ring_k</th>\n",
       "      <td>0.173362</td>\n",
       "    </tr>\n",
       "    <tr>\n",
       "      <th>gill-color_b</th>\n",
       "      <td>0.094609</td>\n",
       "    </tr>\n",
       "    <tr>\n",
       "      <th>bruises_f</th>\n",
       "      <td>0.093799</td>\n",
       "    </tr>\n",
       "    <tr>\n",
       "      <th>odor_f</th>\n",
       "      <td>0.055892</td>\n",
       "    </tr>\n",
       "    <tr>\n",
       "      <th>gill-size_b</th>\n",
       "      <td>0.050056</td>\n",
       "    </tr>\n",
       "  </tbody>\n",
       "</table>\n",
       "</div>"
      ],
      "text/plain": [
       "                            importance\n",
       "odor_n                        0.180686\n",
       "stalk-surface-below-ring_k    0.173362\n",
       "gill-color_b                  0.094609\n",
       "bruises_f                     0.093799\n",
       "odor_f                        0.055892\n",
       "gill-size_b                   0.050056"
      ]
     },
     "execution_count": 19,
     "metadata": {},
     "output_type": "execute_result"
    }
   ],
=======
   "execution_count": null,
   "metadata": {},
   "outputs": [],
>>>>>>> 21659dfc44594dace5bb0cce2d3d907fe3d22168
   "source": [
    "most_important_features[most_important_features[\"importance\"] > 0.05]"
   ]
  },
  {
   "cell_type": "code",
<<<<<<< HEAD
   "execution_count": 20,
   "metadata": {},
   "outputs": [
    {
     "data": {
      "text/plain": [
       "[<matplotlib.lines.Line2D at 0x25f311c63a0>]"
      ]
     },
     "execution_count": 20,
     "metadata": {},
     "output_type": "execute_result"
    },
    {
     "data": {
      "image/png": "iVBORw0KGgoAAAANSUhEUgAABrwAAAI/CAYAAAAlR3m3AAAAOXRFWHRTb2Z0d2FyZQBNYXRwbG90bGliIHZlcnNpb24zLjMuNCwgaHR0cHM6Ly9tYXRwbG90bGliLm9yZy8QVMy6AAAACXBIWXMAAAsTAAALEwEAmpwYAABjbUlEQVR4nO3de5xeV10v/s9qGmRAIFwKkoCWgxhEi61E1AN6EIQgHiWiCOhRQM5BVMQeJZ5Wz9F6fipoQI8XBEERBAFvJVREAnIXuTQlpWmBSIEWmpRSLgHaDjRN1++PtZ7MkyfPTGaSaWZ2836/XvOamf3sy9prr7X22uu7935KrTUAAAAAAAAwVKesdAIAAAAAAADgeAh4AQAAAAAAMGgCXgAAAAAAAAyagBcAAAAAAACDJuAFAAAAAADAoJ260glYirvd7W719NNPX+lkAAAAAAAAcIJddNFFn621njbts0EFvE4//fTs3LlzpZMBAAAAAADACVZKuXK+z7zSEAAAAAAAgEET8AIAAAAAAGDQBLwAAAAAAAAYNAEvAAAAAAAABk3ACwAAAAAAgEET8AIAAAAAAGDQBLwAAAAAAAAYNAEvAAAAAAAABk3ACwAAAAAAgEET8AIAAAAAAGDQBLwAAAAAAAAYNAEvAAAAAAAABk3ACwAAAAAAgEET8AIAAAAAAGDQBLwAAAAAAAAYNAEvAAAAAAAABk3ACwAAAAAAgEET8AIAAAAAAGDQBLwAAAAAAAAYNAEvAAAAAAAABu3UlU4Ay2/7rr3ZtmNP9u2fzfp1M9m6eWO2nLVhpZMFAAAAAABwixDwupXZvmtvzj1/d2YPHEyS7N0/m3PP350kgl4AAAAAAMCtklca3sps27HnULBrZPbAwWzbsWeFUgQAAAAAAHDLEvC6ldm3f3ZJ0wEAAAAAAIZOwOtWZv26mSVNBwAAAAAAGDoBr1uZrZs3ZmbtmsOmzaxdk62bN65QigAAAAAAAG5Zp650AlheW87akKR9l9e+/bNZv24mWzdvPDQdAAAAAADg1kbA61Zoy1kbBLgAAAAAAICThlcaAgAAAAAAMGgCXgAAAAAAAAyagBcAAAAAAACDJuAFAAAAAADAoAl4AQAAAAAAMGgCXgAAAAAAAAyagBcAAAAAAACDtqiAVynl0aWUPaWUy0sp50z5/P6llPeUUr5aSnn22PSNpZSLx36+VEo5u392Xill79hnj1m2vQIAAAAAAOCkcerRZiilrEnygiSPTHJVkgtLKRfUWj80NtvnkzwryZbxZWute5KcObaevUleOzbLH9Zan3cc6QcAAAAAAOAkt5gnvB6c5PJa68drrTcmeU2Sx47PUGv9TK31wiQHFljPI5J8rNZ65TGnFgAAAAAAACYsJuC1Icmnxv6/qk9bqicmefXEtGeWUi4ppby0lHLnY1gnAAAAAAAAJ7nFBLzKlGl1KRsppdwmyQ8n+fuxyS9Mct+0Vx5eneT58yz79FLKzlLKzmuvvXYpmwUAAAAAAOAkcNTv8Ep7ouveY//fK8m+JW7nB5J8oNZ6zWjC+N+llJckef20BWutL07y4iTZtGnTkgJtrF7bd+3Nth17sm//bNavm8nWzRuz5axjeXAQAAAAAAA42S3mCa8Lk9yvlHKf/qTWE5NcsMTtPCkTrzMspdxz7N8fSXLpEtfJQG3ftTfnnr87e/fPpibZu382556/O9t37V3ppAEAAAAAAAN01Ce8aq03lVKemWRHkjVJXlprvayU8oz++YtKKV+XZGeSOya5uZRydpIH1Fq/VEq5XZJHJvnZiVX/finlzLTXI14x5XNupbbt2JPZAwcPmzZ74GC27djjKS8AAAAAAGDJFvNKw9Ra35DkDRPTXjT296fTXnU4bdkbktx1yvSfWlJKudXYt392SdMBAAAAAAAWsphXGsKyWr9uZknTAQAAAAAAFiLgxQm3dfPGzKxdc9i0mbVrsnXzxhVKEQAAAAAAMGSLeqUhLKfR93Rt27En+/bPZv26mWzdvNH3dwEAAAAAAMdEwIsVseWsDQJcAAAAAADAsvBKQwAAAAAAAAZNwAsAAAAAAIBBE/ACAAAAAABg0AS8AAAAAAAAGDQBLwAAAAAAAAZNwAsAAAAAAIBBE/ACAAAAAABg0AS8AAAAAAAAGDQBLwAAAAAAAAZNwAsAAAAAAIBBE/ACAAAAAABg0AS8AAAAAAAAGDQBLwAAAAAAAAZNwAsAAAAAAIBBE/ACAAAAAABg0AS8AAAAAAAAGDQBLwAAAAAAAAZNwAsAAAAAAIBBE/ACAAAAAABg0AS8AAAAAAAAGDQBLwAAAAAAAAZNwAsAAAAAAIBBE/ACAAAAAABg0AS8AAAAAAAAGDQBLwAAAAAAAAZNwAsAAAAAAIBBE/ACAAAAAABg0AS8AAAAAAAAGDQBLwAAAAAAAAZNwAsAAAAAAIBBE/ACAAAAAABg0AS8AAAAAAAAGDQBLwAAAAAAAAZNwAsAAAAAAIBBE/ACAAAAAABg0AS8AAAAAAAAGDQBLwAAAAAAAAZNwAsAAAAAAIBBE/ACAAAAAABg0AS8AAAAAAAAGDQBLwAAAAAAAAZNwAsAAAAAAIBBE/ACAAAAAABg0AS8AAAAAAAAGDQBLwAAAAAAAAZNwAsAAAAAAIBBE/ACAAAAAABg0AS8AAAAAAAAGDQBLwAAAAAAAAZNwAsAAAAAAIBBE/ACAAAAAABg0AS8AAAAAAAAGDQBLwAAAAAAAAZNwAsAAAAAAIBBE/ACAAAAAABg0AS8AAAAAAAAGLRFBbxKKY8upewppVxeSjlnyuf3L6W8p5Ty1VLKsyc+u6KUsruUcnEpZefY9LuUUt5cSvlo/33n498dAAAAAAAATjZHDXiVUtYkeUGSH0jygCRPKqU8YGK2zyd5VpLnzbOa76u1nllr3TQ27Zwkb6m13i/JW/r/AAAAAAAAsCSLecLrwUkur7V+vNZ6Y5LXJHns+Ay11s/UWi9McmAJ235skpf3v1+eZMsSlgUAAAAAAIAkiwt4bUjyqbH/r+rTFqsmeVMp5aJSytPHpt+j1np1kvTfd5+2cCnl6aWUnaWUnddee+0SNgsAAAAAAMDJYDEBrzJlWl3CNh5Sa/32tFci/kIp5XuXsGxqrS+utW6qtW467bTTlrIoAAAAAAAAJ4HFBLyuSnLvsf/vlWTfYjdQa93Xf38myWvTXpGYJNeUUu6ZJP33Zxa7TgAAAAAAABhZTMDrwiT3K6Xcp5RymyRPTHLBYlZeSrl9KeUOo7+TPCrJpf3jC5I8uf/95CSvW0rCAQAAAAAAIElOPdoMtdabSinPTLIjyZokL621XlZKeUb//EWllK9LsjPJHZPcXEo5O8kDktwtyWtLKaNtvarW+sa+6ucm+btSytOSfDLJ45d1zwAAAAAAADgplFqX8nVcK2vTpk11586dK50MAAAAAAAATrBSykW11k3TPlvMKw0BAAAAAABg1RLwAgAAAAAAYNAEvAAAAAAAABg0AS8AAAAAAAAGTcALAAAAAACAQRPwAgAAAAAAYNAEvAAAAAAAABg0AS8AAAAAAAAGTcALAAAAAACAQRPwAgAAAAAAYNAEvAAAAAAAABg0AS8AAAAAAAAGTcALAAAAAACAQRPwAgAAAAAAYNAEvAAAAAAAABg0AS8AAAAAAAAGTcALAAAAAACAQRPwAgAAAAAAYNAEvAAAAAAAABg0AS8AAAAAAAAGTcALAAAAAACAQRPwAgAAAAAAYNAEvAAAAAAAABg0AS8AAAAAAAAGTcALAAAAAACAQRPwAgAAAAAAYNAEvAAAAAAAABg0AS8AAAAAAAAGTcALAAAAAACAQRPwAgAAAAAAYNAEvAAAAAAAABg0AS8AAAAAAAAGTcALAAAAAACAQRPwAgAAAAAAYNAEvAAAAAAAABg0AS8AAAAAAAAGTcALAAAAAACAQRPwAgAAAAAAYNAEvAAAAAAAABg0AS8AAAAAAAAGTcALAAAAAACAQRPwAgAAAAAAYNAEvAAAAAAAABg0AS8AAAAAAAAGTcALAAAAAACAQRPwAgAAAAAAYNAEvAAAAAAAABg0AS8AAAAAAAAGTcALAAAAAACAQRPwAgAAAAAAYNAEvAAAAAAAABg0AS8AAAAAAAAGTcALAAAAAACAQRPwAgAAAAAAYNAEvAAAAAAAABg0AS8AAAAAAAAGTcALAAAAAACAQRPwAgAAAAAAYNAEvAAAAAAAABi0RQW8SimPLqXsKaVcXko5Z8rn9y+lvKeU8tVSyrPHpt+7lPK2UsqHSymXlVJ+aeyz80ope0spF/efxyzPLgEAAAAAAHAyOfVoM5RS1iR5QZJHJrkqyYWllAtqrR8am+3zSZ6VZMvE4jcl+ZVa6wdKKXdIclEp5c1jy/5hrfV5x7sTAAAAAAAAnLwW84TXg5NcXmv9eK31xiSvSfLY8RlqrZ+ptV6Y5MDE9KtrrR/of385yYeTbFiWlAMAAAAAAEAWF/DakORTY/9flWMIWpVSTk9yVpL3jU1+ZinlklLKS0spd55nuaeXUnaWUnZee+21S90sAAAAAAAAt3KLCXiVKdPqUjZSSvnaJP+Y5Oxa65f65BcmuW+SM5NcneT505attb641rqp1rrptNNOW8pmAQAAAAAAOAksJuB1VZJ7j/1/ryT7FruBUsratGDX39Razx9Nr7VeU2s9WGu9OclL0l6dCAAAAAAAAEuymIDXhUnuV0q5TynlNkmemOSCxay8lFKS/GWSD9da/2Dis3uO/fsjSS5dXJIBAAAAAABgzqlHm6HWelMp5ZlJdiRZk+SltdbLSinP6J+/qJTydUl2JrljkptLKWcneUCSByb5qSS7SykX91X+Wq31DUl+v5RyZtrrEa9I8rPLuF8AAAAAAACcJEqtS/o6rhW1adOmunPnzpVOBgAAAAAAACdYKeWiWuumaZ8t5pWGAAAAAAAAsGoJeAEAAAAAADBoAl4AAAAAAAAMmoAXAAAAAAAAgybgBQAAAAAAwKAJeAEAAAAAADBoAl4AAAAAAAAMmoAXAAAAAAAAgybgBQAAAAAAwKAJeAEAAAAAADBoAl4AAAAAAAAMmoAXAAAAAAAAgybgBQAAAAAAwKAJeAEAAAAAADBoAl4AAAAAAAAMmoAXAAAAAAAAgybgBQAAAAAAwKAJeAEAAAAAADBoAl4AAAAAAAAMmoAXAAAAAAAAgybgBQAAAAAAwKAJeAEAAAAAADBoAl4AAAAAAAAMmoAXAAAAAAAAgybgBQAAAAAAwKAJeAEAAAAAADBoAl4AAAAAAAAMmoAXAAAAAAAAgybgBQAAAAAAwKAJeAEAAAAAADBoAl4AAAAAAAAMmoAXAAAAAAAAgybgBQAAAAAAwKAJeAEAAAAAADBoAl4AAAAAAAAMmoAXAAAAAAAAgybgBQAAAAAAwKAJeAEAAAAAADBoAl4AAAAAAAAMmoAXAAAAAAAAgybgBQAAAAAAwKAJeAEAAAAAADBoAl4AAAAAAAAMmoAXAAAAAAAAgybgBQAAAAAAwKAJeAEAAAAAADBoAl4AAAAAAAAMmoAXAAAAAAAAgybgBQAAAAAAwKAJeAEAAAAAADBoAl4AAAAAAAAMmoAXAAAAAAAAgybgBQAAAAAAwKAJeAEAAAAAADBoAl4AAAAAAAAMmoAXAAAAAAAAgybgBQAAAAAAwKAJeAEAAAAAADBoAl4AAAAAAAAMmoAXAAAAAAAAg7aogFcp5dGllD2llMtLKedM+fz+pZT3lFK+Wkp59mKWLaXcpZTy5lLKR/vvOx//7gAAAAAAAHCyOWrAq5SyJskLkvxAkgckeVIp5QETs30+ybOSPG8Jy56T5C211vsleUv/HwAAAAAAAJZkMU94PTjJ5bXWj9dab0zymiSPHZ+h1vqZWuuFSQ4sYdnHJnl5//vlSbYc2y4AAAAAAABwMltMwGtDkk+N/X9Vn7YYCy17j1rr1UnSf9992gpKKU8vpewspey89tprF7lZAAAAAAAAThaLCXiVKdPqItd/PMu2mWt9ca11U61102mnnbaURQEAAAAAADgJLCbgdVWSe4/9f68k+xa5/oWWvaaUcs8k6b8/s8h1AgAAAAAAwCGLCXhdmOR+pZT7lFJuk+SJSS5Y5PoXWvaCJE/ufz85yesWn2wAAAAAAABoTj3aDLXWm0opz0yyI8maJC+ttV5WSnlG//xFpZSvS7IzyR2T3FxKOTvJA2qtX5q2bF/1c5P8XSnlaUk+meTxy7xvAAAAAAAAnARKrUv6Sq0VtWnTprpz586VTgYAAAAAAAAnWCnlolrrpmmfLeaVhgAAAAAAALBqCXgBAAAAAAAwaAJeAAAAAAAADJqAFwAAAAAAAIMm4AUAAAAAAMCgCXgBAAAAAAAwaKeudAJgtdq+a2+27diTfftns37dTLZu3pgtZ21Y6WQBAAAAAAATBLxgiu279ubc83dn9sDBJMne/bM59/zdSSLoBQAAAAAAq4yAF0yxbceeQ8GukdkDB7Ntx55VFfDyFBoAAAAAAAh4wVT79s8uafpK8BQaAAAAAAA0p6x0AmA1Wr9uZknTV8JCT6EBAAAAAMDJRMALpti6eWNm1q45bNrM2jXZunnjCqXoSEN4Cg0AAAAAAE4EAS+YYstZG/Kcx52RDetmUpJsWDeT5zzujFX1qsAhPIUGAAAAAAAngu/wgnlsOWvDqgpwTdq6eeNh3+GVrL6n0AAAAAAA4EQQ8IKBGgXjtu3Yk337Z7N+3Uy2bt64qoN0AAAAAABwSxDwggFb7U+hAQAAAADAieA7vAAAAAAAABg0AS8AAAAAAAAGTcALAAAAAACAQRPwAgAAAAAAYNAEvAAAAAAAABg0AS8AAAAAAAAGTcALAAAAAACAQRPwAgAAAAAAYNAEvAAAAAAAABg0AS8AAAAAAAAGTcALAAAAAACAQRPwAgAAAAAAYNAEvAAAAAAAABg0AS8AAAAAAAAGTcALAAAAAACAQRPwAgAAAAAAYNAEvAAAAAAAABg0AS8AAAAAAAAGTcALAAAAAACAQRPwAgAAAAAAYNAEvAAAAAAAABg0AS8AAAAAAAAGTcALAAAAAACAQRPwAgAAAAAAYNAEvAAAAAAAABg0AS8AAAAAAAAGTcALAAAAAACAQRPwAgAAAAAAYNAEvAAAAAAAABg0AS8AAAAAAAAGTcALAAAAAACAQRPwAgAAAAAAYNAEvAAAAAAAABg0AS8AAAAAAAAGTcALAAAAAACAQRPwAgAAAAAAYNAEvAAAAAAAABg0AS8AAAAAAAAGTcALAAAAAACAQRPwAgAAAAAAYNAEvAAAAAAAABg0AS8AAAAAAAAGTcALAAAAAACAQVtUwKuU8uhSyp5SyuWllHOmfF5KKX/cP7+klPLtffrGUsrFYz9fKqWc3T87r5Syd+yzxyzrngEAAAAAAHBSOPVoM5RS1iR5QZJHJrkqyYWllAtqrR8am+0Hktyv/3xnkhcm+c5a654kZ46tZ2+S144t94e11uctw34AAAAAAABwklrME14PTnJ5rfXjtdYbk7wmyWMn5nlskr+uzXuTrCul3HNinkck+Vit9crjTjUAAAAAAAB0iwl4bUjyqbH/r+rTljrPE5O8emLaM/srEF9aSrnztI2XUp5eStlZStl57bXXLiK5AAAAAAAAnEwWE/AqU6bVpcxTSrlNkh9O8vdjn78wyX3TXnl4dZLnT9t4rfXFtdZNtdZNp5122iKSCwAAAAAAwMlkMQGvq5Lce+z/eyXZt8R5fiDJB2qt14wm1FqvqbUerLXenOQlaa9OBAAAAAAAgCVZTMDrwiT3K6Xcpz+p9cQkF0zMc0GSny7NdyX5Yq316rHPn5SJ1xlOfMfXjyS5dMmpBwAAAAAA4KR36tFmqLXeVEp5ZpIdSdYkeWmt9bJSyjP65y9K8oYkj0lyeZIbkjx1tHwp5XZJHpnkZydW/fullDPTXn14xZTPAQAAAAAA4KhKrZNfx7V6bdq0qe7cuXOlkwEAAAAAAMAJVkq5qNa6adpni3mlIQAAAAAAAKxaAl4AAAAAAAAMmoAXAAAAAAAAgybgBQAAAAAAwKAJeAEAAAAAADBoAl4AAAAAAAAMmoAXAAAAAAAAgybgBQAAAAAAwKAJeAEAAAAAADBoAl4AAAAAAAAMmoAXAAAAAAAAgybgBQAAAAAAwKAJeAEAAAAAADBoAl4AAAAAAAAMmoAXAAAAAAAAgybgBQAAAAAAwKAJeAEAAAAAADBoAl4AAAAAAAAMmoAXAAAAAAAAgybgBQAAAAAAwKAJeAEAAAAAADBoAl4AAAAAAAAMmoAXAAAAAAAAgybgBQAAAAAAwKAJeAEAAAAAADBoAl4AAAAAAAAMmoAXAAAAAAAAgybgBQAAAAAAwKAJeAEAAAAAADBoAl4AAAAAAAAMmoAXAAAAAAAAgybgBQAAAAAAwKAJeAEAAAAAADBoAl4AAAAAAAAMmoAXAAAAAAAAgybgBQAAAAAAwKAJeAEAAAAAADBoAl4AAAAAAAAMmoAXAAAAAAAAgybgBQAAAAAAwKAJeAEAAAAAADBoAl4AAAAAAAAMmoAXAAAAAAAAgybgBQAAAAAAwKCdutIJAG79tu/am2079mTf/tmsXzeTrZs3ZstZG1Y6WQAAAAAA3EoIeAG3qO279ubc83dn9sDBJMne/bM59/zdSSLoBQAAAADAsvBKQ+AWtW3HnkPBrpHZAwezbceeFUoRAAAAAAC3NgJewC1q3/7ZJU0HAAAAAIClEvACblHr180saToAAAAAACyVgBdwi9q6eWNm1q45bNrM2jXZunnjCqUIAAAAAIBbm1NXOgHArduWszYkad/ltW//bNavm8nWzRsPTQcAAAAAgOMl4AXc4ractUGACwAAAACAW4xXGgIAAAAAADBoAl4AAAAAAAAMmoAXAAAAAAAAgybgBQAAAAAAwKAJeAEAAAAAADBoAl4AAAAAAAAMmoAXAAAAAAAAgybgBQAAAAAAwKAtKuBVSnl0KWVPKeXyUso5Uz4vpZQ/7p9fUkr59rHPriil7C6lXFxK2Tk2/S6llDeXUj7af995eXYJYOm279qbhzz3rbnPOf+chzz3rdm+a+9KJwkAAAAAgEU6asCrlLImyQuS/ECSByR5UinlAROz/UCS+/Wfpyd54cTn31drPbPWumls2jlJ3lJrvV+St/T/AU647bv25tzzd2fv/tnUJHv3z+bc83cLegEAAAAADMRinvB6cJLLa60fr7XemOQ1SR47Mc9jk/x1bd6bZF0p5Z5HWe9jk7y8//3yJFsWn2yA5bNtx57MHjh42LTZAwezbceeFUoRAAAAAABLsZiA14Yknxr7/6o+bbHz1CRvKqVcVEp5+tg896i1Xp0k/ffdp228lPL0UsrOUsrOa6+9dhHJBViafftnlzQdAAAAAIDVZTEBrzJlWl3CPA+ptX572msPf6GU8r1LSF9qrS+utW6qtW467bTTlrIowKKsXzezpOkAAAAAAKwuiwl4XZXk3mP/3yvJvsXOU2sd/f5MktemvSIxSa4Zvfaw//7MUhMPsBy2bt6YmbVrDps2s3ZNtm7euEIpAgAAAABgKRYT8Lowyf1KKfcppdwmyROTXDAxzwVJfro035Xki7XWq0spty+l3CFJSim3T/KoJJeOLfPk/veTk7zuOPcF4JhsOWtDnvO4M7Jh3UxKkg3rZvKcx52RLWdNvr0VAAAAAIDV6NSjzVBrvamU8swkO5KsSfLSWutlpZRn9M9flOQNSR6T5PIkNyR5al/8HkleW0oZbetVtdY39s+em+TvSilPS/LJJI9ftr0CWKItZ20Q4AIAAAAAGKhS6+TXca1emzZtqjt37lzpZAAAAAAAAHCClVIuqrVumvbZYl5pCAAAAAAAAKuWgBcAAAAAAACDJuAFAAAAAADAoAl4AQAAAAAAMGgCXgAAAAAAAAyagBcAAAAAAACDJuAFAAAAAADAoAl4AQAAAAAAMGgCXgAAAAAAAAyagBcAAAAAAACDJuAFAAAAAADAoAl4AQAAAAAAMGgCXgAAAAAAAAyagBcAAAAAAACDJuAFAAAAAADAoAl4AQAAAAAAMGgCXgAAAAAAAAyagBcAAAAAAACDJuAFAAAAAADAoAl4AQAAAAAAMGgCXgAAAAAAAAyagBcAAAAAAACDJuAFAAAAAADAoJ260gkAYHG279qbbTv2ZN/+2axfN5Otmzdmy1kbVjpZAAAAAAArTsALYAC279qbc8/fndkDB5Mke/fP5tzzdyeJoBcAAAAAcNIT8AIYgG079hwKdo3MHjiYbTv2rKqAl6fQAAAAAICVIOAFMAD79s8uafpK8BQaAAAAALBSTlnpBABwdOvXzSxp+kpY6Ck0AAAAAIBbkoAXwABs3bwxM2vXHDZtZu2abN28cYVSdKQhPIUGAAAAANw6CXgBDMCWszbkOY87IxvWzaQk2bBuJs953Bmr6lWBQ3gKDQAAAAC4dfIdXgADseWsDasqwDVp6+aNh32HV7L6nkIDAAAAAG6dBLwAWBajYNy2HXuyb/9s1q+bydbNG1d1kA4AAAAAuHUQ8AJg2az2p9AAAAAAgFsn3+EFAAAAAADAoAl4AQAAAAAAMGgCXgAAAAAAAAyagBcAAAAAAACDJuAFAAAAAADAoAl4AQAAAAAAMGgCXgAAAAAAAAyagBcAAAAAAACDJuAFAAAAAADAoAl4AQAAAAAAMGgCXgAAAAAAAAyagBcAAAAAAACDJuAFAAAAAADAoAl4AQAAAAAAMGgCXgAAAAAAAAzaqSudAAA4kbbv2pttO/Zk3/7ZrF83k62bN2bLWRtWOlkAAAAAwHEQ8ALgpLF9196ce/7uzB44mCTZu382556/O0kEvQAAAABgwLzSEICTxrYdew4Fu0ZmDxzMth17VihFAAAAAMByEPAC4KSxb//skqYDAAAAAMMg4AXASWP9upklTQcAAAAAhkHAC4CTxtbNGzOzds1h02bWrsnWzRtXKEUAAAAAwHI4daUTAAAnypazNiRp3+W1b/9s1q+bydbNGw9NXy2279q76tMIAAAAAKuJgBcAJ5UtZ21Y1cGj7bv25tzzd2f2wMEkyd79szn3/N1JsqrTDQAAAAArySsNAWAV2bZjz6Fg18jsgYPZtmPPCqUIAAAAAFY/AS8AWEX27Z9d0nQAAAAAQMALAFaV9etmljQdAAAAAFhkwKuU8uhSyp5SyuWllHOmfF5KKX/cP7+klPLtffq9SylvK6V8uJRyWSnll8aWOa+UsreUcnH/eczy7RYADNPWzRszs3bNYdNm1q7J1s0bVyhFAAAAALD6nXq0GUopa5K8IMkjk1yV5MJSygW11g+NzfYDSe7Xf74zyQv775uS/Eqt9QOllDskuaiU8uaxZf+w1vq85dsdABi2LWdtSNK+y2vf/tmsXzeTrZs3HpoOAAAAABzpqAGvJA9Ocnmt9eNJUkp5TZLHJhkPeD02yV/XWmuS95ZS1pVS7llrvTrJ1UlSa/1yKeXDSTZMLAsAjNly1gYBLgAAAABYgsW80nBDkk+N/X9Vn7akeUoppyc5K8n7xiY/s78C8aWllDtP23gp5emllJ2llJ3XXnvtIpILAAAAAADAyWQxAa8yZVpdyjyllK9N8o9Jzq61fqlPfmGS+yY5M+0psOdP23it9cW11k211k2nnXbaIpILAAAAAADAyWQxAa+rktx77P97Jdm32HlKKWvTgl1/U2s9fzRDrfWaWuvBWuvNSV6S9upEAAAAAAAAWJLFBLwuTHK/Usp9Sim3SfLEJBdMzHNBkp8uzXcl+WKt9epSSknyl0k+XGv9g/EFSin3HPv3R5Jcesx7AQAAAAAAwEnr1KPNUGu9qZTyzCQ7kqxJ8tJa62WllGf0z1+U5A1JHpPk8iQ3JHlqX/whSX4qye5SysV92q/VWt+Q5PdLKWemvfrwiiQ/u0z7BAAAAAAAwEmk1Dr5dVyr16ZNm+rOnTtXOhkAAAAAAACcYKWUi2qtm6Z9tphXGgIAAAAAAMCqddRXGgIATNq+a2+27diTfftns37dTLZu3pgtZ21Y6WQBAAAAcJIS8AIAlmT7rr059/zdmT1wMEmyd/9szj1/d5KsqqCXoBwAAADAycMrDQGAJdm2Y8+hYNfI7IGD2bZjzwql6EijoNze/bOpmQvKbd+1d6WTBgAAAMAtQMALAFiSfftnlzR9JQwhKAcAAADA8hHwAgCWZP26mSVNXwlDCMoBAAAAsHwEvACAJdm6eWNm1q45bNrM2jXZunnjCqXoSEMIygEAAACwfAS8AIAl2XLWhjzncWdkw7qZlCQb1s3kOY87I1vO2rDSSTtkCEE5AAAAAJbPqSudAABgeLactWFVBbgmjdK2bcee7Ns/m/XrZrJ188ZVmebtu/YOIp0AAAAAq5mAFwBwq7Tag3JJC3ade/7uzB44mCTZu382556/O0lWfdoBAAAAVhOvNAQAWCHbduw5FOwamT1wMNt27FmhFAEAAAAMk4AXAMAK2bd/dknTAQAAAJhOwAsAYIWsXzezpOkAAAAATCfgBQCwQrZu3piZtWsOmzazdk22bt64QimabvuuvXnIc9+a+5zzz3nIc9+a7bv2rnSSAAAAAA5z6konAADgZLXlrA1J2nd57ds/m/XrZrJ188ZD01eD7bv25tzzdx/6rrG9+2dz7vm7k2RVpRMAAAA4uQl4AQCsoC1nbVjVgaNtO/YcCnaNzB44mG079qyqdG/ftXdVBw4BAACAW5aAFwAA89q3f3ZJ01eCp9AAAAAA3+EFAMC81q+bWdL0lbDQU2irie9CAwAAgFuOgBcAAPPaunljZtauOWzazNo12bp54wql6EhDegpt7/7Z1Mw9hSboBQAAAMtDwAsAgHltOWtDnvO4M7Jh3UxKkg3rZvKcx52xql4V6Ck0AAAAwHd4AQCwoC1nbVhVAa5JWzdvPOw7vBJPoR2r7bv2ZtuOPdm3fzbr181k6+aNq/rYAwAAwIiAFwAAgzYKyKzmQM36dTPZOyW4tZqeQhu9dnEUOBy9djHJqspLAAAAmEbACwCAwfMU2vFb6LWLqylvPYUGAADANAJeAABwCxvCU2hDeO2ip9AAAACYj4AXAACcAKv9KbQhvHZxKE+hAQAAcOKdstIJAAAAVt7WzRszs3bNYdNW22sXh/AUGgAAACvDE14AAMAgXrs4hKfQEt8zBgAAsBIEvAAAgCSr/7WLWzdvPOw7vJLV9xTakL5nTGAOAAC4NfFKQwAAYBC2nLUhz3ncGdmwbiYlyYZ1M3nO485YVUGahb5nbDUZBeb27p9NzVxgbvuuvSudNAAAgGPiCS8AAGAwVvtTaEP5nrGFAnOrOX8BAADm4wkvAACAZTLf94mttu8ZG0pgDgAAYLEEvAAAAJbJ1s0bM7N2zWHTVtv3jCXDCcwBAAAsloAXAADAMhnC94wlwwnMAQAALJbv8AIAAFhGq/17xpIcSt+2HXuyb/9s1q+bydbNG1d9ugEAAOYj4AUAAHASGkJgDgAAYLG80hAAAAAAAIBBE/ACAAAAAABg0AS8AAAAAAAAGDTf4QUAAMCqtH3X3mzbsSf79s9m/bqZbN280feOAQAAUwl4AQAAsOps37U3556/O7MHDiZJ9u6fzbnn704SQS8AAOAIXmkIAADAqrNtx55Dwa6R2QMHs23HnhVKEQAAsJp5wgsAAIBVZ9/+2SVNXylDeO3iENIIAADHS8ALAACAVWf9upnsnRLcWr9uZgVSM90QXrs4hDQCAMBy8EpDAAAAVp2tmzdmZu2aw6bNrF2TrZs3rlCKjjSE1y4OIY1JC8w95LlvzX3O+ec85LlvzfZde1c6SQAADIwnvAAAAFh1Rk8freZX8Q3htYtDSKOn0AAAWA4CXgAAAKxKW87asKoDHkN47eIQ0rjQU2ir+fgDALC6eKUhAAAAHIMhvHZxCGkcwlNoAACsfp7wAgAAgGMwhNcuDiGNQ3gKLWmvXlzN+QgAcLIrtdaVTsOibdq0qe7cuXOlkwEAAAAsk8nv8EraU2jPedwZqyagNIQ0JoJyAMCtXynlolrrpmmfecILAAAAWDFDeAptCN8zNhmU27t/NueevztJVk0aE0E5AOCWI+AFAAAArKgtZ21Y1UGPIXzPmKAcAHCyO2WlEwAAAACwms33fWKr6XvGhh6UAwA4Xp7wAgAAAFjA1s0bp36H19bNG1cwVYdbv24me6cEtwTljs0QXr04hDQCwIkk4AUAAACwgCF8z5ig3PIZwqsXh5DGZBhBOWkEuPUQ8AIAAAA4itX+PWOCcstnCN+HNoQ0DiEoJ40Aty4CXgAAAAC3AoJyy2MIr14cQhqHEJSTRoBbFwEvAAAAAE6I1R6US4bx6sUhpHEIQTlpXD5euwisBqesdAIAAAAAYLXYunljZtauOWzaanv14hDSOF/wbTUF5aRxeYxeu7h3/2xq5l67uH3X3pVOGnCSEfACAAAAgG7LWRvynMedkQ3rZlKSbFg3k+c87oxV9bTKENI4hKCcNC6PhV67uJps37U3D3nuW3Ofc/45D3nuW1dlQG4IaUyGkc4hpJHlt6hXGpZSHp3kj5KsSfIXtdbnTnxe+uePSXJDkqfUWj+w0LKllLsk+dskpye5IsmP11q/cPy7BAAAAADHbgivXlztaRzCd7ZJ4/IYwmsXR0+hjQJzo6fQkqyavBxCGpNhpHMIaUy8CvSWUGqtC89Qypok/5HkkUmuSnJhkifVWj80Ns9jkvxiWsDrO5P8Ua31OxdatpTy+0k+X2t9binlnCR3rrX+r4XSsmnTprpz585j3FUAAAAAAJbTQ5771qnfKbdh3Uzefc7DVyBFR5LG5TOEdA4hjZNBuaQ9vbnantZdjUopF9VaN037bDGvNHxwkstrrR+vtd6Y5DVJHjsxz2OT/HVt3ptkXSnlnkdZ9rFJXt7/fnmSLUvZKQAAAAAAVtYQXrs4hKfQhpDGZBjpHEIah/Iq0KFZTMBrQ5JPjf1/VZ+2mHkWWvYetdark6T/vvvikw0AAAAAwEobwnfKrV83s6TpK2EIaUyGkc4hpHEIQbkhWkzAq0yZNvkexPnmWcyyC2+8lKeXUnaWUnZee+21S1kUAAAAAIBb2JazNuTd5zw8n3juD+bd5zx8VQW7kmE8hTaENCbDSOcQ0jiEoNwQLSbgdVWSe4/9f68k+xY5z0LLXtNfe5j++zPTNl5rfXGtdVOtddNpp522iOQCAAAAAEAzhKfQhpDGZBjpHEIahxCUG6JS68IPXJVSTk3yH0kekWRvkguT/ESt9bKxeX4wyTOTPCbJdyb541rrgxdatpSyLcnnaq3PLaWck+QutdZfXSgtmzZtqjt37jzGXQUAAAAAAFh523ftzbYde7Jv/2zWr5vJ1s0bV1VQbrUqpVxUa9007bNTj7ZwrfWmUsozk+xIsibJS3vA6hn98xcleUNasOvyJDckeepCy/ZVPzfJ35VSnpbkk0kefxz7CAAAAAAAMAhbztogwLXMjvqE12riCS8AAAAAAICT00JPeC3mO7wAAAAAAABg1RLwAgAAAAAAYNAEvAAAAAAAABg0AS8AAAAAAAAGTcALAAAAAACAQRPwAgAAAAAAYNAEvAAAAAAAABg0AS8AAAAAAAAGTcALAAAAAACAQRPwAgAAAAAAYNAEvAAAAAAAABg0AS8AAAAAAAAGTcALAAAAAACAQRPwAgAAAAAAYNAEvAAAAAAAABg0AS8AAAAAAAAGTcALAAAAAACAQRPwAgAAAAAAYNAEvAAAAAAAABi0Umtd6TQsWinl2iRXrnQ6BuRuST670ok4CmlcHkNIYzKMdErj8pDG5SGNy2MIaUyGkU5pXB7SuDykcfkMIZ3SuDykcXlI4/IYQhqTYaRTGpeHNC4PaVweQ0hjMox0SuOtzzfUWk+b9sGgAl4sTSllZ61100qnYyHSuDyGkMZkGOmUxuUhjctDGpfHENKYDCOd0rg8pHF5SOPyGUI6pXF5SOPykMblMYQ0JsNIpzQuD2lcHtK4PIaQxmQY6ZTGk4tXGgIAAAAAADBoAl4AAAAAAAAMmoDXrduLVzoBiyCNy2MIaUyGkU5pXB7SuDykcXkMIY3JMNIpjctDGpeHNC6fIaRTGpeHNC4PaVweQ0hjMox0SuPykMblIY3LYwhpTIaRTmk8ifgOLwAAAAAAAAbNE14AAAAAAAAMmoAXAAAAAAAAgybgBQAAAAAAwKAJeK0ypZSzSym3W8R8by+lbCqlnFdK+eoJSNf3lFIuK6VcXEqZuYW2cUUp5W5LmP8ppZQ/nTL9/5ZSvr///fZSyqZjWf/kuo41nRPLnl5K2VNKubSUct0xrmNTKeWPj2XZJWzjmI93L5PPXoY0nFZKeV8pZVcp5XuOMu/ZpZTfPdpxn5h+RP6XUtaXUv7heNPe13V6KeXjQ6k3x7jtqcd6Wr1Z5PqW1P71v4+1Hi1bPixxuw8rpfznKdOfUUr56aMse2Yp5THHuf03lFLW9XS8/jjX9ZRSyvrjWcfE+uY9/uNlrR//55dSbne047+MZWXqfh7rOvuyp5dSLl3iMi8rpfzYcq97fL2jMtL/PnS+ma/sTlnXouY7Xst1rllg/YfyYRnWtax15ZZwItqg8XJZSvnTUsobFrHMeB2+YbL/s9xteSnlj0spH7olz9sLbPvQvi5hmePu8476Psd67j7Kup9VSvlwKeVvFjn/UduuPs9PjP1/WL94OevuLeVE9EFu6TZyOZ2oPtDYuo6pDzSZzmnHcTWkc4H13eLX88vlePpXx7HN425/jmGbyzZuMc/6l2U9C6z/uK7dlqtM3lLlZSXK4cT231ZK+dBR5lnWMnmsTsR5bZ7tLtu5bqXbyBPZBg2h7VlMfkzMP/U6udwC17O97fudo5W9+dq+W0oZwDXniSTgtfqcneSonYZjVUo59RiWWZPkJ5M8r9Z6Zq11dvlTtnxqrb9Ra/3X411PKWXN8a6rNEuuZz3Pp6q17qy1PutY07RIJ+x4L1AmH5HkI7XWs2qt7zrKas5O8gfHe9xrrftqrUcdTF6kU5Ksy0DqzXJZqN4sov05O7dg+7dcjqUdHfOwJId1nkopp9ZaX1Rr/eujLHtmkuMZbC5J/mutdf8xLDttn5+SZDk7VGdn8cf/SUuY95BjPHZPyTLs50Lt+mpRSjml1vqYURmZON88LBNldx6Lne+EWsqxP566Mo+nZBnrynG2QVPXdyLaoAk/luSIOjFfPen7fPMt2f/p235qkhcO5by9HH3eWuu+JE9Yrv7zhJ9P8pha608u4zpPT3JosGe8nboF6u6qdEucTxbbrgyl/VnOdJZSTl2hdnJJFtrnsev5PxhK+7ZYJ7h/dXrmaX+OxS3U7h6TxY5bTOT32TnGa7eVGmMaSH98dCyemuTmo8x+epaxTJ6sBjTmeXqW4XgPse05VrfQ9ezZSdYeV8KOYiXHLW41aq1+Vugnye2T/HOSDya5NMlvJrkxye4kb+vzvDvJbJKvJHljn/brSW5I8r4kr07y1T79YUm+nOQTSV6b5M59+tuTnJ/k+iT7kryzT39Kkj/tf7+sL3dpko/3bf7fvo3/neTz/fO/SfK1Sd6S5AM9rY8d26efTnJJ36dX9GmnJfnHJBf2n4fMkx9XJPm9JO/vP9+40PI9/e9N8pEk70ry6b5/+5I8I20gZTbJprTAQ03yQ33Zd42t/2uT/FXflxuTvCbJvyX54yRfSPLJnq4rkvxWkq8m+VCS+yf55SQfTnJdkk8l+fMkVyX5jyR/lmRXkm8Y28fTk+zpaT7Qf76U5G19O7/Rt/3Eftw29eXuluSKseP8+v73f0lycf/ZleQOffrWnleXJPmtecrbE+Y5Dv99/HhP+fyX+/KXJjl7rEzuSfKvaWXy2X36mf0YXZIjy+TvJnlHkl+Zso0ze35c2/dtZqLe7EmrE9f143ZTP1aX9nn29mN0WZL9Se42tt1Rnt7Q1707rW78WD8+o3X8Rc+D2b7+Uf7/bZJrRnmb5PVJHtY/uy5z9eZ5SQ6m1ckv9P1/W1ZHvRnV+29Iq8uX9N9fn1ZvPp6kJPm1tHrz8bST+ruSPH/yWPc0/FlaWb6y/zy5b+MrfbkvJ7k6yf3Htn1tPw5f7T8399+X9HlemGRnP5b/kbmye9nYcbxurI68J8kPTsmj/9a3P9uP9ROSfLbvx/6exhePpeuqnq7rkvzhWBv5xb5vV/e0vDPJRWllfMe0Y9XX8fx+3N+dVnb29umvSK8DSc7LXL15+9gx/Y8k35PkNjm8ThxRf5N8R5J/72l7f5I7JNnY9/FzfZ9qz6sn9jx5SVp79Jm0cvnetGDSJWlt2gf7fK+a2NaP9X24ri//g307v9E/f2WSD0zJg7eklc3bp9WHL/XjcmWOPP+NH//PpbXtl6bVywN93pv6vH/Vt3Nleps3lpf/lOQP0urx8zP/ufLMfjy/2H8uTasD1/X8mU0re2ePH9/++0E9v2b7un92rL1+W5JXJfnQRB6e3vPu5T2//yHJ7cbW946enh1J7jlWDn+s//2ItHZ/d5KXJvmaJA9OO9+f3tNzU8+/f+37+z/SyugH09qH+6edwz6SVife3/P2J/o6rkwrd/+RVjf3ppW//9HX9+W0Mn1dknv0ZT49Nt/3pLU5r0vyxrQ695tJ7ptW1i5MazOvW4lzTZ/nHn2ZD6W1Bef3fB3VldN7Hr0k7fi/Kf2clFbnLklre7alnz8WqCuzae3l+zPXdn8k7Zz7jX2eF6fViy+ntTFf3/Nrb8/r/f1437fn6UVpbez9x8rIi/q0/+jbPKz+Tcub3HJt0G3T2rov9fy9sS9f08raO/p6v5B2zhyVs009TZ/uy72q78vr+3G5LO3cNErTHdLaoWv7fLNJruzpenrP79E55KJMP2+/vqfrxr7dW6q/+xv980v78S5j+f7/eh5emuTBffpdkmzvaZpNK2+vTis3r8pcmzCb5FE9HdenlePJc9J4v/GrSX67z/OptLLzr/2zGzN33bA7ye/3+f6jf/a5/nN9kntnrj36SFoZ/cuevtqPyZU5vI/yslG6J9rS0zPXDzs9rRx/oP/85z79vWlt9MVJ/mfmzmd/1o9JTSsfu9LKyEvS2vC9aXXq42l9tKl1N4fX+evT2rrRvn/PZF+q/z/ZF/y9tHL2r2nt8tv7dn94bPnD2sWJPsv7+/79eZI1U8rqQzO9jfzLzPWPP5bkf6Wdb9/V9+Urfd2ja5sv9WP8vrR2YFq/8If6MfxMP6YvzDztz5SyfsT5f4H259fSrlOu69u7PK2N+Jue/19NK3MXJ/mFKen8jp7Ga/t+/XGSb07r08329f702Ln59WP166a+3PU9L07radrXj9s1md5O/nPPk+vT6tDzcng7+YKMtRM9Ly/taflyz5c7pNXDy/v0r6QNuE5L5/v759cnuahP397X+aa09mDadcnH+jw39rxYzPX8J/u8n+9p/8mxff1iWmA5PU9ekeStST6a1j8Yb2d29X0cnWs/2H9G9fmIcjzRJpT0OprWvuxN6zd9LO14/21a+35Yf6gve1VamRldb/xLWnDmZVm+9mfyGG1PO+bvTfLAsTx6aVpbcmPfj9E11KG0pJWpv0jyS32f7pbkd5I8ayyt4+MWlyT50T79SX3apUl+b2z+KzJ3HfzLPU++0vPxFUmelnacR/XmQfMc168keU7aufryzI1dHchcm/POtPbhEz3fR2MQr+/5tanPd2NaPfvdvvync2SZ/HBa+zwqL/+37+/etHPMpWl9wtE592CSh+Tw8rI77ZrvlL7f/5beH+/7cLexfNqe1p5dluTpi2jDzuzH+MNpdfnVaW3559PK2CP6umbTjv13pbV3X01rU3blyHPiz/X1/Vnfn9E16YfTyuPladegs/1Yjer57j7/9f14fSJHlslP9s+vTmur9qW1e19Nqxu/vkB9/r0kPz+WJ+el1cFL+7EZH1s8P+3c8NEkvz+2zOia7rIcfp02OrfckHYd8vS0srE7rd0d9WP+cjJdE+kZfXZ1WhmZTNdC5+tFj3lm7trtXf047E8rU4/o83yx79POtPJ4RaaP07y6p/EDaef5mzN3zXFLtEFv7Wn9fN/n7Tmy7dk01mb8fI7s4x5v2zPZXzk9c+V9V8bGTCf6Y/v6/l6fVh9emCOvZ0fXzy/L4ddAo/PUw9KO++k58jr1h9KO/660Ptu069lHZvq4/TVJLj9KGR/P28WMW70sbdzibWltz5mZfo17xPTMXXPuycQY6sQ2jrhemzbfreFnxRNwMv8k+dEkLxn7/04TDcOD0k7It09yx8wN1O5O61D8l7QT31d7xbwhfUAnreH+f/3vt6d1Ojb0/9f130/J4QGvfUm+L8kD0i4Wf3wsbS/LXIN4apI79r/v1tNQknxLr1yj9N+l/35Vkof2v78+yYfnyY8rMney/enMNdxTl087uV2bZCbJG9IapWendWbe3+f5fJIfT/Jfez79Ttqg4CfGtvt7Y3l1RVoDtj6tY/Dqvvxb007Gv9jn2ZrWsOxOa1R/M61x+4Wedzcn+a4p+3h6z6Paf85N6wS9Ma3j8qtj8749Rw94/VPmAhlf24/No9IHUNI6eK9P8r2ZUt4WKJuHjvfE9Af1fb59395lY9Nul1ZOL8/cxeAlSf7LPGXyz45SP56Ssc7J2PRfTSvPM2kXUB/rx/nVmSuj/5bWqV6T1gn/3il5elMvF+9LO9GdmrFORp9nd9pAxUeSnNHz9u1J/nQsb/89c52mQ/Wmr6tmrkz/1djfK1lvDuVrWvl5cv/7Z5Js73+/Mcnj+7ovSgvsfSjtpH/Ese7zXT12rC8eS8dXkryr//3zSf6i//0vmaunb+559cme31elDZKO8uLxae3TqNP2rrHjOBpof1+SR86TR1emB2/Tgt93SutUf77//bS09vPePU9+vs/7tD7fA9PqxA1J/nf/7LIkb+1/78jcwMNhx6rv10/2v38jrVPx7EzUgRw5iPL8/vdjkvzrQnWif3abtAuo7+j/3zGtTP92T8N3pQU3bkqyIW2A8Oa0ztKfpHXe/luSh6d14P9z5gabL5tnm2/vy/5C397sWJ5ck+QZ8+TBn6a1R3uT3K9PH213/OJz/Ph/eSxP3tXLw93Gjv/OtM7omp6uB46l8Z/S6upo3vnOlZektfVn9+l/lFY+dqaV9fF276yx8rc2rY14e9/+0/v0e6a119cnuc8854OauTb8pWllY21auzK6qH5CkpeOt81p9eNTSb6pT//rnu5T0y7UTu/H99K0C6639XXedWz7v5127ro5rRP/xswNCuxLC5YezNwF42Xpgc++3s1pbdhz+7EcHZ/z0svyWLm9Osld09rtS/sxfFL//BmZCHjlxJ5r/rbn3SjPHjHWto4uPm9Kcmaf/ndJ/ttYPowuQJ+bKQGvsfle2/8uaRdhn0wbrHlV2oXNKNjygSRPTqsrb0m7KH1L2gXd65N8d1o5fUvm6s93Zq7uvWzsWN6vr/Mp4/VvWt7klmuDfqWn9yVpAwI17dz76bSy9uy0/s8o/d+fVu6e2NN0XZKr+2ezaYO670u7UHxIT9Ofp7Upu9MG4zb0/X9jWv/nTzLWjvXpR5y3x+r0U/vft1R/9y5jf78iczdjvT29n9bTPRr0+JO+jxcneXRaef9oWj36t7Q24Tv7vm/q6bi6p3nynDTeb7wyyTnpfZ8c3tf/VFo7/g19+x/p+/7ynmc/39NS0wYtP5XkmzJXj7b19dyc5HX97/E+yqFtjfJ9rF0c7fftkty2/32/JDv73w8braf//8TMnef+pOfD3dIGYWraee68tPP5U/pnN2UueHVY3c1Yne/HZE/a+XHeupDDB9Bqkh/of782rcyuTfJtSS5eoF3clBag+acka/t8f5a5IM2hsprpbeR3pw3APDCt/n0pLaj2o2n95lEbOQp0/Xrfv3/N4dcVT+5//0xa+3PnfrxenzbI9PzM0/5MKetHnP8XaH9entZOvL1v4045fDDpxenXb1PS+bq09md0vl+XVn8/muQf+3w/ntYnvW0Ov5b6k1E60/oiV6f1U85L63v8+QLt5Bv7dn8srZ27Mm1g708zpZ1Icvc+/3ek3WD4Jz2dO9L6pDNp5fimJPeZks5r0tq3hyfZ3advT7tGHd2IMVkWfzytvF2VwwPkC7Vvn+j/362n+y5J/j5z7duvJvncWJ58sKf9bmltwZty5PXp32ZuoHNNP77TyvGh/lX//aNp1wlr0upITfLDPW8OpJWVI/pD/e+r+vwPyVwQ77Ag0zK0P5PH6Df73w/PXH0f5dEHk9wrrT5+dDItaWXqh9L6AVekBV4/lsP7bofGLfr/d87cuMVpPa/fmmRLPbwv86C0vsd/pLXrl6WNJT0wfdwirUw+f57jWtPGPCbHrm5M8q39/3VpZeUpacHet/f1jwe8alo9HF277cj0MvnatHGeknYN/tHMBRXulVZe9mfufH192uD5eHm5R8+Xe6Zdh381rV49Kr1dmDwvZ649vutR2rBLev6d3uf52z79c5krk9vSgiivSKtTp/Xj8Zq0Pv/kOfHnxo7FqEyOB7xuytyNMG9I8vH+9yeSvHvsfPaJHF4m/zStLdrS8+PTaTfXvDetHDwvrX+1NtPr86OSvGMsrz6U1ieYNrb48bRycdu09vDeE/l76Dotra05kOR3+mc/l1YeSlpb9dyel1+fVhYm07V+Sln9UNo1zPpMGfOcr40c++xlWbiNPL0vc2Wf9tK08cVPpZ1/HprWBp3Xj9sVmT5O8+HMjU2M+lKTAa9laYPS6t2n0473XdPalOvTzrnTAl57MxYQHjt2x9P2HNHOZ66/eMSY6dg2Htzz5nvTyue1aeeXyevZXxw7fuPXQKMxpfE8Oi+HX6feOXM3nk22gaPz/Xzj9r8/Ns8RZXxK3i5m3OplaWV0dLPTfNe4C137blogT6der803/9B/TgkraXeS7y+l/F4p5XtqrV+c+PyhaSes0QVt0irba9Mah+uTXJBWqd6W5Mu11uf3+V6e1jCM/FuSl5VS/kemvEKmuyZJrbWO3hP8j/PMV5L8binlkrSLpA1pFffhSf6h1vrZtBV9vs///Un+tJRycU/vHUspd5hn3a8e+/3dR1n+m9IufGbTGsPX9Pk/ljawm7SO0FlpefHFtIuy70i7I2Dk+9M6ZSMv6/O8PXNPnfxNWqDs/D7PB9MCg69N65T8df9sTd/Op2qt751nH0d3Et6c1hF6ZVqjfNu0i4GleHeSPyilPCvtpH5TWqfkUWl3KXwgLS/ul6OXt8V4aNqg3fW11uvS9vkH+7Qbaq1fSjtGKaXcqafpHX3ZyTK51H0duVNafp2XNhjxuinz3D0tX3elnRw3zrOuv0s7+e/qeTfpvWmd5jekdZ4eleRb0wagR3l7+7H5D+bwenN9WgczaR23p62CejPuu3u6ktYZf2j/+11pQYa9aZ24B6cFar6QKcc6rU24eexYfyytfoz8v/77orTOTfrve5ZSfi+ts3t9n/7x/nP/JD9eSvlAkv8vLa/+v9K+z+3g2LrXpg28/Gqt9c1Tc6cN9D+ulPIvaRfgo7L/pv73X6d10r6h50n6dn8prb6O9uX6JK8qpXxtkv+U5Ht7/j48ybfMk9c3Z66svzKt0z6yUB0YtTXjebaQjWmDwhcmSa31S71Mf0eST9da31tr/Uha23PfvsxsrfXitOP+z307H0jL08vG0lEX2O7FafX6oWn5fJ9Syj3T8u0v+jyTefDQtDJyzyT/Vkr5aNqA/+S5afz43z7Joxc4/u9I64jvSruAesDEuv6+zzv1XDlqr9Iuql/Yp4/ayTulPXU23u6Nf6/gxrQL6P+Udrx+MW0w8Tv65++vtX5ievblU7XWd0/kzca0dubNvUz977SL+3Eb085//zG+H/2YX552jEc3eXxv2oDEZ5N8aynlXaWU3WmDe9+UdtF2bZK/q7XenP5Ea1/H1X1fktYG3rm078a5Q/9/R1q/5G5p+T6fN9daP9fP1+cn+fa0Y5LMtUHjTuS55uFpxzxpTwS9Zco8n+h1Jel1cpQPtdZ/X2A/Rq5P8uDe3j20p/FrMxfA+rX+++a0NuJVaeXhrn3+/5x2Q9KofK7v0/6+l5E/T6tPI39Xa7251vrR/v/u/ntUxkZORBv00LR+1fenDQrfmHZxnLTy9dC0/tVFvb7/Qdo5/pv7PJ/PXBu0Jq3P9atp5/4/6Ot9WNqNSG9La8s/klaGvylzF7z3HvV/0sr4yOR5e9wt1d/9vtK+o3R3X9d43Xl1X+c7+/Lreh59Ji1w9Ma0i/Mdae3vffpyT+zzjNJx154fk+kY7zeekrn+w9xOl3LbtH7Us2qtV/btfUNa+/qEnmdf7Wn5clp9G2+P9mXuPFPT+hKjfRv1URZjbZKX9Hz6+xzZro+b7f3uh2auP/GetGM9an93prWlN/V0jaZPq7vjdf4taXVgsXXhxrQBl6TVvXfUWkdPJY8vP9kuPjRtQPdBSS7s5egRaeeW5PCyOq2N/G9pdfCS3kbu6Mt+Iu089phe/l+cVudGx/53M3dcpvUL75V2Q8m3pQ3QPzALtz/jpp3/Rybbn6vTyu5/SgtyfTHtPHZq//x9Sb5unnR+b1/+c0n+vrZXWt62r+vbejp/rafnmya2+9BROmutb83c4FrSzpsLte0708rHu9La7g+l1b1kejvx0LT69NK0Nut+vZ38+rTBuFE5/lxaUGcynf+a1p7eN8ld+vkvmbsenjReZt6cVjZHFmrf/qPnx2drrZ/vaX94kjeUUmbTBtduP9auvK6n/bNp7c6nc+T16aFzba31YD++08rxeP9qtN+vrrUeTDseN4x9dmlaf+KI/tDYPPt6P+vVafVgvAwuZCntz3haX9H38a1J7jp2jK5Ku7HwqrS2+m3zrGNUjm+Tdt7fVWv93Njnh41b1Fq/kD5uUWu9tuf13+TwPBil7WNp9ePKtLz+trS6+5W0YPPWHH4+Gj+uNdPHEr6adt4bjTH9eNo1+hMyvT9+MK3svSXtXH712GfjZfKH0vpJ90g7x/9dWt/4tbXWq3p5WZt2bXhxWn2/Y8+zV/cydk3a9cF3pF3L39j74z+TFgAb96xSygfTrv3vndZ3SKa0YVP6nVePzf/atMDSJ9La779NG1O6V1odXJ82fnGvTD8nXrnAGNKVSX6xl8kzk9yr9xFm0q7RkyPbq4em1Zt/qLVuz9wbNm6T1lbdLS0QczAtr5Mj6/Ptkty9tO/7/La+rbdn+tjiW2qtX6y1fiWtPfyGPn10TTd+nfbwtPP1X/Z5/iJtrG5HWjk6O+0miwvSzln/MpGuB49t93W9DXxn///XM/+Y57il9gFP6/v/yp6OV6adDz/R0/6n/f+z08pjyfRxmnuk9cfS+1LTLEsblNZmfCTJP/W25HVpgZeZedZx2yQXzNPHPda2Z752fqHynrRy/uVa6zt7P+rf0/J18np2vN0avwYajSkt5F5JdvR1TbaBI4sZR51WxictZtwqae30wfmucRdx7buQ+a7XbpUEvFZQ75iNIt7PKaX8xsQsd01rFB9Ra31g2iDWqTly8PFg2kXvbcem/XKS+/cOQNIGDP932gn84lLKXdMu+MbLwGEnhd6xnOYn0xr7B9Vaz0wLlN02rUGfNjB6SpLvru1duGfWWjfUWr9cStlR2hdC/sXYvHXK31OXnydtk8t+MS3g9eC0O1fulPZ6j//ct/32tEGV3xlb9vq+L9N8tf8+mLn8mjbvDVOmjXw5Le/Hl6v95/qxaePHZ/zYzi1U63PT7kSYSfLeUsr9+3qfM5Zf31hr/ctFlLfFmC9fFhoQn8/1R59lqs+mXazvTnu1wneNf1hKuU9aOf+5Xm9mk3xNKeUX0u5w+ZvSvsjxq2kdzzMyl3fPTnLfsXqzNq0jc136Y8FpnYS/H+Vt2kDxyFcWqDffn9a5HEK9eVfaxfSGtAuEdWkd1iuS1FEa0gZApqVh0v7++2DmBi5uTLuY2Z1WLtdOLHPPtOPxiFrr/dMuGD6ddsy/YWy+m9IGoTaPJpT2BaIXj45jrfVJaQMHX0lyfinlOX3Wr+Zwp6bl2y9nbtDpxszVv1E9PaXv0/5+LL+YNoDxoD7ftWkdpmnG82mhOjDe1pw6bYaJsjBfOSpp+z3NwbF5RtsZ1fHRug4NoJRS/qpv7w1j67gsrV59T9qdn7dPezLq4wt0nmpaB/QzaU9/XJPW+d03tq375PDjf1la4GXa8d+T9o770blyX5LfH6vHScvrmzLPuTKtzM9nvnZv/PPPJzmv17Uz0jqz49tOKeXeo3JZSnlG/2zymNW+vsvG6u4ZtdZHLSFN70obHDiYdoH20My9FuUVaefvg2kXhV+TuXI4LS0HJv5fM7bt0V2jP5qW51PPU/Os+2hW6lwz37zjbcVkXTnClLoym+SnMnfeWpdWV34o7SL2YKbv22ja/rQL/l/pbc6D09ufsZ9vLu37B344yXmllP87ZT2Tf5+oNuiqtPZxT1pb/7MT6SlpAZtRHb45rWwmh393xcG09nbzWP/n29MGms5KC7Q/O+18+7K+re1pAZe/z1z+f/PYOhc6by97f7cHk/4s7a7aM9IGGcfrznxtwjRXpgWf75g2wDbqj5ySNgD3fX391yZ5V+/zPjHteMyknWenBSpelNaPHW/HPtnz4ONpN1H85ZTlRg5M/D9+fTHav0N93FJKSesfTfqfaXn+bWnnmWnzjIzON9PyarTNA5mruzVTynUp5a/S+j1fNzb5xj7veF2YvIYaP4YHaq2jbd6cXpdqu6FgfJvzHeuXj5WhjbXW8/rn42V12n7OV04+ltZ/GpX/Z05s//opaRlP05+kDZb9z7S6e9vM0/6MneP+7wLrG5lsfz6b1k5cn+Rnx65TprY/Sf65n+dflLn+2fh6T0k75k8fpTOtv3hK2sDq9/R0LlRmRjeYzuemtOM7KhuT14d1op08N22g6YzM5eWheaek4Wk9nRf3ef5P5q7n75F2Lrk5h98INF4Wx8vM5H4s1L6N58HIHZP8TK11Ju2JhPeOXVdMzvuPaTeHnpPk4/0aa5qj9a+mzTO+rfn6t/PNP/p/uduf+dI6vv3JGy0WGof7i7Rgz5OSfGasXq3P9LKy2HyctuxvJbl2SpnMxLwH084d56edR/6l19HPpQXN753Wxvxq///v0m6mu+3EOr+Sea7d0tqqn0xrB76QI8+5k/tZ0l49f2baTQ8bcng+j7s2yWwp5eFpAYnfHvXHSykPS+s3fHet9dvSBqzn69Mu1FdLWiDm7mnn2NoH3UuSL/V07kt7AvhRaQPtd+r1+xvTysT1C5TJO2SuTP6/HKUv2k077jXtieV3pd2w8Ld9nlPHPp/cv8+m3fz6piSvqbU+I0eOLSZT+ssT13QPzFy5mNbW3D7t2mJ/Wn/2Az3f/iBHXrfXXm6ekfZ2jfR0XZw2jjrfmOd8beSkaW3kqG86bx8wrR69tZfHmiPzfvS7JIfaoGmWqw0aGc+/m7NwG1RLKb+wjG3PfBZzjTZ+fEbjMC9L8szebv1Wjt6PXsifpD0BOK0NbCs4yjjqAmV80lHHrbpjHSddjPmuYW6VBLxWUG84bqi1vjLtUeJvTwuGjO6WuiztZHljr0TfktZ5/JG0Y3e7tMGSpA2k1FLKi/r/16a9guHM/v+GWuv7aq2/kXbCunfa4PWZpX1B4O3STrSLcackn6m1HiilfF/mBh/fkhbZvmvfv7v06W/K3MVVSilnJkmtdXO/APnvY+t+wtjv9yy0fNqj7af3wYP3jS1737QLs6QNkI4GT2ranWBnpr0v9cxa68PS3vF+aKC179/70h5T/5q0vH5SjuxU708bYHhv2gnxR9IurO6UhR3I3En+D/u6D10Qj7kicwPoPzZtRaWU+9Zad9dafy/tLsP7p90V8zOlPYWSUsqGUsrd5ylvS/XOJFtKKbcrpdw+bZ//OcmPlFJmSrvT74eSpN/58IXS7iZNWhl9x7SVLtFH0p60+oe0DtEZaXk3CpjcMe3EeF0p5R7pd6/UWl+Qlkc/WdsXtCfJ49KO4xfT8u55ST5Waz2zB8i+rtb6C2P1ZndagO3bSymnlFI2pd3NM5/bZ+5O0u9JuwNxpevNuH9Pu2hJWhkePUn6vrRBsLullf9L0wbNX5l2zLf0/RkPBO0fO9b3TburayEfSKuHr0yrf7dJCyx+S9oduZ9N/56AUsoD0wJQ70k7RuN3zNe0O/XuX0o5J0lqrb8+NriRUsp3p71W8UfSBj5HQdLR3XhPyNydcZf0tHwx7dUKk55Q253TX06ro0nL69+p7W7CM9NeHzbqCJ2Sufr7E2k3Lky7438xxs8Pk2XhI0nWl1K+o+/zHUr7otP3pbdJpZRvSruYuXxive/MXHvwbWlt1OiupDPHtvfUvr3HjKVnJu01Dj+e1hZ8Kq1ejd8tN5kH/5Z2If+JtLo7ao8OjO3fHXP48b9P2uDu6Pjf0H/XtFcZnJLkGb3Of13ad4kdSvtoFzL/ufKBaWXgg2nH/aeSvLOUcse08vnwiXZvPEA2eorz6X3A755p5fX9h2281k+NDQ6Otv/1vXwm7Vzwb319p42ml1LWllIm7zb7SNr5b3TeHm9f35lWJ26otV6bdtF397QA4+3S7gD7jhz5hbaP7/2BU9OeQvj4xOdfSXKb2u7o+3JaG7E3rQ1ZNzbfYeW0e2Qp5S6llJm09mNXWqAsmWuDxp3Ic81bMlbX+zE/qlE+lFJG7ckTxz6brCs3pr0uYnT+vV/aeWpr2kXbqO0+Ja1deWJaXflsWln7RPo5o18Y3yfJJ0opjx9NK6V8W79ovyCtzT6vlDJ6ymZUfkb171gdSxv0zrQ7dG9Iq18lrV92Q1oZ/LeeP7dJq+8/0ucZBWK+diINH0xr73+/1ro77XUiV6QNDHxP/31Zb4O/2Lf15bQ27VVpd3V/feZ3IHN3vd4S/d3RefOzvZ822b97Ql/2oUm+2Mv3O9MGXX6olPKotAD76IaTT6a9AvPDmRvoe1P6cep9n6eM9Xl/tNb6o73feGPmzoMjm/uy43evviftieyvTetHbSilPKan5Q5p9W28PVqXw+vgaLB7vI9yReb6uI/N9C/+vlNacODmtHo9CiRMa2NG3pm5J++/K+17Hr80PkOvuzenBUmTibqbNhB45TzrH7ki/RqqlHLvHH6n+WJNtovvTitbP1ZKuXvSylYp5RumLDutjXxF2nH6lt5Gbk4bQL59WpkZnUN/IK09H/UdH5W54zKtX3inzN3I9+S0tmtq+zN2jpuvD7RQ+3PHvp1r+r6M+iWj4/nAtDZxlM5X9PP8u3p+rE9/uqrv/w1pgd9f79O+Ka1/+uG0YPm7ejrfOUpnH/ge5e+xGvVP3pLWN/qJns5fTSvnd+zt5JOTrOnt5JVJ/msp5ballAf3/bgg7cmHd/Xl35k2wPe+tNdG3Zh2s9X+tLZ3qWVxofZtY5InllLu2svgXdLq3ejpqCfn8Lb5sT3td0274eYztdan11rXpwWQ75+xc23vK90x08vx5A1I70zyhNJu6LhLWnkYDYBuSLuxZ77+UNLaq+9OK+/708rgFbnl2p+f7Pv4sCSfHWt/PpHWht82rbx93zzrSNpTQjNpbdQvjtWrfTnyPHPn9HGLUsrdej49KUf2g96Z1nd4Qi8nP5J2Pr1D5m5SePLEMuPHdU36q5hrrd+Q9kTpt6f14z86ds49kFbHviOtrblLjiyTh67d0q7jU2v99bTX172yzj0ROyqTb0trlz6YVl429PJyY8begNDPuYfKSynltLQ+76g//sm0a9lXT/TH75TkC7XWG0oLzo7fTHtEGzal37k+7anIpJX/L6b1Of61T/veJDeP9/d7v/4haU8tnZn2VPC3jvI908vkKZkrkw9Kew3bF9Kun0d9+sk+9TvTjsGPl1J+uM/7fWnl6/q0c8/kOWayPl+YFlT6ZN+3fyhtDGpybHE+49d090grF0lrE26fdtNi0q9d0q4t3pTDb0j/umnp6uXmRUk+3T97UFo+/nKmjHkuUxt55yQ/3dPxpLRz9+lp56VnprdBZW7sZdo4zUfT3qaTtNfLz7f9426DMtemn9r7cT+48G7nK2ll8DW9bD58Gdqeo7Xz8/lg2tPEd+7nyjP69DskubqUsna0v2Me34/1fdPGlPZMfD6Zf3fK3JsInjxtvjL/uP0oCDlfGZ901HGrw2ae5xr3KNe+C5WPZP7rtVulW+2ODcQZSbaVUm5O6xz8XNpdAf9SSrm61vp9pZRfSbtz5kBaAOzKtLswfj3tIv9daQP4B0sp35/kX0spP5R2Ynrq2LZ+qZTy25l7hPyDffonMvedGJ9YZLr/Jsk/lVJ2pt1B8ZEkqbVeVtpdFu8opRxMG9B6SpJnJXlBaY8DjwY/njFlvUl7Eud9mQsyZYHlP5G5LyG/pu/b2X3Z0Z2FtX/23rQG7z1pjezusW3+dl//pWmdhYfWWl9eSjk37bHdh6S9LnEyIHhd2sXI/0g7mX4hLbjxmRx+R/I0H04bZHhGWkdxZ+aeghl5XpK/K6X8VNqFzTRn9xPwwbQAw7/UWr9aSvnmJO8p7YaR69I6pd+YI8vbktRaP1BKeVnmOo5/UWu9qJTyt2ll4cocfgJ7cpIXlVJulzZ4Ol4mj9XNacdpf1re/Vta3v9g2pdmf2sp5bq0O8s+lPnv/lubVnZuTusIfn3fh5FnJ7lbaa/uSFrZ+fO0IOhvpXXIrsvcq9+m+WKSh5VSnpiWN3dfBfVm3LOSvLSUsjVt4P+pPU1fLaV8LC1/35/WEbgpLU/vm+nH+plp5et2aYNdf7hAviTtO7z+spTy62l1dzYtb9+c5CO11gtLKbsy92TPbdPq9TWZGIjq7d8T09qlL9Va/2xiW9uSPKjXhy+lDTK/MW2gYZRvo+P4lLRjPTq+b5tY1yivZ5PcUNrrL26bdmPCtLy+Pu11hxellYdnp91x/5/Sgkk7j5JP496W5JzS7gB6Tq310OuAaq03llKekORPShs8m027W/GVSZ5Z2mP6N6V1fG+cWO95Pc0/l3bX7n9Pe4ryzmkXcF/MdC9Lu8i4U9p3DN5Q2h3Mf5YWkB6ZzIMnpHUU16UN5pyadvf5h3P4+W/8+J+aNnh337Tj/5a0MnTbWuuuUsoFaefFn0x/RcQ0RzlXPrmn57f6/59MO9/+UdpreD6X1o69pNa6a2ydN5ZSfiDt3e3XZe4O/U+X+e9qHvlwkieXUv487eLnhX19P5bkj0t7ZcGpaXdyHmpraq1fKaU8Ne2VUqf2/RgF0d6XFqwevSbmksx1fP9P//zKtPPg+NMde9I6y/foeTF5E8aHkjy1l78/Tns91Lsz92XwI/+UdjH82LTXOyatnX5F2nnoVf3nlb2P88+ZKGMn+FzzS2nl/RlpF7PfkrkL0qN5WtrrRq5Pe73LfHXlvUkuKKXUtOP4jLS+xVfSAjCjtvv70i6YX9CnfaBvY01aHj4vrR18TVpZf2Ep5X+nnc9ek7m+3fix/EqSb5qof8fqWNqgP0vrK41uKrgxrZ90/7Q25ofTBuNPSStHsz2/Ht7nP+ztA90Tk3y0lPLf0tq1r6TV3ff0n8/1vP5CWj3+xr696/s2LllgH/ck+fXSBvMfn2Xu79Za95dSXpJW/67I4a/YTtoF7OiVLT/Tp52XVk42pD1lvistqPnFtL7wf+3bH5X7Z6XVkXeUduIbT8d4v/HmtLZ0/K7hH+7rXZ/kbaWUF6S1Gdek5e1t+3Kv7Ov4Sto59q1pT9GNgoUvGlvn+Ll21Ed5SZLXlVLe39Mw7W7WP0vyj/1YvG1snkuS3NTPvy/L4a/EOi/tHPaOtLJ21ZT1Jm1w43dLKb+ahevufN6duWuoS9Pq6lId1i7WWncmSa/TbyrtBoQDad+TOdnvmdZGvqeU8oq0u4cPpOXLe9KuN2+b1u8pfZnbpfW5vj0tmPrYvp5p/cKz0o73N6a9hvU+Wbj9GTft/D+fr+tp+089TU9Of7VqLz9r0+rHxWlPwDx1Ip33SAuunJG5Jz0fneStY3351/Q+7vh2z0v7Tro/Sht8vSytnf2FBdK6kF1pN2T8TVqfdryd+M20cv2WzH2f2G3T2oHT0/pop6Z9F8cVpZTTJ9J5aSnl59Kub89Py/NPprWhSy2LC13P/2baYPNVaW3yBWll40WlvcJsNof3Jd+fdi7/+rS3yvxEb+cOXZ+mlcUXl1Ke1qf/XC+zL8vh5XhXDvfatPGRD/a82ZuWv49MKxN/mHbOmNYfSlr52J7WD3pnWn/uDlm+9mc8vecl+at+Drghhw+eXtXz8YNp7etbMk+708+nX0l7Tdvk0yfj4xYHk/xWrfX8Pm7xtrQ6/oZa6+sm1vmB3tf85bT+5ufS6s3/6+t7V1o+3mdssfHjemPazVMvnxhL+IskHy6l3JR2Hr5TWp/qjmnngyeklcl1E+kZXbt9Iq1//w85vEx+JK1P/ca0uvKqtCcx7pxWzvemnXse2PP7dmnnudF42gfT6smvjvXHr0kbq/mriTx9Y9pNc5ek9QHeO/bZfG3YkzN3DfTltGvCS3reviDtKbf/Wkp5TFqZfExaQG992njVf+/HYPyc+Ma09u87M71Mfj7tmuHx/fNRoPKn017Jdn1aPbtubJnz+v7OpLXTX+z5eZu0du+qvs+PGFvmsPrcgx37SruRYG+t9epSyvmllPvl8LHFM6ekObXWD45d0308c6/yu6yUsj/tid5fSWtXfjWtL3FNWj395lLKh9Lq07R0Tab5O9PGiN6U6WOex91Gpl27fTqtDH4l7brnqWlt0fem9ZG+M3NvE5g2TvO0JP/ej9llaWX1yzn8RoJlaYNqrZeUUvak1f2Hp409PGyB/T7Q92Wyj3s8bc/LMtHOT5zf5nNNWhv+vrQbUK9J6/dPXs+OB3jGr4Ge0a+Zx9c5eZ16Xtr5Y28ObwPH53tFWt2bHLf/zbQn3p83rYxPs4hxq0nzXePON/1lffps2lOrs+MrW+B6bbzduNUYfTkbDFIp5Wtrrdf1iv7OtNdWHMtF5/Gk4WuSHKy13lTanTsvnBahZ/mshuPO8ZmoN/+c5AG11vscbbll3P4VaV/o+dmjzXucy1xXa518QmFVG9Wv/vc5Se5Za/2lRS77p2nfN/CXY9MGlwcsbCllpJTylLR6M35X4O3SXj9Te6f/SbXWx05bfjU7zrrypST/p9b6R2PTjruu9IvK19da/2G51snqsBr6PqU9JXN+v7noqH3eYzlvngjHU3dvDU7UcTne9mco6VyG7Z+X5Lpa6/NWKg3H6kSmvQ+Qvr7W+q1Hm7fPf1Xa979881FnPgEW24b3YPcHkjy+zn0X5wk15DI5n9LezPKHtdbvOerMi1/n6Vlambwiy9ymHW+ffOLz83ICj/ti82O1lMflOt4nevxwNfQfj9VY2k9NuwHipbXW1650uhgGT3gxdC8upTwg7e64l69Qw/31aU9inZJ299P/WIE0nGxWw3Hn+IzXmw1pd+mxOvxgv1tr9JqdpyxmoX734/Vp38vFrdsxlZExD0r7kvOSdifmzyw8+6p1PHXlNml3scJirYa+z/q07zr9YIbd5z3eNgxgqY7ahvfPX5/ktSsV7Lo16oGgn8uRrz+7NXA+G54TPX64GvqPx+q80t7Octu0J/e2r2xyGBJPeJ1kSnt92OMnJv99rfV3ps3PsSntnb5v6f/eL3Pfl3d52iPAP1Xbd0+sqFLKa3P4qwuS5H/VWnecwDQMukxOHOtxj6i1fu5Ep2c1O9qxvjXlZWmvm5u8u+7dtdZjfUXOiiqlbE7yexOTP1Hb96It53ZWdXuwGtrM1WqeMrI2c69cGVmR47nay9ZS3dr252iWuw1Sl4/PxPl6TeZe+z3q5yar/Nw95D7HLVF+T7Y2ZSlOVB/oeJ3odK6Wvu4Q6/JqTXNpr177monJq2LcYjFWS5lcacfSFqzWMjkyxGO7mtO82o73am57hto/cq0j4AUAAAAAAMDAnXL0WQAAAAAAAGD1EvACAAAAAABg0AS8AAAAAAAAGDQBLwAAAAAAAAbt/wf3qXm5Q1qdCwAAAABJRU5ErkJggg==\n",
      "text/plain": [
       "<Figure size 2160x720 with 1 Axes>"
      ]
     },
     "metadata": {
      "needs_background": "light"
     },
     "output_type": "display_data"
    }
   ],
=======
   "execution_count": null,
   "metadata": {},
   "outputs": [],
>>>>>>> 21659dfc44594dace5bb0cce2d3d907fe3d22168
   "source": [
    "plt.figure(figsize=(30,10))\n",
    "plt.plot(most_important_features, \"o\" )"
   ]
  },
  {
   "cell_type": "code",
<<<<<<< HEAD
   "execution_count": 21,
   "metadata": {},
   "outputs": [
    {
     "data": {
      "text/plain": [
       "True"
      ]
     },
     "execution_count": 21,
     "metadata": {},
     "output_type": "execute_result"
    }
   ],
=======
   "execution_count": null,
   "metadata": {},
   "outputs": [],
>>>>>>> 21659dfc44594dace5bb0cce2d3d907fe3d22168
   "source": [
    "z = df_columns.columns\n",
    "x_columns = pd.DataFrame(x) \n",
    "proba = x_columns.columns\n",
    "z[1] in proba[0]\n"
   ]
  },
  {
   "cell_type": "code",
<<<<<<< HEAD
   "execution_count": 22,
   "metadata": {},
   "outputs": [],
   "source": [
    "j = feature_importances.to_numpy()"
=======
   "execution_count": null,
   "metadata": {},
   "outputs": [],
   "source": [
    "feature_importances"
>>>>>>> 21659dfc44594dace5bb0cce2d3d907fe3d22168
   ]
  },
  {
   "cell_type": "code",
<<<<<<< HEAD
   "execution_count": 23,
=======
   "execution_count": null,
   "metadata": {},
   "outputs": [],
   "source": [
    "fi = pd.DataFrame(feature_importances).reset_index()\n",
    "fi.columns = [\"feature\", \"importance\"]"
   ]
  },
  {
   "cell_type": "code",
   "execution_count": 196,
   "metadata": {},
   "outputs": [
    {
     "name": "stdout",
     "output_type": "stream",
     "text": [
      "   feature  importance\n",
      "0   odor_n    0.192840\n",
      "4   odor_f    0.087460\n",
      "8   odor_p    0.022836\n",
      "14  odor_c    0.017234\n",
      "26  odor_y    0.002500\n",
      "75  odor_s    0.000000\n",
      "76  odor_m    0.000000\n",
      "77  odor_l    0.000000\n",
      "78  odor_a    0.000000\n"
     ]
    }
   ],
   "source": [
    "odor = fi[fi[\"feature\"].str.contains(\"odor\")]\n",
    "print(odor)"
   ]
  },
  {
   "cell_type": "code",
   "execution_count": 194,
>>>>>>> 21659dfc44594dace5bb0cce2d3d907fe3d22168
   "metadata": {},
   "outputs": [
    {
     "name": "stdout",
     "output_type": "stream",
     "text": [
<<<<<<< HEAD
      "[0.18068636]\n",
      "[0.17336216]\n",
      "[0.09460941]\n",
      "[0.09379882]\n",
      "[0.05589245]\n",
      "[0.05005628]\n",
      "[0.03835385]\n",
      "[0.0374053]\n",
      "[0.02921166]\n",
      "[0.02675691]\n",
      "[0.02142017]\n",
      "[0.0209273]\n",
      "[0.01875567]\n",
      "[0.01709175]\n",
      "[0.01636209]\n",
      "[0.01571271]\n",
      "[0.01453824]\n",
      "[0.0136149]\n",
      "[0.01219309]\n",
      "[0.01183486]\n",
      "[0.00804406]\n",
      "[0.00694815]\n",
      "[0.00679894]\n",
      "[0.00612219]\n",
      "[0.00467645]\n",
      "[0.00433013]\n",
      "[0.0037521]\n",
      "[0.00289296]\n",
      "[0.0027818]\n",
      "[0.00252776]\n",
      "[0.00249945]\n",
      "[0.00233261]\n",
      "[0.00123228]\n",
      "[0.00073961]\n",
      "[0.000678]\n",
      "[0.00054255]\n",
      "[0.00038985]\n",
      "[0.00012714]\n",
      "[0.]\n",
      "[0.]\n",
      "[0.]\n",
      "[0.]\n",
      "[0.]\n",
      "[0.]\n",
      "[0.]\n",
      "[0.]\n",
      "[0.]\n",
      "[0.]\n",
      "[0.]\n",
      "[0.]\n",
      "[0.]\n",
      "[0.]\n",
      "[0.]\n",
      "[0.]\n",
      "[0.]\n",
      "[0.]\n",
      "[0.]\n",
      "[0.]\n",
      "[0.]\n",
      "[0.]\n",
      "[0.]\n",
      "[0.]\n",
      "[0.]\n",
      "[0.]\n",
      "[0.]\n",
      "[0.]\n",
      "[0.]\n",
      "[0.]\n",
      "[0.]\n",
      "[0.]\n",
      "[0.]\n",
      "[0.]\n",
      "[0.]\n",
      "[0.]\n",
      "[0.]\n",
      "[0.]\n",
      "[0.]\n",
      "[0.]\n",
      "[0.]\n",
      "[0.]\n",
      "[0.]\n",
      "[0.]\n",
      "[0.]\n",
      "[0.]\n",
      "[0.]\n",
      "[0.]\n",
      "[0.]\n",
      "[0.]\n",
      "[0.]\n",
      "[0.]\n",
      "[0.]\n",
      "[0.]\n",
      "[0.]\n",
      "[0.]\n",
      "[0.]\n",
      "[0.]\n",
      "[0.]\n",
      "[0.]\n",
      "[0.]\n",
      "[0.]\n",
      "[0.]\n",
      "[0.]\n",
      "[0.]\n",
      "[0.]\n",
      "[0.]\n",
      "[0.]\n",
      "[0.]\n",
      "[0.]\n",
      "[0.]\n",
      "[0.]\n",
      "[0.]\n",
      "[0.]\n",
      "[0.]\n",
      "[0.]\n",
      "[0.]\n",
      "[0.]\n",
      "[0.]\n"
=======
      "class 0.0\n",
      "cap-shape 0.002367544439529156\n",
      "cap-surface 0.0036959138071761075\n",
      "cap-color 0.02373859917696269\n",
      "bruises 0.10576347867834258\n",
      "odor 0.32287024955837984\n",
      "gill-attachment 0.0\n",
      "gill-spacing 0.0\n",
      "gill-size 0.00032861015452126456\n",
      "gill-color 0.0981364863845743\n",
      "stalk-shape 0.020466937563484024\n",
      "stalk-root 0.020949185229475722\n",
      "stalk-surface-above-ring 0.01291858898117428\n",
      "stalk-surface-below-ring 0.21660190249490452\n",
      "stalk-color-above-ring 0.0029367525032759044\n",
      "stalk-color-below-ring 0.02824562311289795\n",
      "veil-type 0.0\n",
      "veil-color 0.0\n",
      "ring-number 0.008185365203711907\n",
      "ring-type 0.04274292766859775\n",
      "spore-print-color 0.0054460116149545774\n",
      "population 0.008906335818066859\n",
      "habitat 0.0756994876099707\n"
>>>>>>> 21659dfc44594dace5bb0cce2d3d907fe3d22168
     ]
    }
   ],
   "source": [
<<<<<<< HEAD
    "i = 0\n",
    "for p in range(0,len(feature_importances)):\n",
    "    print(j[p])\n",
    "    "
=======
    "slownik = {}\n",
    "for f in z:\n",
    "    odor = fi[fi[\"feature\"].str.contains(f)].importance.sum()\n",
    "    print(f, odor)"
>>>>>>> 21659dfc44594dace5bb0cce2d3d907fe3d22168
   ]
  },
  {
   "cell_type": "code",
<<<<<<< HEAD
   "execution_count": 24,
   "metadata": {},
   "outputs": [],
   "source": []
  },
  {
   "cell_type": "code",
   "execution_count": 25,
   "metadata": {},
   "outputs": [
    {
     "data": {
      "text/plain": [
       "0    0\n",
       "1    1\n",
       "2    1\n",
       "3    0\n",
       "4    1\n",
       "Name: class_e, dtype: uint8"
      ]
     },
     "execution_count": 25,
     "metadata": {},
     "output_type": "execute_result"
    }
   ],
   "source": [
    "y.head()"
=======
   "execution_count": null,
   "metadata": {},
   "outputs": [],
   "source": [
    "for row in fi.itertuples():\n",
    "    print(row.feature, row.importance)"
   ]
  },
  {
   "cell_type": "code",
   "execution_count": null,
   "metadata": {},
   "outputs": [],
   "source": [
    "#tworzenie widgetów"
>>>>>>> 21659dfc44594dace5bb0cce2d3d907fe3d22168
   ]
  },
  {
   "cell_type": "code",
<<<<<<< HEAD
   "execution_count": 27,
   "metadata": {},
   "outputs": [
    {
     "data": {
      "text/html": [
       "<div>\n",
       "<style scoped>\n",
       "    .dataframe tbody tr th:only-of-type {\n",
       "        vertical-align: middle;\n",
       "    }\n",
       "\n",
       "    .dataframe tbody tr th {\n",
       "        vertical-align: top;\n",
       "    }\n",
       "\n",
       "    .dataframe thead th {\n",
       "        text-align: right;\n",
       "    }\n",
       "</style>\n",
       "<table border=\"1\" class=\"dataframe\">\n",
       "  <thead>\n",
       "    <tr style=\"text-align: right;\">\n",
       "      <th></th>\n",
       "      <th>cap-shape_b</th>\n",
       "      <th>cap-shape_c</th>\n",
       "      <th>cap-shape_f</th>\n",
       "      <th>cap-shape_k</th>\n",
       "      <th>cap-shape_s</th>\n",
       "      <th>cap-shape_x</th>\n",
       "      <th>cap-surface_f</th>\n",
       "      <th>cap-surface_g</th>\n",
       "      <th>cap-surface_s</th>\n",
       "      <th>cap-surface_y</th>\n",
       "      <th>...</th>\n",
       "      <th>population_s</th>\n",
       "      <th>population_v</th>\n",
       "      <th>population_y</th>\n",
       "      <th>habitat_d</th>\n",
       "      <th>habitat_g</th>\n",
       "      <th>habitat_l</th>\n",
       "      <th>habitat_m</th>\n",
       "      <th>habitat_p</th>\n",
       "      <th>habitat_u</th>\n",
       "      <th>habitat_w</th>\n",
       "    </tr>\n",
       "  </thead>\n",
       "  <tbody>\n",
       "    <tr>\n",
       "      <th>count</th>\n",
       "      <td>8124.000000</td>\n",
       "      <td>8124.000000</td>\n",
       "      <td>8124.000000</td>\n",
       "      <td>8124.000000</td>\n",
       "      <td>8124.000000</td>\n",
       "      <td>8124.000000</td>\n",
       "      <td>8124.000000</td>\n",
       "      <td>8124.000000</td>\n",
       "      <td>8124.000000</td>\n",
       "      <td>8124.000000</td>\n",
       "      <td>...</td>\n",
       "      <td>8124.000000</td>\n",
       "      <td>8124.000000</td>\n",
       "      <td>8124.000000</td>\n",
       "      <td>8124.000000</td>\n",
       "      <td>8124.000000</td>\n",
       "      <td>8124.000000</td>\n",
       "      <td>8124.000000</td>\n",
       "      <td>8124.000000</td>\n",
       "      <td>8124.000000</td>\n",
       "      <td>8124.000000</td>\n",
       "    </tr>\n",
       "    <tr>\n",
       "      <th>mean</th>\n",
       "      <td>0.055638</td>\n",
       "      <td>0.000492</td>\n",
       "      <td>0.387986</td>\n",
       "      <td>0.101920</td>\n",
       "      <td>0.003939</td>\n",
       "      <td>0.450025</td>\n",
       "      <td>0.285574</td>\n",
       "      <td>0.000492</td>\n",
       "      <td>0.314623</td>\n",
       "      <td>0.399311</td>\n",
       "      <td>...</td>\n",
       "      <td>0.153619</td>\n",
       "      <td>0.497292</td>\n",
       "      <td>0.210734</td>\n",
       "      <td>0.387494</td>\n",
       "      <td>0.264402</td>\n",
       "      <td>0.102413</td>\n",
       "      <td>0.035943</td>\n",
       "      <td>0.140817</td>\n",
       "      <td>0.045298</td>\n",
       "      <td>0.023634</td>\n",
       "    </tr>\n",
       "    <tr>\n",
       "      <th>std</th>\n",
       "      <td>0.229235</td>\n",
       "      <td>0.022185</td>\n",
       "      <td>0.487321</td>\n",
       "      <td>0.302562</td>\n",
       "      <td>0.062641</td>\n",
       "      <td>0.497527</td>\n",
       "      <td>0.451715</td>\n",
       "      <td>0.022185</td>\n",
       "      <td>0.464394</td>\n",
       "      <td>0.489787</td>\n",
       "      <td>...</td>\n",
       "      <td>0.360605</td>\n",
       "      <td>0.500023</td>\n",
       "      <td>0.407855</td>\n",
       "      <td>0.487208</td>\n",
       "      <td>0.441041</td>\n",
       "      <td>0.303209</td>\n",
       "      <td>0.186159</td>\n",
       "      <td>0.347854</td>\n",
       "      <td>0.207969</td>\n",
       "      <td>0.151914</td>\n",
       "    </tr>\n",
       "    <tr>\n",
       "      <th>min</th>\n",
       "      <td>0.000000</td>\n",
       "      <td>0.000000</td>\n",
       "      <td>0.000000</td>\n",
       "      <td>0.000000</td>\n",
       "      <td>0.000000</td>\n",
       "      <td>0.000000</td>\n",
       "      <td>0.000000</td>\n",
       "      <td>0.000000</td>\n",
       "      <td>0.000000</td>\n",
       "      <td>0.000000</td>\n",
       "      <td>...</td>\n",
       "      <td>0.000000</td>\n",
       "      <td>0.000000</td>\n",
       "      <td>0.000000</td>\n",
       "      <td>0.000000</td>\n",
       "      <td>0.000000</td>\n",
       "      <td>0.000000</td>\n",
       "      <td>0.000000</td>\n",
       "      <td>0.000000</td>\n",
       "      <td>0.000000</td>\n",
       "      <td>0.000000</td>\n",
       "    </tr>\n",
       "    <tr>\n",
       "      <th>25%</th>\n",
       "      <td>0.000000</td>\n",
       "      <td>0.000000</td>\n",
       "      <td>0.000000</td>\n",
       "      <td>0.000000</td>\n",
       "      <td>0.000000</td>\n",
       "      <td>0.000000</td>\n",
       "      <td>0.000000</td>\n",
       "      <td>0.000000</td>\n",
       "      <td>0.000000</td>\n",
       "      <td>0.000000</td>\n",
       "      <td>...</td>\n",
       "      <td>0.000000</td>\n",
       "      <td>0.000000</td>\n",
       "      <td>0.000000</td>\n",
       "      <td>0.000000</td>\n",
       "      <td>0.000000</td>\n",
       "      <td>0.000000</td>\n",
       "      <td>0.000000</td>\n",
       "      <td>0.000000</td>\n",
       "      <td>0.000000</td>\n",
       "      <td>0.000000</td>\n",
       "    </tr>\n",
       "    <tr>\n",
       "      <th>50%</th>\n",
       "      <td>0.000000</td>\n",
       "      <td>0.000000</td>\n",
       "      <td>0.000000</td>\n",
       "      <td>0.000000</td>\n",
       "      <td>0.000000</td>\n",
       "      <td>0.000000</td>\n",
       "      <td>0.000000</td>\n",
       "      <td>0.000000</td>\n",
       "      <td>0.000000</td>\n",
       "      <td>0.000000</td>\n",
       "      <td>...</td>\n",
       "      <td>0.000000</td>\n",
       "      <td>0.000000</td>\n",
       "      <td>0.000000</td>\n",
       "      <td>0.000000</td>\n",
       "      <td>0.000000</td>\n",
       "      <td>0.000000</td>\n",
       "      <td>0.000000</td>\n",
       "      <td>0.000000</td>\n",
       "      <td>0.000000</td>\n",
       "      <td>0.000000</td>\n",
       "    </tr>\n",
       "    <tr>\n",
       "      <th>75%</th>\n",
       "      <td>0.000000</td>\n",
       "      <td>0.000000</td>\n",
       "      <td>1.000000</td>\n",
       "      <td>0.000000</td>\n",
       "      <td>0.000000</td>\n",
       "      <td>1.000000</td>\n",
       "      <td>1.000000</td>\n",
       "      <td>0.000000</td>\n",
       "      <td>1.000000</td>\n",
       "      <td>1.000000</td>\n",
       "      <td>...</td>\n",
       "      <td>0.000000</td>\n",
       "      <td>1.000000</td>\n",
       "      <td>0.000000</td>\n",
       "      <td>1.000000</td>\n",
       "      <td>1.000000</td>\n",
       "      <td>0.000000</td>\n",
       "      <td>0.000000</td>\n",
       "      <td>0.000000</td>\n",
       "      <td>0.000000</td>\n",
       "      <td>0.000000</td>\n",
       "    </tr>\n",
       "    <tr>\n",
       "      <th>max</th>\n",
       "      <td>1.000000</td>\n",
       "      <td>1.000000</td>\n",
       "      <td>1.000000</td>\n",
       "      <td>1.000000</td>\n",
       "      <td>1.000000</td>\n",
       "      <td>1.000000</td>\n",
       "      <td>1.000000</td>\n",
       "      <td>1.000000</td>\n",
       "      <td>1.000000</td>\n",
       "      <td>1.000000</td>\n",
       "      <td>...</td>\n",
       "      <td>1.000000</td>\n",
       "      <td>1.000000</td>\n",
       "      <td>1.000000</td>\n",
       "      <td>1.000000</td>\n",
       "      <td>1.000000</td>\n",
       "      <td>1.000000</td>\n",
       "      <td>1.000000</td>\n",
       "      <td>1.000000</td>\n",
       "      <td>1.000000</td>\n",
       "      <td>1.000000</td>\n",
       "    </tr>\n",
       "  </tbody>\n",
       "</table>\n",
       "<p>8 rows × 117 columns</p>\n",
       "</div>"
      ],
      "text/plain": [
       "       cap-shape_b  cap-shape_c  cap-shape_f  cap-shape_k  cap-shape_s  \\\n",
       "count  8124.000000  8124.000000  8124.000000  8124.000000  8124.000000   \n",
       "mean      0.055638     0.000492     0.387986     0.101920     0.003939   \n",
       "std       0.229235     0.022185     0.487321     0.302562     0.062641   \n",
       "min       0.000000     0.000000     0.000000     0.000000     0.000000   \n",
       "25%       0.000000     0.000000     0.000000     0.000000     0.000000   \n",
       "50%       0.000000     0.000000     0.000000     0.000000     0.000000   \n",
       "75%       0.000000     0.000000     1.000000     0.000000     0.000000   \n",
       "max       1.000000     1.000000     1.000000     1.000000     1.000000   \n",
       "\n",
       "       cap-shape_x  cap-surface_f  cap-surface_g  cap-surface_s  \\\n",
       "count  8124.000000    8124.000000    8124.000000    8124.000000   \n",
       "mean      0.450025       0.285574       0.000492       0.314623   \n",
       "std       0.497527       0.451715       0.022185       0.464394   \n",
       "min       0.000000       0.000000       0.000000       0.000000   \n",
       "25%       0.000000       0.000000       0.000000       0.000000   \n",
       "50%       0.000000       0.000000       0.000000       0.000000   \n",
       "75%       1.000000       1.000000       0.000000       1.000000   \n",
       "max       1.000000       1.000000       1.000000       1.000000   \n",
       "\n",
       "       cap-surface_y  ...  population_s  population_v  population_y  \\\n",
       "count    8124.000000  ...   8124.000000   8124.000000   8124.000000   \n",
       "mean        0.399311  ...      0.153619      0.497292      0.210734   \n",
       "std         0.489787  ...      0.360605      0.500023      0.407855   \n",
       "min         0.000000  ...      0.000000      0.000000      0.000000   \n",
       "25%         0.000000  ...      0.000000      0.000000      0.000000   \n",
       "50%         0.000000  ...      0.000000      0.000000      0.000000   \n",
       "75%         1.000000  ...      0.000000      1.000000      0.000000   \n",
       "max         1.000000  ...      1.000000      1.000000      1.000000   \n",
       "\n",
       "         habitat_d    habitat_g    habitat_l    habitat_m    habitat_p  \\\n",
       "count  8124.000000  8124.000000  8124.000000  8124.000000  8124.000000   \n",
       "mean      0.387494     0.264402     0.102413     0.035943     0.140817   \n",
       "std       0.487208     0.441041     0.303209     0.186159     0.347854   \n",
       "min       0.000000     0.000000     0.000000     0.000000     0.000000   \n",
       "25%       0.000000     0.000000     0.000000     0.000000     0.000000   \n",
       "50%       0.000000     0.000000     0.000000     0.000000     0.000000   \n",
       "75%       1.000000     1.000000     0.000000     0.000000     0.000000   \n",
       "max       1.000000     1.000000     1.000000     1.000000     1.000000   \n",
       "\n",
       "         habitat_u    habitat_w  \n",
       "count  8124.000000  8124.000000  \n",
       "mean      0.045298     0.023634  \n",
       "std       0.207969     0.151914  \n",
       "min       0.000000     0.000000  \n",
       "25%       0.000000     0.000000  \n",
       "50%       0.000000     0.000000  \n",
       "75%       0.000000     0.000000  \n",
       "max       1.000000     1.000000  \n",
       "\n",
       "[8 rows x 117 columns]"
      ]
     },
     "execution_count": 27,
     "metadata": {},
     "output_type": "execute_result"
    }
   ],
   "source": [
    "x.describe()"
=======
   "execution_count": 7,
   "metadata": {},
   "outputs": [],
   "source": [
    "import ipywidgets as widgets\n",
    "from IPython.display import display"
>>>>>>> 21659dfc44594dace5bb0cce2d3d907fe3d22168
   ]
  },
  {
   "cell_type": "code",
<<<<<<< HEAD
   "execution_count": 29,
   "metadata": {},
   "outputs": [
    {
     "name": "stdout",
     "output_type": "stream",
     "text": [
      "x_train shape:  (6499, 117)\n",
      "x_test shape:  (1625, 117)\n",
      "y_train shape:  (6499,)\n",
      "y_test shape:  (1625,)\n"
     ]
    }
   ],
   "source": [
    "print(\"x_train shape: \", X_train.shape)\n",
    "print(\"x_test shape: \", X_test.shape)\n",
    "print(\"y_train shape: \", y_train.shape)\n",
    "print(\"y_test shape: \", y_test.shape)"
=======
   "execution_count": 8,
   "metadata": {},
   "outputs": [],
   "source": [
    "widgets_cap_shape = widgets.Dropdown(options=[\"bell\", \"conical\", \"convex\", \"flat\", \"knobbed\", \"sunken\"])\n",
    "widgets_cap_surface = widgets.Dropdown(options=[\"fibrous\", \"grooves\", \"scaly\", \"smooth\"])"
>>>>>>> 21659dfc44594dace5bb0cce2d3d907fe3d22168
   ]
  },
  {
   "cell_type": "code",
<<<<<<< HEAD
   "execution_count": 31,
=======
   "execution_count": 9,
>>>>>>> 21659dfc44594dace5bb0cce2d3d907fe3d22168
   "metadata": {},
   "outputs": [
    {
     "data": {
<<<<<<< HEAD
      "text/plain": [
       "0.5222341898753654"
      ]
     },
     "execution_count": 31,
     "metadata": {},
     "output_type": "execute_result"
    }
   ],
   "source": [
    "sum(y_train)/len(y_train)"
   ]
  },
  {
   "cell_type": "code",
   "execution_count": 32,
   "metadata": {},
   "outputs": [
    {
     "data": {
      "text/plain": [
       "0.5009230769230769"
      ]
     },
     "execution_count": 32,
=======
      "application/vnd.jupyter.widget-view+json": {
       "model_id": "bd3f8becca104d468e5f338d65feb61e",
       "version_major": 2,
       "version_minor": 0
      },
      "text/plain": [
       "interactive(children=(Dropdown(description='Cap_Shape', options=('bell', 'conical', 'convex', 'flat', 'knobbed…"
      ]
     },
     "metadata": {},
     "output_type": "display_data"
    },
    {
     "data": {
      "text/plain": [
       "<function __main__.widget_handler(Cap_Shape, Cap_Surface)>"
      ]
     },
     "execution_count": 9,
>>>>>>> 21659dfc44594dace5bb0cce2d3d907fe3d22168
     "metadata": {},
     "output_type": "execute_result"
    }
   ],
   "source": [
<<<<<<< HEAD
    "sum(y_test)/len(y_test)"
=======
    "values = {\"Cap Shape\": widgets_cap_shape.value, \"Cap Surface\": widgets_cap_surface.value}\n",
    "\n",
    "def widget_handler(Cap_Shape, Cap_Surface):\n",
    "    values[\"Cap Shape\"] = Cap_Shape\n",
    "    values[\"Cap Surface\"] = Cap_Surface\n",
    "\n",
    "widgets.interact(widget_handler, Cap_Shape = widgets_cap_shape, Cap_Surface = widgets_cap_surface)"
>>>>>>> 21659dfc44594dace5bb0cce2d3d907fe3d22168
   ]
  },
  {
   "cell_type": "code",
<<<<<<< HEAD
   "execution_count": 49,
   "metadata": {},
   "outputs": [
    {
     "data": {
      "text/plain": [
       "XGBClassifier(base_score=0.5, booster='gbtree', colsample_bylevel=1,\n",
       "              colsample_bynode=1, colsample_bytree=1, enable_categorical=False,\n",
       "              eval_metric='error', gamma=0, gpu_id=-1, importance_type=None,\n",
       "              interaction_constraints='', learning_rate=0.300000012,\n",
       "              max_delta_step=0, max_depth=3, min_child_weight=1, missing=nan,\n",
       "              monotone_constraints='()', n_estimators=100, n_jobs=4,\n",
       "              num_parallel_tree=1, predictor='auto', random_state=0,\n",
       "              reg_alpha=0, reg_lambda=1, scale_pos_weight=1, subsample=1,\n",
       "              tree_method='exact', use_label_encoder=False,\n",
       "              validate_parameters=1, verbosity=None)"
      ]
     },
     "execution_count": 49,
     "metadata": {},
     "output_type": "execute_result"
    }
   ],
   "source": [
    "xgb_cl_1 = xgb.XGBClassifier( n_estimators=100,\n",
    "                           max_depth=3,\n",
    "                           use_label_encoder=False,\n",
    "                           eval_metric='error'\n",
    "                        )\n",
    "xgb_cl_1.fit(X_train, y_train)"
=======
   "execution_count": 10,
   "metadata": {},
   "outputs": [
    {
     "name": "stdout",
     "output_type": "stream",
     "text": [
      "{'Cap Shape': 'bell', 'Cap Surface': 'fibrous'}\n"
     ]
    }
   ],
   "source": [
    "print(values)"
   ]
  },
  {
   "cell_type": "code",
   "execution_count": 11,
   "metadata": {},
   "outputs": [],
   "source": [
    "run_button = widgets.Button(description = \"Run\")\n",
    "\n",
    "def button_callback(button):\n",
    "    print(values)\n",
    "\n",
    "run_button.on_click(button_callback)"
>>>>>>> 21659dfc44594dace5bb0cce2d3d907fe3d22168
   ]
  },
  {
   "cell_type": "code",
<<<<<<< HEAD
   "execution_count": 44,
=======
   "execution_count": 12,
>>>>>>> 21659dfc44594dace5bb0cce2d3d907fe3d22168
   "metadata": {},
   "outputs": [
    {
     "data": {
<<<<<<< HEAD
      "text/plain": [
       "<sklearn.metrics._plot.confusion_matrix.ConfusionMatrixDisplay at 0x25f34a38a00>"
      ]
     },
     "execution_count": 44,
     "metadata": {},
     "output_type": "execute_result"
    },
    {
     "data": {
      "image/png": "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\n",
      "text/plain": [
       "<Figure size 432x288 with 2 Axes>"
      ]
     },
     "metadata": {
      "needs_background": "light"
     },
     "output_type": "display_data"
    }
   ],
   "source": [
    "plot_confusion_matrix(xgb_cl_1,\n",
    "                      X_test,\n",
    "                      y_test,\n",
    "                      values_format='d',\n",
    "                      display_labels=[\"Jadalne\", \"Trujace\"])"
   ]
  },
  {
   "cell_type": "code",
   "execution_count": 50,
   "metadata": {},
   "outputs": [
    {
     "data": {
      "text/plain": [
       "XGBClassifier(base_score=0.5, booster='gbtree', colsample_bylevel=1,\n",
       "              colsample_bynode=1, colsample_bytree=1, enable_categorical=False,\n",
       "              eval_metric='aucpr', gamma=0, gpu_id=-1, importance_type=None,\n",
       "              interaction_constraints='', learning_rate=0.300000012,\n",
       "              max_delta_step=0, max_depth=6, min_child_weight=1, missing=nan,\n",
       "              monotone_constraints='()', n_estimators=100, n_jobs=4,\n",
       "              num_parallel_tree=1, predictor='auto', random_state=42,\n",
       "              reg_alpha=0, reg_lambda=1, scale_pos_weight=1, seed=42,\n",
       "              subsample=1, tree_method='exact', use_label_encoder=False,\n",
       "              validate_parameters=1, ...)"
      ]
     },
     "execution_count": 50,
     "metadata": {},
     "output_type": "execute_result"
    }
   ],
   "source": [
    "xgb_cl_2 = xgb.XGBClassifier(n_estimators=100,\n",
    "                             seed=42,\n",
    "                             objective='binary:logistic',\n",
    "                             use_label_encoder=False,\n",
    "                             eval_metric='aucpr'\n",
    "                             )\n",
    "xgb_cl_2.fit(X_train, y_train)"
   ]
  },
  {
   "cell_type": "code",
   "execution_count": null,
   "metadata": {},
   "outputs": [],
   "source": []
=======
      "application/vnd.jupyter.widget-view+json": {
       "model_id": "98db276c9beb4a3a901144acd022b9c2",
       "version_major": 2,
       "version_minor": 0
      },
      "text/plain": [
       "interactive(children=(Dropdown(description='Cap_Shape', options=('bell', 'conical', 'convex', 'flat', 'knobbed…"
      ]
     },
     "metadata": {},
     "output_type": "display_data"
    },
    {
     "data": {
      "text/plain": [
       "<function __main__.widget_handler(Cap_Shape, Cap_Surface)>"
      ]
     },
     "metadata": {},
     "output_type": "display_data"
    },
    {
     "data": {
      "application/vnd.jupyter.widget-view+json": {
       "model_id": "05ab343065ee48a1a20eaab28bfb7fce",
       "version_major": 2,
       "version_minor": 0
      },
      "text/plain": [
       "Button(description='Run', style=ButtonStyle())"
      ]
     },
     "metadata": {},
     "output_type": "display_data"
    },
    {
     "name": "stdout",
     "output_type": "stream",
     "text": [
      "{'Cap Shape': 'convex', 'Cap Surface': 'scaly'}\n"
     ]
    }
   ],
   "source": [
    "display(widgets.interact(widget_handler, Cap_Shape = widgets_cap_shape, Cap_Surface = widgets_cap_surface), run_button)"
   ]
>>>>>>> 21659dfc44594dace5bb0cce2d3d907fe3d22168
  }
 ],
 "metadata": {
  "kernelspec": {
   "display_name": "Python 3",
   "language": "python",
   "name": "python3"
  },
  "language_info": {
   "codemirror_mode": {
    "name": "ipython",
    "version": 3
   },
   "file_extension": ".py",
   "mimetype": "text/x-python",
   "name": "python",
   "nbconvert_exporter": "python",
   "pygments_lexer": "ipython3",
   "version": "3.8.8"
  }
 },
 "nbformat": 4,
 "nbformat_minor": 4
}
