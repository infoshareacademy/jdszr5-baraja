{
 "cells": [
  {
   "cell_type": "markdown",
   "metadata": {
    "slideshow": {
     "slide_type": "slide"
    }
   },
   "source": [
    "# Opowieść z cyklu... \n",
    "\n",
    "# \"Wyprawa na grzyby\""
   ]
  },
  {
   "cell_type": "markdown",
   "metadata": {
    "slideshow": {
     "slide_type": "skip"
    }
   },
   "source": [
    "## Opis cech (features)"
   ]
  },
  {
   "cell_type": "markdown",
   "metadata": {
    "jupyter": {
     "source_hidden": true
    },
    "slideshow": {
     "slide_type": "skip"
    }
   },
   "source": [
    "### Lista występujących cech w danych:\n",
    "\n",
    "##### 1. class  _klasa_:\n",
    "- edible = e    > _jadalne_\n",
    "- poisonous = p > _trujące_\n",
    "\n",
    "##### 2. cap-shape  _kształt kapelusza_:\n",
    "- bell = b      > _dzwon_\n",
    "- conical = c   > _stożkowy_\n",
    "- convex = x    > _wypukły_\n",
    "- flat = f      > _płaski_\n",
    "- knobbed = k   > _gałkowy_\n",
    "- sunken = s    > _wklęsły_\n",
    "\n",
    "##### 3. cap-surface  _powierzchnia kapelusza_:\n",
    "- fibrous = f   > _włóknista_\n",
    "- grooves = g   > _rowkowata_\n",
    "- scaly = y     > _łuskowata_\n",
    "- smooth = s    > _gładka_\n",
    "\n",
    "##### 3. cap-color _kolor kapelusza_:\n",
    "- brown = n     > _brązowy_\n",
    "- buff = b      > _jasnobrązowożółty_\n",
    "- cinnamon = c  > _cynamon_\n",
    "- gray = g      > _szary_\n",
    "- green = r     > _zielony_\n",
    "- pink = p      > _różowy_\n",
    "- purple = u    > _fioletowy_\n",
    "- red = e       > _czerwony_\n",
    "- white = w     > _biały_\n",
    "- yellow = y    > _zółty_\n",
    "\n",
    "##### 4. bruises _bruzdy_:\n",
    "- bruises = t   > _prawda_\n",
    "- no = f        > _fałsz_\n",
    "\n",
    "##### 5. odor _zapach_:\n",
    "- almond=a > _migdałowy_\n",
    "- anise=l >_anyżowy_\n",
    "- creoote=c >_kreotyzowy_\n",
    "- fishy=y >_rybi_\n",
    "- foul=f >_śmierdzący_\n",
    "- musty=m >_stęchły_\n",
    "- none=n \n",
    "- pungent=p >_cierpki_\n",
    "- spicy=s > _pikantny_\n",
    "\n",
    "##### 6. gill-attachment _blaszki:\n",
    "- attached=a\n",
    "- descending=d\n",
    "- free=f\n",
    "- notched=n\n",
    "\n",
    "##### 7. gill-spacing _odstępy blaszek_:\n",
    "- close=c\n",
    "- crowded=w\n",
    "- distant=d\n",
    "\n",
    "##### 8. gill-size _rozmiar blaszek_:\n",
    "- broad=b\n",
    "- narrow=n\n",
    "\n",
    "##### 9. gill-color _kolor blaszek_:\n",
    "- black=k\n",
    "- brown=n\n",
    "- buff=b\n",
    "- chocolate=h\n",
    "- gray=g\n",
    "- green=r\n",
    "- orange=o\n",
    "- pink=p\n",
    "- purple=u\n",
    "- red=e\n",
    "- white=w\n",
    "- yellow=y\n",
    "\n",
    "##### 10. stalk-shape _trzon_:\n",
    "- enlarging=e\n",
    "- tapering=t\n",
    "\n",
    "##### 11. stalk-root _korzeń trzonu_:\n",
    "- bulbous=b\n",
    "- club=c\n",
    "- cup=u\n",
    "- equal=e\n",
    "- rhizomorphs=z\n",
    "- rooted=r\n",
    "- missing=?\n",
    "\n",
    "##### 12. stalk-surface-above-ring _powierzchnia trzonu powyżej pierścienia_:\n",
    "- fibrous=f > _włóknista_\n",
    "- scaly=y > _łuskowata_\n",
    "- silky=k > _jedwabista_\n",
    "- smooth=s > _gładka_\n",
    "\n",
    "##### 13. stalk-surface-below-ring _powierzchnia trzonu poniżej pierścienia_:\n",
    "- fibrous=f > _włóknista_\n",
    "- scaly=y > _łuskowata_\n",
    "- silky=k > _jedwabista_\n",
    "- smooth=s > _gładka_\n",
    "\n",
    "##### 14. stalk-color-above-ring _kolor trzonu powyżej pierścienia_:\n",
    "- brown=n\n",
    "- buff=b\n",
    "- cinnamon=c\n",
    "- gray=g\n",
    "- orange=o\n",
    "- pink=p\n",
    "- red=e\n",
    "- white=w\n",
    "- yellow=y\n",
    "\n",
    "##### 15. stalk-color-below-ring _kolor trzonu poniżej pierścienia_:\n",
    "- brown=n\n",
    "- buff=b\n",
    "- cinnamon=c\n",
    "- gray=g\n",
    "- orange=o\n",
    "- pink=p\n",
    "- red=e\n",
    "- white=w\n",
    "- yellow=y\n",
    "\n",
    "##### 16. veil-type _typ welonu_:\n",
    "- parial=p\n",
    "- universal=u\n",
    "\n",
    "##### 17. veil-color _kolor welonu_:\n",
    "- brown=n,\n",
    "- orange=o\n",
    "- white=w\n",
    "- yellow=y\n",
    "\n",
    "##### 18. ring-number _ilość pierścieni_:\n",
    "- none=none=o,two=t\n",
    "\n",
    "##### 19. ring-type _rodzaj pierścienia_:\n",
    "- cobwebby=c\n",
    "- evanescent=e\n",
    "- flaring=f\n",
    "- large=l\n",
    "- none=n\n",
    "- pendant=p\n",
    "- sheathing=s\n",
    "- zone=z\n",
    "\n",
    "##### 20. spore-print-color _kolor zarodników_:\n",
    "- black=k\n",
    "- brown=n\n",
    "- buff=b\n",
    "- chocolate=h\n",
    "- green=r\n",
    "- orange=o\n",
    "- purple=u\n",
    "- white=w\n",
    "- yellow=y\n",
    "\n",
    "##### 21. population _populacja_:\n",
    "- abundant=a\n",
    "- clustered=c\n",
    "- numerous=n\n",
    "- scattered=s\n",
    "- several=v\n",
    "- solitary=y\n",
    "\n",
    "##### 22. habitat _środowisko występowania_:\n",
    "- grasses=g\n",
    "- leaves=l\n",
    "- meadows=m\n",
    "- paths=p\n",
    "- urban=u\n",
    "- waste=w\n",
    "- woods=d"
   ]
  },
  {
   "cell_type": "code",
   "execution_count": 67,
   "metadata": {
    "slideshow": {
     "slide_type": "skip"
    }
   },
   "outputs": [],
   "source": [
    "import pandas as pd\n",
    "import numpy as np\n",
    "import matplotlib.pyplot as plt\n",
    "import xgboost as xgb\n",
    "import seaborn as sns\n",
    "from sklearn.ensemble import RandomForestClassifier\n",
    "from sklearn.model_selection import train_test_split\n",
    "from sklearn.tree import DecisionTreeClassifier, plot_tree\n",
    "from sklearn.linear_model import LogisticRegression\n",
    "from mlxtend import plotting\n",
    "from sklearn.metrics import balanced_accuracy_score, roc_auc_score, make_scorer, accuracy_score\n",
    "from sklearn.metrics import confusion_matrix, classification_report\n",
    "from sklearn.metrics import plot_confusion_matrix"
   ]
  },
  {
   "cell_type": "code",
   "execution_count": 68,
   "metadata": {
    "slideshow": {
     "slide_type": "skip"
    }
   },
   "outputs": [],
   "source": [
    "df = pd.read_csv('mushrooms.csv')\n",
    "df_columns = pd.read_csv('mushrooms.csv')"
   ]
  },
  {
   "cell_type": "markdown",
   "metadata": {
    "slideshow": {
     "slide_type": "slide"
    }
   },
   "source": [
    "# Przegląd danych"
   ]
  },
  {
   "cell_type": "code",
   "execution_count": 69,
   "metadata": {
    "slideshow": {
     "slide_type": "subslide"
    }
   },
   "outputs": [
    {
     "data": {
      "text/plain": [
       "(8124, 23)"
      ]
     },
     "execution_count": 69,
     "metadata": {},
     "output_type": "execute_result"
    }
   ],
   "source": [
    "df.shape"
   ]
  },
  {
   "cell_type": "code",
   "execution_count": 70,
   "metadata": {
    "slideshow": {
     "slide_type": "skip"
    }
   },
   "outputs": [
    {
     "data": {
      "text/plain": [
       "Index(['class', 'cap-shape', 'cap-surface', 'cap-color', 'bruises', 'odor',\n",
       "       'gill-attachment', 'gill-spacing', 'gill-size', 'gill-color',\n",
       "       'stalk-shape', 'stalk-root', 'stalk-surface-above-ring',\n",
       "       'stalk-surface-below-ring', 'stalk-color-above-ring',\n",
       "       'stalk-color-below-ring', 'veil-type', 'veil-color', 'ring-number',\n",
       "       'ring-type', 'spore-print-color', 'population', 'habitat'],\n",
       "      dtype='object')"
      ]
     },
     "execution_count": 70,
     "metadata": {},
     "output_type": "execute_result"
    }
   ],
   "source": [
    "df.columns"
   ]
  },
  {
   "cell_type": "code",
   "execution_count": 71,
   "metadata": {
    "scrolled": true,
    "slideshow": {
     "slide_type": "subslide"
    }
   },
   "outputs": [
    {
     "data": {
      "text/html": [
       "<div>\n",
       "<style scoped>\n",
       "    .dataframe tbody tr th:only-of-type {\n",
       "        vertical-align: middle;\n",
       "    }\n",
       "\n",
       "    .dataframe tbody tr th {\n",
       "        vertical-align: top;\n",
       "    }\n",
       "\n",
       "    .dataframe thead th {\n",
       "        text-align: right;\n",
       "    }\n",
       "</style>\n",
       "<table border=\"1\" class=\"dataframe\">\n",
       "  <thead>\n",
       "    <tr style=\"text-align: right;\">\n",
       "      <th></th>\n",
       "      <th>class</th>\n",
       "      <th>cap-shape</th>\n",
       "      <th>cap-surface</th>\n",
       "      <th>cap-color</th>\n",
       "      <th>bruises</th>\n",
       "      <th>odor</th>\n",
       "      <th>gill-attachment</th>\n",
       "      <th>gill-spacing</th>\n",
       "      <th>gill-size</th>\n",
       "      <th>gill-color</th>\n",
       "      <th>...</th>\n",
       "      <th>stalk-surface-below-ring</th>\n",
       "      <th>stalk-color-above-ring</th>\n",
       "      <th>stalk-color-below-ring</th>\n",
       "      <th>veil-type</th>\n",
       "      <th>veil-color</th>\n",
       "      <th>ring-number</th>\n",
       "      <th>ring-type</th>\n",
       "      <th>spore-print-color</th>\n",
       "      <th>population</th>\n",
       "      <th>habitat</th>\n",
       "    </tr>\n",
       "  </thead>\n",
       "  <tbody>\n",
       "    <tr>\n",
       "      <th>0</th>\n",
       "      <td>p</td>\n",
       "      <td>x</td>\n",
       "      <td>s</td>\n",
       "      <td>n</td>\n",
       "      <td>t</td>\n",
       "      <td>p</td>\n",
       "      <td>f</td>\n",
       "      <td>c</td>\n",
       "      <td>n</td>\n",
       "      <td>k</td>\n",
       "      <td>...</td>\n",
       "      <td>s</td>\n",
       "      <td>w</td>\n",
       "      <td>w</td>\n",
       "      <td>p</td>\n",
       "      <td>w</td>\n",
       "      <td>o</td>\n",
       "      <td>p</td>\n",
       "      <td>k</td>\n",
       "      <td>s</td>\n",
       "      <td>u</td>\n",
       "    </tr>\n",
       "    <tr>\n",
       "      <th>1</th>\n",
       "      <td>e</td>\n",
       "      <td>x</td>\n",
       "      <td>s</td>\n",
       "      <td>y</td>\n",
       "      <td>t</td>\n",
       "      <td>a</td>\n",
       "      <td>f</td>\n",
       "      <td>c</td>\n",
       "      <td>b</td>\n",
       "      <td>k</td>\n",
       "      <td>...</td>\n",
       "      <td>s</td>\n",
       "      <td>w</td>\n",
       "      <td>w</td>\n",
       "      <td>p</td>\n",
       "      <td>w</td>\n",
       "      <td>o</td>\n",
       "      <td>p</td>\n",
       "      <td>n</td>\n",
       "      <td>n</td>\n",
       "      <td>g</td>\n",
       "    </tr>\n",
       "    <tr>\n",
       "      <th>2</th>\n",
       "      <td>e</td>\n",
       "      <td>b</td>\n",
       "      <td>s</td>\n",
       "      <td>w</td>\n",
       "      <td>t</td>\n",
       "      <td>l</td>\n",
       "      <td>f</td>\n",
       "      <td>c</td>\n",
       "      <td>b</td>\n",
       "      <td>n</td>\n",
       "      <td>...</td>\n",
       "      <td>s</td>\n",
       "      <td>w</td>\n",
       "      <td>w</td>\n",
       "      <td>p</td>\n",
       "      <td>w</td>\n",
       "      <td>o</td>\n",
       "      <td>p</td>\n",
       "      <td>n</td>\n",
       "      <td>n</td>\n",
       "      <td>m</td>\n",
       "    </tr>\n",
       "    <tr>\n",
       "      <th>3</th>\n",
       "      <td>p</td>\n",
       "      <td>x</td>\n",
       "      <td>y</td>\n",
       "      <td>w</td>\n",
       "      <td>t</td>\n",
       "      <td>p</td>\n",
       "      <td>f</td>\n",
       "      <td>c</td>\n",
       "      <td>n</td>\n",
       "      <td>n</td>\n",
       "      <td>...</td>\n",
       "      <td>s</td>\n",
       "      <td>w</td>\n",
       "      <td>w</td>\n",
       "      <td>p</td>\n",
       "      <td>w</td>\n",
       "      <td>o</td>\n",
       "      <td>p</td>\n",
       "      <td>k</td>\n",
       "      <td>s</td>\n",
       "      <td>u</td>\n",
       "    </tr>\n",
       "    <tr>\n",
       "      <th>4</th>\n",
       "      <td>e</td>\n",
       "      <td>x</td>\n",
       "      <td>s</td>\n",
       "      <td>g</td>\n",
       "      <td>f</td>\n",
       "      <td>n</td>\n",
       "      <td>f</td>\n",
       "      <td>w</td>\n",
       "      <td>b</td>\n",
       "      <td>k</td>\n",
       "      <td>...</td>\n",
       "      <td>s</td>\n",
       "      <td>w</td>\n",
       "      <td>w</td>\n",
       "      <td>p</td>\n",
       "      <td>w</td>\n",
       "      <td>o</td>\n",
       "      <td>e</td>\n",
       "      <td>n</td>\n",
       "      <td>a</td>\n",
       "      <td>g</td>\n",
       "    </tr>\n",
       "  </tbody>\n",
       "</table>\n",
       "<p>5 rows × 23 columns</p>\n",
       "</div>"
      ],
      "text/plain": [
       "  class cap-shape cap-surface cap-color bruises odor gill-attachment  \\\n",
       "0     p         x           s         n       t    p               f   \n",
       "1     e         x           s         y       t    a               f   \n",
       "2     e         b           s         w       t    l               f   \n",
       "3     p         x           y         w       t    p               f   \n",
       "4     e         x           s         g       f    n               f   \n",
       "\n",
       "  gill-spacing gill-size gill-color  ... stalk-surface-below-ring  \\\n",
       "0            c         n          k  ...                        s   \n",
       "1            c         b          k  ...                        s   \n",
       "2            c         b          n  ...                        s   \n",
       "3            c         n          n  ...                        s   \n",
       "4            w         b          k  ...                        s   \n",
       "\n",
       "  stalk-color-above-ring stalk-color-below-ring veil-type veil-color  \\\n",
       "0                      w                      w         p          w   \n",
       "1                      w                      w         p          w   \n",
       "2                      w                      w         p          w   \n",
       "3                      w                      w         p          w   \n",
       "4                      w                      w         p          w   \n",
       "\n",
       "  ring-number ring-type spore-print-color population habitat  \n",
       "0           o         p                 k          s       u  \n",
       "1           o         p                 n          n       g  \n",
       "2           o         p                 n          n       m  \n",
       "3           o         p                 k          s       u  \n",
       "4           o         e                 n          a       g  \n",
       "\n",
       "[5 rows x 23 columns]"
      ]
     },
     "execution_count": 71,
     "metadata": {},
     "output_type": "execute_result"
    }
   ],
   "source": [
    "df.head()"
   ]
  },
  {
   "cell_type": "code",
   "execution_count": 72,
   "metadata": {
    "jupyter": {
     "outputs_hidden": true
    },
    "slideshow": {
     "slide_type": "subslide"
    }
   },
   "outputs": [
    {
     "name": "stdout",
     "output_type": "stream",
     "text": [
      "<class 'pandas.core.frame.DataFrame'>\n",
      "RangeIndex: 8124 entries, 0 to 8123\n",
      "Data columns (total 23 columns):\n",
      " #   Column                    Non-Null Count  Dtype \n",
      "---  ------                    --------------  ----- \n",
      " 0   class                     8124 non-null   object\n",
      " 1   cap-shape                 8124 non-null   object\n",
      " 2   cap-surface               8124 non-null   object\n",
      " 3   cap-color                 8124 non-null   object\n",
      " 4   bruises                   8124 non-null   object\n",
      " 5   odor                      8124 non-null   object\n",
      " 6   gill-attachment           8124 non-null   object\n",
      " 7   gill-spacing              8124 non-null   object\n",
      " 8   gill-size                 8124 non-null   object\n",
      " 9   gill-color                8124 non-null   object\n",
      " 10  stalk-shape               8124 non-null   object\n",
      " 11  stalk-root                8124 non-null   object\n",
      " 12  stalk-surface-above-ring  8124 non-null   object\n",
      " 13  stalk-surface-below-ring  8124 non-null   object\n",
      " 14  stalk-color-above-ring    8124 non-null   object\n",
      " 15  stalk-color-below-ring    8124 non-null   object\n",
      " 16  veil-type                 8124 non-null   object\n",
      " 17  veil-color                8124 non-null   object\n",
      " 18  ring-number               8124 non-null   object\n",
      " 19  ring-type                 8124 non-null   object\n",
      " 20  spore-print-color         8124 non-null   object\n",
      " 21  population                8124 non-null   object\n",
      " 22  habitat                   8124 non-null   object\n",
      "dtypes: object(23)\n",
      "memory usage: 1.4+ MB\n"
     ]
    }
   ],
   "source": [
    "df.info()"
   ]
  },
  {
   "cell_type": "code",
   "execution_count": 73,
   "metadata": {
    "jupyter": {
     "outputs_hidden": true
    },
    "slideshow": {
     "slide_type": "subslide"
    }
   },
   "outputs": [
    {
     "data": {
      "text/html": [
       "<div>\n",
       "<style scoped>\n",
       "    .dataframe tbody tr th:only-of-type {\n",
       "        vertical-align: middle;\n",
       "    }\n",
       "\n",
       "    .dataframe tbody tr th {\n",
       "        vertical-align: top;\n",
       "    }\n",
       "\n",
       "    .dataframe thead th {\n",
       "        text-align: right;\n",
       "    }\n",
       "</style>\n",
       "<table border=\"1\" class=\"dataframe\">\n",
       "  <thead>\n",
       "    <tr style=\"text-align: right;\">\n",
       "      <th></th>\n",
       "      <th>class</th>\n",
       "      <th>cap-shape</th>\n",
       "      <th>cap-surface</th>\n",
       "      <th>cap-color</th>\n",
       "      <th>bruises</th>\n",
       "      <th>odor</th>\n",
       "      <th>gill-attachment</th>\n",
       "      <th>gill-spacing</th>\n",
       "      <th>gill-size</th>\n",
       "      <th>gill-color</th>\n",
       "      <th>...</th>\n",
       "      <th>stalk-surface-below-ring</th>\n",
       "      <th>stalk-color-above-ring</th>\n",
       "      <th>stalk-color-below-ring</th>\n",
       "      <th>veil-type</th>\n",
       "      <th>veil-color</th>\n",
       "      <th>ring-number</th>\n",
       "      <th>ring-type</th>\n",
       "      <th>spore-print-color</th>\n",
       "      <th>population</th>\n",
       "      <th>habitat</th>\n",
       "    </tr>\n",
       "  </thead>\n",
       "  <tbody>\n",
       "    <tr>\n",
       "      <th>count</th>\n",
       "      <td>8124</td>\n",
       "      <td>8124</td>\n",
       "      <td>8124</td>\n",
       "      <td>8124</td>\n",
       "      <td>8124</td>\n",
       "      <td>8124</td>\n",
       "      <td>8124</td>\n",
       "      <td>8124</td>\n",
       "      <td>8124</td>\n",
       "      <td>8124</td>\n",
       "      <td>...</td>\n",
       "      <td>8124</td>\n",
       "      <td>8124</td>\n",
       "      <td>8124</td>\n",
       "      <td>8124</td>\n",
       "      <td>8124</td>\n",
       "      <td>8124</td>\n",
       "      <td>8124</td>\n",
       "      <td>8124</td>\n",
       "      <td>8124</td>\n",
       "      <td>8124</td>\n",
       "    </tr>\n",
       "    <tr>\n",
       "      <th>unique</th>\n",
       "      <td>2</td>\n",
       "      <td>6</td>\n",
       "      <td>4</td>\n",
       "      <td>10</td>\n",
       "      <td>2</td>\n",
       "      <td>9</td>\n",
       "      <td>2</td>\n",
       "      <td>2</td>\n",
       "      <td>2</td>\n",
       "      <td>12</td>\n",
       "      <td>...</td>\n",
       "      <td>4</td>\n",
       "      <td>9</td>\n",
       "      <td>9</td>\n",
       "      <td>1</td>\n",
       "      <td>4</td>\n",
       "      <td>3</td>\n",
       "      <td>5</td>\n",
       "      <td>9</td>\n",
       "      <td>6</td>\n",
       "      <td>7</td>\n",
       "    </tr>\n",
       "    <tr>\n",
       "      <th>top</th>\n",
       "      <td>e</td>\n",
       "      <td>x</td>\n",
       "      <td>y</td>\n",
       "      <td>n</td>\n",
       "      <td>f</td>\n",
       "      <td>n</td>\n",
       "      <td>f</td>\n",
       "      <td>c</td>\n",
       "      <td>b</td>\n",
       "      <td>b</td>\n",
       "      <td>...</td>\n",
       "      <td>s</td>\n",
       "      <td>w</td>\n",
       "      <td>w</td>\n",
       "      <td>p</td>\n",
       "      <td>w</td>\n",
       "      <td>o</td>\n",
       "      <td>p</td>\n",
       "      <td>w</td>\n",
       "      <td>v</td>\n",
       "      <td>d</td>\n",
       "    </tr>\n",
       "    <tr>\n",
       "      <th>freq</th>\n",
       "      <td>4208</td>\n",
       "      <td>3656</td>\n",
       "      <td>3244</td>\n",
       "      <td>2284</td>\n",
       "      <td>4748</td>\n",
       "      <td>3528</td>\n",
       "      <td>7914</td>\n",
       "      <td>6812</td>\n",
       "      <td>5612</td>\n",
       "      <td>1728</td>\n",
       "      <td>...</td>\n",
       "      <td>4936</td>\n",
       "      <td>4464</td>\n",
       "      <td>4384</td>\n",
       "      <td>8124</td>\n",
       "      <td>7924</td>\n",
       "      <td>7488</td>\n",
       "      <td>3968</td>\n",
       "      <td>2388</td>\n",
       "      <td>4040</td>\n",
       "      <td>3148</td>\n",
       "    </tr>\n",
       "  </tbody>\n",
       "</table>\n",
       "<p>4 rows × 23 columns</p>\n",
       "</div>"
      ],
      "text/plain": [
       "       class cap-shape cap-surface cap-color bruises  odor gill-attachment  \\\n",
       "count   8124      8124        8124      8124    8124  8124            8124   \n",
       "unique     2         6           4        10       2     9               2   \n",
       "top        e         x           y         n       f     n               f   \n",
       "freq    4208      3656        3244      2284    4748  3528            7914   \n",
       "\n",
       "       gill-spacing gill-size gill-color  ... stalk-surface-below-ring  \\\n",
       "count          8124      8124       8124  ...                     8124   \n",
       "unique            2         2         12  ...                        4   \n",
       "top               c         b          b  ...                        s   \n",
       "freq           6812      5612       1728  ...                     4936   \n",
       "\n",
       "       stalk-color-above-ring stalk-color-below-ring veil-type veil-color  \\\n",
       "count                    8124                   8124      8124       8124   \n",
       "unique                      9                      9         1          4   \n",
       "top                         w                      w         p          w   \n",
       "freq                     4464                   4384      8124       7924   \n",
       "\n",
       "       ring-number ring-type spore-print-color population habitat  \n",
       "count         8124      8124              8124       8124    8124  \n",
       "unique           3         5                 9          6       7  \n",
       "top              o         p                 w          v       d  \n",
       "freq          7488      3968              2388       4040    3148  \n",
       "\n",
       "[4 rows x 23 columns]"
      ]
     },
     "execution_count": 73,
     "metadata": {},
     "output_type": "execute_result"
    }
   ],
   "source": [
    "df.describe()"
   ]
  },
  {
   "cell_type": "code",
   "execution_count": 74,
   "metadata": {
    "slideshow": {
     "slide_type": "skip"
    }
   },
   "outputs": [
    {
     "data": {
      "text/plain": [
       "False"
      ]
     },
     "execution_count": 74,
     "metadata": {},
     "output_type": "execute_result"
    }
   ],
   "source": [
    "#sprawdzenie duplikatów\n",
    "df.duplicated().any()"
   ]
  },
  {
   "cell_type": "code",
   "execution_count": 75,
   "metadata": {
    "jupyter": {
     "outputs_hidden": true
    },
    "slideshow": {
     "slide_type": "skip"
    }
   },
   "outputs": [
    {
     "data": {
      "text/plain": [
       "class                       0\n",
       "cap-shape                   0\n",
       "cap-surface                 0\n",
       "cap-color                   0\n",
       "bruises                     0\n",
       "odor                        0\n",
       "gill-attachment             0\n",
       "gill-spacing                0\n",
       "gill-size                   0\n",
       "gill-color                  0\n",
       "stalk-shape                 0\n",
       "stalk-root                  0\n",
       "stalk-surface-above-ring    0\n",
       "stalk-surface-below-ring    0\n",
       "stalk-color-above-ring      0\n",
       "stalk-color-below-ring      0\n",
       "veil-type                   0\n",
       "veil-color                  0\n",
       "ring-number                 0\n",
       "ring-type                   0\n",
       "spore-print-color           0\n",
       "population                  0\n",
       "habitat                     0\n",
       "dtype: int64"
      ]
     },
     "execution_count": 75,
     "metadata": {},
     "output_type": "execute_result"
    }
   ],
   "source": [
    "# Sprawdzenie brakujących wartości\n",
    "df.isnull().sum()"
   ]
  },
  {
   "cell_type": "code",
   "execution_count": 76,
   "metadata": {
    "jupyter": {
     "outputs_hidden": true
    },
    "slideshow": {
     "slide_type": "skip"
    }
   },
   "outputs": [
    {
     "data": {
      "text/plain": [
       "class                       0\n",
       "cap-shape                   0\n",
       "cap-surface                 0\n",
       "cap-color                   0\n",
       "bruises                     0\n",
       "odor                        0\n",
       "gill-attachment             0\n",
       "gill-spacing                0\n",
       "gill-size                   0\n",
       "gill-color                  0\n",
       "stalk-shape                 0\n",
       "stalk-root                  0\n",
       "stalk-surface-above-ring    0\n",
       "stalk-surface-below-ring    0\n",
       "stalk-color-above-ring      0\n",
       "stalk-color-below-ring      0\n",
       "veil-type                   0\n",
       "veil-color                  0\n",
       "ring-number                 0\n",
       "ring-type                   0\n",
       "spore-print-color           0\n",
       "population                  0\n",
       "habitat                     0\n",
       "dtype: int64"
      ]
     },
     "execution_count": 76,
     "metadata": {},
     "output_type": "execute_result"
    }
   ],
   "source": [
    "# Sprawdzenie wartości NaN\n",
    "df.isna().sum()"
   ]
  },
  {
   "cell_type": "markdown",
   "metadata": {
    "slideshow": {
     "slide_type": "slide"
    }
   },
   "source": [
    "# Wizualizacja danych"
   ]
  },
  {
   "cell_type": "code",
   "execution_count": 77,
   "metadata": {
    "slideshow": {
     "slide_type": "skip"
    }
   },
   "outputs": [],
   "source": [
    "def plot_col(col, hue=None, color=['red', 'green'], labels=None):\n",
    "    fig, ax = plt.subplots(figsize=(12, 5))\n",
    "    sns.countplot(col, hue=hue, palette=color, saturation=0.6, data=df, dodge=True, ax=ax)\n",
    "    ax.set(title = f\"Mushroom {col.title()} Quantity\", xlabel=f\"{col.title()}\", ylabel=\"Quantity\")\n",
    "    if labels!=None:\n",
    "        ax.set_xticklabels(labels)\n",
    "    if hue!=None:\n",
    "        ax.legend(('Poisonous', 'Edible'), loc=0)"
   ]
  },
  {
   "cell_type": "code",
   "execution_count": 78,
   "metadata": {
    "slideshow": {
     "slide_type": "skip"
    }
   },
   "outputs": [
    {
     "data": {
      "image/png": "[encoded data removed]",
      "text/plain": [
       "<Figure size 864x360 with 1 Axes>"
      ]
     },
     "metadata": {
      "needs_background": "light"
     },
     "output_type": "display_data"
    }
   ],
   "source": [
    "%%capture --no-display\n",
    "class_dict = ('Poisonous', 'Edible')\n",
    "plot_col(col='class', labels=class_dict)"
   ]
  },
  {
   "attachments": {},
   "cell_type": "markdown",
   "metadata": {
    "slideshow": {
     "slide_type": "slide"
    }
   },
   "source": [
    "###  W zestawie mamy grzyby\n",
    "#### > jadalne: 4208\n",
    "#### > trujące: 3916 "
   ]
  },
  {
   "attachments": {
    "image.png": {
     "image/png": "[encoded data removed]"
    }
   },
   "cell_type": "markdown",
   "metadata": {
    "slideshow": {
     "slide_type": "slide"
    }
   },
   "source": [
    "![image.png](attachment:image.png)"
   ]
  },
  {
   "cell_type": "code",
   "execution_count": 20,
   "metadata": {
    "collapsed": true,
    "slideshow": {
     "slide_type": "skip"
    }
   },
   "outputs": [
    {
     "data": {
      "image/png": "[encoded data removed]",
      "text/plain": [
       "<Figure size 864x360 with 1 Axes>"
      ]
     },
     "metadata": {
      "needs_background": "light"
     },
     "output_type": "display_data"
    }
   ],
   "source": [
    "%%capture --no-display\n",
    "shape_dict = {\"bell\":\"b\",\"conical\":\"c\",\"convex\":\"x\",\"flat\":\"f\", \"knobbed\":\"k\",\"sunken\":\"s\"}\n",
    "labels = ('convex', 'bell', 'sunken', 'flat', 'knobbed', 'conical')\n",
    "plot_col(col='cap-shape', hue='class', labels=labels)"
   ]
  },
  {
   "attachments": {
    "image.png": {
     "image/png": "[encoded data removed]"
    }
   },
   "cell_type": "markdown",
   "metadata": {
    "slideshow": {
     "slide_type": "slide"
    }
   },
   "source": [
    "### Podział w funkcji kształtu kapelusza\n",
    "![image.png](attachment:image.png)"
   ]
  },
  {
   "cell_type": "code",
   "execution_count": 27,
   "metadata": {
    "slideshow": {
     "slide_type": "skip"
    }
   },
   "outputs": [
    {
     "data": {
      "image/png": "[encoded data removed]",
      "text/plain": [
       "<Figure size 864x360 with 1 Axes>"
      ]
     },
     "metadata": {
      "needs_background": "light"
     },
     "output_type": "display_data"
    }
   ],
   "source": [
    "%%capture --no-display\n",
    "        \n",
    "color_dict = {\"brown\":\"n\",\"yellow\":\"y\", \"blue\":\"w\", \"gray\":\"g\", \"red\":\"e\",\"pink\":\"p\",\n",
    "              \"orange\":\"b\", \"purple\":\"u\", \"black\":\"c\", \"green\":\"r\"}\n",
    "plot_col(col='cap-color', color=color_dict.keys(), labels=color_dict)"
   ]
  },
  {
   "attachments": {
    "image.png": {
     "image/png": "[encoded data removed]"
    }
   },
   "cell_type": "markdown",
   "metadata": {
    "slideshow": {
     "slide_type": "slide"
    }
   },
   "source": [
    "### Kolor kapelusza - liczebność zbioru\n",
    "![image.png](attachment:image.png)"
   ]
  },
  {
   "cell_type": "code",
   "execution_count": 6,
   "metadata": {
    "slideshow": {
     "slide_type": "skip"
    }
   },
   "outputs": [
    {
     "name": "stdout",
     "output_type": "stream",
     "text": [
      "Liczba grzybów jadalnych: 4208, trujących: 3916.\n"
     ]
    }
   ],
   "source": [
    "# Liczebność grzybór jadalnych (e) i trujących (p):\n",
    "jadalne = df[\"class\"].value_counts()[\"e\"]\n",
    "trujace = df[\"class\"].value_counts()[\"p\"]\n",
    "print(f\"Liczba grzybów jadalnych: {jadalne}, trujących: {trujace}.\")"
   ]
  },
  {
   "cell_type": "code",
   "execution_count": 41,
   "metadata": {
    "slideshow": {
     "slide_type": "skip"
    }
   },
   "outputs": [],
   "source": [
    "#zamiana danych na OHE, wywalamy class p - to będzie nasz target (class_e)\n",
    "df = pd.get_dummies(df)\n",
    "df = df.drop([\"class_p\"], axis=1)"
   ]
  },
  {
   "cell_type": "code",
   "execution_count": 42,
   "metadata": {
    "slideshow": {
     "slide_type": "skip"
    }
   },
   "outputs": [],
   "source": [
    "y = df.class_e\n",
    "x = df.drop([\"class_e\"], axis=1)"
   ]
  },
  {
   "cell_type": "code",
   "execution_count": 43,
   "metadata": {
    "slideshow": {
     "slide_type": "skip"
    }
   },
   "outputs": [],
   "source": [
    "X_train, X_test, y_train, y_test = train_test_split(x, y, test_size=0.2)"
   ]
  },
  {
   "cell_type": "markdown",
   "metadata": {
    "slideshow": {
     "slide_type": "slide"
    }
   },
   "source": [
    "## Random forest"
   ]
  },
  {
   "cell_type": "code",
   "execution_count": 44,
   "metadata": {
    "slideshow": {
     "slide_type": "skip"
    }
   },
   "outputs": [
    {
     "data": {
      "text/plain": [
       "RandomForestClassifier(max_depth=5, n_estimators=5, random_state=1)"
      ]
     },
     "execution_count": 44,
     "metadata": {},
     "output_type": "execute_result"
    }
   ],
   "source": [
    "rf_classifier = RandomForestClassifier(n_estimators = 5, criterion = 'gini', max_depth=5, bootstrap=True, random_state=1)\n",
    "\n",
    "rf_classifier.fit(X_train, y_train)"
   ]
  },
  {
   "attachments": {
    "image.png": {
     "image/png": "[encoded data removed]"
    }
   },
   "cell_type": "markdown",
   "metadata": {
    "slideshow": {
     "slide_type": "slide"
    }
   },
   "source": [
    "![image.png](attachment:image.png)"
   ]
  },
  {
   "cell_type": "code",
   "execution_count": 52,
   "metadata": {
    "slideshow": {
     "slide_type": "skip"
    }
   },
   "outputs": [],
   "source": [
    "most_important_features = feature_importances[feature_importances[\"importance\"] > 0]"
   ]
  },
  {
   "cell_type": "code",
   "execution_count": 50,
   "metadata": {
    "collapsed": true,
    "slideshow": {
     "slide_type": "skip"
    }
   },
   "outputs": [
    {
     "data": {
      "text/html": [
       "<div>\n",
       "<style scoped>\n",
       "    .dataframe tbody tr th:only-of-type {\n",
       "        vertical-align: middle;\n",
       "    }\n",
       "\n",
       "    .dataframe tbody tr th {\n",
       "        vertical-align: top;\n",
       "    }\n",
       "\n",
       "    .dataframe thead th {\n",
       "        text-align: right;\n",
       "    }\n",
       "</style>\n",
       "<table border=\"1\" class=\"dataframe\">\n",
       "  <thead>\n",
       "    <tr style=\"text-align: right;\">\n",
       "      <th></th>\n",
       "      <th>importance</th>\n",
       "    </tr>\n",
       "  </thead>\n",
       "  <tbody>\n",
       "    <tr>\n",
       "      <th>odor_n</th>\n",
       "      <td>0.194900</td>\n",
       "    </tr>\n",
       "    <tr>\n",
       "      <th>stalk-surface-below-ring_k</th>\n",
       "      <td>0.171843</td>\n",
       "    </tr>\n",
       "    <tr>\n",
       "      <th>gill-color_b</th>\n",
       "      <td>0.094765</td>\n",
       "    </tr>\n",
       "    <tr>\n",
       "      <th>bruises_f</th>\n",
       "      <td>0.084739</td>\n",
       "    </tr>\n",
       "    <tr>\n",
       "      <th>odor_f</th>\n",
       "      <td>0.073541</td>\n",
       "    </tr>\n",
       "    <tr>\n",
       "      <th>habitat_g</th>\n",
       "      <td>0.061173</td>\n",
       "    </tr>\n",
       "    <tr>\n",
       "      <th>stalk-surface-below-ring_s</th>\n",
       "      <td>0.041575</td>\n",
       "    </tr>\n",
       "    <tr>\n",
       "      <th>ring-type_l</th>\n",
       "      <td>0.025732</td>\n",
       "    </tr>\n",
       "    <tr>\n",
       "      <th>stalk-root_e</th>\n",
       "      <td>0.021645</td>\n",
       "    </tr>\n",
       "    <tr>\n",
       "      <th>odor_p</th>\n",
       "      <td>0.020430</td>\n",
       "    </tr>\n",
       "    <tr>\n",
       "      <th>stalk-color-below-ring_p</th>\n",
       "      <td>0.019555</td>\n",
       "    </tr>\n",
       "    <tr>\n",
       "      <th>stalk-shape_t</th>\n",
       "      <td>0.019428</td>\n",
       "    </tr>\n",
       "    <tr>\n",
       "      <th>ring-type_p</th>\n",
       "      <td>0.018987</td>\n",
       "    </tr>\n",
       "    <tr>\n",
       "      <th>cap-color_y</th>\n",
       "      <td>0.018507</td>\n",
       "    </tr>\n",
       "    <tr>\n",
       "      <th>odor_c</th>\n",
       "      <td>0.015318</td>\n",
       "    </tr>\n",
       "    <tr>\n",
       "      <th>stalk-surface-above-ring_f</th>\n",
       "      <td>0.013670</td>\n",
       "    </tr>\n",
       "    <tr>\n",
       "      <th>bruises_t</th>\n",
       "      <td>0.013247</td>\n",
       "    </tr>\n",
       "    <tr>\n",
       "      <th>spore-print-color_k</th>\n",
       "      <td>0.012233</td>\n",
       "    </tr>\n",
       "    <tr>\n",
       "      <th>gill-size_n</th>\n",
       "      <td>0.010347</td>\n",
       "    </tr>\n",
       "    <tr>\n",
       "      <th>ring-number_o</th>\n",
       "      <td>0.009341</td>\n",
       "    </tr>\n",
       "    <tr>\n",
       "      <th>stalk-color-below-ring_g</th>\n",
       "      <td>0.007992</td>\n",
       "    </tr>\n",
       "    <tr>\n",
       "      <th>odor_a</th>\n",
       "      <td>0.007579</td>\n",
       "    </tr>\n",
       "    <tr>\n",
       "      <th>population_n</th>\n",
       "      <td>0.007501</td>\n",
       "    </tr>\n",
       "    <tr>\n",
       "      <th>spore-print-color_h</th>\n",
       "      <td>0.006241</td>\n",
       "    </tr>\n",
       "    <tr>\n",
       "      <th>habitat_p</th>\n",
       "      <td>0.004801</td>\n",
       "    </tr>\n",
       "    <tr>\n",
       "      <th>spore-print-color_r</th>\n",
       "      <td>0.004466</td>\n",
       "    </tr>\n",
       "    <tr>\n",
       "      <th>gill-color_r</th>\n",
       "      <td>0.003785</td>\n",
       "    </tr>\n",
       "    <tr>\n",
       "      <th>odor_y</th>\n",
       "      <td>0.003151</td>\n",
       "    </tr>\n",
       "    <tr>\n",
       "      <th>stalk-color-above-ring_p</th>\n",
       "      <td>0.003110</td>\n",
       "    </tr>\n",
       "    <tr>\n",
       "      <th>cap-surface_y</th>\n",
       "      <td>0.002887</td>\n",
       "    </tr>\n",
       "    <tr>\n",
       "      <th>cap-color_b</th>\n",
       "      <td>0.002298</td>\n",
       "    </tr>\n",
       "    <tr>\n",
       "      <th>ring-type_e</th>\n",
       "      <td>0.001042</td>\n",
       "    </tr>\n",
       "    <tr>\n",
       "      <th>stalk-root_c</th>\n",
       "      <td>0.000898</td>\n",
       "    </tr>\n",
       "    <tr>\n",
       "      <th>cap-shape_b</th>\n",
       "      <td>0.000651</td>\n",
       "    </tr>\n",
       "    <tr>\n",
       "      <th>cap-color_p</th>\n",
       "      <td>0.000643</td>\n",
       "    </tr>\n",
       "    <tr>\n",
       "      <th>spore-print-color_n</th>\n",
       "      <td>0.000555</td>\n",
       "    </tr>\n",
       "    <tr>\n",
       "      <th>gill-color_g</th>\n",
       "      <td>0.000550</td>\n",
       "    </tr>\n",
       "    <tr>\n",
       "      <th>population_s</th>\n",
       "      <td>0.000348</td>\n",
       "    </tr>\n",
       "    <tr>\n",
       "      <th>cap-shape_c</th>\n",
       "      <td>0.000284</td>\n",
       "    </tr>\n",
       "    <tr>\n",
       "      <th>stalk-surface-above-ring_k</th>\n",
       "      <td>0.000246</td>\n",
       "    </tr>\n",
       "  </tbody>\n",
       "</table>\n",
       "</div>"
      ],
      "text/plain": [
       "                            importance\n",
       "odor_n                        0.194900\n",
       "stalk-surface-below-ring_k    0.171843\n",
       "gill-color_b                  0.094765\n",
       "bruises_f                     0.084739\n",
       "odor_f                        0.073541\n",
       "habitat_g                     0.061173\n",
       "stalk-surface-below-ring_s    0.041575\n",
       "ring-type_l                   0.025732\n",
       "stalk-root_e                  0.021645\n",
       "odor_p                        0.020430\n",
       "stalk-color-below-ring_p      0.019555\n",
       "stalk-shape_t                 0.019428\n",
       "ring-type_p                   0.018987\n",
       "cap-color_y                   0.018507\n",
       "odor_c                        0.015318\n",
       "stalk-surface-above-ring_f    0.013670\n",
       "bruises_t                     0.013247\n",
       "spore-print-color_k           0.012233\n",
       "gill-size_n                   0.010347\n",
       "ring-number_o                 0.009341\n",
       "stalk-color-below-ring_g      0.007992\n",
       "odor_a                        0.007579\n",
       "population_n                  0.007501\n",
       "spore-print-color_h           0.006241\n",
       "habitat_p                     0.004801\n",
       "spore-print-color_r           0.004466\n",
       "gill-color_r                  0.003785\n",
       "odor_y                        0.003151\n",
       "stalk-color-above-ring_p      0.003110\n",
       "cap-surface_y                 0.002887\n",
       "cap-color_b                   0.002298\n",
       "ring-type_e                   0.001042\n",
       "stalk-root_c                  0.000898\n",
       "cap-shape_b                   0.000651\n",
       "cap-color_p                   0.000643\n",
       "spore-print-color_n           0.000555\n",
       "gill-color_g                  0.000550\n",
       "population_s                  0.000348\n",
       "cap-shape_c                   0.000284\n",
       "stalk-surface-above-ring_k    0.000246"
      ]
     },
     "execution_count": 50,
     "metadata": {},
     "output_type": "execute_result"
    }
   ],
   "source": [
    "feature_importances[feature_importances[\"importance\"] > 0]"
   ]
  },
  {
   "cell_type": "code",
   "execution_count": 51,
   "metadata": {
    "slideshow": {
     "slide_type": "subslide"
    }
   },
   "outputs": [
    {
     "data": {
      "text/html": [
       "<div>\n",
       "<style scoped>\n",
       "    .dataframe tbody tr th:only-of-type {\n",
       "        vertical-align: middle;\n",
       "    }\n",
       "\n",
       "    .dataframe tbody tr th {\n",
       "        vertical-align: top;\n",
       "    }\n",
       "\n",
       "    .dataframe thead th {\n",
       "        text-align: right;\n",
       "    }\n",
       "</style>\n",
       "<table border=\"1\" class=\"dataframe\">\n",
       "  <thead>\n",
       "    <tr style=\"text-align: right;\">\n",
       "      <th></th>\n",
       "      <th>importance</th>\n",
       "    </tr>\n",
       "  </thead>\n",
       "  <tbody>\n",
       "    <tr>\n",
       "      <th>odor_n</th>\n",
       "      <td>0.194900</td>\n",
       "    </tr>\n",
       "    <tr>\n",
       "      <th>stalk-surface-below-ring_k</th>\n",
       "      <td>0.171843</td>\n",
       "    </tr>\n",
       "    <tr>\n",
       "      <th>gill-color_b</th>\n",
       "      <td>0.094765</td>\n",
       "    </tr>\n",
       "    <tr>\n",
       "      <th>bruises_f</th>\n",
       "      <td>0.084739</td>\n",
       "    </tr>\n",
       "    <tr>\n",
       "      <th>odor_f</th>\n",
       "      <td>0.073541</td>\n",
       "    </tr>\n",
       "    <tr>\n",
       "      <th>habitat_g</th>\n",
       "      <td>0.061173</td>\n",
       "    </tr>\n",
       "  </tbody>\n",
       "</table>\n",
       "</div>"
      ],
      "text/plain": [
       "                            importance\n",
       "odor_n                        0.194900\n",
       "stalk-surface-below-ring_k    0.171843\n",
       "gill-color_b                  0.094765\n",
       "bruises_f                     0.084739\n",
       "odor_f                        0.073541\n",
       "habitat_g                     0.061173"
      ]
     },
     "execution_count": 51,
     "metadata": {},
     "output_type": "execute_result"
    }
   ],
   "source": [
    "most_important_features[most_important_features[\"importance\"] > 0.05]"
   ]
  },
  {
   "cell_type": "code",
   "execution_count": 46,
   "metadata": {
    "slideshow": {
     "slide_type": "subslide"
    }
   },
   "outputs": [
    {
     "data": {
      "text/plain": [
       "0.9883076923076923"
      ]
     },
     "execution_count": 46,
     "metadata": {},
     "output_type": "execute_result"
    }
   ],
   "source": [
    "rf_classifier.score(X_test, y_test)"
   ]
  },
  {
   "cell_type": "code",
   "execution_count": 47,
   "metadata": {
    "slideshow": {
     "slide_type": "skip"
    }
   },
   "outputs": [
    {
     "data": {
      "image/png": "[encoded data removed]",
      "text/plain": [
       "<Figure size 1080x864 with 1 Axes>"
      ]
     },
     "metadata": {
      "needs_background": "light"
     },
     "output_type": "display_data"
    }
   ],
   "source": [
    "plt.figure(figsize = (15,12))\n",
    "\n",
    "plot_tree(rf_classifier.estimators_[0],\n",
    "        feature_names=x.columns,\n",
    "        class_names=[\"0\",\"1\"],\n",
    "        filled=True);"
   ]
  },
  {
   "cell_type": "code",
   "execution_count": 48,
   "metadata": {
    "slideshow": {
     "slide_type": "skip"
    }
   },
   "outputs": [],
   "source": [
    "feature_importances = pd.DataFrame(rf_classifier.feature_importances_, index=x.columns,\n",
    "                                   columns=['importance']).sort_values('importance', ascending=False)\n",
    "\n"
   ]
  },
  {
   "cell_type": "markdown",
   "metadata": {
    "slideshow": {
     "slide_type": "slide"
    }
   },
   "source": [
    "# XG Boost"
   ]
  },
  {
   "cell_type": "code",
   "execution_count": 79,
   "metadata": {
    "slideshow": {
     "slide_type": "skip"
    }
   },
   "outputs": [
    {
     "data": {
      "text/plain": [
       "XGBClassifier(base_score=0.5, booster='gbtree', colsample_bylevel=1,\n",
       "              colsample_bynode=1, colsample_bytree=1, enable_categorical=False,\n",
       "              eval_metric='error', gamma=0, gpu_id=-1, importance_type=None,\n",
       "              interaction_constraints='', learning_rate=0.300000012,\n",
       "              max_delta_step=0, max_depth=3, min_child_weight=1, missing=nan,\n",
       "              monotone_constraints='()', n_estimators=100, n_jobs=4,\n",
       "              num_parallel_tree=1, predictor='auto', random_state=0,\n",
       "              reg_alpha=0, reg_lambda=1, scale_pos_weight=1, subsample=1,\n",
       "              tree_method='exact', use_label_encoder=False,\n",
       "              validate_parameters=1, verbosity=None)"
      ]
     },
     "execution_count": 79,
     "metadata": {},
     "output_type": "execute_result"
    }
   ],
   "source": [
    "xgb_cl_1 = xgb.XGBClassifier( n_estimators=100,\n",
    "                           max_depth=3,\n",
    "                           use_label_encoder=False,\n",
    "                           eval_metric='error'\n",
    "                        )\n",
    "xgb_cl_1.fit(X_train, y_train)"
   ]
  },
  {
   "cell_type": "markdown",
   "metadata": {
    "slideshow": {
     "slide_type": "slide"
    }
   },
   "source": [
    "# Wyniki uzyskane przez XG Boost"
   ]
  },
  {
   "cell_type": "code",
   "execution_count": 61,
   "metadata": {
    "slideshow": {
     "slide_type": "skip"
    }
   },
   "outputs": [],
   "source": [
    "y_pred = xgb_cl_1.predict(X_test)\n",
    "acc = accuracy_score(y_test, y_pred)\n",
    "print(\"Accuracy: \", acc)"
   ]
  },
  {
   "cell_type": "code",
   "execution_count": 63,
   "metadata": {
    "slideshow": {
     "slide_type": "subslide"
    }
   },
   "outputs": [
    {
     "name": "stdout",
     "output_type": "stream",
     "text": [
      "              precision    recall  f1-score   support\n",
      "\n",
      "           0       1.00      1.00      1.00       778\n",
      "           1       1.00      1.00      1.00       847\n",
      "\n",
      "    accuracy                           1.00      1625\n",
      "   macro avg       1.00      1.00      1.00      1625\n",
      "weighted avg       1.00      1.00      1.00      1625\n",
      "\n"
     ]
    }
   ],
   "source": [
    "y_pred = xgb_cl_1.predict(X_test)\n",
    "report_class = classification_report(y_test, y_pred)\n",
    "print(report_class)"
   ]
  },
  {
   "attachments": {
    "image.png": {
     "image/png": "[encoded data removed]"
    }
   },
   "cell_type": "markdown",
   "metadata": {
    "slideshow": {
     "slide_type": "slide"
    }
   },
   "source": [
    "## Confusiom matrix - XGBoost\n",
    "![image.png](attachment:image.png)"
   ]
  },
  {
   "attachments": {
    "image.png": {
     "image/png": "[encoded data removed]"
    }
   },
   "cell_type": "markdown",
   "metadata": {
    "slideshow": {
     "slide_type": "slide"
    }
   },
   "source": [
    "## Ważność cech - XGBoost\n",
    "![image.png](attachment:image.png)"
   ]
  },
  {
   "cell_type": "code",
   "execution_count": 59,
   "metadata": {
    "scrolled": true,
    "slideshow": {
     "slide_type": "skip"
    }
   },
   "outputs": [
    {
     "data": {
      "text/plain": [
       "<sklearn.metrics._plot.confusion_matrix.ConfusionMatrixDisplay at 0x220083695b0>"
      ]
     },
     "execution_count": 59,
     "metadata": {},
     "output_type": "execute_result"
    },
    {
     "data": {
      "image/png": "[encoded data removed]",
      "text/plain": [
       "<Figure size 432x288 with 2 Axes>"
      ]
     },
     "metadata": {
      "needs_background": "light"
     },
     "output_type": "display_data"
    }
   ],
   "source": [
    "plot_confusion_matrix(xgb_cl_1,\n",
    "                      X_test,\n",
    "                      y_test,\n",
    "                      values_format='d',\n",
    "                      display_labels=[\"Jadalne\", \"Trujace\"])"
   ]
  },
  {
   "cell_type": "code",
   "execution_count": 45,
   "metadata": {
    "slideshow": {
     "slide_type": "skip"
    }
   },
   "outputs": [
    {
     "data": {
      "text/plain": [
       "<AxesSubplot:title={'center':'Feature importance'}, xlabel='F score', ylabel='Features'>"
      ]
     },
     "execution_count": 45,
     "metadata": {},
     "output_type": "execute_result"
    },
    {
     "data": {
      "image/png": "[encoded data removed]",
      "text/plain": [
       "<Figure size 720x576 with 1 Axes>"
      ]
     },
     "metadata": {
      "needs_background": "light"
     },
     "output_type": "display_data"
    }
   ],
   "source": [
    "from matplotlib.pylab import rcParams\n",
    "##set up the parameters\n",
    "rcParams['figure.figsize'] = 10, 8\n",
    "\n",
    "xgb.plot_importance(xgb_cl_1)"
   ]
  },
  {
   "cell_type": "code",
   "execution_count": 46,
   "metadata": {
    "slideshow": {
     "slide_type": "skip"
    }
   },
   "outputs": [
    {
     "data": {
      "text/plain": [
       "XGBClassifier(base_score=0.5, booster='gbtree', colsample_bylevel=1,\n",
       "              colsample_bynode=1, colsample_bytree=1, enable_categorical=False,\n",
       "              eval_metric='aucpr', gamma=0, gpu_id=-1, importance_type=None,\n",
       "              interaction_constraints='', learning_rate=0.300000012,\n",
       "              max_delta_step=0, max_depth=6, min_child_weight=1, missing=nan,\n",
       "              monotone_constraints='()', n_estimators=100, n_jobs=4,\n",
       "              num_parallel_tree=1, predictor='auto', random_state=42,\n",
       "              reg_alpha=0, reg_lambda=1, scale_pos_weight=1, seed=42,\n",
       "              subsample=1, tree_method='exact', use_label_encoder=False,\n",
       "              validate_parameters=1, ...)"
      ]
     },
     "execution_count": 46,
     "metadata": {},
     "output_type": "execute_result"
    }
   ],
   "source": [
    "xgb_cl_2 = xgb.XGBClassifier(n_estimators=100,\n",
    "                             seed=42,\n",
    "                             objective='binary:logistic',\n",
    "                             use_label_encoder=False,\n",
    "                             eval_metric='aucpr'\n",
    "                             )\n",
    "xgb_cl_2.fit(X_train, y_train)"
   ]
  },
  {
   "cell_type": "code",
   "execution_count": 47,
   "metadata": {
    "scrolled": true,
    "slideshow": {
     "slide_type": "skip"
    }
   },
   "outputs": [
    {
     "data": {
      "text/plain": [
       "<sklearn.metrics._plot.confusion_matrix.ConfusionMatrixDisplay at 0x29194c082e0>"
      ]
     },
     "execution_count": 47,
     "metadata": {},
     "output_type": "execute_result"
    },
    {
     "data": {
      "image/png": "[encoded data removed]",
      "text/plain": [
       "<Figure size 720x576 with 2 Axes>"
      ]
     },
     "metadata": {
      "needs_background": "light"
     },
     "output_type": "display_data"
    }
   ],
   "source": [
    "plot_confusion_matrix(xgb_cl_2,\n",
    "                      X_test,\n",
    "                      y_test,\n",
    "                      values_format='d',\n",
    "                      display_labels=[\"Jadalne\", \"Trujace\"])"
   ]
  },
  {
   "cell_type": "code",
   "execution_count": 27,
   "metadata": {
    "slideshow": {
     "slide_type": "skip"
    }
   },
   "outputs": [],
   "source": [
    "#tworzenie widgetów"
   ]
  },
  {
   "cell_type": "code",
   "execution_count": 28,
   "metadata": {
    "slideshow": {
     "slide_type": "skip"
    }
   },
   "outputs": [],
   "source": [
    "import ipywidgets as widgets\n",
    "from IPython.display import display"
   ]
  },
  {
   "cell_type": "code",
   "execution_count": 29,
   "metadata": {
    "slideshow": {
     "slide_type": "skip"
    }
   },
   "outputs": [],
   "source": [
    "widgets_cap_shape = widgets.Dropdown(options=[\"bell\", \"conical\", \"convex\", \"flat\", \"knobbed\", \"sunken\"])\n",
    "widgets_cap_surface = widgets.Dropdown(options=[\"fibrous\", \"grooves\", \"scaly\", \"smooth\"])\n",
    "widgets_cap_color = widgets.Dropdown(options=[\"brown\", \"buff\", \"cinnamon\", \"gray\", \"green\", \"pink\", \"purple\", \"red\", \"white\", \"yellow\"])\n",
    "widget_bruises = widgets.Dropdown(options=[\"Yes\", \"No\"])\n",
    "widget_odor = widgets.Dropdown(options=[\"almond\", \"anise\", \"creoote\", \"fishy\", \"foul\", \"musty\", \"none\", \"pungent\", \"spicy\"])\n",
    "widget_gill_attachment = widgets.Dropdown(options=[\"attached\", \"free\"])\n",
    "widget_gill_spacing = widgets.Dropdown(options=[\"close\", \"crowded\"])\n",
    "widget_gill_size = widgets.Dropdown(options=[\"broad\", \"narrow\"])\n",
    "widget_gill_color = widgets.Dropdown(options=[\"black\", \"brown\", \"buff\", \"chocolate\", \"gray\", \"green\", \"orange\", \"pink\", \"purple\", \"red\", \"white\", \"yellow\"])\n",
    "widget_stalk_shape = widgets.Dropdown(options=[\"enlarging\", \"tapering\"])\n",
    "widget_stalk_root = widgets.Dropdown(options=[\"bulbous\", \"club\", \"equal\", \"rooted\", \"missing\"])\n",
    "widget_stalk_surface_above_ring = widgets.Dropdown(options=[\"fibrous\", \"scaly\", \"silky\", \"smooth\"])\n",
    "widget_stalk_surface_below_ring = widgets.Dropdown(options=[\"fibrous\", \"scaly\", \"silky\", \"smooth\"])\n",
    "widget_stalk_color_above_ring = widgets.Dropdown(options=[\"brown\", \"buff\", \"cinnamon\", \"gray\", \"orange\", \"pink\", \"red\", \"white\", \"yellow\"])\n",
    "widget_stalk_color_below_ring = widgets.Dropdown(options=[\"brown\", \"buff\", \"cinnamon\", \"gray\", \"orange\", \"pink\", \"red\", \"white\", \"yellow\"])\n",
    "widget_veil_type = widgets.Dropdown(options=[\"parial\"])\n",
    "widget_veil_color = widgets.Dropdown(options=[\"brown\", \"orange\", \"white\", \"yellow\"])\n",
    "widget_ring_number = widgets.Dropdown(options=[\"none\", \"two\"])\n",
    "widget_ring_type = widgets.Dropdown(options=[\"evanescent\", \"flaring\", \"large\", \"none\", \"pendant\"])\n",
    "widget_spore_print_color = widgets.Dropdown(options=[\"black\", \"brown\", \"buff\", \"chocolate\", \"green\", \"orange\", \"purple\", \"white\", \"yellow\"])\n",
    "widget_population = widgets.Dropdown(options=[\"abundant\", \"clustered\", \"numerous\", \"scattered\", \"several\", \"solitary\"])\n",
    "widget_habitat = widgets.Dropdown(options=[\"grasses\", \"leaves\", \"meadows\", \"paths\", \"urban\", \"waste\", \"woods\"])"
   ]
  },
  {
   "cell_type": "code",
   "execution_count": 49,
   "metadata": {
    "slideshow": {
     "slide_type": "skip"
    }
   },
   "outputs": [
    {
     "data": {
      "application/vnd.jupyter.widget-view+json": {
       "model_id": "cd3f0b4c861743c2be6e8c8093166993",
       "version_major": 2,
       "version_minor": 0
      },
      "text/plain": [
       "interactive(children=(Dropdown(description='Cap_Shape', options=('bell', 'conical', 'convex', 'flat', 'knobbed…"
      ]
     },
     "metadata": {},
     "output_type": "display_data"
    },
    {
     "data": {
      "text/plain": [
       "<function __main__.widget_handler(Cap_Shape, Cap_Surface, Cap_Color, Bruises, Odor, Gill_Attachment, Gill_Spacing, Gill_Size, Gill_Color, Stalk_Shape, Stalk_Root, Stalk_Surface_Above_Ring, Stalk_Surface_Below_Ring, Stalk_Color_Above_Ring, Stalk_Color_Below_Ring, Veil_Type, Veil_Color, Ring_Number, Ring_Type, Spore_Print_Color, Population, Habitat)>"
      ]
     },
     "execution_count": 49,
     "metadata": {},
     "output_type": "execute_result"
    }
   ],
   "source": [
    "values = {\n",
    "    \"Cap Shape\": widgets_cap_shape.value, \n",
    "    \"Cap Surface\": widgets_cap_surface.value, \n",
    "    \"Cap Color\": widgets_cap_color.value,\n",
    "    \"Bruises\": widget_bruises.value,\n",
    "    \"Odor\": widget_odor.value,\n",
    "    \"Gill_Attachment\": widget_gill_attachment.value,\n",
    "    \"Gill_Spacing\": widget_gill_spacing.value,\n",
    "    \"Gill_Size\": widget_gill_size.value,\n",
    "    \"Gill_Color\": widget_gill_color.value,\n",
    "    \"Stalk_Shape\": widget_stalk_shape.value,\n",
    "    \"Stalk_Root\": widget_stalk_root.value,\n",
    "    \"Stalk_Surface_Above_Ring\": widget_stalk_surface_above_ring.value,\n",
    "    \"Stalk_Surface_Below_Ring\": widget_stalk_surface_below_ring.value,\n",
    "    \"Stalk_Color_Above_Ring\": widget_stalk_color_above_ring.value,\n",
    "    \"Stalk_Color_Below_Ring\": widget_stalk_color_below_ring.value,\n",
    "    \"Veil_Type\": widget_veil_type.value,\n",
    "    \"Veil_Color\": widget_veil_color.value,\n",
    "    \"Ring_Number\": widget_ring_number.value,\n",
    "    \"Ring_Type\": widget_ring_type.value,\n",
    "    \"Spore_Print_Color\": widget_spore_print_color.value,\n",
    "    \"Population\": widget_population.value,\n",
    "    \"Habitat\": widget_habitat.value,\n",
    "    }\n",
    "\n",
    "def widget_handler(Cap_Shape, Cap_Surface, Cap_Color, Bruises, Odor, Gill_Attachment, Gill_Spacing, Gill_Size, Gill_Color, Stalk_Shape, Stalk_Root, Stalk_Surface_Above_Ring, Stalk_Surface_Below_Ring, Stalk_Color_Above_Ring, Stalk_Color_Below_Ring, Veil_Type, Veil_Color, Ring_Number, Ring_Type, Spore_Print_Color, Population, Habitat):\n",
    "    values[\"Cap Shape\"] = Cap_Shape\n",
    "    values[\"Cap Surface\"] = Cap_Surface\n",
    "    values[\"Cap Color\"] = Cap_Color\n",
    "    values[\"Bruises\"] = Bruises\n",
    "    values[\"Odor\"] = Odor\n",
    "    values[\"Gill_Attachment\"] = Gill_Attachment\n",
    "    values[\"Gill_Spacing\"] = Gill_Spacing\n",
    "    values[\"Gill_Size\"] = Gill_Size\n",
    "    values[\"Gill_Color\"] = Gill_Color\n",
    "    values[\"Stalk_Shape\"] = Stalk_Shape\n",
    "    values[\"Stalk_Root\"] = Stalk_Root\n",
    "    values[\"Stalk_Surface_Above_Ring\"] = Stalk_Surface_Above_Ring\n",
    "    values[\"Stalk_Surface_Below_Ring\"] = Stalk_Surface_Below_Ring\n",
    "    values[\"Stalk_Color_Above_Ring\"] = Stalk_Color_Above_Ring\n",
    "    values[\"Stalk_Color_Below_Ring\"] = Stalk_Color_Below_Ring\n",
    "    values[\"Veil_Type\"] = Veil_Type\n",
    "    values[\"Veil_Color\"] = Veil_Color\n",
    "    values[\"Ring_Number\"] = Ring_Number\n",
    "    values[\"Ring_Type\"] = Ring_Type\n",
    "    values[\"Spore_Print_Color\"] = Spore_Print_Color\n",
    "    values[\"Population\"] = Population\n",
    "    values[\"Habitat\"] = Habitat\n",
    "\n",
    "widgets.interact(\n",
    "    widget_handler,\n",
    "    Cap_Shape = widgets_cap_shape, \n",
    "    Cap_Surface = widgets_cap_surface, \n",
    "    Cap_Color = widgets_cap_color, \n",
    "    Bruises = widget_bruises, \n",
    "    Odor = widget_odor, \n",
    "    Gill_Attachment = widget_gill_attachment, \n",
    "    Gill_Spacing = widget_gill_spacing, \n",
    "    Gill_Size = widget_gill_size, \n",
    "    Gill_Color = widget_gill_color, \n",
    "    Stalk_Shape = widget_stalk_shape, \n",
    "    Stalk_Root = widget_stalk_root, \n",
    "    Stalk_Surface_Above_Ring = widget_stalk_surface_above_ring, \n",
    "    Stalk_Surface_Below_Ring = widget_stalk_surface_below_ring, \n",
    "    Stalk_Color_Above_Ring = widget_stalk_color_above_ring, \n",
    "    Stalk_Color_Below_Ring = widget_stalk_color_below_ring, \n",
    "    Veil_Type = widget_veil_type, \n",
    "    Veil_Color = widget_veil_color, \n",
    "    Ring_Number = widget_ring_number, \n",
    "    Ring_Type = widget_ring_type, \n",
    "    Spore_Print_Color = widget_spore_print_color, \n",
    "    Population = widget_population, \n",
    "    Habitat = widget_habitat)"
   ]
  },
  {
   "cell_type": "code",
   "execution_count": 54,
   "metadata": {
    "slideshow": {
     "slide_type": "skip"
    }
   },
   "outputs": [],
   "source": [
    "run_button = widgets.Button(description = \"Run\")\n",
    "\n",
    "def button_callback(button):\n",
    "    print(values)\n",
    "    \n",
    "\n",
    "run_button.on_click(button_callback)"
   ]
  },
  {
   "cell_type": "markdown",
   "metadata": {
    "slideshow": {
     "slide_type": "skip"
    }
   },
   "source": [
    "## Grzybiarz wybiera cechy"
   ]
  },
  {
   "cell_type": "code",
   "execution_count": 32,
   "metadata": {
    "slideshow": {
     "slide_type": "skip"
    }
   },
   "outputs": [
    {
     "data": {
      "application/vnd.jupyter.widget-view+json": {
       "model_id": "d2c6fc8591194a42b0fd63d20f9ee29a",
       "version_major": 2,
       "version_minor": 0
      },
      "text/plain": [
       "Dropdown(description='Cap_Shape', options=('bell', 'conical', 'convex', 'flat', 'knobbed', 'sunken'), value='b…"
      ]
     },
     "metadata": {},
     "output_type": "display_data"
    },
    {
     "data": {
      "application/vnd.jupyter.widget-view+json": {
       "model_id": "d243e01b2a6d41fdbddd7a5940466e05",
       "version_major": 2,
       "version_minor": 0
      },
      "text/plain": [
       "Dropdown(description='Cap_Surface', options=('fibrous', 'grooves', 'scaly', 'smooth'), value='fibrous')"
      ]
     },
     "metadata": {},
     "output_type": "display_data"
    },
    {
     "data": {
      "application/vnd.jupyter.widget-view+json": {
       "model_id": "0f2b1ed3bf004a0993325bf95bcb5585",
       "version_major": 2,
       "version_minor": 0
      },
      "text/plain": [
       "Dropdown(description='Cap_Color', options=('brown', 'buff', 'cinnamon', 'gray', 'green', 'pink', 'purple', 're…"
      ]
     },
     "metadata": {},
     "output_type": "display_data"
    },
    {
     "data": {
      "application/vnd.jupyter.widget-view+json": {
       "model_id": "d54a1d4d46e44df485c2c3418969ff96",
       "version_major": 2,
       "version_minor": 0
      },
      "text/plain": [
       "Dropdown(description='Bruises', options=('Yes', 'No'), value='Yes')"
      ]
     },
     "metadata": {},
     "output_type": "display_data"
    },
    {
     "data": {
      "application/vnd.jupyter.widget-view+json": {
       "model_id": "a46e3414871b4d5e81fe74d941be6ceb",
       "version_major": 2,
       "version_minor": 0
      },
      "text/plain": [
       "Dropdown(description='Odor', options=('almond', 'anise', 'creoote', 'fishy', 'foul', 'musty', 'none', 'pungent…"
      ]
     },
     "metadata": {},
     "output_type": "display_data"
    },
    {
     "data": {
      "application/vnd.jupyter.widget-view+json": {
       "model_id": "8252ab508c214c3393d6eb7d84f4984c",
       "version_major": 2,
       "version_minor": 0
      },
      "text/plain": [
       "Dropdown(description='Gill_Attachment', options=('attached', 'free'), value='attached')"
      ]
     },
     "metadata": {},
     "output_type": "display_data"
    },
    {
     "data": {
      "application/vnd.jupyter.widget-view+json": {
       "model_id": "075c9808d90a41288c352a5a07b4352e",
       "version_major": 2,
       "version_minor": 0
      },
      "text/plain": [
       "Dropdown(description='Gill_Spacing', options=('close', 'crowded'), value='close')"
      ]
     },
     "metadata": {},
     "output_type": "display_data"
    },
    {
     "data": {
      "application/vnd.jupyter.widget-view+json": {
       "model_id": "4a2f6b36e0eb49bebf8afc1c1d5516f1",
       "version_major": 2,
       "version_minor": 0
      },
      "text/plain": [
       "Dropdown(description='Gill_Size', options=('broad', 'narrow'), value='broad')"
      ]
     },
     "metadata": {},
     "output_type": "display_data"
    },
    {
     "data": {
      "application/vnd.jupyter.widget-view+json": {
       "model_id": "ea0caab1eafb427689140e2187e92741",
       "version_major": 2,
       "version_minor": 0
      },
      "text/plain": [
       "Dropdown(description='Gill_Color', options=('black', 'brown', 'buff', 'chocolate', 'gray', 'green', 'orange', …"
      ]
     },
     "metadata": {},
     "output_type": "display_data"
    },
    {
     "data": {
      "application/vnd.jupyter.widget-view+json": {
       "model_id": "ca16c6f5c15d40ba99782b28894c1c40",
       "version_major": 2,
       "version_minor": 0
      },
      "text/plain": [
       "Dropdown(description='Stalk_Shape', options=('enlarging', 'tapering'), value='enlarging')"
      ]
     },
     "metadata": {},
     "output_type": "display_data"
    },
    {
     "data": {
      "application/vnd.jupyter.widget-view+json": {
       "model_id": "83284ecc2093411882a72cbce36c61bf",
       "version_major": 2,
       "version_minor": 0
      },
      "text/plain": [
       "Dropdown(description='Stalk_Root', options=('bulbous', 'club', 'equal', 'rooted', 'missing'), value='bulbous')"
      ]
     },
     "metadata": {},
     "output_type": "display_data"
    },
    {
     "data": {
      "application/vnd.jupyter.widget-view+json": {
       "model_id": "ec41ece78b04491882a21de5121d7e33",
       "version_major": 2,
       "version_minor": 0
      },
      "text/plain": [
       "Dropdown(description='Stalk_Surface_Above_Ring', options=('fibrous', 'scaly', 'silky', 'smooth'), value='fibro…"
      ]
     },
     "metadata": {},
     "output_type": "display_data"
    },
    {
     "data": {
      "application/vnd.jupyter.widget-view+json": {
       "model_id": "079559d29fde4ba98a161a240a86826c",
       "version_major": 2,
       "version_minor": 0
      },
      "text/plain": [
       "Dropdown(description='Stalk_Surface_Below_Ring', options=('fibrous', 'scaly', 'silky', 'smooth'), value='fibro…"
      ]
     },
     "metadata": {},
     "output_type": "display_data"
    },
    {
     "data": {
      "application/vnd.jupyter.widget-view+json": {
       "model_id": "ee2f040e68c845e5800d8c4adb8b58a3",
       "version_major": 2,
       "version_minor": 0
      },
      "text/plain": [
       "Dropdown(description='Stalk_Color_Above_Ring', options=('brown', 'buff', 'cinnamon', 'gray', 'orange', 'pink',…"
      ]
     },
     "metadata": {},
     "output_type": "display_data"
    },
    {
     "data": {
      "application/vnd.jupyter.widget-view+json": {
       "model_id": "141e487a32cf492ea2efc2155834892f",
       "version_major": 2,
       "version_minor": 0
      },
      "text/plain": [
       "Dropdown(description='Stalk_Color_Below_Ring', options=('brown', 'buff', 'cinnamon', 'gray', 'orange', 'pink',…"
      ]
     },
     "metadata": {},
     "output_type": "display_data"
    },
    {
     "data": {
      "application/vnd.jupyter.widget-view+json": {
       "model_id": "efdef173762a45a5b4d5fc2ceed6fb86",
       "version_major": 2,
       "version_minor": 0
      },
      "text/plain": [
       "Dropdown(description='Veil_Type', options=('parial',), value='parial')"
      ]
     },
     "metadata": {},
     "output_type": "display_data"
    },
    {
     "data": {
      "application/vnd.jupyter.widget-view+json": {
       "model_id": "2f118b4fd9794fbeb0ed107c348bc841",
       "version_major": 2,
       "version_minor": 0
      },
      "text/plain": [
       "Dropdown(description='Veil_Color', options=('brown', 'orange', 'white', 'yellow'), value='brown')"
      ]
     },
     "metadata": {},
     "output_type": "display_data"
    },
    {
     "data": {
      "application/vnd.jupyter.widget-view+json": {
       "model_id": "d7e85c1eab154ac095a00107cd80de03",
       "version_major": 2,
       "version_minor": 0
      },
      "text/plain": [
       "Dropdown(description='Ring_Number', options=('none', 'two'), value='none')"
      ]
     },
     "metadata": {},
     "output_type": "display_data"
    },
    {
     "data": {
      "application/vnd.jupyter.widget-view+json": {
       "model_id": "aef562cd98b24f3a9d5ff4af9e4de4eb",
       "version_major": 2,
       "version_minor": 0
      },
      "text/plain": [
       "Dropdown(description='Ring_Type', options=('evanescent', 'flaring', 'large', 'none', 'pendant'), value='evanes…"
      ]
     },
     "metadata": {},
     "output_type": "display_data"
    },
    {
     "data": {
      "application/vnd.jupyter.widget-view+json": {
       "model_id": "130c7a9bc67b4bf89d771f2ee7f6b590",
       "version_major": 2,
       "version_minor": 0
      },
      "text/plain": [
       "Dropdown(description='Spore_Print_Color', options=('black', 'brown', 'buff', 'chocolate', 'green', 'orange', '…"
      ]
     },
     "metadata": {},
     "output_type": "display_data"
    },
    {
     "data": {
      "application/vnd.jupyter.widget-view+json": {
       "model_id": "c129fbdab0fc4231bd29ec7dd0adf3f4",
       "version_major": 2,
       "version_minor": 0
      },
      "text/plain": [
       "Dropdown(description='Population', options=('abundant', 'clustered', 'numerous', 'scattered', 'several', 'soli…"
      ]
     },
     "metadata": {},
     "output_type": "display_data"
    },
    {
     "data": {
      "application/vnd.jupyter.widget-view+json": {
       "model_id": "8e9b21b117074a39a5abea3d8c4cc43b",
       "version_major": 2,
       "version_minor": 0
      },
      "text/plain": [
       "Dropdown(description='Habitat', options=('grasses', 'leaves', 'meadows', 'paths', 'urban', 'waste', 'woods'), …"
      ]
     },
     "metadata": {},
     "output_type": "display_data"
    },
    {
     "data": {
      "application/vnd.jupyter.widget-view+json": {
       "model_id": "c99eca5b318f4be5a6faa311ce987186",
       "version_major": 2,
       "version_minor": 0
      },
      "text/plain": [
       "Button(description='Run', style=ButtonStyle())"
      ]
     },
     "metadata": {},
     "output_type": "display_data"
    },
    {
     "name": "stdout",
     "output_type": "stream",
     "text": [
      "{'Cap Shape': 'bell', 'Cap Surface': 'fibrous', 'Cap Color': 'brown', 'Bruises': 'Yes', 'Odor': 'almond', 'Gill_Attachment': 'attached', 'Gill_Spacing': 'close', 'Gill_Size': 'broad', 'Gill_Color': 'black', 'Stalk_Shape': 'enlarging', 'Stalk_Root': 'bulbous', 'Stalk_Surface_Above_Ring': 'fibrous', 'Stalk_Surface_Below_Ring': 'fibrous', 'Stalk_Color_Above_Ring': 'brown', 'Stalk_Color_Below_Ring': 'brown', 'Veil_Type': 'parial', 'Veil_Color': 'brown', 'Ring_Number': 'none', 'Ring_Type': 'evanescent', 'Spore_Print_Color': 'black', 'Population': 'abundant', 'Habitat': 'grasses'}\n",
      "{'Cap Shape': 'bell', 'Cap Surface': 'fibrous', 'Cap Color': 'brown', 'Bruises': 'Yes', 'Odor': 'almond', 'Gill_Attachment': 'attached', 'Gill_Spacing': 'close', 'Gill_Size': 'broad', 'Gill_Color': 'black', 'Stalk_Shape': 'enlarging', 'Stalk_Root': 'bulbous', 'Stalk_Surface_Above_Ring': 'fibrous', 'Stalk_Surface_Below_Ring': 'fibrous', 'Stalk_Color_Above_Ring': 'brown', 'Stalk_Color_Below_Ring': 'brown', 'Veil_Type': 'parial', 'Veil_Color': 'brown', 'Ring_Number': 'none', 'Ring_Type': 'large', 'Spore_Print_Color': 'black', 'Population': 'abundant', 'Habitat': 'grasses'}\n",
      "{'Cap Shape': 'bell', 'Cap Surface': 'fibrous', 'Cap Color': 'brown', 'Bruises': 'Yes', 'Odor': 'almond', 'Gill_Attachment': 'attached', 'Gill_Spacing': 'close', 'Gill_Size': 'broad', 'Gill_Color': 'black', 'Stalk_Shape': 'enlarging', 'Stalk_Root': 'bulbous', 'Stalk_Surface_Above_Ring': 'fibrous', 'Stalk_Surface_Below_Ring': 'fibrous', 'Stalk_Color_Above_Ring': 'brown', 'Stalk_Color_Below_Ring': 'brown', 'Veil_Type': 'parial', 'Veil_Color': 'brown', 'Ring_Number': 'none', 'Ring_Type': 'large', 'Spore_Print_Color': 'black', 'Population': 'abundant', 'Habitat': 'urban'}\n"
     ]
    }
   ],
   "source": [
    "display(widgets_cap_shape, widgets_cap_surface, widgets_cap_color, widget_bruises, widget_odor, widget_gill_attachment, widget_gill_spacing, widget_gill_size, widget_gill_color, widget_stalk_shape, widget_stalk_root, widget_stalk_surface_above_ring, widget_stalk_surface_below_ring, widget_stalk_color_above_ring, widget_stalk_color_below_ring, widget_veil_type, widget_veil_color, widget_ring_number, widget_ring_type, widget_spore_print_color, widget_population, widget_habitat, run_button)"
   ]
  },
  {
   "cell_type": "code",
   "execution_count": 55,
   "metadata": {
    "slideshow": {
     "slide_type": "skip"
    }
   },
   "outputs": [],
   "source": [
    "def mush_convertion_columns(chosen_values):\n",
    "\n",
    "    index_cap_shape = [\"bell\", \"conical\", \"convex\", \"flat\", \"knobbed\", \"sunken\"]\n",
    "    find_index_cap_shape = ['cap-shape_b', 'cap-shape_c', 'cap-shape_x', 'cap-shape_f', 'cap-shape_k', 'cap-shape_s']\n",
    "    raz = find_index_cap_shape[index_cap_shape.index(chosen_values[0])]\n",
    "\n",
    "    index_cap_surface = [\"fibrous\", \"grooves\", \"scaly\", \"smooth\"]\n",
    "    find_index_cap_surface = ['cap-surface_f', 'cap-surface_g', 'cap-surface_y', 'cap-surface_s']\n",
    "    dwa = find_index_cap_surface[index_cap_surface.index(chosen_values[1])]\n",
    "\n",
    "    index_cap_color = [\"brown\", \"buff\", \"cinnamon\", \"gray\", \"green\", \"pink\", \"purple\", \"red\", \"white\", \"yellow\"]\n",
    "    find_index_cap_color = ['cap-color_n', 'cap-color_b', 'cap-color_c', 'cap-color_g', 'cap-color_r', 'cap-color_p', 'cap-color_u', 'cap-color_e', 'cap-color_w', 'cap-color_y']\n",
    "    trzy = find_index_cap_color[index_cap_color.index(chosen_values[2])]\n",
    "\n",
    "    index_bruises = [\"Yes\", \"No\"]\n",
    "    find_index_bruises = ['bruises_t', 'bruises_f']\n",
    "    cztery = find_index_bruises[index_bruises.index(chosen_values[3])]\n",
    "\n",
    "    index_odor = [\"almond\", \"anise\", \"creoote\", \"fishy\", \"foul\", \"musty\", \"none\", \"pungent\", \"spicy\"]\n",
    "    find_index_odor = ['odor_a', 'odor_l', 'odor_c', 'odor_y', 'odor_f', 'odor_m', 'odor_n', 'odor_p', 'odor_s']\n",
    "    piec = find_index_odor[index_odor.index(chosen_values[4])]\n",
    "\n",
    "    index_gill_attachment = [\"attached\", \"free\"]\n",
    "    find_index_gill_attachment = ['gill-attachment_a', 'gill-attachment_f']\n",
    "    szesc = find_index_gill_attachment[index_gill_attachment.index(chosen_values[5])]\n",
    "\n",
    "    index_gill_spacing = [\"close\", \"crowded\"]\n",
    "    find_index_gill_spacing = ['gill-spacing_c', 'gill-spacing_w']\n",
    "    siedem = find_index_gill_spacing[index_gill_spacing.index(chosen_values[6])]\n",
    "\n",
    "    index_gill_size = [\"broad\", \"narrow\"]\n",
    "    find_index_gill_size = ['gill-size_b', 'gill-size_n']\n",
    "    osiem = find_index_gill_size[index_gill_size.index(chosen_values[7])]\n",
    "\n",
    "    index_gill_color = [\"black\", \"brown\", \"buff\", \"chocolate\", \"gray\", \"green\", \"orange\", \"pink\", \"purple\", \"red\", \"white\", \"yellow\"]\n",
    "    find_index_gill_color = ['gill-color_k', 'gill-color_n', 'gill-color_b', 'gill-color_h', 'gill-color_g', 'gill-color_r', 'gill-color_o', 'gill-color_p', 'gill-color_u', 'gill-color_e', 'gill-color_w', 'gill-color_y']\n",
    "    dziewiec = find_index_gill_color[index_gill_color.index(chosen_values[8])]\n",
    "\n",
    "    index_stalk_shape = [\"enlarging\", \"tapering\"]\n",
    "    find_index_stalk_shape = ['stalk-shape_e', 'stalk-shape_t']\n",
    "    dziesiec = find_index_stalk_shape[index_stalk_shape.index(chosen_values[9])]\n",
    "\n",
    "    index_stalk_root = [\"bulbous\", \"club\", \"equal\", \"rooted\", \"missing\"]\n",
    "    find_index_stalk_root = ['stalk-root_b', 'stalk-root_c', 'stalk-root_e', 'stalk-root_r', 'stalk-root_?']\n",
    "    jedenascie = find_index_stalk_root[index_stalk_root.index(chosen_values[10])]\n",
    "\n",
    "    index_stalk_surface_above_ring = [\"fibrous\", \"scaly\", \"silky\", \"smooth\"]\n",
    "    find_index_stalk_surface_above_ring = ['stalk-surface-above-ring_f', 'stalk-surface-above-ring_y', 'stalk-surface-above-ring_k', 'stalk-surface-above-ring_s']\n",
    "    dwanascie = find_index_stalk_surface_above_ring[index_stalk_surface_above_ring.index(chosen_values[11])]\n",
    "\n",
    "    index_stalk_surface_below_ring = [\"fibrous\", \"scaly\", \"silky\", \"smooth\"]\n",
    "    find_index_stalk_surface_below_ring = ['stalk-surface-below-ring_f', 'stalk-surface-below-ring_y', 'stalk-surface-below-ring_k', 'stalk-surface-below-ring_s']\n",
    "    trzynascie = find_index_stalk_surface_below_ring[index_stalk_surface_below_ring.index(chosen_values[12])]\n",
    "\n",
    "    index_stalk_color_above_ring = [\"brown\", \"buff\", \"cinnamon\", \"gray\", \"orange\", \"pink\", \"red\", \"white\", \"yellow\"]\n",
    "    find_index_stalk_color_above_ring = ['stalk-color-above-ring_n', 'stalk-color-above-ring_b','stalk-color-above-ring_c', 'stalk-color-above-ring_g','stalk-color-above-ring_o', 'stalk-color-above-ring_p','stalk-color-above-ring_e', 'stalk-color-above-ring_w','stalk-color-above-ring_y']\n",
    "    czernascie = find_index_stalk_color_above_ring[index_stalk_color_above_ring.index(chosen_values[13])]\n",
    "\n",
    "    index_stalk_color_below_ring = [\"brown\", \"buff\", \"cinnamon\", \"gray\", \"orange\", \"pink\", \"red\", \"white\", \"yellow\"]\n",
    "    find_index_stalk_color_below_ring = ['stalk-color-below-ring_n', 'stalk-color-below-ring_b','stalk-color-below-ring_c', 'stalk-color-below-ring_g','stalk-color-below-ring_o', 'stalk-color-below-ring_p','stalk-color-below-ring_e', 'stalk-color-below-ring_w','stalk-color-below-ring_y']\n",
    "    pietnascie = find_index_stalk_color_below_ring[index_stalk_color_below_ring.index(chosen_values[14])]\n",
    "\n",
    "    index_veil_type = [\"parial\"]\n",
    "    find_index_veil_type = ['veil-type_p']\n",
    "    szesnascie = find_index_veil_type[index_veil_type.index(chosen_values[15])]\n",
    "\n",
    "    index_veil_color = [\"brown\", \"orange\", \"white\", \"yellow\"]\n",
    "    find_index_veil_color = ['veil-color_n', 'veil-color_o', 'veil-color_w', 'veil-color_y']\n",
    "    siedemnascie = find_index_veil_color[index_veil_color.index(chosen_values[16])]\n",
    "\n",
    "    index_ring_number = [\"none\", \"two\"]\n",
    "    find_index_ring_number = ['ring-number_n', 'ring-number_t']\n",
    "    osiemnascie = find_index_ring_number[index_ring_number.index(chosen_values[17])]\n",
    "\n",
    "    index_ring_type = [\"evanescent\", \"flaring\", \"large\", \"none\", \"pendant\"]\n",
    "    find_index_ring_type = ['ring-type_e', 'ring-type_f', 'ring-type_l', 'ring-type_n', 'ring-type_p']\n",
    "    dziewietnascie = find_index_ring_type[index_ring_type.index(chosen_values[18])]\n",
    "\n",
    "    index_spore_print_color = [\"black\", \"brown\", \"buff\", \"chocolate\", \"green\", \"orange\", \"purple\", \"white\", \"yellow\"]\n",
    "    find_index_spore_print_color = ['spore-print-color_k', 'spore-print-color_n', 'spore-print-color_b','spore-print-color_h', 'spore-print-color_r', 'spore-print-color_o','spore-print-color_u', 'spore-print-color_w', 'spore-print-color_y']\n",
    "    dwadziescia = find_index_spore_print_color[index_spore_print_color.index(chosen_values[19])]\n",
    "\n",
    "    index_population = [\"abundant\", \"clustered\", \"numerous\", \"scattered\", \"several\", \"solitary\"]\n",
    "    find_index_population = ['population_a', 'population_c', 'population_n', 'population_s','population_v', 'population_y']\n",
    "    dwadziesciajeden = find_index_population[index_population.index(chosen_values[20])]\n",
    "\n",
    "    index_habitat = [\"grasses\", \"leaves\", \"meadows\", \"paths\", \"urban\", \"waste\", \"woods\"]\n",
    "    find_index_habitat = ['habitat_g', 'habitat_l', 'habitat_m', 'habitat_p', 'habitat_u', 'habitat_w', 'habitat_d']\n",
    "    dwadziesciadwa = find_index_habitat[index_habitat.index(chosen_values[21])]\n",
    "\n",
    "    \n",
    "    return [raz, dwa, trzy, cztery, piec, szesc, siedem, osiem, dziewiec, dziesiec, jedenascie, dwanascie, trzynascie, czernascie, pietnascie, szesnascie, siedemnascie, osiemnascie, dziewietnascie, dwadziescia, dwadziesciajeden, dwadziesciadwa]"
   ]
  },
  {
   "cell_type": "code",
   "execution_count": 56,
   "metadata": {
    "slideshow": {
     "slide_type": "skip"
    }
   },
   "outputs": [],
   "source": [
    "def predicted_values(empty_data, chosen_list): #funkcja przypisująca wartość 1 wcześniej wybranym przez nas kolumnom\n",
    "    empty_data.loc[:, chosen_list] = 1\n",
    "    return empty_data"
   ]
  },
  {
   "cell_type": "code",
   "execution_count": 58,
   "metadata": {
    "scrolled": true,
    "slideshow": {
     "slide_type": "skip"
    }
   },
   "outputs": [
    {
     "data": {
      "text/html": [
       "<div>\n",
       "<style scoped>\n",
       "    .dataframe tbody tr th:only-of-type {\n",
       "        vertical-align: middle;\n",
       "    }\n",
       "\n",
       "    .dataframe tbody tr th {\n",
       "        vertical-align: top;\n",
       "    }\n",
       "\n",
       "    .dataframe thead th {\n",
       "        text-align: right;\n",
       "    }\n",
       "</style>\n",
       "<table border=\"1\" class=\"dataframe\">\n",
       "  <thead>\n",
       "    <tr style=\"text-align: right;\">\n",
       "      <th></th>\n",
       "      <th>cap-shape_b</th>\n",
       "      <th>cap-shape_c</th>\n",
       "      <th>cap-shape_f</th>\n",
       "      <th>cap-shape_k</th>\n",
       "      <th>cap-shape_s</th>\n",
       "      <th>cap-shape_x</th>\n",
       "      <th>cap-surface_f</th>\n",
       "      <th>cap-surface_g</th>\n",
       "      <th>cap-surface_s</th>\n",
       "      <th>cap-surface_y</th>\n",
       "      <th>...</th>\n",
       "      <th>population_s</th>\n",
       "      <th>population_v</th>\n",
       "      <th>population_y</th>\n",
       "      <th>habitat_d</th>\n",
       "      <th>habitat_g</th>\n",
       "      <th>habitat_l</th>\n",
       "      <th>habitat_m</th>\n",
       "      <th>habitat_p</th>\n",
       "      <th>habitat_u</th>\n",
       "      <th>habitat_w</th>\n",
       "    </tr>\n",
       "  </thead>\n",
       "  <tbody>\n",
       "    <tr>\n",
       "      <th>1222</th>\n",
       "      <td>1</td>\n",
       "      <td>0</td>\n",
       "      <td>0</td>\n",
       "      <td>0</td>\n",
       "      <td>0</td>\n",
       "      <td>0</td>\n",
       "      <td>1</td>\n",
       "      <td>0</td>\n",
       "      <td>0</td>\n",
       "      <td>0</td>\n",
       "      <td>...</td>\n",
       "      <td>0</td>\n",
       "      <td>0</td>\n",
       "      <td>0</td>\n",
       "      <td>0</td>\n",
       "      <td>0</td>\n",
       "      <td>0</td>\n",
       "      <td>0</td>\n",
       "      <td>0</td>\n",
       "      <td>1</td>\n",
       "      <td>0</td>\n",
       "    </tr>\n",
       "  </tbody>\n",
       "</table>\n",
       "<p>1 rows × 117 columns</p>\n",
       "</div>"
      ],
      "text/plain": [
       "      cap-shape_b  cap-shape_c  cap-shape_f  cap-shape_k  cap-shape_s  \\\n",
       "1222            1            0            0            0            0   \n",
       "\n",
       "      cap-shape_x  cap-surface_f  cap-surface_g  cap-surface_s  cap-surface_y  \\\n",
       "1222            0              1              0              0              0   \n",
       "\n",
       "      ...  population_s  population_v  population_y  habitat_d  habitat_g  \\\n",
       "1222  ...             0             0             0          0          0   \n",
       "\n",
       "      habitat_l  habitat_m  habitat_p  habitat_u  habitat_w  \n",
       "1222          0          0          0          1          0  \n",
       "\n",
       "[1 rows x 117 columns]"
      ]
     },
     "execution_count": 58,
     "metadata": {},
     "output_type": "execute_result"
    }
   ],
   "source": [
    "# przypisanie zmiennej by tworzyć pustą pojedyńczą tabelkę\n",
    "zmienna = X_test\n",
    "\n",
    "#wybieranie jednego wiersza by mieć wszystkie kolumny używanego do analizy\n",
    "empty_df = pd.DataFrame(zmienna.iloc[0]).transpose()\n",
    "\n",
    "#przypisywanie tym kolumnom wartości 0\n",
    "empty_df.iloc[0] = 0 \n",
    "empty_df.reset_index().drop(\"index\", axis=1, inplace=True)\n",
    "\n",
    "#wybór wartości słownika\n",
    "dictionary_values = values.values() \n",
    "dictionary_values = list(dictionary_values)\n",
    "\n",
    "convertion = mush_convertion_columns(dictionary_values)\n",
    "\n",
    "mush_pred = predicted_values(empty_df, convertion)\n",
    "mush_pred"
   ]
  },
  {
   "cell_type": "code",
   "execution_count": 63,
   "metadata": {},
   "outputs": [
    {
     "name": "stdout",
     "output_type": "stream",
     "text": [
      "Grzyb jest jadalny.\n"
     ]
    }
   ],
   "source": [
    "if xgb_cl_1.predict(mush_pred) == 0:\n",
    "    print(\"Grzyb jest trujący.\")\n",
    "else:\n",
    "    print(\"Grzyb jest jadalny.\")"
   ]
  }
 ],
 "metadata": {
  "celltoolbar": "Slideshow",
  "kernelspec": {
   "display_name": "Python 3",
   "language": "python",
   "name": "python3"
  },
  "language_info": {
   "codemirror_mode": {
    "name": "ipython",
    "version": 3
   },
   "file_extension": ".py",
   "mimetype": "text/x-python",
   "name": "python",
   "nbconvert_exporter": "python",
   "pygments_lexer": "ipython3",
   "version": "3.8.8"
  }
 },
 "nbformat": 4,
 "nbformat_minor": 4
}
