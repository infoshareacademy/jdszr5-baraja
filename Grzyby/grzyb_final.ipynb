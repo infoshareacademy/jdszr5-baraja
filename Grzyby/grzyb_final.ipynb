{
 "cells": [
  {
   "cell_type": "markdown",
   "metadata": {},
   "source": [
    "## Linki"
   ]
  },
  {
   "cell_type": "markdown",
   "metadata": {},
   "source": [
    "https://www.analyticsvidhya.com/blog/2016/03/complete-guide-parameter-tuning-xgboost-with-codes-python/"
   ]
  },
  {
   "cell_type": "markdown",
   "metadata": {},
   "source": [
    "## Opis cech (features)"
   ]
  },
  {
   "cell_type": "markdown",
   "metadata": {
    "jupyter": {
     "source_hidden": true
    }
   },
   "source": [
    "### Lista występujących cech w danych:\n",
    "\n",
    "##### 1. class  _klasa_:\n",
    "- edible = e    > _jadalne_\n",
    "- poisonous = p > _trujące_\n",
    "\n",
    "##### 2. cap-shape  _kształt kapelusza_:\n",
    "- bell = b      > _dzwon_\n",
    "- conical = c   > _stożkowy_\n",
    "- convex = x    > _wypukły_\n",
    "- flat = f      > _płaski_\n",
    "- knobbed = k   > _gałkowy_\n",
    "- sunken = s    > _wklęsły_\n",
    "\n",
    "##### 3. cap-surface  _powierzchnia kapelusza_:\n",
    "- fibrous = f   > _włóknista_\n",
    "- grooves = g   > _rowkowata_\n",
    "- scaly = y     > _łuskowata_\n",
    "- smooth = s    > _gładka_\n",
    "\n",
    "##### 3. cap-color _kolor kapelusza_:\n",
    "- brown = n     > _brązowy_\n",
    "- buff = b      > _jasnobrązowożółty_\n",
    "- cinnamon = c  > _cynamon_\n",
    "- gray = g      > _szary_\n",
    "- green = r     > _zielony_\n",
    "- pink = p      > _różowy_\n",
    "- purple = u    > _fioletowy_\n",
    "- red = e       > _czerwony_\n",
    "- white = w     > _biały_\n",
    "- yellow = y    > _zółty_\n",
    "\n",
    "##### 4. bruises _bruzdy_:\n",
    "- bruises = t   > _prawda_\n",
    "- no = f        > _fałsz_\n",
    "\n",
    "##### 5. odor _zapach_:\n",
    "- almond=a > _migdałowy_\n",
    "- anise=l >_anyżowy_\n",
    "- creoote=c >_kreotyzowy_\n",
    "- fishy=y >_rybi_\n",
    "- foul=f >_śmierdzący_\n",
    "- musty=m >_stęchły_\n",
    "- none=n \n",
    "- pungent=p >_cierpki_\n",
    "- spicy=s > _pikantny_\n",
    "\n",
    "##### 6. gill-attachment _blaszki:\n",
    "- attached=a\n",
    "- descending=d\n",
    "- free=f\n",
    "- notched=n\n",
    "\n",
    "##### 7. gill-spacing _odstępy blaszek_:\n",
    "- close=c\n",
    "- crowded=w\n",
    "- distant=d\n",
    "\n",
    "##### 8. gill-size _rozmiar blaszek_:\n",
    "- broad=b\n",
    "- narrow=n\n",
    "\n",
    "##### 9. gill-color _kolor blaszek_:\n",
    "- black=k\n",
    "- brown=n\n",
    "- buff=b\n",
    "- chocolate=h\n",
    "- gray=g\n",
    "- green=r\n",
    "- orange=o\n",
    "- pink=p\n",
    "- purple=u\n",
    "- red=e\n",
    "- white=w\n",
    "- yellow=y\n",
    "\n",
    "##### 10. stalk-shape _trzon_:\n",
    "- enlarging=e\n",
    "- tapering=t\n",
    "\n",
    "##### 11. stalk-root _korzeń trzonu_:\n",
    "- bulbous=b\n",
    "- club=c\n",
    "- cup=u\n",
    "- equal=e\n",
    "- rhizomorphs=z\n",
    "- rooted=r\n",
    "- missing=?\n",
    "\n",
    "##### 12. stalk-surface-above-ring _powierzchnia trzonu powyżej pierścienia_:\n",
    "- fibrous=f > _włóknista_\n",
    "- scaly=y > _łuskowata_\n",
    "- silky=k > _jedwabista_\n",
    "- smooth=s > _gładka_\n",
    "\n",
    "##### 13. stalk-surface-below-ring _powierzchnia trzonu poniżej pierścienia_:\n",
    "- fibrous=f\n",
    "- scaly=y\n",
    "- silky=k\n",
    "- smooth=s\n",
    "\n",
    "##### 14. stalk-color-above-ring _kolor trzonu powyżej pierścienia_:\n",
    "- brown=n\n",
    "- buff=b\n",
    "- cinnamon=c\n",
    "- gray=g\n",
    "- orange=o\n",
    "- pink=p\n",
    "- red=e\n",
    "- white=w\n",
    "- yellow=y\n",
    "\n",
    "##### 15. stalk-color-below-ring _kolor trzonu poniżej pierścienia_:\n",
    "- brown=n\n",
    "- buff=b\n",
    "- cinnamon=c\n",
    "- gray=g\n",
    "- orange=o\n",
    "- pink=p\n",
    "- red=e\n",
    "- white=w\n",
    "- yellow=y\n",
    "\n",
    "##### 16. veil-type _typ welonu_:\n",
    "- parial=p\n",
    "- universal=u\n",
    "\n",
    "##### 17. veil-color _kolor welonu_:\n",
    "- brown=n,\n",
    "- orange=o\n",
    "- white=w\n",
    "- yellow=y\n",
    "\n",
    "##### 18. ring-number _ilość pierścieni_:\n",
    "- none=none=o,two=t\n",
    "\n",
    "##### 19. ring-type _rodzaj pierścienia_:\n",
    "- cobwebby=c\n",
    "- evanescent=e\n",
    "- flaring=f\n",
    "- large=l\n",
    "- none=n\n",
    "- pendant=p\n",
    "- sheathing=s\n",
    "- zone=z\n",
    "\n",
    "##### 20. spore-print-color _kolor zarodników_:\n",
    "- black=k\n",
    "- brown=n\n",
    "- buff=b\n",
    "- chocolate=h\n",
    "- green=r\n",
    "- orange=o\n",
    "- purple=u\n",
    "- white=w\n",
    "- yellow=y\n",
    "\n",
    "##### 21. population _populacja_:\n",
    "- abundant=a\n",
    "- clustered=c\n",
    "- numerous=n\n",
    "- scattered=s\n",
    "- several=v\n",
    "- solitary=y\n",
    "\n",
    "##### 22. habitat _środowisko występowania_:\n",
    "- grasses=g\n",
    "- leaves=l\n",
    "- meadows=m\n",
    "- paths=p\n",
    "- urban=u\n",
    "- waste=w\n",
    "- woods=d"
   ]
  },
  {
   "cell_type": "code",
   "execution_count": null,
   "metadata": {},
   "outputs": [],
   "source": [
    "import pandas as pd\n",
    "import numpy as np\n",
    "import matplotlib.pyplot as plt\n",
    "import xgboost as xgb\n",
    "from sklearn.ensemble import RandomForestClassifier\n",
    "from sklearn.model_selection import train_test_split\n",
    "from sklearn.tree import DecisionTreeClassifier, plot_tree\n",
    "from sklearn.linear_model import LogisticRegression\n",
    "from mlxtend import plotting\n",
    "from sklearn.metrics import balanced_accuracy_score, roc_auc_score, make_scorer\n",
    "from sklearn.metrics import confusion_matrix\n",
    "from sklearn.metrics import plot_confusion_matrix"
   ]
  },
  {
   "cell_type": "code",
   "execution_count": null,
   "metadata": {},
   "outputs": [],
   "source": [
    "df = pd.read_csv('mushrooms.csv')\n",
    "df_columns = pd.read_csv('mushrooms.csv')"
   ]
  },
  {
   "cell_type": "code",
   "execution_count": null,
   "metadata": {},
   "outputs": [],
   "source": [
    "# domyślnie podaje 5 wierszy\n",
    "df.head()"
   ]
  },
  {
   "cell_type": "code",
   "execution_count": null,
   "metadata": {
    "jupyter": {
     "outputs_hidden": true
    }
   },
   "outputs": [],
   "source": [
    "# object Dtype = string\n",
    "df.info()"
   ]
  },
  {
   "cell_type": "code",
   "execution_count": null,
   "metadata": {
    "jupyter": {
     "outputs_hidden": true
    }
   },
   "outputs": [],
   "source": [
    "df.describe()"
   ]
  },
  {
   "cell_type": "code",
   "execution_count": null,
   "metadata": {},
   "outputs": [],
   "source": [
    "# Liczebność grzybór jadalnych (e) i trujących (p):\n",
    "jadalne = df[\"class\"].value_counts()[\"e\"]\n",
    "trujace = df[\"class\"].value_counts()[\"p\"]\n",
    "print(f\"Liczba grzybów jadalnych: {jadalne}, trujących: {trujace}.\")"
   ]
  },
  {
   "cell_type": "code",
   "execution_count": null,
   "metadata": {},
   "outputs": [],
   "source": [
    "#sprawdzenie duplikatów\n",
    "df.duplicated().any()"
   ]
  },
  {
   "cell_type": "code",
   "execution_count": null,
   "metadata": {
    "jupyter": {
     "outputs_hidden": true
    }
   },
   "outputs": [],
   "source": [
    "# Sprawdzenie brakujących wartości\n",
    "df.isnull().sum()"
   ]
  },
  {
   "cell_type": "code",
   "execution_count": null,
   "metadata": {
    "jupyter": {
     "outputs_hidden": true
    }
   },
   "outputs": [],
   "source": [
    "# Sprawdzenie wartości NaN\n",
    "df.isna().sum()"
   ]
  },
  {
   "cell_type": "code",
   "execution_count": null,
   "metadata": {},
   "outputs": [],
   "source": [
    "#zamiana danych na OHE, wywalamy class p - to będzie nasz target (class_e)\n",
    "df = pd.get_dummies(df)\n",
    "df = df.drop([\"class_p\"], axis=1)"
   ]
  },
  {
   "cell_type": "code",
   "execution_count": null,
   "metadata": {},
   "outputs": [],
   "source": [
    "y = df.class_e\n",
    "x = df.drop([\"class_e\"], axis=1)"
   ]
  },
  {
   "cell_type": "code",
   "execution_count": null,
   "metadata": {},
   "outputs": [],
   "source": [
    "X_train, X_test, y_train, y_test = train_test_split(x, y, test_size=0.2)"
   ]
  },
  {
   "cell_type": "code",
   "execution_count": null,
   "metadata": {},
   "outputs": [],
   "source": [
    "rf_classifier = RandomForestClassifier(n_estimators = 5, criterion = 'gini', max_depth=5, bootstrap=True, random_state=1)\n",
    "\n",
    "rf_classifier.fit(X_train, y_train)"
   ]
  },
  {
   "cell_type": "code",
   "execution_count": null,
   "metadata": {},
   "outputs": [],
   "source": [
    "rf_classifier.score(X_test, y_test)"
   ]
  },
  {
   "cell_type": "code",
   "execution_count": null,
   "metadata": {},
   "outputs": [],
   "source": [
    "plt.figure(figsize = (15,12))\n",
    "\n",
    "plot_tree(rf_classifier.estimators_[0],\n",
    "        feature_names=x.columns,\n",
    "        class_names=[\"0\",\"1\"],\n",
    "        filled=True);"
   ]
  },
  {
   "cell_type": "code",
   "execution_count": null,
   "metadata": {},
   "outputs": [],
   "source": [
    "feature_importances = pd.DataFrame(rf_classifier.feature_importances_, index=x.columns,\n",
    "                                   columns=['importance']).sort_values('importance', ascending=False)\n",
    "\n"
   ]
  },
  {
   "cell_type": "code",
   "execution_count": null,
   "metadata": {},
   "outputs": [],
   "source": [
    "most_important_features = feature_importances[feature_importances[\"importance\"] > 0]\n",
    "len(most_important_features)"
   ]
  },
  {
   "cell_type": "code",
   "execution_count": null,
   "metadata": {},
   "outputs": [],
   "source": [
    "feature_importances[feature_importances[\"importance\"] > 0]"
   ]
  },
  {
   "cell_type": "code",
   "execution_count": null,
   "metadata": {},
   "outputs": [],
   "source": [
    "most_important_features[most_important_features[\"importance\"] > 0.05]"
   ]
  },
  {
   "cell_type": "code",
   "execution_count": null,
   "metadata": {},
   "outputs": [],
   "source": [
    "plt.figure(figsize=(30,10))\n",
    "plt.plot(most_important_features, \"o\" )"
   ]
  },
  {
   "cell_type": "code",
   "execution_count": null,
   "metadata": {},
   "outputs": [],
   "source": [
    "feature_importances"
   ]
  },
  {
   "cell_type": "code",
   "execution_count": null,
   "metadata": {},
   "outputs": [],
   "source": [
    "fi = pd.DataFrame(feature_importances).reset_index()\n",
    "fi.columns = [\"feature\", \"importance\"]"
   ]
  },
  {
   "cell_type": "code",
   "execution_count": null,
   "metadata": {},
   "outputs": [],
   "source": [
    "odor = fi[fi[\"feature\"].str.contains(\"odor\")]\n",
    "print(odor)"
   ]
  },
  {
   "cell_type": "code",
   "execution_count": null,
   "metadata": {},
   "outputs": [],
   "source": [
    "for f in z:\n",
    "    odor = fi[fi[\"feature\"].str.contains(f)].importance.sum()\n",
    "    print(f, odor)"
   ]
  },
  {
   "cell_type": "code",
   "execution_count": null,
   "metadata": {},
   "outputs": [],
   "source": [
    "for row in fi.itertuples():\n",
    "    print(row.feature, row.importance)"
   ]
  },
  {
   "cell_type": "code",
   "execution_count": null,
   "metadata": {},
   "outputs": [],
   "source": [
    "#tworzenie widgetów"
   ]
  },
  {
   "cell_type": "code",
   "execution_count": null,
   "metadata": {},
   "outputs": [],
   "source": [
    "import ipywidgets as widgets\n",
    "from IPython.display import display"
   ]
  },
  {
   "cell_type": "code",
   "execution_count": null,
   "metadata": {},
   "outputs": [],
   "source": [
    "widgets_cap_shape = widgets.Dropdown(options=[\"bell\", \"conical\", \"convex\", \"flat\", \"knobbed\", \"sunken\"])\n",
    "widgets_cap_surface = widgets.Dropdown(options=[\"fibrous\", \"grooves\", \"scaly\", \"smooth\"])\n",
    "widgets_cap_color = widgets.Dropdown(options=[\"brown\", \"buff\", \"cinnamon\", \"gray\", \"green\", \"pink\", \"purple\", \"red\", \"white\", \"yellow\"])\n",
    "widget_bruises = widgets.Dropdown(options=[\"Yes\", \"No\"])\n",
    "widget_odor = widgets.Dropdown(options=[\"almond\", \"anise\", \"creoote\", \"fishy\", \"foul\", \"musty\", \"none\", \"pungent\", \"spicy\"])\n",
    "widget_gill_attachment = widgets.Dropdown(options=[\"attached\", \"free\"])\n",
    "widget_gill_spacing = widgets.Dropdown(options=[\"close\", \"crowded\"])\n",
    "widget_gill_size = widgets.Dropdown(options=[\"broad\", \"narrow\"])\n",
    "widget_gill_color = widgets.Dropdown(options=[\"black\", \"brown\", \"buff\", \"chocolate\", \"gray\", \"green\", \"orange\", \"pink\", \"purple\", \"red\", \"white\", \"yellow\"])\n",
    "widget_stalk_shape = widgets.Dropdown(options=[\"enlarging\", \"tapering\"])\n",
    "widget_stalk_root = widgets.Dropdown(options=[\"bulbous\", \"club\", \"equal\", \"rooted\", \"missing\"])\n",
    "widget_stalk_surface_above_ring = widgets.Dropdown(options=[\"fibrous\", \"scaly\", \"silky\", \"smooth\"])\n",
    "widget_stalk_surface_below_ring = widgets.Dropdown(options=[\"fibrous\", \"scaly\", \"silky\", \"smooth\"])\n",
    "widget_stalk_color_above_ring = widgets.Dropdown(options=[\"brown\", \"buff\", \"cinnamon\", \"gray\", \"orange\", \"pink\", \"red\", \"white\", \"yellow\"])\n",
    "widget_stalk_color_below_ring = widgets.Dropdown(options=[\"brown\", \"buff\", \"cinnamon\", \"gray\", \"orange\", \"pink\", \"red\", \"white\", \"yellow\"])\n",
    "widget_veil_type = widgets.Dropdown(options=[\"parial\"])\n",
    "widget_veil_color = widgets.Dropdown(options=[\"brown\", \"orange\", \"white\", \"yellow\"])\n",
    "widget_ring_number = widgets.Dropdown(options=[\"none\", \"two\"])\n",
    "widget_ring_type = widgets.Dropdown(options=[\"evanescent\", \"flaring\", \"large\", \"none\", \"pendant\"])\n",
    "widget_spore_print_color = widgets.Dropdown(options=[\"black\", \"brown\", \"buff\", \"chocolate\", \"green\", \"orange\", \"purple\", \"white\", \"yellow\"])\n",
    "widget_population = widgets.Dropdown(options=[\"abundant\", \"clustered\", \"numerous\", \"scattered\", \"several\", \"solitary\"])\n",
    "widget_habitat = widgets.Dropdown(options=[\"grasses\", \"leaves\", \"meadows\", \"paths\", \"urban\", \"waste\", \"woods\"])"
   ]
  },
  {
   "cell_type": "code",
   "execution_count": null,
   "metadata": {},
   "outputs": [],
   "source": [
    "values = {\n",
    "    \"Cap Shape\": widgets_cap_shape.value, \n",
    "    \"Cap Surface\": widgets_cap_surface.value, \n",
    "    \"Cap Color\": widgets_cap_color.value,\n",
    "    \"Bruises\": widget_bruises.value,\n",
    "    \"Odor\": widget_odor.value,\n",
    "    \"Gill_Attachment\": widget_gill_attachment.value,\n",
    "    \"Gill_Spacing\": widget_gill_spacing.value,\n",
    "    \"Gill_Size\": widget_gill_size.value,\n",
    "    \"Gill_Color\": widget_gill_color.value,\n",
    "    \"Stalk_Shape\": widget_stalk_shape.value,\n",
    "    \"Stalk_Root\": widget_stalk_root.value,\n",
    "    \"Stalk_Surface_Above_Ring\": widget_stalk_surface_above_ring.value,\n",
    "    \"Stalk_Surface_Below_Ring\": widget_stalk_surface_below_ring.value,\n",
    "    \"Stalk_Color_Above_Ring\": widget_stalk_color_above_ring.value,\n",
    "    \"Stalk_Color_Below_Ring\": widget_stalk_color_below_ring.value,\n",
    "    \"Veil_Type\": widget_veil_type.value,\n",
    "    \"Veil_Color\": widget_veil_color.value,\n",
    "    \"Ring_Number\": widget_ring_number.value,\n",
    "    \"Ring_Type\": widget_ring_type.value,\n",
    "    \"Spore_Print_Color\": widget_spore_print_color.value,\n",
    "    \"Population\": widget_population.value,\n",
    "    \"Habitat\": widget_habitat.value,\n",
    "    }\n",
    "\n",
    "def widget_handler(Cap_Shape, Cap_Surface, Cap_Color, Bruises, Odor, Gill_Attachment, Gill_Spacing, Gill_Size, Gill_Color, Stalk_Shape, Stalk_Root, Stalk_Surface_Above_Ring, Stalk_Surface_Below_Ring, Stalk_Color_Above_Ring, Stalk_Color_Below_Ring, Veil_Type, Veil_Color, Ring_Number, Ring_Type, Spore_Print_Color, Population, Habitat):\n",
    "    values[\"Cap Shape\"] = Cap_Shape\n",
    "    values[\"Cap Surface\"] = Cap_Surface\n",
    "    values[\"Cap Color\"] = Cap_Color\n",
    "    values[\"Bruises\"] = Bruises\n",
    "    values[\"Odor\"] = Odor\n",
    "    values[\"Gill_Attachment\"] = Gill_Attachment\n",
    "    values[\"Gill_Spacing\"] = Gill_Spacing\n",
    "    values[\"Gill_Size\"] = Gill_Size\n",
    "    values[\"Gill_Color\"] = Gill_Color\n",
    "    values[\"Stalk_Shape\"] = Stalk_Shape\n",
    "    values[\"Stalk_Root\"] = Stalk_Root\n",
    "    values[\"Stalk_Surface_Above_Ring\"] = Stalk_Surface_Above_Ring\n",
    "    values[\"Stalk_Surface_Below_Ring\"] = Stalk_Surface_Below_Ring\n",
    "    values[\"Stalk_Color_Above_Ring\"] = Stalk_Color_Above_Ring\n",
    "    values[\"Stalk_Color_Below_Ring\"] = Stalk_Color_Below_Ring\n",
    "    values[\"Veil_Type\"] = Veil_Type\n",
    "    values[\"Veil_Color\"] = Veil_Color\n",
    "    values[\"Ring_Number\"] = Ring_Number\n",
    "    values[\"Ring_Type\"] = Ring_Type\n",
    "    values[\"Spore_Print_Color\"] = Spore_Print_Color\n",
    "    values[\"Population\"] = Population\n",
    "    values[\"Habitat\"] = Habitat\n",
    "\n",
    "widgets.interact(\n",
    "    widget_handler,\n",
    "    Cap_Shape = widgets_cap_shape, \n",
    "    Cap_Surface = widgets_cap_surface, \n",
    "    Cap_Color = widgets_cap_color, \n",
    "    Bruises = widget_bruises, \n",
    "    Odor = widget_odor, \n",
    "    Gill_Attachment = widget_gill_attachment, \n",
    "    Gill_Spacing = widget_gill_spacing, \n",
    "    Gill_Size = widget_gill_size, \n",
    "    Gill_Color = widget_gill_color, \n",
    "    Stalk_Shape = widget_stalk_shape, \n",
    "    Stalk_Root = widget_stalk_root, \n",
    "    Stalk_Surface_Above_Ring = widget_stalk_surface_above_ring, \n",
    "    Stalk_Surface_Below_Ring = widget_stalk_surface_below_ring, \n",
    "    Stalk_Color_Above_Ring = widget_stalk_color_above_ring, \n",
    "    Stalk_Color_Below_Ring = widget_stalk_color_below_ring, \n",
    "    Veil_Type = widget_veil_type, \n",
    "    Veil_Color = widget_veil_color, \n",
    "    Ring_Number = widget_ring_number, \n",
    "    Ring_Type = widget_ring_type, \n",
    "    Spore_Print_Color = widget_spore_print_color, \n",
    "    Population = widget_population, \n",
    "    Habitat = widget_habitat)"
   ]
  },
  {
   "cell_type": "code",
   "execution_count": null,
   "metadata": {},
   "outputs": [],
   "source": [
    "run_button = widgets.Button(description = \"Run\")\n",
    "\n",
    "def button_callback(button):\n",
    "    print(values)\n",
    "    \n",
    "\n",
    "run_button.on_click(button_callback)"
   ]
  },
  {
   "cell_type": "code",
   "execution_count": null,
   "metadata": {},
   "outputs": [],
   "source": [
    "display(widgets_cap_shape, widgets_cap_surface, widgets_cap_color, widget_bruises, widget_odor, widget_gill_attachment, widget_gill_spacing, widget_gill_size, widget_gill_color, widget_stalk_shape, widget_stalk_root, widget_stalk_surface_above_ring, widget_stalk_surface_below_ring, widget_stalk_color_above_ring, widget_stalk_color_below_ring, widget_veil_type, widget_veil_color, widget_ring_number, widget_ring_type, widget_spore_print_color, widget_population, widget_habitat, run_button)"
   ]
  },
  {
   "cell_type": "code",
   "execution_count": null,
   "metadata": {},
   "outputs": [],
   "source": [
    "def mush_convertion_columns(chosen_values):\n",
    "\n",
    "    index_cap_shape = [\"bell\", \"conical\", \"convex\", \"flat\", \"knobbed\", \"sunken\"]\n",
    "    find_index_cap_shape = ['cap-shape_b', 'cap-shape_c', 'cap-shape_x', 'cap-shape_f', 'cap-shape_k', 'cap-shape_s']\n",
    "    raz = find_index_cap_shape[index_cap_shape.index(chosen_values[0])]\n",
    "\n",
    "    index_cap_surface = [\"fibrous\", \"grooves\", \"scaly\", \"smooth\"]\n",
    "    find_index_cap_surface = ['cap-surface_f', 'cap-surface_g', 'cap-surface_y', 'cap-surface_s']\n",
    "    dwa = find_index_cap_surface[index_cap_surface.index(chosen_values[1])]\n",
    "\n",
    "    index_cap_color = [\"brown\", \"buff\", \"cinnamon\", \"gray\", \"green\", \"pink\", \"purple\", \"red\", \"white\", \"yellow\"]\n",
    "    find_index_cap_color = ['cap-color_n', 'cap-color_b', 'cap-color_c', 'cap-color_g', 'cap-color_r', 'cap-color_p', 'cap-color_u', 'cap-color_e', 'cap-color_w', 'cap-color_y']\n",
    "    trzy = find_index_cap_color[index_cap_color.index(chosen_values[2])]\n",
    "\n",
    "    index_bruises = [\"Yes\", \"No\"]\n",
    "    find_index_bruises = ['bruises_t', 'bruises_f']\n",
    "    cztery = find_index_bruises[index_bruises.index(chosen_values[3])]\n",
    "\n",
    "    index_odor = [\"almond\", \"anise\", \"creoote\", \"fishy\", \"foul\", \"musty\", \"none\", \"pungent\", \"spicy\"]\n",
    "    find_index_odor = ['odor_a', 'odor_l', 'odor_c', 'odor_y', 'odor_f', 'odor_m', 'odor_n', 'odor_p', 'odor_s']\n",
    "    piec = find_index_odor[index_odor.index(chosen_values[4])]\n",
    "\n",
    "    index_gill_attachment = [\"attached\", \"free\"]\n",
    "    find_index_gill_attachment = ['gill-attachment_a', 'gill-attachment_f']\n",
    "    szesc = find_index_gill_attachment[index_gill_attachment.index(chosen_values[5])]\n",
    "\n",
    "    index_gill_spacing = [\"close\", \"crowded\"]\n",
    "    find_index_gill_spacing = ['gill-spacing_c', 'gill-spacing_w']\n",
    "    siedem = find_index_gill_spacing[index_gill_spacing.index(chosen_values[6])]\n",
    "\n",
    "    index_gill_size = [\"broad\", \"narrow\"]\n",
    "    find_index_gill_size = ['gill-size_b', 'gill-size_n']\n",
    "    osiem = find_index_gill_size[index_gill_size.index(chosen_values[7])]\n",
    "\n",
    "    index_gill_color = [\"black\", \"brown\", \"buff\", \"chocolate\", \"gray\", \"green\", \"orange\", \"pink\", \"purple\", \"red\", \"white\", \"yellow\"]\n",
    "    find_index_gill_color = ['gill-color_k', 'gill-color_n', 'gill-color_b', 'gill-color_h', 'gill-color_g', 'gill-color_r', 'gill-color_o', 'gill-color_p', 'gill-color_u', 'gill-color_e', 'gill-color_w', 'gill-color_y']\n",
    "    dziewiec = find_index_gill_color[index_gill_color.index(chosen_values[8])]\n",
    "\n",
    "    index_stalk_shape = [\"enlarging\", \"tapering\"]\n",
    "    find_index_stalk_shape = ['stalk-shape_e', 'stalk-shape_t']\n",
    "    dziesiec = find_index_stalk_shape[index_stalk_shape.index(chosen_values[9])]\n",
    "\n",
    "    index_stalk_root = [\"bulbous\", \"club\", \"equal\", \"rooted\", \"missing\"]\n",
    "    find_index_stalk_root = ['stalk-root_b', 'stalk-root_c', 'stalk-root_e', 'stalk-root_r', 'stalk-root_?']\n",
    "    jedenascie = find_index_stalk_root[index_stalk_root.index(chosen_values[10])]\n",
    "\n",
    "    index_stalk_surface_above_ring = [\"fibrous\", \"scaly\", \"silky\", \"smooth\"]\n",
    "    find_index_stalk_surface_above_ring = ['stalk-surface-above-ring_f', 'stalk-surface-above-ring_y', 'stalk-surface-above-ring_k', 'stalk-surface-above-ring_s']\n",
    "    dwanascie = find_index_stalk_surface_above_ring[index_stalk_surface_above_ring.index(chosen_values[11])]\n",
    "\n",
    "    index_stalk_surface_below_ring = [\"fibrous\", \"scaly\", \"silky\", \"smooth\"]\n",
    "    find_index_stalk_surface_below_ring = ['stalk-surface-below-ring_f', 'stalk-surface-below-ring_y', 'stalk-surface-below-ring_k', 'stalk-surface-below-ring_s']\n",
    "    trzynascie = find_index_stalk_surface_below_ring[index_stalk_surface_below_ring.index(chosen_values[12])]\n",
    "\n",
    "    index_stalk_color_above_ring = [\"brown\", \"buff\", \"cinnamon\", \"gray\", \"orange\", \"pink\", \"red\", \"white\", \"yellow\"]\n",
    "    find_index_stalk_color_above_ring = ['stalk-color-above-ring_n', 'stalk-color-above-ring_b','stalk-color-above-ring_c', 'stalk-color-above-ring_g','stalk-color-above-ring_o', 'stalk-color-above-ring_p','stalk-color-above-ring_e', 'stalk-color-above-ring_w','stalk-color-above-ring_y']\n",
    "    czernascie = find_index_stalk_color_above_ring[index_stalk_color_above_ring.index(chosen_values[13])]\n",
    "\n",
    "    index_stalk_color_below_ring = [\"brown\", \"buff\", \"cinnamon\", \"gray\", \"orange\", \"pink\", \"red\", \"white\", \"yellow\"]\n",
    "    find_index_stalk_color_below_ring = ['stalk-color-below-ring_n', 'stalk-color-below-ring_b','stalk-color-below-ring_c', 'stalk-color-below-ring_g','stalk-color-below-ring_o', 'stalk-color-below-ring_p','stalk-color-below-ring_e', 'stalk-color-below-ring_w','stalk-color-below-ring_y']\n",
    "    pietnascie = find_index_stalk_color_below_ring[index_stalk_color_below_ring.index(chosen_values[14])]\n",
    "\n",
    "    index_veil_type = [\"parial\"]\n",
    "    find_index_veil_type = ['veil-type_p']\n",
    "    szesnascie = find_index_veil_type[index_veil_type.index(chosen_values[15])]\n",
    "\n",
    "    index_veil_color = [\"brown\", \"orange\", \"white\", \"yellow\"]\n",
    "    find_index_veil_color = ['veil-color_n', 'veil-color_o', 'veil-color_w', 'veil-color_y']\n",
    "    siedemnascie = find_index_veil_color[index_veil_color.index(chosen_values[16])]\n",
    "\n",
    "    index_ring_number = [\"none\", \"two\"]\n",
    "    find_index_ring_number = ['ring-number_n', 'ring-number_t']\n",
    "    osiemnascie = find_index_ring_number[index_ring_number.index(chosen_values[17])]\n",
    "\n",
    "    index_ring_type = [\"evanescent\", \"flaring\", \"large\", \"none\", \"pendant\"]\n",
    "    find_index_ring_type = ['ring-type_e', 'ring-type_f', 'ring-type_l', 'ring-type_n', 'ring-type_p']\n",
    "    dziewietnascie = find_index_ring_type[index_ring_type.index(chosen_values[18])]\n",
    "\n",
    "    index_spore_print_color = [\"black\", \"brown\", \"buff\", \"chocolate\", \"green\", \"orange\", \"purple\", \"white\", \"yellow\"]\n",
    "    find_index_spore_print_color = ['spore-print-color_k', 'spore-print-color_n', 'spore-print-color_b','spore-print-color_h', 'spore-print-color_r', 'spore-print-color_o','spore-print-color_u', 'spore-print-color_w', 'spore-print-color_y']\n",
    "    dwadziescia = find_index_spore_print_color[index_spore_print_color.index(chosen_values[19])]\n",
    "\n",
    "    index_population = [\"abundant\", \"clustered\", \"numerous\", \"scattered\", \"several\", \"solitary\"]\n",
    "    find_index_population = ['population_a', 'population_c', 'population_n', 'population_s','population_v', 'population_y']\n",
    "    dwadziesciajeden = find_index_population[index_population.index(chosen_values[20])]\n",
    "\n",
    "    index_habitat = [\"grasses\", \"leaves\", \"meadows\", \"paths\", \"urban\", \"waste\", \"woods\"]\n",
    "    find_index_habitat = ['habitat_g', 'habitat_l', 'habitat_m', 'habitat_p', 'habitat_u', 'habitat_w', 'habitat_d']\n",
    "    dwadziesciadwa = find_index_habitat[index_habitat.index(chosen_values[21])]\n",
    "\n",
    "    \n",
    "    return [raz, dwa, trzy, cztery, piec, szesc, siedem, osiem, dziewiec, dziesiec, jedenascie, dwanascie, trzynascie, czernascie, pietnascie, szesnascie, siedemnascie, osiemnascie, dziewietnascie, dwadziescia, dwadziesciajeden, dwadziesciadwa]"
   ]
  },
  {
   "cell_type": "code",
   "execution_count": null,
   "metadata": {},
   "outputs": [],
   "source": [
    "def predicted_values(empty_data, chosen_list): #funkcja przypisująca wartość 1 wcześniej wybranym przez nas kolumnom\n",
    "    empty_data.loc[:, chosen_list] = 1\n",
    "    return empty_data"
   ]
  },
  {
   "cell_type": "code",
   "execution_count": null,
   "metadata": {},
   "outputs": [],
   "source": [
    "# przypisanie zmiennej by tworzyć pustą pojedyńczą tabelkę\n",
    "zmienna = X_test"
   ]
  },
  {
   "cell_type": "code",
   "execution_count": null,
   "metadata": {},
   "outputs": [],
   "source": [
    "empty_df = pd.DataFrame(zmienna.iloc[0]).transpose() #wybieranie jednego wiersza by mieć wszystkie kolumny używanego do analizy"
   ]
  },
  {
   "cell_type": "code",
   "execution_count": null,
   "metadata": {},
   "outputs": [],
   "source": [
    "empty_df.iloc[0] = 0 \n",
    "empty_df.reset_index().drop(\"index\", axis=1, inplace=True) #przypisywanie tym kolumnom wartości 0 by móc wybranym dopisać 1"
   ]
  },
  {
   "cell_type": "code",
   "execution_count": null,
   "metadata": {},
   "outputs": [],
   "source": [
    "dictionary_values = values.values() #wybór wartości słownika\n",
    "dictionary_values = list(dictionary_values)"
   ]
  },
  {
   "cell_type": "code",
   "execution_count": null,
   "metadata": {},
   "outputs": [],
   "source": [
    "convertion = mush_convertion_columns(dictionary_values)"
   ]
  },
  {
   "cell_type": "code",
   "execution_count": null,
   "metadata": {},
   "outputs": [],
   "source": [
    "mush_pred = predicted_values(empty_df, convertion)\n",
    "mush_pred"
   ]
  },
  {
   "cell_type": "code",
   "execution_count": null,
   "metadata": {},
   "outputs": [],
   "source": [
    "xgb_cl_1 = xgb.XGBClassifier( n_estimators=100,\n",
    "                           max_depth=3,\n",
    "                           use_label_encoder=False,\n",
    "                           eval_metric='error'\n",
    "                        )\n",
    "xgb_cl_1.fit(X_train, y_train)"
   ]
  },
  {
   "cell_type": "code",
   "execution_count": null,
   "metadata": {},
   "outputs": [],
   "source": [
    "plot_confusion_matrix(xgb_cl_1,\n",
    "                      X_test,\n",
    "                      y_test,\n",
    "                      values_format='d',\n",
    "                      display_labels=[\"Jadalne\", \"Trujace\"])"
   ]
  },
  {
   "cell_type": "code",
   "execution_count": null,
   "metadata": {},
   "outputs": [],
   "source": [
    "xgb_cl_2 = xgb.XGBClassifier(n_estimators=100,\n",
    "                             seed=42,\n",
    "                             objective='binary:logistic',\n",
    "                             use_label_encoder=False,\n",
    "                             eval_metric='aucpr'\n",
    "                             )\n",
    "xgb_cl_2.fit(X_train, y_train)"
   ]
  },
  {
   "cell_type": "code",
   "execution_count": null,
   "metadata": {},
   "outputs": [],
   "source": [
    "plot_confusion_matrix(xgb_cl_2,\n",
    "                      X_test,\n",
    "                      y_test,\n",
    "                      values_format='d',\n",
    "                      display_labels=[\"Jadalne\", \"Trujace\"])"
   ]
  },
  {
   "cell_type": "code",
   "execution_count": null,
   "metadata": {},
   "outputs": [],
   "source": [
    "xgb_cl_2.predict(mush_pred)\n"
   ]
  },
  {
   "cell_type": "code",
   "execution_count": null,
   "metadata": {},
   "outputs": [],
   "source": [
    "index_gill_attachment = [\"attached\", \"descending\", \"free\", \"notched\"] #no descending, notched\n",
    "find_index_gill_attachment = ['gill-attachment_a', 'gill-attachment_f'] \n",
    "\n",
    "index_gill_spacing = [\"close\", \"crowded\", \"distant\"] #no distant\n",
    "find_index_gill_spacing = ['gill-spacing_c', 'gill-spacing_w']\n",
    "\n",
    "index_stalk_root = [\"bulbous\", \"club\", \"cup\", \"equal\", \"rhizomorphs\", \"rooted\", \"missing\"] # rhizomorphs=z , cup=u\n",
    "find_index_stalk_root = ['stalk-root_?', 'stalk-root_b', 'stalk-root_c', 'stalk-root_e', 'stalk-root_r']\n",
    "\n",
    "index_veil_type = [\"parial\", \"universal\"] # no universal\n",
    "find_index_veil_type = ['veil-type_p']\n",
    "\n",
    "index_ring_number = [\"none\", \"two\"] #no one\n",
    "find_index_ring_number = ['ring-number_n', 'ring-number_o', 'ring-number_t']\n",
    "\n",
    "index_ring_type = [\"cobwebby\", \"evanescent\", \"flaring\", \"large\", \"none\", \"pendant\", \"sheathing\", \"zone\"] # cobwebby=c, sheathing=s s, zone=z s\n",
    "find_index_ring_type = ['ring-type_e', 'ring-type_f', 'ring-type_l', 'ring-type_n', 'ring-type_p']"
   ]
  }
 ],
 "metadata": {
  "kernelspec": {
   "display_name": "Python 3",
   "language": "python",
   "name": "python3"
  },
  "language_info": {
   "codemirror_mode": {
    "name": "ipython",
    "version": 3
   },
   "file_extension": ".py",
   "mimetype": "text/x-python",
   "name": "python",
   "nbconvert_exporter": "python",
   "pygments_lexer": "ipython3",
   "version": "3.8.8"
  }
 },
 "nbformat": 4,
 "nbformat_minor": 4
}
