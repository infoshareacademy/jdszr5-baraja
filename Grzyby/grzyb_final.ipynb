{
 "cells": [
  {
   "cell_type": "markdown",
   "metadata": {},
   "source": [
    "## Linki"
   ]
  },
  {
   "cell_type": "markdown",
   "metadata": {},
   "source": [
    "https://www.analyticsvidhya.com/blog/2016/03/complete-guide-parameter-tuning-xgboost-with-codes-python/"
   ]
  },
  {
   "cell_type": "markdown",
   "metadata": {},
   "source": [
    "## Opis cech (features)"
   ]
  },
  {
   "cell_type": "markdown",
   "metadata": {
    "jupyter": {
     "source_hidden": true
    }
   },
   "source": [
    "### Lista występujących cech w danych:\n",
    "\n",
    "##### 1. class  _klasa_:\n",
    "- edible = e    > _jadalne_\n",
    "- poisonous = p > _trujące_\n",
    "\n",
    "##### 2. cap-shape  _kształt kapelusza_:\n",
    "- bell = b      > _dzwon_\n",
    "- conical = c   > _stożkowy_\n",
    "- convex = x    > _wypukły_\n",
    "- flat = f      > _płaski_\n",
    "- knobbed = k   > _gałkowy_\n",
    "- sunken = s    > _wklęsły_\n",
    "\n",
    "##### 3. cap-surface  _powierzchnia kapelusza_:\n",
    "- fibrous = f   > _włóknista_\n",
    "- grooves = g   > _rowkowata_\n",
    "- scaly = y     > _łuskowata_\n",
    "- smooth = s    > _gładka_\n",
    "\n",
    "##### 3. cap-color _kolor kapelusza_:\n",
    "- brown = n     > _brązowy_\n",
    "- buff = b      > _jasnobrązowożółty_\n",
    "- cinnamon = c  > _cynamon_\n",
    "- gray = g      > _szary_\n",
    "- green = r     > _zielony_\n",
    "- pink = p      > _różowy_\n",
    "- purple = u    > _fioletowy_\n",
    "- red = e       > _czerwony_\n",
    "- white = w     > _biały_\n",
    "- yellow = y    > _zółty_\n",
    "\n",
    "##### 4. bruises _bruzdy_:\n",
    "- bruises = t   > _prawda_\n",
    "- no = f        > _fałsz_\n",
    "\n",
    "##### 5. odor _zapach_:\n",
    "- almond=a > _migdałowy_\n",
    "- anise=l >_anyżowy_\n",
    "- creoote=c >_kreotyzowy_\n",
    "- fishy=y >_rybi_\n",
    "- foul=f >_śmierdzący_\n",
    "- musty=m >_stęchły_\n",
    "- none=n \n",
    "- pungent=p >_cierpki_\n",
    "- spicy=s > _pikantny_\n",
    "\n",
    "##### 6. gill-attachment _blaszki:\n",
    "- attached=a\n",
    "- descending=d\n",
    "- free=f\n",
    "- notched=n\n",
    "\n",
    "##### 7. gill-spacing _odstępy blaszek_:\n",
    "- close=c\n",
    "- crowded=w\n",
    "- distant=d\n",
    "\n",
    "##### 8. gill-size _rozmiar blaszek_:\n",
    "- broad=b\n",
    "- narrow=n\n",
    "\n",
    "##### 9. gill-color _kolor blaszek_:\n",
    "- black=k\n",
    "- brown=n\n",
    "- buff=b\n",
    "- chocolate=h\n",
    "- gray=g\n",
    "- green=r\n",
    "- orange=o\n",
    "- pink=p\n",
    "- purple=u\n",
    "- red=e\n",
    "- white=w\n",
    "- yellow=y\n",
    "\n",
    "##### 10. stalk-shape _trzon_:\n",
    "- enlarging=e\n",
    "- tapering=t\n",
    "\n",
    "##### 11. stalk-root _korzeń trzonu_:\n",
    "- bulbous=b\n",
    "- club=c\n",
    "- cup=u\n",
    "- equal=e\n",
    "- rhizomorphs=z\n",
    "- rooted=r\n",
    "- missing=?\n",
    "\n",
    "##### 12. stalk-surface-above-ring _powierzchnia trzonu powyżej pierścienia_:\n",
    "- fibrous=f > _włóknista_\n",
    "- scaly=y > _łuskowata_\n",
    "- silky=k > _jedwabista_\n",
    "- smooth=s > _gładka_\n",
    "\n",
    "##### 13. stalk-surface-below-ring _powierzchnia trzonu poniżej pierścienia_:\n",
    "- fibrous=f\n",
    "- scaly=y\n",
    "- silky=k\n",
    "- smooth=s\n",
    "\n",
    "##### 14. stalk-color-above-ring _kolor trzonu powyżej pierścienia_:\n",
    "- brown=n\n",
    "- buff=b\n",
    "- cinnamon=c\n",
    "- gray=g\n",
    "- orange=o\n",
    "- pink=p\n",
    "- red=e\n",
    "- white=w\n",
    "- yellow=y\n",
    "\n",
    "##### 15. stalk-color-below-ring _kolor trzonu poniżej pierścienia_:\n",
    "- brown=n\n",
    "- buff=b\n",
    "- cinnamon=c\n",
    "- gray=g\n",
    "- orange=o\n",
    "- pink=p\n",
    "- red=e\n",
    "- white=w\n",
    "- yellow=y\n",
    "\n",
    "##### 16. veil-type _typ welonu_:\n",
    "- parial=p\n",
    "- universal=u\n",
    "\n",
    "##### 17. veil-color _kolor welonu_:\n",
    "- brown=n,\n",
    "- orange=o\n",
    "- white=w\n",
    "- yellow=y\n",
    "\n",
    "##### 18. ring-number _ilość pierścieni_:\n",
    "- none=none=o,two=t\n",
    "\n",
    "##### 19. ring-type _rodzaj pierścienia_:\n",
    "- cobwebby=c\n",
    "- evanescent=e\n",
    "- flaring=f\n",
    "- large=l\n",
    "- none=n\n",
    "- pendant=p\n",
    "- sheathing=s\n",
    "- zone=z\n",
    "\n",
    "##### 20. spore-print-color _kolor zarodników_:\n",
    "- black=k\n",
    "- brown=n\n",
    "- buff=b\n",
    "- chocolate=h\n",
    "- green=r\n",
    "- orange=o\n",
    "- purple=u\n",
    "- white=w\n",
    "- yellow=y\n",
    "\n",
    "##### 21. population _populacja_:\n",
    "- abundant=a\n",
    "- clustered=c\n",
    "- numerous=n\n",
    "- scattered=s\n",
    "- several=v\n",
    "- solitary=y\n",
    "\n",
    "##### 22. habitat _środowisko występowania_:\n",
    "- grasses=g\n",
    "- leaves=l\n",
    "- meadows=m\n",
    "- paths=p\n",
    "- urban=u\n",
    "- waste=w\n",
    "- woods=d"
   ]
  },
  {
   "cell_type": "code",
   "execution_count": 89,
   "metadata": {},
   "outputs": [],
   "source": [
    "import pandas as pd\n",
    "import numpy as np\n",
    "import matplotlib.pyplot as plt\n",
    "import xgboost as xgb\n",
    "from sklearn.ensemble import RandomForestClassifier\n",
    "from sklearn.model_selection import train_test_split\n",
    "from sklearn.tree import DecisionTreeClassifier, plot_tree\n",
    "from sklearn.linear_model import LogisticRegression\n",
    "from mlxtend import plotting\n",
    "from sklearn.metrics import balanced_accuracy_score, roc_auc_score, make_scorer, accuracy_score\n",
    "from sklearn.metrics import confusion_matrix, classification_report\n",
    "from sklearn.metrics import plot_confusion_matrix"
   ]
  },
  {
   "cell_type": "code",
   "execution_count": 52,
   "metadata": {},
   "outputs": [],
   "source": [
    "df = pd.read_csv('mushrooms.csv')\n",
    "df_columns = pd.read_csv('mushrooms.csv')"
   ]
  },
  {
   "cell_type": "code",
   "execution_count": 53,
   "metadata": {},
   "outputs": [
    {
     "data": {
      "text/html": [
       "<div>\n",
       "<style scoped>\n",
       "    .dataframe tbody tr th:only-of-type {\n",
       "        vertical-align: middle;\n",
       "    }\n",
       "\n",
       "    .dataframe tbody tr th {\n",
       "        vertical-align: top;\n",
       "    }\n",
       "\n",
       "    .dataframe thead th {\n",
       "        text-align: right;\n",
       "    }\n",
       "</style>\n",
       "<table border=\"1\" class=\"dataframe\">\n",
       "  <thead>\n",
       "    <tr style=\"text-align: right;\">\n",
       "      <th></th>\n",
       "      <th>class</th>\n",
       "      <th>cap-shape</th>\n",
       "      <th>cap-surface</th>\n",
       "      <th>cap-color</th>\n",
       "      <th>bruises</th>\n",
       "      <th>odor</th>\n",
       "      <th>gill-attachment</th>\n",
       "      <th>gill-spacing</th>\n",
       "      <th>gill-size</th>\n",
       "      <th>gill-color</th>\n",
       "      <th>...</th>\n",
       "      <th>stalk-surface-below-ring</th>\n",
       "      <th>stalk-color-above-ring</th>\n",
       "      <th>stalk-color-below-ring</th>\n",
       "      <th>veil-type</th>\n",
       "      <th>veil-color</th>\n",
       "      <th>ring-number</th>\n",
       "      <th>ring-type</th>\n",
       "      <th>spore-print-color</th>\n",
       "      <th>population</th>\n",
       "      <th>habitat</th>\n",
       "    </tr>\n",
       "  </thead>\n",
       "  <tbody>\n",
       "    <tr>\n",
       "      <th>0</th>\n",
       "      <td>p</td>\n",
       "      <td>x</td>\n",
       "      <td>s</td>\n",
       "      <td>n</td>\n",
       "      <td>t</td>\n",
       "      <td>p</td>\n",
       "      <td>f</td>\n",
       "      <td>c</td>\n",
       "      <td>n</td>\n",
       "      <td>k</td>\n",
       "      <td>...</td>\n",
       "      <td>s</td>\n",
       "      <td>w</td>\n",
       "      <td>w</td>\n",
       "      <td>p</td>\n",
       "      <td>w</td>\n",
       "      <td>o</td>\n",
       "      <td>p</td>\n",
       "      <td>k</td>\n",
       "      <td>s</td>\n",
       "      <td>u</td>\n",
       "    </tr>\n",
       "    <tr>\n",
       "      <th>1</th>\n",
       "      <td>e</td>\n",
       "      <td>x</td>\n",
       "      <td>s</td>\n",
       "      <td>y</td>\n",
       "      <td>t</td>\n",
       "      <td>a</td>\n",
       "      <td>f</td>\n",
       "      <td>c</td>\n",
       "      <td>b</td>\n",
       "      <td>k</td>\n",
       "      <td>...</td>\n",
       "      <td>s</td>\n",
       "      <td>w</td>\n",
       "      <td>w</td>\n",
       "      <td>p</td>\n",
       "      <td>w</td>\n",
       "      <td>o</td>\n",
       "      <td>p</td>\n",
       "      <td>n</td>\n",
       "      <td>n</td>\n",
       "      <td>g</td>\n",
       "    </tr>\n",
       "    <tr>\n",
       "      <th>2</th>\n",
       "      <td>e</td>\n",
       "      <td>b</td>\n",
       "      <td>s</td>\n",
       "      <td>w</td>\n",
       "      <td>t</td>\n",
       "      <td>l</td>\n",
       "      <td>f</td>\n",
       "      <td>c</td>\n",
       "      <td>b</td>\n",
       "      <td>n</td>\n",
       "      <td>...</td>\n",
       "      <td>s</td>\n",
       "      <td>w</td>\n",
       "      <td>w</td>\n",
       "      <td>p</td>\n",
       "      <td>w</td>\n",
       "      <td>o</td>\n",
       "      <td>p</td>\n",
       "      <td>n</td>\n",
       "      <td>n</td>\n",
       "      <td>m</td>\n",
       "    </tr>\n",
       "    <tr>\n",
       "      <th>3</th>\n",
       "      <td>p</td>\n",
       "      <td>x</td>\n",
       "      <td>y</td>\n",
       "      <td>w</td>\n",
       "      <td>t</td>\n",
       "      <td>p</td>\n",
       "      <td>f</td>\n",
       "      <td>c</td>\n",
       "      <td>n</td>\n",
       "      <td>n</td>\n",
       "      <td>...</td>\n",
       "      <td>s</td>\n",
       "      <td>w</td>\n",
       "      <td>w</td>\n",
       "      <td>p</td>\n",
       "      <td>w</td>\n",
       "      <td>o</td>\n",
       "      <td>p</td>\n",
       "      <td>k</td>\n",
       "      <td>s</td>\n",
       "      <td>u</td>\n",
       "    </tr>\n",
       "    <tr>\n",
       "      <th>4</th>\n",
       "      <td>e</td>\n",
       "      <td>x</td>\n",
       "      <td>s</td>\n",
       "      <td>g</td>\n",
       "      <td>f</td>\n",
       "      <td>n</td>\n",
       "      <td>f</td>\n",
       "      <td>w</td>\n",
       "      <td>b</td>\n",
       "      <td>k</td>\n",
       "      <td>...</td>\n",
       "      <td>s</td>\n",
       "      <td>w</td>\n",
       "      <td>w</td>\n",
       "      <td>p</td>\n",
       "      <td>w</td>\n",
       "      <td>o</td>\n",
       "      <td>e</td>\n",
       "      <td>n</td>\n",
       "      <td>a</td>\n",
       "      <td>g</td>\n",
       "    </tr>\n",
       "  </tbody>\n",
       "</table>\n",
       "<p>5 rows × 23 columns</p>\n",
       "</div>"
      ],
      "text/plain": [
       "  class cap-shape cap-surface cap-color bruises odor gill-attachment  \\\n",
       "0     p         x           s         n       t    p               f   \n",
       "1     e         x           s         y       t    a               f   \n",
       "2     e         b           s         w       t    l               f   \n",
       "3     p         x           y         w       t    p               f   \n",
       "4     e         x           s         g       f    n               f   \n",
       "\n",
       "  gill-spacing gill-size gill-color  ... stalk-surface-below-ring  \\\n",
       "0            c         n          k  ...                        s   \n",
       "1            c         b          k  ...                        s   \n",
       "2            c         b          n  ...                        s   \n",
       "3            c         n          n  ...                        s   \n",
       "4            w         b          k  ...                        s   \n",
       "\n",
       "  stalk-color-above-ring stalk-color-below-ring veil-type veil-color  \\\n",
       "0                      w                      w         p          w   \n",
       "1                      w                      w         p          w   \n",
       "2                      w                      w         p          w   \n",
       "3                      w                      w         p          w   \n",
       "4                      w                      w         p          w   \n",
       "\n",
       "  ring-number ring-type spore-print-color population habitat  \n",
       "0           o         p                 k          s       u  \n",
       "1           o         p                 n          n       g  \n",
       "2           o         p                 n          n       m  \n",
       "3           o         p                 k          s       u  \n",
       "4           o         e                 n          a       g  \n",
       "\n",
       "[5 rows x 23 columns]"
      ]
     },
     "execution_count": 53,
     "metadata": {},
     "output_type": "execute_result"
    }
   ],
   "source": [
    "# domyślnie podaje 5 wierszy\n",
    "df.head()"
   ]
  },
  {
   "cell_type": "code",
   "execution_count": 54,
   "metadata": {
    "jupyter": {
     "outputs_hidden": true
    }
   },
   "outputs": [
    {
     "name": "stdout",
     "output_type": "stream",
     "text": [
      "<class 'pandas.core.frame.DataFrame'>\n",
      "RangeIndex: 8124 entries, 0 to 8123\n",
      "Data columns (total 23 columns):\n",
      " #   Column                    Non-Null Count  Dtype \n",
      "---  ------                    --------------  ----- \n",
      " 0   class                     8124 non-null   object\n",
      " 1   cap-shape                 8124 non-null   object\n",
      " 2   cap-surface               8124 non-null   object\n",
      " 3   cap-color                 8124 non-null   object\n",
      " 4   bruises                   8124 non-null   object\n",
      " 5   odor                      8124 non-null   object\n",
      " 6   gill-attachment           8124 non-null   object\n",
      " 7   gill-spacing              8124 non-null   object\n",
      " 8   gill-size                 8124 non-null   object\n",
      " 9   gill-color                8124 non-null   object\n",
      " 10  stalk-shape               8124 non-null   object\n",
      " 11  stalk-root                8124 non-null   object\n",
      " 12  stalk-surface-above-ring  8124 non-null   object\n",
      " 13  stalk-surface-below-ring  8124 non-null   object\n",
      " 14  stalk-color-above-ring    8124 non-null   object\n",
      " 15  stalk-color-below-ring    8124 non-null   object\n",
      " 16  veil-type                 8124 non-null   object\n",
      " 17  veil-color                8124 non-null   object\n",
      " 18  ring-number               8124 non-null   object\n",
      " 19  ring-type                 8124 non-null   object\n",
      " 20  spore-print-color         8124 non-null   object\n",
      " 21  population                8124 non-null   object\n",
      " 22  habitat                   8124 non-null   object\n",
      "dtypes: object(23)\n",
      "memory usage: 1.4+ MB\n"
     ]
    }
   ],
   "source": [
    "# object Dtype = string\n",
    "df.info()"
   ]
  },
  {
   "cell_type": "code",
   "execution_count": 55,
   "metadata": {
    "jupyter": {
     "outputs_hidden": true
    }
   },
   "outputs": [
    {
     "data": {
      "text/html": [
       "<div>\n",
       "<style scoped>\n",
       "    .dataframe tbody tr th:only-of-type {\n",
       "        vertical-align: middle;\n",
       "    }\n",
       "\n",
       "    .dataframe tbody tr th {\n",
       "        vertical-align: top;\n",
       "    }\n",
       "\n",
       "    .dataframe thead th {\n",
       "        text-align: right;\n",
       "    }\n",
       "</style>\n",
       "<table border=\"1\" class=\"dataframe\">\n",
       "  <thead>\n",
       "    <tr style=\"text-align: right;\">\n",
       "      <th></th>\n",
       "      <th>class</th>\n",
       "      <th>cap-shape</th>\n",
       "      <th>cap-surface</th>\n",
       "      <th>cap-color</th>\n",
       "      <th>bruises</th>\n",
       "      <th>odor</th>\n",
       "      <th>gill-attachment</th>\n",
       "      <th>gill-spacing</th>\n",
       "      <th>gill-size</th>\n",
       "      <th>gill-color</th>\n",
       "      <th>...</th>\n",
       "      <th>stalk-surface-below-ring</th>\n",
       "      <th>stalk-color-above-ring</th>\n",
       "      <th>stalk-color-below-ring</th>\n",
       "      <th>veil-type</th>\n",
       "      <th>veil-color</th>\n",
       "      <th>ring-number</th>\n",
       "      <th>ring-type</th>\n",
       "      <th>spore-print-color</th>\n",
       "      <th>population</th>\n",
       "      <th>habitat</th>\n",
       "    </tr>\n",
       "  </thead>\n",
       "  <tbody>\n",
       "    <tr>\n",
       "      <th>count</th>\n",
       "      <td>8124</td>\n",
       "      <td>8124</td>\n",
       "      <td>8124</td>\n",
       "      <td>8124</td>\n",
       "      <td>8124</td>\n",
       "      <td>8124</td>\n",
       "      <td>8124</td>\n",
       "      <td>8124</td>\n",
       "      <td>8124</td>\n",
       "      <td>8124</td>\n",
       "      <td>...</td>\n",
       "      <td>8124</td>\n",
       "      <td>8124</td>\n",
       "      <td>8124</td>\n",
       "      <td>8124</td>\n",
       "      <td>8124</td>\n",
       "      <td>8124</td>\n",
       "      <td>8124</td>\n",
       "      <td>8124</td>\n",
       "      <td>8124</td>\n",
       "      <td>8124</td>\n",
       "    </tr>\n",
       "    <tr>\n",
       "      <th>unique</th>\n",
       "      <td>2</td>\n",
       "      <td>6</td>\n",
       "      <td>4</td>\n",
       "      <td>10</td>\n",
       "      <td>2</td>\n",
       "      <td>9</td>\n",
       "      <td>2</td>\n",
       "      <td>2</td>\n",
       "      <td>2</td>\n",
       "      <td>12</td>\n",
       "      <td>...</td>\n",
       "      <td>4</td>\n",
       "      <td>9</td>\n",
       "      <td>9</td>\n",
       "      <td>1</td>\n",
       "      <td>4</td>\n",
       "      <td>3</td>\n",
       "      <td>5</td>\n",
       "      <td>9</td>\n",
       "      <td>6</td>\n",
       "      <td>7</td>\n",
       "    </tr>\n",
       "    <tr>\n",
       "      <th>top</th>\n",
       "      <td>e</td>\n",
       "      <td>x</td>\n",
       "      <td>y</td>\n",
       "      <td>n</td>\n",
       "      <td>f</td>\n",
       "      <td>n</td>\n",
       "      <td>f</td>\n",
       "      <td>c</td>\n",
       "      <td>b</td>\n",
       "      <td>b</td>\n",
       "      <td>...</td>\n",
       "      <td>s</td>\n",
       "      <td>w</td>\n",
       "      <td>w</td>\n",
       "      <td>p</td>\n",
       "      <td>w</td>\n",
       "      <td>o</td>\n",
       "      <td>p</td>\n",
       "      <td>w</td>\n",
       "      <td>v</td>\n",
       "      <td>d</td>\n",
       "    </tr>\n",
       "    <tr>\n",
       "      <th>freq</th>\n",
       "      <td>4208</td>\n",
       "      <td>3656</td>\n",
       "      <td>3244</td>\n",
       "      <td>2284</td>\n",
       "      <td>4748</td>\n",
       "      <td>3528</td>\n",
       "      <td>7914</td>\n",
       "      <td>6812</td>\n",
       "      <td>5612</td>\n",
       "      <td>1728</td>\n",
       "      <td>...</td>\n",
       "      <td>4936</td>\n",
       "      <td>4464</td>\n",
       "      <td>4384</td>\n",
       "      <td>8124</td>\n",
       "      <td>7924</td>\n",
       "      <td>7488</td>\n",
       "      <td>3968</td>\n",
       "      <td>2388</td>\n",
       "      <td>4040</td>\n",
       "      <td>3148</td>\n",
       "    </tr>\n",
       "  </tbody>\n",
       "</table>\n",
       "<p>4 rows × 23 columns</p>\n",
       "</div>"
      ],
      "text/plain": [
       "       class cap-shape cap-surface cap-color bruises  odor gill-attachment  \\\n",
       "count   8124      8124        8124      8124    8124  8124            8124   \n",
       "unique     2         6           4        10       2     9               2   \n",
       "top        e         x           y         n       f     n               f   \n",
       "freq    4208      3656        3244      2284    4748  3528            7914   \n",
       "\n",
       "       gill-spacing gill-size gill-color  ... stalk-surface-below-ring  \\\n",
       "count          8124      8124       8124  ...                     8124   \n",
       "unique            2         2         12  ...                        4   \n",
       "top               c         b          b  ...                        s   \n",
       "freq           6812      5612       1728  ...                     4936   \n",
       "\n",
       "       stalk-color-above-ring stalk-color-below-ring veil-type veil-color  \\\n",
       "count                    8124                   8124      8124       8124   \n",
       "unique                      9                      9         1          4   \n",
       "top                         w                      w         p          w   \n",
       "freq                     4464                   4384      8124       7924   \n",
       "\n",
       "       ring-number ring-type spore-print-color population habitat  \n",
       "count         8124      8124              8124       8124    8124  \n",
       "unique           3         5                 9          6       7  \n",
       "top              o         p                 w          v       d  \n",
       "freq          7488      3968              2388       4040    3148  \n",
       "\n",
       "[4 rows x 23 columns]"
      ]
     },
     "execution_count": 55,
     "metadata": {},
     "output_type": "execute_result"
    }
   ],
   "source": [
    "df.describe()"
   ]
  },
  {
   "cell_type": "code",
   "execution_count": 56,
   "metadata": {},
   "outputs": [
    {
     "name": "stdout",
     "output_type": "stream",
     "text": [
      "Liczba grzybów jadalnych: 4208, trujących: 3916.\n"
     ]
    }
   ],
   "source": [
    "# Liczebność grzybór jadalnych (e) i trujących (p):\n",
    "jadalne = df[\"class\"].value_counts()[\"e\"]\n",
    "trujace = df[\"class\"].value_counts()[\"p\"]\n",
    "print(f\"Liczba grzybów jadalnych: {jadalne}, trujących: {trujace}.\")"
   ]
  },
  {
   "cell_type": "code",
   "execution_count": 57,
   "metadata": {},
   "outputs": [
    {
     "data": {
      "text/plain": [
       "False"
      ]
     },
     "execution_count": 57,
     "metadata": {},
     "output_type": "execute_result"
    }
   ],
   "source": [
    "#sprawdzenie duplikatów\n",
    "df.duplicated().any()"
   ]
  },
  {
   "cell_type": "code",
   "execution_count": 58,
   "metadata": {
    "jupyter": {
     "outputs_hidden": true
    }
   },
   "outputs": [
    {
     "data": {
      "text/plain": [
       "class                       0\n",
       "cap-shape                   0\n",
       "cap-surface                 0\n",
       "cap-color                   0\n",
       "bruises                     0\n",
       "odor                        0\n",
       "gill-attachment             0\n",
       "gill-spacing                0\n",
       "gill-size                   0\n",
       "gill-color                  0\n",
       "stalk-shape                 0\n",
       "stalk-root                  0\n",
       "stalk-surface-above-ring    0\n",
       "stalk-surface-below-ring    0\n",
       "stalk-color-above-ring      0\n",
       "stalk-color-below-ring      0\n",
       "veil-type                   0\n",
       "veil-color                  0\n",
       "ring-number                 0\n",
       "ring-type                   0\n",
       "spore-print-color           0\n",
       "population                  0\n",
       "habitat                     0\n",
       "dtype: int64"
      ]
     },
     "execution_count": 58,
     "metadata": {},
     "output_type": "execute_result"
    }
   ],
   "source": [
    "# Sprawdzenie brakujących wartości\n",
    "df.isnull().sum()"
   ]
  },
  {
   "cell_type": "code",
   "execution_count": 59,
   "metadata": {
    "jupyter": {
     "outputs_hidden": true
    }
   },
   "outputs": [
    {
     "data": {
      "text/plain": [
       "class                       0\n",
       "cap-shape                   0\n",
       "cap-surface                 0\n",
       "cap-color                   0\n",
       "bruises                     0\n",
       "odor                        0\n",
       "gill-attachment             0\n",
       "gill-spacing                0\n",
       "gill-size                   0\n",
       "gill-color                  0\n",
       "stalk-shape                 0\n",
       "stalk-root                  0\n",
       "stalk-surface-above-ring    0\n",
       "stalk-surface-below-ring    0\n",
       "stalk-color-above-ring      0\n",
       "stalk-color-below-ring      0\n",
       "veil-type                   0\n",
       "veil-color                  0\n",
       "ring-number                 0\n",
       "ring-type                   0\n",
       "spore-print-color           0\n",
       "population                  0\n",
       "habitat                     0\n",
       "dtype: int64"
      ]
     },
     "execution_count": 59,
     "metadata": {},
     "output_type": "execute_result"
    }
   ],
   "source": [
    "# Sprawdzenie wartości NaN\n",
    "df.isna().sum()"
   ]
  },
  {
   "cell_type": "code",
   "execution_count": 60,
   "metadata": {},
   "outputs": [],
   "source": [
    "#zamiana danych na OHE, wywalamy class p - to będzie nasz target (class_e)\n",
    "df = pd.get_dummies(df)\n",
    "df = df.drop([\"class_p\"], axis=1)"
   ]
  },
  {
   "cell_type": "code",
   "execution_count": 61,
   "metadata": {},
   "outputs": [],
   "source": [
    "y = df.class_e\n",
    "x = df.drop([\"class_e\"], axis=1)"
   ]
  },
  {
   "cell_type": "code",
   "execution_count": 62,
   "metadata": {},
   "outputs": [],
   "source": [
    "X_train, X_test, y_train, y_test = train_test_split(x, y, test_size=0.2)"
   ]
  },
  {
   "cell_type": "code",
   "execution_count": 63,
   "metadata": {},
   "outputs": [
    {
     "data": {
      "text/plain": [
       "RandomForestClassifier(max_depth=5, n_estimators=5, random_state=1)"
      ]
     },
     "execution_count": 63,
     "metadata": {},
     "output_type": "execute_result"
    }
   ],
   "source": [
    "rf_classifier = RandomForestClassifier(n_estimators = 5, criterion = 'gini', max_depth=5, bootstrap=True, random_state=1)\n",
    "\n",
    "rf_classifier.fit(X_train, y_train)"
   ]
  },
  {
   "cell_type": "code",
   "execution_count": 64,
   "metadata": {},
   "outputs": [
    {
     "data": {
      "text/plain": [
       "0.9950769230769231"
      ]
     },
     "execution_count": 64,
     "metadata": {},
     "output_type": "execute_result"
    }
   ],
   "source": [
    "rf_classifier.score(X_test, y_test)"
   ]
  },
  {
   "cell_type": "code",
   "execution_count": 65,
   "metadata": {},
   "outputs": [
    {
     "data": {
      "image/png": "[encoded data removed]",
      "text/plain": [
       "<Figure size 1080x864 with 1 Axes>"
      ]
     },
     "metadata": {
      "needs_background": "light"
     },
     "output_type": "display_data"
    }
   ],
   "source": [
    "plt.figure(figsize = (15,12))\n",
    "\n",
    "plot_tree(rf_classifier.estimators_[0],\n",
    "        feature_names=x.columns,\n",
    "        class_names=[\"0\",\"1\"],\n",
    "        filled=True);"
   ]
  },
  {
   "cell_type": "code",
   "execution_count": 66,
   "metadata": {},
   "outputs": [],
   "source": [
    "feature_importances = pd.DataFrame(rf_classifier.feature_importances_, index=x.columns,\n",
    "                                   columns=['importance']).sort_values('importance', ascending=False)\n",
    "\n"
   ]
  },
  {
   "cell_type": "code",
   "execution_count": 67,
   "metadata": {},
   "outputs": [
    {
     "data": {
      "text/plain": [
       "41"
      ]
     },
     "execution_count": 67,
     "metadata": {},
     "output_type": "execute_result"
    }
   ],
   "source": [
    "most_important_features = feature_importances[feature_importances[\"importance\"] > 0]\n",
    "len(most_important_features)"
   ]
  },
  {
   "cell_type": "code",
   "execution_count": 68,
   "metadata": {},
   "outputs": [
    {
     "data": {
      "text/html": [
       "<div>\n",
       "<style scoped>\n",
       "    .dataframe tbody tr th:only-of-type {\n",
       "        vertical-align: middle;\n",
       "    }\n",
       "\n",
       "    .dataframe tbody tr th {\n",
       "        vertical-align: top;\n",
       "    }\n",
       "\n",
       "    .dataframe thead th {\n",
       "        text-align: right;\n",
       "    }\n",
       "</style>\n",
       "<table border=\"1\" class=\"dataframe\">\n",
       "  <thead>\n",
       "    <tr style=\"text-align: right;\">\n",
       "      <th></th>\n",
       "      <th>importance</th>\n",
       "    </tr>\n",
       "  </thead>\n",
       "  <tbody>\n",
       "    <tr>\n",
       "      <th>stalk-surface-below-ring_k</th>\n",
       "      <td>0.166113</td>\n",
       "    </tr>\n",
       "    <tr>\n",
       "      <th>odor_n</th>\n",
       "      <td>0.157838</td>\n",
       "    </tr>\n",
       "    <tr>\n",
       "      <th>gill-color_b</th>\n",
       "      <td>0.093064</td>\n",
       "    </tr>\n",
       "    <tr>\n",
       "      <th>bruises_f</th>\n",
       "      <td>0.083805</td>\n",
       "    </tr>\n",
       "    <tr>\n",
       "      <th>habitat_g</th>\n",
       "      <td>0.063340</td>\n",
       "    </tr>\n",
       "    <tr>\n",
       "      <th>odor_f</th>\n",
       "      <td>0.056042</td>\n",
       "    </tr>\n",
       "    <tr>\n",
       "      <th>stalk-surface-below-ring_s</th>\n",
       "      <td>0.040602</td>\n",
       "    </tr>\n",
       "    <tr>\n",
       "      <th>spore-print-color_w</th>\n",
       "      <td>0.032517</td>\n",
       "    </tr>\n",
       "    <tr>\n",
       "      <th>ring-type_l</th>\n",
       "      <td>0.023157</td>\n",
       "    </tr>\n",
       "    <tr>\n",
       "      <th>bruises_t</th>\n",
       "      <td>0.023101</td>\n",
       "    </tr>\n",
       "    <tr>\n",
       "      <th>odor_p</th>\n",
       "      <td>0.022277</td>\n",
       "    </tr>\n",
       "    <tr>\n",
       "      <th>stalk-root_e</th>\n",
       "      <td>0.022162</td>\n",
       "    </tr>\n",
       "    <tr>\n",
       "      <th>stalk-color-below-ring_p</th>\n",
       "      <td>0.020783</td>\n",
       "    </tr>\n",
       "    <tr>\n",
       "      <th>odor_c</th>\n",
       "      <td>0.017366</td>\n",
       "    </tr>\n",
       "    <tr>\n",
       "      <th>stalk-color-above-ring_w</th>\n",
       "      <td>0.017203</td>\n",
       "    </tr>\n",
       "    <tr>\n",
       "      <th>stalk-surface-above-ring_f</th>\n",
       "      <td>0.014041</td>\n",
       "    </tr>\n",
       "    <tr>\n",
       "      <th>stalk-shape_t</th>\n",
       "      <td>0.013538</td>\n",
       "    </tr>\n",
       "    <tr>\n",
       "      <th>spore-print-color_k</th>\n",
       "      <td>0.013457</td>\n",
       "    </tr>\n",
       "    <tr>\n",
       "      <th>spore-print-color_r</th>\n",
       "      <td>0.012054</td>\n",
       "    </tr>\n",
       "    <tr>\n",
       "      <th>gill-size_n</th>\n",
       "      <td>0.011232</td>\n",
       "    </tr>\n",
       "    <tr>\n",
       "      <th>stalk-root_c</th>\n",
       "      <td>0.009563</td>\n",
       "    </tr>\n",
       "    <tr>\n",
       "      <th>ring-number_o</th>\n",
       "      <td>0.009051</td>\n",
       "    </tr>\n",
       "    <tr>\n",
       "      <th>spore-print-color_h</th>\n",
       "      <td>0.008775</td>\n",
       "    </tr>\n",
       "    <tr>\n",
       "      <th>habitat_u</th>\n",
       "      <td>0.007972</td>\n",
       "    </tr>\n",
       "    <tr>\n",
       "      <th>population_n</th>\n",
       "      <td>0.007892</td>\n",
       "    </tr>\n",
       "    <tr>\n",
       "      <th>stalk-color-above-ring_e</th>\n",
       "      <td>0.007204</td>\n",
       "    </tr>\n",
       "    <tr>\n",
       "      <th>stalk-shape_e</th>\n",
       "      <td>0.007163</td>\n",
       "    </tr>\n",
       "    <tr>\n",
       "      <th>stalk-color-above-ring_n</th>\n",
       "      <td>0.006087</td>\n",
       "    </tr>\n",
       "    <tr>\n",
       "      <th>population_s</th>\n",
       "      <td>0.005526</td>\n",
       "    </tr>\n",
       "    <tr>\n",
       "      <th>gill-color_g</th>\n",
       "      <td>0.004148</td>\n",
       "    </tr>\n",
       "    <tr>\n",
       "      <th>population_v</th>\n",
       "      <td>0.003963</td>\n",
       "    </tr>\n",
       "    <tr>\n",
       "      <th>habitat_p</th>\n",
       "      <td>0.003877</td>\n",
       "    </tr>\n",
       "    <tr>\n",
       "      <th>cap-surface_y</th>\n",
       "      <td>0.003872</td>\n",
       "    </tr>\n",
       "    <tr>\n",
       "      <th>stalk-color-above-ring_p</th>\n",
       "      <td>0.003096</td>\n",
       "    </tr>\n",
       "    <tr>\n",
       "      <th>cap-shape_s</th>\n",
       "      <td>0.002911</td>\n",
       "    </tr>\n",
       "    <tr>\n",
       "      <th>cap-shape_b</th>\n",
       "      <td>0.001347</td>\n",
       "    </tr>\n",
       "    <tr>\n",
       "      <th>gill-color_r</th>\n",
       "      <td>0.001259</td>\n",
       "    </tr>\n",
       "    <tr>\n",
       "      <th>cap-surface_g</th>\n",
       "      <td>0.000970</td>\n",
       "    </tr>\n",
       "    <tr>\n",
       "      <th>cap-color_w</th>\n",
       "      <td>0.000730</td>\n",
       "    </tr>\n",
       "    <tr>\n",
       "      <th>cap-shape_c</th>\n",
       "      <td>0.000563</td>\n",
       "    </tr>\n",
       "    <tr>\n",
       "      <th>cap-color_p</th>\n",
       "      <td>0.000339</td>\n",
       "    </tr>\n",
       "  </tbody>\n",
       "</table>\n",
       "</div>"
      ],
      "text/plain": [
       "                            importance\n",
       "stalk-surface-below-ring_k    0.166113\n",
       "odor_n                        0.157838\n",
       "gill-color_b                  0.093064\n",
       "bruises_f                     0.083805\n",
       "habitat_g                     0.063340\n",
       "odor_f                        0.056042\n",
       "stalk-surface-below-ring_s    0.040602\n",
       "spore-print-color_w           0.032517\n",
       "ring-type_l                   0.023157\n",
       "bruises_t                     0.023101\n",
       "odor_p                        0.022277\n",
       "stalk-root_e                  0.022162\n",
       "stalk-color-below-ring_p      0.020783\n",
       "odor_c                        0.017366\n",
       "stalk-color-above-ring_w      0.017203\n",
       "stalk-surface-above-ring_f    0.014041\n",
       "stalk-shape_t                 0.013538\n",
       "spore-print-color_k           0.013457\n",
       "spore-print-color_r           0.012054\n",
       "gill-size_n                   0.011232\n",
       "stalk-root_c                  0.009563\n",
       "ring-number_o                 0.009051\n",
       "spore-print-color_h           0.008775\n",
       "habitat_u                     0.007972\n",
       "population_n                  0.007892\n",
       "stalk-color-above-ring_e      0.007204\n",
       "stalk-shape_e                 0.007163\n",
       "stalk-color-above-ring_n      0.006087\n",
       "population_s                  0.005526\n",
       "gill-color_g                  0.004148\n",
       "population_v                  0.003963\n",
       "habitat_p                     0.003877\n",
       "cap-surface_y                 0.003872\n",
       "stalk-color-above-ring_p      0.003096\n",
       "cap-shape_s                   0.002911\n",
       "cap-shape_b                   0.001347\n",
       "gill-color_r                  0.001259\n",
       "cap-surface_g                 0.000970\n",
       "cap-color_w                   0.000730\n",
       "cap-shape_c                   0.000563\n",
       "cap-color_p                   0.000339"
      ]
     },
     "execution_count": 68,
     "metadata": {},
     "output_type": "execute_result"
    }
   ],
   "source": [
    "feature_importances[feature_importances[\"importance\"] > 0]"
   ]
  },
  {
   "cell_type": "code",
   "execution_count": 69,
   "metadata": {},
   "outputs": [
    {
     "data": {
      "text/html": [
       "<div>\n",
       "<style scoped>\n",
       "    .dataframe tbody tr th:only-of-type {\n",
       "        vertical-align: middle;\n",
       "    }\n",
       "\n",
       "    .dataframe tbody tr th {\n",
       "        vertical-align: top;\n",
       "    }\n",
       "\n",
       "    .dataframe thead th {\n",
       "        text-align: right;\n",
       "    }\n",
       "</style>\n",
       "<table border=\"1\" class=\"dataframe\">\n",
       "  <thead>\n",
       "    <tr style=\"text-align: right;\">\n",
       "      <th></th>\n",
       "      <th>importance</th>\n",
       "    </tr>\n",
       "  </thead>\n",
       "  <tbody>\n",
       "    <tr>\n",
       "      <th>stalk-surface-below-ring_k</th>\n",
       "      <td>0.166113</td>\n",
       "    </tr>\n",
       "    <tr>\n",
       "      <th>odor_n</th>\n",
       "      <td>0.157838</td>\n",
       "    </tr>\n",
       "    <tr>\n",
       "      <th>gill-color_b</th>\n",
       "      <td>0.093064</td>\n",
       "    </tr>\n",
       "    <tr>\n",
       "      <th>bruises_f</th>\n",
       "      <td>0.083805</td>\n",
       "    </tr>\n",
       "    <tr>\n",
       "      <th>habitat_g</th>\n",
       "      <td>0.063340</td>\n",
       "    </tr>\n",
       "    <tr>\n",
       "      <th>odor_f</th>\n",
       "      <td>0.056042</td>\n",
       "    </tr>\n",
       "  </tbody>\n",
       "</table>\n",
       "</div>"
      ],
      "text/plain": [
       "                            importance\n",
       "stalk-surface-below-ring_k    0.166113\n",
       "odor_n                        0.157838\n",
       "gill-color_b                  0.093064\n",
       "bruises_f                     0.083805\n",
       "habitat_g                     0.063340\n",
       "odor_f                        0.056042"
      ]
     },
     "execution_count": 69,
     "metadata": {},
     "output_type": "execute_result"
    }
   ],
   "source": [
    "most_important_features[most_important_features[\"importance\"] > 0.05]"
   ]
  },
  {
   "cell_type": "code",
   "execution_count": 70,
   "metadata": {},
   "outputs": [
    {
     "data": {
      "text/plain": [
       "[<matplotlib.lines.Line2D at 0x25f34b85910>]"
      ]
     },
     "execution_count": 70,
     "metadata": {},
     "output_type": "execute_result"
    },
    {
     "data": {
      "image/png": "[encoded data removed]",
      "text/plain": [
       "<Figure size 2160x720 with 1 Axes>"
      ]
     },
     "metadata": {
      "needs_background": "light"
     },
     "output_type": "display_data"
    }
   ],
   "source": [
    "plt.figure(figsize=(30,10))\n",
    "plt.plot(most_important_features, \"o\" )"
   ]
  },
  {
   "cell_type": "code",
   "execution_count": 71,
   "metadata": {},
   "outputs": [
    {
     "data": {
      "text/plain": [
       "True"
      ]
     },
     "execution_count": 71,
     "metadata": {},
     "output_type": "execute_result"
    }
   ],
   "source": [
    "z = df_columns.columns\n",
    "x_columns = pd.DataFrame(x) \n",
    "proba = x_columns.columns\n",
    "z[1] in proba[0]\n"
   ]
  },
  {
   "cell_type": "code",
   "execution_count": 72,
   "metadata": {},
   "outputs": [
    {
     "data": {
      "text/html": [
       "<div>\n",
       "<style scoped>\n",
       "    .dataframe tbody tr th:only-of-type {\n",
       "        vertical-align: middle;\n",
       "    }\n",
       "\n",
       "    .dataframe tbody tr th {\n",
       "        vertical-align: top;\n",
       "    }\n",
       "\n",
       "    .dataframe thead th {\n",
       "        text-align: right;\n",
       "    }\n",
       "</style>\n",
       "<table border=\"1\" class=\"dataframe\">\n",
       "  <thead>\n",
       "    <tr style=\"text-align: right;\">\n",
       "      <th></th>\n",
       "      <th>importance</th>\n",
       "    </tr>\n",
       "  </thead>\n",
       "  <tbody>\n",
       "    <tr>\n",
       "      <th>stalk-surface-below-ring_k</th>\n",
       "      <td>0.166113</td>\n",
       "    </tr>\n",
       "    <tr>\n",
       "      <th>odor_n</th>\n",
       "      <td>0.157838</td>\n",
       "    </tr>\n",
       "    <tr>\n",
       "      <th>gill-color_b</th>\n",
       "      <td>0.093064</td>\n",
       "    </tr>\n",
       "    <tr>\n",
       "      <th>bruises_f</th>\n",
       "      <td>0.083805</td>\n",
       "    </tr>\n",
       "    <tr>\n",
       "      <th>habitat_g</th>\n",
       "      <td>0.063340</td>\n",
       "    </tr>\n",
       "    <tr>\n",
       "      <th>...</th>\n",
       "      <td>...</td>\n",
       "    </tr>\n",
       "    <tr>\n",
       "      <th>gill-color_n</th>\n",
       "      <td>0.000000</td>\n",
       "    </tr>\n",
       "    <tr>\n",
       "      <th>gill-color_k</th>\n",
       "      <td>0.000000</td>\n",
       "    </tr>\n",
       "    <tr>\n",
       "      <th>gill-color_h</th>\n",
       "      <td>0.000000</td>\n",
       "    </tr>\n",
       "    <tr>\n",
       "      <th>gill-color_e</th>\n",
       "      <td>0.000000</td>\n",
       "    </tr>\n",
       "    <tr>\n",
       "      <th>habitat_w</th>\n",
       "      <td>0.000000</td>\n",
       "    </tr>\n",
       "  </tbody>\n",
       "</table>\n",
       "<p>117 rows × 1 columns</p>\n",
       "</div>"
      ],
      "text/plain": [
       "                            importance\n",
       "stalk-surface-below-ring_k    0.166113\n",
       "odor_n                        0.157838\n",
       "gill-color_b                  0.093064\n",
       "bruises_f                     0.083805\n",
       "habitat_g                     0.063340\n",
       "...                                ...\n",
       "gill-color_n                  0.000000\n",
       "gill-color_k                  0.000000\n",
       "gill-color_h                  0.000000\n",
       "gill-color_e                  0.000000\n",
       "habitat_w                     0.000000\n",
       "\n",
       "[117 rows x 1 columns]"
      ]
     },
     "execution_count": 72,
     "metadata": {},
     "output_type": "execute_result"
    }
   ],
   "source": [
    "feature_importances"
   ]
  },
  {
   "cell_type": "code",
   "execution_count": 73,
   "metadata": {},
   "outputs": [],
   "source": [
    "fi = pd.DataFrame(feature_importances).reset_index()\n",
    "fi.columns = [\"feature\", \"importance\"]"
   ]
  },
  {
   "cell_type": "code",
   "execution_count": 74,
   "metadata": {},
   "outputs": [
    {
     "name": "stdout",
     "output_type": "stream",
     "text": [
      "   feature  importance\n",
      "1   odor_n    0.157838\n",
      "5   odor_f    0.056042\n",
      "10  odor_p    0.022277\n",
      "13  odor_c    0.017366\n",
      "76  odor_y    0.000000\n",
      "77  odor_s    0.000000\n",
      "78  odor_m    0.000000\n",
      "79  odor_l    0.000000\n",
      "80  odor_a    0.000000\n"
     ]
    }
   ],
   "source": [
    "odor = fi[fi[\"feature\"].str.contains(\"odor\")]\n",
    "print(odor)"
   ]
  },
  {
   "cell_type": "code",
   "execution_count": 75,
   "metadata": {},
   "outputs": [
    {
     "name": "stdout",
     "output_type": "stream",
     "text": [
      "class 0.0\n",
      "cap-shape 0.004820517734877175\n",
      "cap-surface 0.004842341282111593\n",
      "cap-color 0.0010686705601340588\n",
      "bruises 0.1069063257424175\n",
      "odor 0.2535226120335246\n",
      "gill-attachment 0.0\n",
      "gill-spacing 0.0\n",
      "gill-size 0.011232288325438534\n",
      "gill-color 0.09847028536602345\n",
      "stalk-shape 0.020700724056176734\n",
      "stalk-root 0.031725610960953\n",
      "stalk-surface-above-ring 0.014041242194414313\n",
      "stalk-surface-below-ring 0.20671486003352998\n",
      "stalk-color-above-ring 0.033589644340430304\n",
      "stalk-color-below-ring 0.020783407154744613\n",
      "veil-type 0.0\n",
      "veil-color 0.0\n",
      "ring-number 0.009051049371529975\n",
      "ring-type 0.023157009706803566\n",
      "spore-print-color 0.06680281863487478\n",
      "population 0.017381583921284277\n",
      "habitat 0.07518900858073158\n"
     ]
    }
   ],
   "source": [
    "for f in z:\n",
    "    odor = fi[fi[\"feature\"].str.contains(f)].importance.sum()\n",
    "    print(f, odor)"
   ]
  },
  {
   "cell_type": "code",
   "execution_count": 76,
   "metadata": {},
   "outputs": [
    {
     "name": "stdout",
     "output_type": "stream",
     "text": [
      "stalk-surface-below-ring_k 0.1661130953221567\n",
      "odor_n 0.15783800090977923\n",
      "gill-color_b 0.09306372564760164\n",
      "bruises_f 0.08380531182849765\n",
      "habitat_g 0.06334023489570162\n",
      "odor_f 0.05604202829866252\n",
      "stalk-surface-below-ring_s 0.04060176471137328\n",
      "spore-print-color_w 0.03251676767402212\n",
      "ring-type_l 0.023157009706803566\n",
      "bruises_t 0.023101013913919843\n",
      "odor_p 0.02227701258084473\n",
      "stalk-root_e 0.022162311508930783\n",
      "stalk-color-below-ring_p 0.020783407154744613\n",
      "odor_c 0.017365570244238134\n",
      "stalk-color-above-ring_w 0.017203277988485016\n",
      "stalk-surface-above-ring_f 0.014041242194414313\n",
      "stalk-shape_t 0.013537892385304695\n",
      "spore-print-color_k 0.013456822870491075\n",
      "spore-print-color_r 0.012053863600679315\n",
      "gill-size_n 0.011232288325438534\n",
      "stalk-root_c 0.009563299452022216\n",
      "ring-number_o 0.009051049371529975\n",
      "spore-print-color_h 0.008775364489682276\n",
      "habitat_u 0.0079721237745808\n",
      "population_n 0.007892419930742986\n",
      "stalk-color-above-ring_e 0.007203559055906798\n",
      "stalk-shape_e 0.007162831670872037\n",
      "stalk-color-above-ring_n 0.006087078962378553\n",
      "population_s 0.0055257041461746915\n",
      "gill-color_g 0.0041476119960095195\n",
      "population_v 0.003963459844366602\n",
      "habitat_p 0.0038766499104491573\n",
      "cap-surface_y 0.0038724283154361223\n",
      "stalk-color-above-ring_p 0.0030957283336599368\n",
      "cap-shape_s 0.0029105287347999187\n",
      "cap-shape_b 0.0013472705554072556\n",
      "gill-color_r 0.0012589477224122924\n",
      "cap-surface_g 0.0009699129666754704\n",
      "cap-color_w 0.0007297233117990532\n",
      "cap-shape_c 0.0005627184446700004\n",
      "cap-color_p 0.0003389472483350055\n",
      "habitat_m 0.0\n",
      "habitat_l 0.0\n",
      "stalk-color-below-ring_y 0.0\n",
      "stalk-color-below-ring_e 0.0\n",
      "stalk-color-below-ring_b 0.0\n",
      "stalk-color-below-ring_g 0.0\n",
      "stalk-color-below-ring_o 0.0\n",
      "veil-type_p 0.0\n",
      "stalk-color-below-ring_c 0.0\n",
      "stalk-color-below-ring_n 0.0\n",
      "stalk-color-below-ring_w 0.0\n",
      "spore-print-color_y 0.0\n",
      "veil-color_n 0.0\n",
      "ring-type_p 0.0\n",
      "population_a 0.0\n",
      "population_c 0.0\n",
      "spore-print-color_u 0.0\n",
      "spore-print-color_o 0.0\n",
      "spore-print-color_n 0.0\n",
      "population_y 0.0\n",
      "spore-print-color_b 0.0\n",
      "ring-type_n 0.0\n",
      "veil-color_o 0.0\n",
      "stalk-color-above-ring_y 0.0\n",
      "habitat_d 0.0\n",
      "ring-type_f 0.0\n",
      "ring-type_e 0.0\n",
      "ring-number_t 0.0\n",
      "ring-number_n 0.0\n",
      "veil-color_w 0.0\n",
      "veil-color_y 0.0\n",
      "stalk-surface-above-ring_s 0.0\n",
      "stalk-color-above-ring_o 0.0\n",
      "stalk-color-above-ring_g 0.0\n",
      "gill-attachment_a 0.0\n",
      "odor_y 0.0\n",
      "odor_s 0.0\n",
      "odor_m 0.0\n",
      "odor_l 0.0\n",
      "odor_a 0.0\n",
      "cap-color_y 0.0\n",
      "cap-color_u 0.0\n",
      "cap-color_r 0.0\n",
      "cap-color_n 0.0\n",
      "cap-color_g 0.0\n",
      "cap-color_e 0.0\n",
      "cap-color_c 0.0\n",
      "cap-color_b 0.0\n",
      "cap-surface_s 0.0\n",
      "cap-surface_f 0.0\n",
      "cap-shape_x 0.0\n",
      "cap-shape_k 0.0\n",
      "cap-shape_f 0.0\n",
      "gill-attachment_f 0.0\n",
      "gill-spacing_c 0.0\n",
      "gill-spacing_w 0.0\n",
      "stalk-root_? 0.0\n",
      "stalk-color-above-ring_c 0.0\n",
      "stalk-color-above-ring_b 0.0\n",
      "stalk-surface-below-ring_y 0.0\n",
      "stalk-surface-below-ring_f 0.0\n",
      "stalk-surface-above-ring_y 0.0\n",
      "stalk-surface-above-ring_k 0.0\n",
      "stalk-root_r 0.0\n",
      "stalk-root_b 0.0\n",
      "gill-color_y 0.0\n",
      "gill-size_b 0.0\n",
      "gill-color_w 0.0\n",
      "gill-color_u 0.0\n",
      "gill-color_p 0.0\n",
      "gill-color_o 0.0\n",
      "gill-color_n 0.0\n",
      "gill-color_k 0.0\n",
      "gill-color_h 0.0\n",
      "gill-color_e 0.0\n",
      "habitat_w 0.0\n"
     ]
    }
   ],
   "source": [
    "for row in fi.itertuples():\n",
    "    print(row.feature, row.importance)"
   ]
  },
  {
   "cell_type": "code",
   "execution_count": 77,
   "metadata": {},
   "outputs": [],
   "source": [
    "#tworzenie widgetów"
   ]
  },
  {
   "cell_type": "code",
   "execution_count": 78,
   "metadata": {},
   "outputs": [],
   "source": [
    "import ipywidgets as widgets\n",
    "from IPython.display import display"
   ]
  },
  {
   "cell_type": "code",
   "execution_count": 79,
   "metadata": {},
   "outputs": [],
   "source": [
    "widgets_cap_shape = widgets.Dropdown(options=[\"bell\", \"conical\", \"convex\", \"flat\", \"knobbed\", \"sunken\"])\n",
    "widgets_cap_surface = widgets.Dropdown(options=[\"fibrous\", \"grooves\", \"scaly\", \"smooth\"])\n",
    "widgets_cap_color = widgets.Dropdown(options=[\"brown\", \"buff\", \"cinnamon\", \"gray\", \"green\", \"pink\", \"purple\", \"red\", \"white\", \"yellow\"])\n",
    "widget_bruises = widgets.Dropdown(options=[\"Yes\", \"No\"])\n",
    "widget_odor = widgets.Dropdown(options=[\"almond\", \"anise\", \"creoote\", \"fishy\", \"foul\", \"musty\", \"none\", \"pungent\", \"spicy\"])\n",
    "widget_gill_attachment = widgets.Dropdown(options=[\"attached\", \"free\"])\n",
    "widget_gill_spacing = widgets.Dropdown(options=[\"close\", \"crowded\"])\n",
    "widget_gill_size = widgets.Dropdown(options=[\"broad\", \"narrow\"])\n",
    "widget_gill_color = widgets.Dropdown(options=[\"black\", \"brown\", \"buff\", \"chocolate\", \"gray\", \"green\", \"orange\", \"pink\", \"purple\", \"red\", \"white\", \"yellow\"])\n",
    "widget_stalk_shape = widgets.Dropdown(options=[\"enlarging\", \"tapering\"])\n",
    "widget_stalk_root = widgets.Dropdown(options=[\"bulbous\", \"club\", \"equal\", \"rooted\", \"missing\"])\n",
    "widget_stalk_surface_above_ring = widgets.Dropdown(options=[\"fibrous\", \"scaly\", \"silky\", \"smooth\"])\n",
    "widget_stalk_surface_below_ring = widgets.Dropdown(options=[\"fibrous\", \"scaly\", \"silky\", \"smooth\"])\n",
    "widget_stalk_color_above_ring = widgets.Dropdown(options=[\"brown\", \"buff\", \"cinnamon\", \"gray\", \"orange\", \"pink\", \"red\", \"white\", \"yellow\"])\n",
    "widget_stalk_color_below_ring = widgets.Dropdown(options=[\"brown\", \"buff\", \"cinnamon\", \"gray\", \"orange\", \"pink\", \"red\", \"white\", \"yellow\"])\n",
    "widget_veil_type = widgets.Dropdown(options=[\"parial\"])\n",
    "widget_veil_color = widgets.Dropdown(options=[\"brown\", \"orange\", \"white\", \"yellow\"])\n",
    "widget_ring_number = widgets.Dropdown(options=[\"none\", \"two\"])\n",
    "widget_ring_type = widgets.Dropdown(options=[\"evanescent\", \"flaring\", \"large\", \"none\", \"pendant\"])\n",
    "widget_spore_print_color = widgets.Dropdown(options=[\"black\", \"brown\", \"buff\", \"chocolate\", \"green\", \"orange\", \"purple\", \"white\", \"yellow\"])\n",
    "widget_population = widgets.Dropdown(options=[\"abundant\", \"clustered\", \"numerous\", \"scattered\", \"several\", \"solitary\"])\n",
    "widget_habitat = widgets.Dropdown(options=[\"grasses\", \"leaves\", \"meadows\", \"paths\", \"urban\", \"waste\", \"woods\"])"
   ]
  },
  {
   "cell_type": "code",
   "execution_count": null,
   "metadata": {},
   "outputs": [],
   "source": [
    "values = {\n",
    "    \"Cap Shape\": widgets_cap_shape.value, \n",
    "    \"Cap Surface\": widgets_cap_surface.value, \n",
    "    \"Cap Color\": widgets_cap_color.value,\n",
    "    \"Bruises\": widget_bruises.value,\n",
    "    \"Odor\": widget_odor.value,\n",
    "    \"Gill_Attachment\": widget_gill_attachment.value,\n",
    "    \"Gill_Spacing\": widget_gill_spacing.value,\n",
    "    \"Gill_Size\": widget_gill_size.value,\n",
    "    \"Gill_Color\": widget_gill_color.value,\n",
    "    \"Stalk_Shape\": widget_stalk_shape.value,\n",
    "    \"Stalk_Root\": widget_stalk_root.value,\n",
    "    \"Stalk_Surface_Above_Ring\": widget_stalk_surface_above_ring.value,\n",
    "    \"Stalk_Surface_Below_Ring\": widget_stalk_surface_below_ring.value,\n",
    "    \"Stalk_Color_Above_Ring\": widget_stalk_color_above_ring.value,\n",
    "    \"Stalk_Color_Below_Ring\": widget_stalk_color_below_ring.value,\n",
    "    \"Veil_Type\": widget_veil_type.value,\n",
    "    \"Veil_Color\": widget_veil_color.value,\n",
    "    \"Ring_Number\": widget_ring_number.value,\n",
    "    \"Ring_Type\": widget_ring_type.value,\n",
    "    \"Spore_Print_Color\": widget_spore_print_color.value,\n",
    "    \"Population\": widget_population.value,\n",
    "    \"Habitat\": widget_habitat.value,\n",
    "    }\n",
    "\n",
    "def widget_handler(Cap_Shape, Cap_Surface, Cap_Color, Bruises, Odor, Gill_Attachment, Gill_Spacing, Gill_Size, Gill_Color, Stalk_Shape, Stalk_Root, Stalk_Surface_Above_Ring, Stalk_Surface_Below_Ring, Stalk_Color_Above_Ring, Stalk_Color_Below_Ring, Veil_Type, Veil_Color, Ring_Number, Ring_Type, Spore_Print_Color, Population, Habitat):\n",
    "    values[\"Cap Shape\"] = Cap_Shape\n",
    "    values[\"Cap Surface\"] = Cap_Surface\n",
    "    values[\"Cap Color\"] = Cap_Color\n",
    "    values[\"Bruises\"] = Bruises\n",
    "    values[\"Odor\"] = Odor\n",
    "    values[\"Gill_Attachment\"] = Gill_Attachment\n",
    "    values[\"Gill_Spacing\"] = Gill_Spacing\n",
    "    values[\"Gill_Size\"] = Gill_Size\n",
    "    values[\"Gill_Color\"] = Gill_Color\n",
    "    values[\"Stalk_Shape\"] = Stalk_Shape\n",
    "    values[\"Stalk_Root\"] = Stalk_Root\n",
    "    values[\"Stalk_Surface_Above_Ring\"] = Stalk_Surface_Above_Ring\n",
    "    values[\"Stalk_Surface_Below_Ring\"] = Stalk_Surface_Below_Ring\n",
    "    values[\"Stalk_Color_Above_Ring\"] = Stalk_Color_Above_Ring\n",
    "    values[\"Stalk_Color_Below_Ring\"] = Stalk_Color_Below_Ring\n",
    "    values[\"Veil_Type\"] = Veil_Type\n",
    "    values[\"Veil_Color\"] = Veil_Color\n",
    "    values[\"Ring_Number\"] = Ring_Number\n",
    "    values[\"Ring_Type\"] = Ring_Type\n",
    "    values[\"Spore_Print_Color\"] = Spore_Print_Color\n",
    "    values[\"Population\"] = Population\n",
    "    values[\"Habitat\"] = Habitat\n",
    "\n",
    "widgets.interact(\n",
    "    widget_handler,\n",
    "    Cap_Shape = widgets_cap_shape, \n",
    "    Cap_Surface = widgets_cap_surface, \n",
    "    Cap_Color = widgets_cap_color, \n",
    "    Bruises = widget_bruises, \n",
    "    Odor = widget_odor, \n",
    "    Gill_Attachment = widget_gill_attachment, \n",
    "    Gill_Spacing = widget_gill_spacing, \n",
    "    Gill_Size = widget_gill_size, \n",
    "    Gill_Color = widget_gill_color, \n",
    "    Stalk_Shape = widget_stalk_shape, \n",
    "    Stalk_Root = widget_stalk_root, \n",
    "    Stalk_Surface_Above_Ring = widget_stalk_surface_above_ring, \n",
    "    Stalk_Surface_Below_Ring = widget_stalk_surface_below_ring, \n",
    "    Stalk_Color_Above_Ring = widget_stalk_color_above_ring, \n",
    "    Stalk_Color_Below_Ring = widget_stalk_color_below_ring, \n",
    "    Veil_Type = widget_veil_type, \n",
    "    Veil_Color = widget_veil_color, \n",
    "    Ring_Number = widget_ring_number, \n",
    "    Ring_Type = widget_ring_type, \n",
    "    Spore_Print_Color = widget_spore_print_color, \n",
    "    Population = widget_population, \n",
    "    Habitat = widget_habitat)"
   ]
  },
  {
   "cell_type": "code",
   "execution_count": 80,
   "metadata": {},
   "outputs": [
    {
     "data": {
      "application/vnd.jupyter.widget-view+json": {
       "model_id": "9343f5b1f6944d7e81d7ffc0237473bf",
       "version_major": 2,
       "version_minor": 0
      },
      "text/plain": [
       "interactive(children=(Dropdown(description='Cap_Shape', options=('bell', 'conical', 'convex', 'flat', 'knobbed…"
      ]
     },
     "metadata": {},
     "output_type": "display_data"
    },
    {
     "data": {
      "text/plain": [
       "<function __main__.widget_handler(Cap_Shape, Cap_Surface, Cap_Color, Bruises)>"
      ]
     },
     "execution_count": 80,
     "metadata": {},
     "output_type": "execute_result"
    }
   ],
   "source": [
    "run_button = widgets.Button(description = \"Run\")\n",
    "\n",
    "def button_callback(button):\n",
    "    print(values)\n",
    "    \n",
    "\n",
    "run_button.on_click(button_callback)"
   ]
  },
  {
   "cell_type": "code",
   "execution_count": 81,
   "metadata": {},
   "outputs": [
    {
     "name": "stdout",
     "output_type": "stream",
     "text": [
      "{'Cap Shape': 'bell', 'Cap Surface': 'fibrous', 'Cap Color': 'brown', 'Bruises': 'Yes'}\n"
     ]
    }
   ],
   "source": [
    "display(widgets_cap_shape, widgets_cap_surface, widgets_cap_color, widget_bruises, widget_odor, widget_gill_attachment, widget_gill_spacing, widget_gill_size, widget_gill_color, widget_stalk_shape, widget_stalk_root, widget_stalk_surface_above_ring, widget_stalk_surface_below_ring, widget_stalk_color_above_ring, widget_stalk_color_below_ring, widget_veil_type, widget_veil_color, widget_ring_number, widget_ring_type, widget_spore_print_color, widget_population, widget_habitat, run_button)"
   ]
  },
  {
   "cell_type": "code",
   "execution_count": 82,
   "metadata": {},
   "outputs": [],
   "source": [
    "def mush_convertion_columns(chosen_values):\n",
    "\n",
    "    index_cap_shape = [\"bell\", \"conical\", \"convex\", \"flat\", \"knobbed\", \"sunken\"]\n",
    "    find_index_cap_shape = ['cap-shape_b', 'cap-shape_c', 'cap-shape_x', 'cap-shape_f', 'cap-shape_k', 'cap-shape_s']\n",
    "    raz = find_index_cap_shape[index_cap_shape.index(chosen_values[0])]\n",
    "\n",
    "    index_cap_surface = [\"fibrous\", \"grooves\", \"scaly\", \"smooth\"]\n",
    "    find_index_cap_surface = ['cap-surface_f', 'cap-surface_g', 'cap-surface_y', 'cap-surface_s']\n",
    "    dwa = find_index_cap_surface[index_cap_surface.index(chosen_values[1])]\n",
    "\n",
    "    index_cap_color = [\"brown\", \"buff\", \"cinnamon\", \"gray\", \"green\", \"pink\", \"purple\", \"red\", \"white\", \"yellow\"]\n",
    "    find_index_cap_color = ['cap-color_n', 'cap-color_b', 'cap-color_c', 'cap-color_g', 'cap-color_r', 'cap-color_p', 'cap-color_u', 'cap-color_e', 'cap-color_w', 'cap-color_y']\n",
    "    trzy = find_index_cap_color[index_cap_color.index(chosen_values[2])]\n",
    "\n",
    "    index_bruises = [\"Yes\", \"No\"]\n",
    "    find_index_bruises = ['bruises_t', 'bruises_f']\n",
    "    cztery = find_index_bruises[index_bruises.index(chosen_values[3])]\n",
    "\n",
    "    index_odor = [\"almond\", \"anise\", \"creoote\", \"fishy\", \"foul\", \"musty\", \"none\", \"pungent\", \"spicy\"]\n",
    "    find_index_odor = ['odor_a', 'odor_l', 'odor_c', 'odor_y', 'odor_f', 'odor_m', 'odor_n', 'odor_p', 'odor_s']\n",
    "    piec = find_index_odor[index_odor.index(chosen_values[4])]\n",
    "\n",
    "    index_gill_attachment = [\"attached\", \"free\"]\n",
    "    find_index_gill_attachment = ['gill-attachment_a', 'gill-attachment_f']\n",
    "    szesc = find_index_gill_attachment[index_gill_attachment.index(chosen_values[5])]\n",
    "\n",
    "    index_gill_spacing = [\"close\", \"crowded\"]\n",
    "    find_index_gill_spacing = ['gill-spacing_c', 'gill-spacing_w']\n",
    "    siedem = find_index_gill_spacing[index_gill_spacing.index(chosen_values[6])]\n",
    "\n",
    "    index_gill_size = [\"broad\", \"narrow\"]\n",
    "    find_index_gill_size = ['gill-size_b', 'gill-size_n']\n",
    "    osiem = find_index_gill_size[index_gill_size.index(chosen_values[7])]\n",
    "\n",
    "    index_gill_color = [\"black\", \"brown\", \"buff\", \"chocolate\", \"gray\", \"green\", \"orange\", \"pink\", \"purple\", \"red\", \"white\", \"yellow\"]\n",
    "    find_index_gill_color = ['gill-color_k', 'gill-color_n', 'gill-color_b', 'gill-color_h', 'gill-color_g', 'gill-color_r', 'gill-color_o', 'gill-color_p', 'gill-color_u', 'gill-color_e', 'gill-color_w', 'gill-color_y']\n",
    "    dziewiec = find_index_gill_color[index_gill_color.index(chosen_values[8])]\n",
    "\n",
    "    index_stalk_shape = [\"enlarging\", \"tapering\"]\n",
    "    find_index_stalk_shape = ['stalk-shape_e', 'stalk-shape_t']\n",
    "    dziesiec = find_index_stalk_shape[index_stalk_shape.index(chosen_values[9])]\n",
    "\n",
    "    index_stalk_root = [\"bulbous\", \"club\", \"equal\", \"rooted\", \"missing\"]\n",
    "    find_index_stalk_root = ['stalk-root_b', 'stalk-root_c', 'stalk-root_e', 'stalk-root_r', 'stalk-root_?']\n",
    "    jedenascie = find_index_stalk_root[index_stalk_root.index(chosen_values[10])]\n",
    "\n",
    "    index_stalk_surface_above_ring = [\"fibrous\", \"scaly\", \"silky\", \"smooth\"]\n",
    "    find_index_stalk_surface_above_ring = ['stalk-surface-above-ring_f', 'stalk-surface-above-ring_y', 'stalk-surface-above-ring_k', 'stalk-surface-above-ring_s']\n",
    "    dwanascie = find_index_stalk_surface_above_ring[index_stalk_surface_above_ring.index(chosen_values[11])]\n",
    "\n",
    "    index_stalk_surface_below_ring = [\"fibrous\", \"scaly\", \"silky\", \"smooth\"]\n",
    "    find_index_stalk_surface_below_ring = ['stalk-surface-below-ring_f', 'stalk-surface-below-ring_y', 'stalk-surface-below-ring_k', 'stalk-surface-below-ring_s']\n",
    "    trzynascie = find_index_stalk_surface_below_ring[index_stalk_surface_below_ring.index(chosen_values[12])]\n",
    "\n",
    "    index_stalk_color_above_ring = [\"brown\", \"buff\", \"cinnamon\", \"gray\", \"orange\", \"pink\", \"red\", \"white\", \"yellow\"]\n",
    "    find_index_stalk_color_above_ring = ['stalk-color-above-ring_n', 'stalk-color-above-ring_b','stalk-color-above-ring_c', 'stalk-color-above-ring_g','stalk-color-above-ring_o', 'stalk-color-above-ring_p','stalk-color-above-ring_e', 'stalk-color-above-ring_w','stalk-color-above-ring_y']\n",
    "    czernascie = find_index_stalk_color_above_ring[index_stalk_color_above_ring.index(chosen_values[13])]\n",
    "\n",
    "    index_stalk_color_below_ring = [\"brown\", \"buff\", \"cinnamon\", \"gray\", \"orange\", \"pink\", \"red\", \"white\", \"yellow\"]\n",
    "    find_index_stalk_color_below_ring = ['stalk-color-below-ring_n', 'stalk-color-below-ring_b','stalk-color-below-ring_c', 'stalk-color-below-ring_g','stalk-color-below-ring_o', 'stalk-color-below-ring_p','stalk-color-below-ring_e', 'stalk-color-below-ring_w','stalk-color-below-ring_y']\n",
    "    pietnascie = find_index_stalk_color_below_ring[index_stalk_color_below_ring.index(chosen_values[14])]\n",
    "\n",
    "    index_veil_type = [\"parial\"]\n",
    "    find_index_veil_type = ['veil-type_p']\n",
    "    szesnascie = find_index_veil_type[index_veil_type.index(chosen_values[15])]\n",
    "\n",
    "    index_veil_color = [\"brown\", \"orange\", \"white\", \"yellow\"]\n",
    "    find_index_veil_color = ['veil-color_n', 'veil-color_o', 'veil-color_w', 'veil-color_y']\n",
    "    siedemnascie = find_index_veil_color[index_veil_color.index(chosen_values[16])]\n",
    "\n",
    "    index_ring_number = [\"none\", \"two\"]\n",
    "    find_index_ring_number = ['ring-number_n', 'ring-number_t']\n",
    "    osiemnascie = find_index_ring_number[index_ring_number.index(chosen_values[17])]\n",
    "\n",
    "    index_ring_type = [\"evanescent\", \"flaring\", \"large\", \"none\", \"pendant\"]\n",
    "    find_index_ring_type = ['ring-type_e', 'ring-type_f', 'ring-type_l', 'ring-type_n', 'ring-type_p']\n",
    "    dziewietnascie = find_index_ring_type[index_ring_type.index(chosen_values[18])]\n",
    "\n",
    "    index_spore_print_color = [\"black\", \"brown\", \"buff\", \"chocolate\", \"green\", \"orange\", \"purple\", \"white\", \"yellow\"]\n",
    "    find_index_spore_print_color = ['spore-print-color_k', 'spore-print-color_n', 'spore-print-color_b','spore-print-color_h', 'spore-print-color_r', 'spore-print-color_o','spore-print-color_u', 'spore-print-color_w', 'spore-print-color_y']\n",
    "    dwadziescia = find_index_spore_print_color[index_spore_print_color.index(chosen_values[19])]\n",
    "\n",
    "    index_population = [\"abundant\", \"clustered\", \"numerous\", \"scattered\", \"several\", \"solitary\"]\n",
    "    find_index_population = ['population_a', 'population_c', 'population_n', 'population_s','population_v', 'population_y']\n",
    "    dwadziesciajeden = find_index_population[index_population.index(chosen_values[20])]\n",
    "\n",
    "    index_habitat = [\"grasses\", \"leaves\", \"meadows\", \"paths\", \"urban\", \"waste\", \"woods\"]\n",
    "    find_index_habitat = ['habitat_g', 'habitat_l', 'habitat_m', 'habitat_p', 'habitat_u', 'habitat_w', 'habitat_d']\n",
    "    dwadziesciadwa = find_index_habitat[index_habitat.index(chosen_values[21])]\n",
    "\n",
    "    \n",
    "    return [raz, dwa, trzy, cztery, piec, szesc, siedem, osiem, dziewiec, dziesiec, jedenascie, dwanascie, trzynascie, czernascie, pietnascie, szesnascie, siedemnascie, osiemnascie, dziewietnascie, dwadziescia, dwadziesciajeden, dwadziesciadwa]"
   ]
  },
  {
   "cell_type": "code",
   "execution_count": null,
   "metadata": {},
   "outputs": [],
   "source": [
    "def predicted_values(empty_data, chosen_list): #funkcja przypisująca wartość 1 wcześniej wybranym przez nas kolumnom\n",
    "    empty_data.loc[:, chosen_list] = 1\n",
    "    return empty_data"
   ]
  },
  {
   "cell_type": "code",
   "execution_count": null,
   "metadata": {},
   "outputs": [],
   "source": [
    "# przypisanie zmiennej by tworzyć pustą pojedyńczą tabelkę\n",
    "zmienna = X_test"
   ]
  },
  {
   "cell_type": "code",
   "execution_count": null,
   "metadata": {},
   "outputs": [],
   "source": [
    "empty_df = pd.DataFrame(zmienna.iloc[0]).transpose() #wybieranie jednego wiersza by mieć wszystkie kolumny używanego do analizy"
   ]
  },
  {
   "cell_type": "code",
   "execution_count": null,
   "metadata": {},
   "outputs": [],
   "source": [
    "empty_df.iloc[0] = 0 \n",
    "empty_df.reset_index().drop(\"index\", axis=1, inplace=True) #przypisywanie tym kolumnom wartości 0 by móc wybranym dopisać 1"
   ]
  },
  {
   "cell_type": "code",
   "execution_count": null,
   "metadata": {},
   "outputs": [],
   "source": [
    "dictionary_values = values.values() #wybór wartości słownika\n",
    "dictionary_values = list(dictionary_values)"
   ]
  },
  {
   "cell_type": "code",
   "execution_count": 83,
   "metadata": {},
   "outputs": [
    {
     "data": {
      "application/vnd.jupyter.widget-view+json": {
       "model_id": "41455fae05f14a438e13c56143990f3f",
       "version_major": 2,
       "version_minor": 0
      },
      "text/plain": [
       "Dropdown(description='Cap_Shape', options=('bell', 'conical', 'convex', 'flat', 'knobbed', 'sunken'), value='b…"
      ]
     },
     "metadata": {},
     "output_type": "display_data"
    },
    {
     "data": {
      "application/vnd.jupyter.widget-view+json": {
       "model_id": "2264bb00a83646ebbb5b04bb865c59b8",
       "version_major": 2,
       "version_minor": 0
      },
      "text/plain": [
       "Dropdown(description='Cap_Surface', options=('fibrous', 'grooves', 'scaly', 'smooth'), value='fibrous')"
      ]
     },
     "metadata": {},
     "output_type": "display_data"
    },
    {
     "data": {
      "application/vnd.jupyter.widget-view+json": {
       "model_id": "6a676fffa78d416bb487af074de1b923",
       "version_major": 2,
       "version_minor": 0
      },
      "text/plain": [
       "Dropdown(description='Cap_Color', options=('brown', 'buff', 'cinnamon', 'gray', 'green', 'pink', 'purple', 're…"
      ]
     },
     "metadata": {},
     "output_type": "display_data"
    },
    {
     "data": {
      "application/vnd.jupyter.widget-view+json": {
       "model_id": "7f1628346efa40e3a53c737e8b260f0b",
       "version_major": 2,
       "version_minor": 0
      },
      "text/plain": [
       "Dropdown(description='Bruises', options=('Yes', 'No'), value='Yes')"
      ]
     },
     "metadata": {},
     "output_type": "display_data"
    },
    {
     "data": {
      "application/vnd.jupyter.widget-view+json": {
       "model_id": "7a18c8c3bb8b49bb8cdc0cc098259f44",
       "version_major": 2,
       "version_minor": 0
      },
      "text/plain": [
       "Button(description='Run', style=ButtonStyle())"
      ]
     },
     "metadata": {},
     "output_type": "display_data"
    }
   ],
   "source": [
    "convertion = mush_convertion_columns(dictionary_values)"
   ]
  },
  {
   "cell_type": "code",
   "execution_count": null,
   "metadata": {},
   "outputs": [],
   "source": [
    "mush_pred = predicted_values(empty_df, convertion)\n",
    "mush_pred"
   ]
  },
  {
   "cell_type": "code",
   "execution_count": 84,
   "metadata": {},
   "outputs": [
    {
     "data": {
      "text/plain": [
       "XGBClassifier(base_score=0.5, booster='gbtree', colsample_bylevel=1,\n",
       "              colsample_bynode=1, colsample_bytree=1, enable_categorical=False,\n",
       "              eval_metric='error', gamma=0, gpu_id=-1, importance_type=None,\n",
       "              interaction_constraints='', learning_rate=0.300000012,\n",
       "              max_delta_step=0, max_depth=3, min_child_weight=1, missing=nan,\n",
       "              monotone_constraints='()', n_estimators=100, n_jobs=4,\n",
       "              num_parallel_tree=1, predictor='auto', random_state=0,\n",
       "              reg_alpha=0, reg_lambda=1, scale_pos_weight=1, subsample=1,\n",
       "              tree_method='exact', use_label_encoder=False,\n",
       "              validate_parameters=1, verbosity=None)"
      ]
     },
     "execution_count": 84,
     "metadata": {},
     "output_type": "execute_result"
    }
   ],
   "source": [
    "xgb_cl_1 = xgb.XGBClassifier( n_estimators=100,\n",
    "                           max_depth=3,\n",
    "                           use_label_encoder=False,\n",
    "                           eval_metric='error'\n",
    "                        )\n",
    "xgb_cl_1.fit(X_train, y_train)"
   ]
  },
  {
   "cell_type": "code",
   "execution_count": 91,
   "metadata": {},
   "outputs": [
    {
     "name": "stdout",
     "output_type": "stream",
     "text": [
      "Accuracy:  1.0\n"
     ]
    }
   ],
   "source": [
    "y_pred = xgb_cl_1.predict(X_test)\n",
    "acc = accuracy_score(y_test, y_pred)\n",
    "print(\"Accuracy: \", acc)"
   ]
  },
  {
   "cell_type": "code",
   "execution_count": 92,
   "metadata": {},
   "outputs": [
    {
     "name": "stdout",
     "output_type": "stream",
     "text": [
      "              precision    recall  f1-score   support\n",
      "\n",
      "           0       1.00      1.00      1.00       791\n",
      "           1       1.00      1.00      1.00       834\n",
      "\n",
      "    accuracy                           1.00      1625\n",
      "   macro avg       1.00      1.00      1.00      1625\n",
      "weighted avg       1.00      1.00      1.00      1625\n",
      "\n"
     ]
    }
   ],
   "source": [
    "report_class = classification_report(y_test, y_pred)\n",
    "print(report_class)"
   ]
  },
  {
   "cell_type": "code",
   "execution_count": 86,
   "metadata": {
    "scrolled": true
   },
   "outputs": [
    {
     "data": {
      "text/plain": [
       "<sklearn.metrics._plot.confusion_matrix.ConfusionMatrixDisplay at 0x25f317c3520>"
      ]
     },
     "execution_count": 86,
     "metadata": {},
     "output_type": "execute_result"
    },
    {
     "data": {
      "image/png": "[encoded data removed]",
      "text/plain": [
       "<Figure size 432x288 with 2 Axes>"
      ]
     },
     "metadata": {
      "needs_background": "light"
     },
     "output_type": "display_data"
    }
   ],
   "source": [
    "plot_confusion_matrix(xgb_cl_1,\n",
    "                      X_test,\n",
    "                      y_test,\n",
    "                      values_format='d',\n",
    "                      display_labels=[\"Jadalne\", \"Trujace\"])"
   ]
  },
  {
   "cell_type": "code",
   "execution_count": 88,
   "metadata": {},
   "outputs": [
    {
     "data": {
      "text/plain": [
       "<AxesSubplot:title={'center':'Feature importance'}, xlabel='F score', ylabel='Features'>"
      ]
     },
     "execution_count": 88,
     "metadata": {},
     "output_type": "execute_result"
    },
    {
     "data": {
      "image/png": "[encoded data removed]",
      "text/plain": [
       "<Figure size 720x576 with 1 Axes>"
      ]
     },
     "metadata": {
      "needs_background": "light"
     },
     "output_type": "display_data"
    }
   ],
   "source": [
    "from matplotlib.pylab import rcParams\n",
    "##set up the parameters\n",
    "rcParams['figure.figsize'] = 10, 8\n",
    "\n",
    "xgb.plot_importance(xgb_cl_1)"
   ]
  },
  {
   "cell_type": "code",
   "execution_count": 87,
   "metadata": {},
   "outputs": [
    {
     "data": {
      "text/plain": [
       "XGBClassifier(base_score=0.5, booster='gbtree', colsample_bylevel=1,\n",
       "              colsample_bynode=1, colsample_bytree=1, enable_categorical=False,\n",
       "              eval_metric='aucpr', gamma=0, gpu_id=-1, importance_type=None,\n",
       "              interaction_constraints='', learning_rate=0.300000012,\n",
       "              max_delta_step=0, max_depth=6, min_child_weight=1, missing=nan,\n",
       "              monotone_constraints='()', n_estimators=100, n_jobs=4,\n",
       "              num_parallel_tree=1, predictor='auto', random_state=42,\n",
       "              reg_alpha=0, reg_lambda=1, scale_pos_weight=1, seed=42,\n",
       "              subsample=1, tree_method='exact', use_label_encoder=False,\n",
       "              validate_parameters=1, ...)"
      ]
     },
     "execution_count": 87,
     "metadata": {},
     "output_type": "execute_result"
    }
   ],
   "source": [
    "xgb_cl_2 = xgb.XGBClassifier(n_estimators=100,\n",
    "                             seed=42,\n",
    "                             objective='binary:logistic',\n",
    "                             use_label_encoder=False,\n",
    "                             eval_metric='aucpr'\n",
    "                             )\n",
    "xgb_cl_2.fit(X_train, y_train)"
   ]
  },
  {
   "cell_type": "code",
   "execution_count": 85,
   "metadata": {},
   "outputs": [
    {
     "data": {
      "text/plain": [
       "<sklearn.metrics._plot.confusion_matrix.ConfusionMatrixDisplay at 0x25f317210d0>"
      ]
     },
     "execution_count": 85,
     "metadata": {},
     "output_type": "execute_result"
    },
    {
     "data": {
      "image/png": "[encoded data removed]",
      "text/plain": [
       "<Figure size 432x288 with 2 Axes>"
      ]
     },
     "metadata": {
      "needs_background": "light"
     },
     "output_type": "display_data"
    }
   ],
   "source": [
    "plot_confusion_matrix(xgb_cl_2,\n",
    "                      X_test,\n",
    "                      y_test,\n",
    "                      values_format='d',\n",
    "                      display_labels=[\"Jadalne\", \"Trujace\"])"
   ]
  },
  {
   "cell_type": "code",
   "execution_count": null,
   "metadata": {},
   "outputs": [],
   "source": []
  }
 ],
 "metadata": {
  "kernelspec": {
   "display_name": "Python 3",
   "language": "python",
   "name": "python3"
  },
  "language_info": {
   "codemirror_mode": {
    "name": "ipython",
    "version": 3
   },
   "file_extension": ".py",
   "mimetype": "text/x-python",
   "name": "python",
   "nbconvert_exporter": "python",
   "pygments_lexer": "ipython3",
   "version": "3.8.8"
  }
 },
 "nbformat": 4,
 "nbformat_minor": 4
}
