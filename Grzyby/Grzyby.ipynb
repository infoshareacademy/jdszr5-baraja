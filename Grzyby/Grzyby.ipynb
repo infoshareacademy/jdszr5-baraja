{
 "cells": [
  {
   "cell_type": "markdown",
   "metadata": {},
   "source": [
    "## Linki"
   ]
  },
  {
   "cell_type": "markdown",
   "metadata": {},
   "source": [
    "https://www.analyticsvidhya.com/blog/2016/03/complete-guide-parameter-tuning-xgboost-with-codes-python/"
   ]
  },
  {
   "cell_type": "markdown",
   "metadata": {},
   "source": [
    "## Opis cech (features)"
   ]
  },
  {
   "cell_type": "markdown",
   "metadata": {
    "jupyter": {
     "source_hidden": true
    }
   },
   "source": [
    "### Lista występujących cech w danych:\n",
    "\n",
    "##### 1. class  _klasa_:\n",
    "- edible = e    > _jadalne_\n",
    "- poisonous = p > _trujące_\n",
    "\n",
    "##### 2. cap-shape  _kształt kapelusza_:\n",
    "- bell = b      > _dzwon_\n",
    "- conical = c   > _stożkowy_\n",
    "- convex = x    > _wypukły_\n",
    "- flat = f      > _płaski_\n",
    "- knobbed = k   > _gałkowy_\n",
    "- sunken = s    > _wklęsły_\n",
    "\n",
    "##### 3. cap-surface  _powierzchnia kapelusza_:\n",
    "- fibrous = f   > _włóknista_\n",
    "- grooves = g   > _rowkowata_\n",
    "- scaly = y     > _łuskowata_\n",
    "- smooth = s    > _gładka_\n",
    "\n",
    "##### 3. cap-color _kolor kapelusza_:\n",
    "- brown = n     > _brązowy_\n",
    "- buff = b      > _jasnobrązowożółty_\n",
    "- cinnamon = c  > _cynamon_\n",
    "- gray = g      > _szary_\n",
    "- green = r     > _zielony_\n",
    "- pink = p      > _różowy_\n",
    "- purple = u    > _fioletowy_\n",
    "- red = e       > _czerwony_\n",
    "- white = w     > _biały_\n",
    "- yellow = y    > _zółty_\n",
    "\n",
    "##### 4. bruises _bruzdy_:\n",
    "- bruises = t   > _prawda_\n",
    "- no = f        > _fałsz_\n",
    "\n",
    "##### 5. odor _zapach_:\n",
    "- almond=a > _migdałowy_\n",
    "- anise=l >_anyżowy_\n",
    "- creoote=c >_kreotyzowy_\n",
    "- fishy=y >_rybi_\n",
    "- foul=f >_śmierdzący_\n",
    "- musty=m >_stęchły_\n",
    "- none=n \n",
    "- pungent=p >_cierpki_\n",
    "- spicy=s > _pikantny_\n",
    "\n",
    "##### 6. gill-attachment _blaszki:\n",
    "- attached=a\n",
    "- descending=d\n",
    "- free=f\n",
    "- notched=n\n",
    "\n",
    "##### 7. gill-spacing _odstępy blaszek_:\n",
    "- close=c\n",
    "- crowded=w\n",
    "- distant=d\n",
    "\n",
    "##### 8. gill-size _rozmiar blaszek_:\n",
    "- broad=b\n",
    "- narrow=n\n",
    "\n",
    "##### 9. gill-color _kolor blaszek_:\n",
    "- black=k\n",
    "- brown=n\n",
    "- buff=b\n",
    "- chocolate=h\n",
    "- gray=g\n",
    "- green=r\n",
    "- orange=o\n",
    "- pink=p\n",
    "- purple=u\n",
    "- red=e\n",
    "- white=w\n",
    "- yellow=y\n",
    "\n",
    "##### 10. stalk-shape _trzon_:\n",
    "- enlarging=e\n",
    "- tapering=t\n",
    "\n",
    "##### 11. stalk-root _korzeń trzonu_:\n",
    "- bulbous=b\n",
    "- club=c\n",
    "- cup=u\n",
    "- equal=e\n",
    "- rhizomorphs=z\n",
    "- rooted=r\n",
    "- missing=?\n",
    "\n",
    "##### 12. stalk-surface-above-ring _powierzchnia trzonu powyżej pierścienia_:\n",
    "- fibrous=f > _włóknista_\n",
    "- scaly=y > _łuskowata_\n",
    "- silky=k > _jedwabista_\n",
    "- smooth=s > _gładka_\n",
    "\n",
    "##### 13. stalk-surface-below-ring _powierzchnia trzonu poniżej pierścienia_:\n",
    "- fibrous=f\n",
    "- scaly=y\n",
    "- silky=k\n",
    "- smooth=s\n",
    "\n",
    "##### 14. stalk-color-above-ring _kolor trzonu powyżej pierścienia_:\n",
    "- brown=n\n",
    "- buff=b\n",
    "- cinnamon=c\n",
    "- gray=g\n",
    "- orange=o\n",
    "- pink=p\n",
    "- red=e\n",
    "- white=w\n",
    "- yellow=y\n",
    "\n",
    "##### 15. stalk-color-below-ring _kolor trzonu poniżej pierścienia_:\n",
    "- brown=n\n",
    "- buff=b\n",
    "- cinnamon=c\n",
    "- gray=g\n",
    "- orange=o\n",
    "- pink=p\n",
    "- red=e\n",
    "- white=w\n",
    "- yellow=y\n",
    "\n",
    "##### 16. veil-type _typ welonu_:\n",
    "- parial=p\n",
    "- universal=u\n",
    "\n",
    "##### 17. veil-color _kolor welonu_:\n",
    "- brown=n,\n",
    "- orange=o\n",
    "- white=w\n",
    "- yellow=y\n",
    "\n",
    "##### 18. ring-number _ilość pierścieni_:\n",
    "- none=none=o,two=t\n",
    "\n",
    "##### 19. ring-type _rodzaj pierścienia_:\n",
    "- cobwebby=c\n",
    "- evanescent=e\n",
    "- flaring=f\n",
    "- large=l\n",
    "- none=n\n",
    "- pendant=p\n",
    "- sheathing=s\n",
    "- zone=z\n",
    "\n",
    "##### 20. spore-print-color _kolor zarodników_:\n",
    "- black=k\n",
    "- brown=n\n",
    "- buff=b\n",
    "- chocolate=h\n",
    "- green=r\n",
    "- orange=o\n",
    "- purple=u\n",
    "- white=w\n",
    "- yellow=y\n",
    "\n",
    "##### 21. population _populacja_:\n",
    "- abundant=a\n",
    "- clustered=c\n",
    "- numerous=n\n",
    "- scattered=s\n",
    "- several=v\n",
    "- solitary=y\n",
    "\n",
    "##### 22. habitat _środowisko występowania_:\n",
    "- grasses=g\n",
    "- leaves=l\n",
    "- meadows=m\n",
    "- paths=p\n",
    "- urban=u\n",
    "- waste=w\n",
    "- woods=d"
   ]
  },
  {
   "cell_type": "code",
   "execution_count": null,
   "metadata": {},
   "outputs": [],
   "source": [
    "import pandas as pd\n",
    "import numpy as np\n",
    "from sklearn.preprocessing import OneHotEncoder"
   ]
  },
  {
   "cell_type": "code",
   "execution_count": null,
   "metadata": {},
   "outputs": [],
   "source": [
    "df = pd.read_csv(\"mushrooms.csv\")\n",
    "columns = df.columns\n",
    "columns\n",
    "df[columns[0]].unique()\n",
    "columns\n"
   ]
  },
  {
   "cell_type": "code",
   "execution_count": 16,
   "metadata": {},
   "outputs": [
    {
     "data": {
      "text/plain": [
       "(8124, 23)"
      ]
     },
     "execution_count": 16,
     "metadata": {},
     "output_type": "execute_result"
    }
   ],
   "source": [
    "df.shape"
   ]
  },
  {
   "cell_type": "code",
   "execution_count": 18,
   "metadata": {
    "collapsed": true,
    "jupyter": {
     "outputs_hidden": true
    }
   },
   "outputs": [
    {
     "name": "stdout",
     "output_type": "stream",
     "text": [
      "<class 'pandas.core.frame.DataFrame'>\n",
      "RangeIndex: 8124 entries, 0 to 8123\n",
      "Data columns (total 23 columns):\n",
      " #   Column                    Non-Null Count  Dtype \n",
      "---  ------                    --------------  ----- \n",
      " 0   class                     8124 non-null   object\n",
      " 1   cap-shape                 8124 non-null   object\n",
      " 2   cap-surface               8124 non-null   object\n",
      " 3   cap-color                 8124 non-null   object\n",
      " 4   bruises                   8124 non-null   object\n",
      " 5   odor                      8124 non-null   object\n",
      " 6   gill-attachment           8124 non-null   object\n",
      " 7   gill-spacing              8124 non-null   object\n",
      " 8   gill-size                 8124 non-null   object\n",
      " 9   gill-color                8124 non-null   object\n",
      " 10  stalk-shape               8124 non-null   object\n",
      " 11  stalk-root                8124 non-null   object\n",
      " 12  stalk-surface-above-ring  8124 non-null   object\n",
      " 13  stalk-surface-below-ring  8124 non-null   object\n",
      " 14  stalk-color-above-ring    8124 non-null   object\n",
      " 15  stalk-color-below-ring    8124 non-null   object\n",
      " 16  veil-type                 8124 non-null   object\n",
      " 17  veil-color                8124 non-null   object\n",
      " 18  ring-number               8124 non-null   object\n",
      " 19  ring-type                 8124 non-null   object\n",
      " 20  spore-print-color         8124 non-null   object\n",
      " 21  population                8124 non-null   object\n",
      " 22  habitat                   8124 non-null   object\n",
      "dtypes: object(23)\n",
      "memory usage: 1.4+ MB\n"
     ]
    }
   ],
   "source": [
    "# object Dtype = string\n",
    "df.info()"
   ]
  },
  {
   "cell_type": "code",
   "execution_count": 13,
   "metadata": {},
   "outputs": [
    {
     "data": {
      "text/plain": [
       "Index(['class', 'cap-shape', 'cap-surface', 'cap-color', 'bruises', 'odor',\n",
       "       'gill-attachment', 'gill-spacing', 'gill-size', 'gill-color',\n",
       "       'stalk-shape', 'stalk-root', 'stalk-surface-above-ring',\n",
       "       'stalk-surface-below-ring', 'stalk-color-above-ring',\n",
       "       'stalk-color-below-ring', 'veil-type', 'veil-color', 'ring-number',\n",
       "       'ring-type', 'spore-print-color', 'population', 'habitat'],\n",
       "      dtype='object')"
      ]
     },
     "execution_count": 13,
     "metadata": {},
     "output_type": "execute_result"
    }
   ],
   "source": [
    "df.columns"
   ]
  },
  {
   "cell_type": "code",
   "execution_count": 21,
   "metadata": {
    "collapsed": true,
    "jupyter": {
     "outputs_hidden": true
    }
   },
   "outputs": [
    {
     "data": {
      "text/html": [
       "<div>\n",
       "<style scoped>\n",
       "    .dataframe tbody tr th:only-of-type {\n",
       "        vertical-align: middle;\n",
       "    }\n",
       "\n",
       "    .dataframe tbody tr th {\n",
       "        vertical-align: top;\n",
       "    }\n",
       "\n",
       "    .dataframe thead th {\n",
       "        text-align: right;\n",
       "    }\n",
       "</style>\n",
       "<table border=\"1\" class=\"dataframe\">\n",
       "  <thead>\n",
       "    <tr style=\"text-align: right;\">\n",
       "      <th></th>\n",
       "      <th>class</th>\n",
       "      <th>cap-shape</th>\n",
       "      <th>cap-surface</th>\n",
       "      <th>cap-color</th>\n",
       "      <th>bruises</th>\n",
       "      <th>odor</th>\n",
       "      <th>gill-attachment</th>\n",
       "      <th>gill-spacing</th>\n",
       "      <th>gill-size</th>\n",
       "      <th>gill-color</th>\n",
       "      <th>...</th>\n",
       "      <th>stalk-surface-below-ring</th>\n",
       "      <th>stalk-color-above-ring</th>\n",
       "      <th>stalk-color-below-ring</th>\n",
       "      <th>veil-type</th>\n",
       "      <th>veil-color</th>\n",
       "      <th>ring-number</th>\n",
       "      <th>ring-type</th>\n",
       "      <th>spore-print-color</th>\n",
       "      <th>population</th>\n",
       "      <th>habitat</th>\n",
       "    </tr>\n",
       "  </thead>\n",
       "  <tbody>\n",
       "    <tr>\n",
       "      <th>count</th>\n",
       "      <td>8124</td>\n",
       "      <td>8124</td>\n",
       "      <td>8124</td>\n",
       "      <td>8124</td>\n",
       "      <td>8124</td>\n",
       "      <td>8124</td>\n",
       "      <td>8124</td>\n",
       "      <td>8124</td>\n",
       "      <td>8124</td>\n",
       "      <td>8124</td>\n",
       "      <td>...</td>\n",
       "      <td>8124</td>\n",
       "      <td>8124</td>\n",
       "      <td>8124</td>\n",
       "      <td>8124</td>\n",
       "      <td>8124</td>\n",
       "      <td>8124</td>\n",
       "      <td>8124</td>\n",
       "      <td>8124</td>\n",
       "      <td>8124</td>\n",
       "      <td>8124</td>\n",
       "    </tr>\n",
       "    <tr>\n",
       "      <th>unique</th>\n",
       "      <td>2</td>\n",
       "      <td>6</td>\n",
       "      <td>4</td>\n",
       "      <td>10</td>\n",
       "      <td>2</td>\n",
       "      <td>9</td>\n",
       "      <td>2</td>\n",
       "      <td>2</td>\n",
       "      <td>2</td>\n",
       "      <td>12</td>\n",
       "      <td>...</td>\n",
       "      <td>4</td>\n",
       "      <td>9</td>\n",
       "      <td>9</td>\n",
       "      <td>1</td>\n",
       "      <td>4</td>\n",
       "      <td>3</td>\n",
       "      <td>5</td>\n",
       "      <td>9</td>\n",
       "      <td>6</td>\n",
       "      <td>7</td>\n",
       "    </tr>\n",
       "    <tr>\n",
       "      <th>top</th>\n",
       "      <td>e</td>\n",
       "      <td>x</td>\n",
       "      <td>y</td>\n",
       "      <td>n</td>\n",
       "      <td>f</td>\n",
       "      <td>n</td>\n",
       "      <td>f</td>\n",
       "      <td>c</td>\n",
       "      <td>b</td>\n",
       "      <td>b</td>\n",
       "      <td>...</td>\n",
       "      <td>s</td>\n",
       "      <td>w</td>\n",
       "      <td>w</td>\n",
       "      <td>p</td>\n",
       "      <td>w</td>\n",
       "      <td>o</td>\n",
       "      <td>p</td>\n",
       "      <td>w</td>\n",
       "      <td>v</td>\n",
       "      <td>d</td>\n",
       "    </tr>\n",
       "    <tr>\n",
       "      <th>freq</th>\n",
       "      <td>4208</td>\n",
       "      <td>3656</td>\n",
       "      <td>3244</td>\n",
       "      <td>2284</td>\n",
       "      <td>4748</td>\n",
       "      <td>3528</td>\n",
       "      <td>7914</td>\n",
       "      <td>6812</td>\n",
       "      <td>5612</td>\n",
       "      <td>1728</td>\n",
       "      <td>...</td>\n",
       "      <td>4936</td>\n",
       "      <td>4464</td>\n",
       "      <td>4384</td>\n",
       "      <td>8124</td>\n",
       "      <td>7924</td>\n",
       "      <td>7488</td>\n",
       "      <td>3968</td>\n",
       "      <td>2388</td>\n",
       "      <td>4040</td>\n",
       "      <td>3148</td>\n",
       "    </tr>\n",
       "  </tbody>\n",
       "</table>\n",
       "<p>4 rows × 23 columns</p>\n",
       "</div>"
      ],
      "text/plain": [
       "       class cap-shape cap-surface cap-color bruises  odor gill-attachment  \\\n",
       "count   8124      8124        8124      8124    8124  8124            8124   \n",
       "unique     2         6           4        10       2     9               2   \n",
       "top        e         x           y         n       f     n               f   \n",
       "freq    4208      3656        3244      2284    4748  3528            7914   \n",
       "\n",
       "       gill-spacing gill-size gill-color  ... stalk-surface-below-ring  \\\n",
       "count          8124      8124       8124  ...                     8124   \n",
       "unique            2         2         12  ...                        4   \n",
       "top               c         b          b  ...                        s   \n",
       "freq           6812      5612       1728  ...                     4936   \n",
       "\n",
       "       stalk-color-above-ring stalk-color-below-ring veil-type veil-color  \\\n",
       "count                    8124                   8124      8124       8124   \n",
       "unique                      9                      9         1          4   \n",
       "top                         w                      w         p          w   \n",
       "freq                     4464                   4384      8124       7924   \n",
       "\n",
       "       ring-number ring-type spore-print-color population habitat  \n",
       "count         8124      8124              8124       8124    8124  \n",
       "unique           3         5                 9          6       7  \n",
       "top              o         p                 w          v       d  \n",
       "freq          7488      3968              2388       4040    3148  \n",
       "\n",
       "[4 rows x 23 columns]"
      ]
     },
     "execution_count": 21,
     "metadata": {},
     "output_type": "execute_result"
    }
   ],
   "source": [
    "df.describe()"
   ]
  },
  {
   "cell_type": "raw",
   "metadata": {},
   "source": [
    "imie = \"Bartek\"\n",
    "liczba = example_df[\"name\"].value_counts()[\"imie\"]\n",
    "print(f\"\\n{imie} jest {liczba} razy\")"
   ]
  },
  {
   "cell_type": "code",
   "execution_count": 25,
   "metadata": {},
   "outputs": [
    {
     "name": "stdout",
     "output_type": "stream",
     "text": [
      "Liczba grzybów jadalnych: 4208, trujących: 3916.\n"
     ]
    }
   ],
   "source": [
    "# Liczebność grzybór jadalnych (e) i trujących (p):\n",
    "jadalne = df[\"class\"].value_counts()[\"e\"]\n",
    "trujace = df[\"class\"].value_counts()[\"p\"]\n",
    "print(f\"Liczba grzybów jadalnych: {jadalne}, trujących: {trujace}.\")"
   ]
  },
  {
   "cell_type": "code",
   "execution_count": 5,
   "metadata": {},
   "outputs": [
    {
     "data": {
      "text/plain": [
       "False"
      ]
     },
     "execution_count": 5,
     "metadata": {},
     "output_type": "execute_result"
    }
   ],
   "source": [
    "#sprawdzenie duplikatów\n",
    "df.duplicated().any()"
   ]
  },
  {
   "cell_type": "code",
   "execution_count": 25,
   "metadata": {
    "collapsed": true,
    "jupyter": {
     "outputs_hidden": true
    }
   },
   "outputs": [
    {
     "data": {
      "text/plain": [
       "class                       0\n",
       "cap-shape                   0\n",
       "cap-surface                 0\n",
       "cap-color                   0\n",
       "bruises                     0\n",
       "odor                        0\n",
       "gill-attachment             0\n",
       "gill-spacing                0\n",
       "gill-size                   0\n",
       "gill-color                  0\n",
       "stalk-shape                 0\n",
       "stalk-root                  0\n",
       "stalk-surface-above-ring    0\n",
       "stalk-surface-below-ring    0\n",
       "stalk-color-above-ring      0\n",
       "stalk-color-below-ring      0\n",
       "veil-type                   0\n",
       "veil-color                  0\n",
       "ring-number                 0\n",
       "ring-type                   0\n",
       "spore-print-color           0\n",
       "population                  0\n",
       "habitat                     0\n",
       "dtype: int64"
      ]
     },
     "execution_count": 25,
     "metadata": {},
     "output_type": "execute_result"
    }
   ],
   "source": [
    "# Sprawdzenie brakujących wartości\n",
    "df.isnull().sum()"
   ]
  },
  {
   "cell_type": "code",
   "execution_count": 26,
   "metadata": {},
   "outputs": [],
   "source": [
    "# Sprawdzenie wartości NaN"
   ]
  },
  {
   "cell_type": "code",
   "execution_count": 27,
   "metadata": {
    "collapsed": true,
    "jupyter": {
     "outputs_hidden": true
    }
   },
   "outputs": [
    {
     "data": {
      "text/plain": [
       "class                       0\n",
       "cap-shape                   0\n",
       "cap-surface                 0\n",
       "cap-color                   0\n",
       "bruises                     0\n",
       "odor                        0\n",
       "gill-attachment             0\n",
       "gill-spacing                0\n",
       "gill-size                   0\n",
       "gill-color                  0\n",
       "stalk-shape                 0\n",
       "stalk-root                  0\n",
       "stalk-surface-above-ring    0\n",
       "stalk-surface-below-ring    0\n",
       "stalk-color-above-ring      0\n",
       "stalk-color-below-ring      0\n",
       "veil-type                   0\n",
       "veil-color                  0\n",
       "ring-number                 0\n",
       "ring-type                   0\n",
       "spore-print-color           0\n",
       "population                  0\n",
       "habitat                     0\n",
       "dtype: int64"
      ]
     },
     "execution_count": 27,
     "metadata": {},
     "output_type": "execute_result"
    }
   ],
   "source": [
    "df.isna().sum()"
   ]
  },
  {
   "cell_type": "code",
   "execution_count": null,
   "metadata": {},
   "outputs": [],
   "source": []
  }
 ],
 "metadata": {
  "kernelspec": {
   "display_name": "Python 3",
   "language": "python",
   "name": "python3"
  },
  "language_info": {
   "codemirror_mode": {
    "name": "ipython",
    "version": 3
   },
   "file_extension": ".py",
   "mimetype": "text/x-python",
   "name": "python",
   "nbconvert_exporter": "python",
   "pygments_lexer": "ipython3",
   "version": "3.6.10"
  }
 },
 "nbformat": 4,
 "nbformat_minor": 4
}
