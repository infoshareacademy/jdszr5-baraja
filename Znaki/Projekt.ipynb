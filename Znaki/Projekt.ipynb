{
 "cells": [
  {
   "cell_type": "code",
   "execution_count": 4,
   "metadata": {},
   "outputs": [],
   "source": [
    "#Imports\n",
    "import os\n",
    "import pandas as pd\n",
    "# import torch\n",
    "# from albumentations import Compose, ShiftScaleRotate, Resize, Blur, HorizontalFlip, Normalize, ElasticTransform\n",
    "import numpy as np\n",
    "# from albumentations.pytorch import ToTensor\n",
    "import matplotlib.pyplot as plt\n",
    "import pickle"
   ]
  },
  {
   "cell_type": "code",
   "execution_count": 7,
   "metadata": {},
   "outputs": [],
   "source": [
    "train = pickle.load(open('train.pickle', 'rb'))\n",
    "valid = pickle.load(open('valid.pickle', 'rb'))\n",
    "test = pickle.load(open('test.pickle', 'rb'))\n",
    "labels = pickle.load(open('labels.pickle', 'rb'))\n",
    "std_gray = pickle.load(open('std_gray.pickle', 'rb'))\n",
    "std_rgb = pickle.load(open('std_rgb.pickle', 'rb'))\n",
    "mean_gray = pickle.load(open('mean_image_gray.pickle', 'rb'))\n",
    "mean_rgb = pickle.load(open('mean_image_rgb.pickle', 'rb'))\n",
    "data_rgb = pickle.load(open('data3.pickle', 'rb'))\n",
    "data_gray = pickle.load(open('data8.pickle', 'rb'))"
   ]
  },
  {
   "cell_type": "code",
   "execution_count": null,
   "metadata": {},
   "outputs": [],
   "source": []
  }
 ],
 "metadata": {
  "interpreter": {
   "hash": "231183bd39221ce2debaaa8bf321d894750d3fd4a53051b1370ef8b99500ae41"
  },
  "kernelspec": {
   "display_name": "Python 3.8.8 ('base')",
   "language": "python",
   "name": "python3"
  },
  "language_info": {
   "codemirror_mode": {
    "name": "ipython",
    "version": 3
   },
   "file_extension": ".py",
   "mimetype": "text/x-python",
   "name": "python",
   "nbconvert_exporter": "python",
   "pygments_lexer": "ipython3",
   "version": "3.8.8"
  },
  "orig_nbformat": 4
 },
 "nbformat": 4,
 "nbformat_minor": 2
}
