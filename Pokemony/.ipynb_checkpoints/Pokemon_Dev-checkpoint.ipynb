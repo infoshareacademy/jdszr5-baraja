{
 "cells": [
  {
   "cell_type": "code",
   "execution_count": 10,
   "id": "5056e1f5",
   "metadata": {},
   "outputs": [],
   "source": [
    "import os\n",
    "import glob\n",
    "import numpy as np\n",
    "import pandas as pd\n",
    "import random as rd"
   ]
  },
  {
   "cell_type": "code",
   "execution_count": 2,
   "id": "939c165a",
   "metadata": {},
   "outputs": [
    {
     "data": {
      "text/plain": [
       "['C:\\\\Users\\\\Pingwiny\\\\baraja\\\\Pokemony\\\\pokemony.txt',\n",
       " 'C:\\\\Users\\\\Pingwiny\\\\baraja\\\\Pokemony\\\\pokemon_202110171358.csv',\n",
       " 'C:\\\\Users\\\\Pingwiny\\\\baraja\\\\Pokemony\\\\Pokemon_Dev.ipynb',\n",
       " 'C:\\\\Users\\\\Pingwiny\\\\baraja\\\\Pokemony\\\\trainers_202110171359.csv']"
      ]
     },
     "execution_count": 2,
     "metadata": {},
     "output_type": "execute_result"
    }
   ],
   "source": [
    "glob.glob(os.path.join(os.path.abspath(\"\"),\"*\"))\n"
   ]
  },
  {
   "cell_type": "code",
   "execution_count": 5,
   "id": "cd187248",
   "metadata": {},
   "outputs": [],
   "source": [
    "df_pokemons = pd.read_csv(\"pokemon_202110171358.csv\")\n",
    "df_trainers = pd.read_csv(\"trainers_202110171359.csv\")"
   ]
  },
  {
   "cell_type": "code",
   "execution_count": 16,
   "id": "dfde7901",
   "metadata": {},
   "outputs": [
    {
     "name": "stdout",
     "output_type": "stream",
     "text": [
      "       trainerID  place   pokename  pokelevel   type1   type2   hp  maxhp  \\\n",
      "0              0      0   Smeargle         60  Normal    None  157    157   \n",
      "1              1      0   Smeargle         30  Normal    None   83     83   \n",
      "2              2      0    Wailord         57   Water    None  281    281   \n",
      "3              2      1  Vileplume         57   Grass  Poison  173    173   \n",
      "4              3      0    Armaldo         47    Rock     Bug  144    144   \n",
      "...          ...    ...        ...        ...     ...     ...  ...    ...   \n",
      "28799      11859      1   Skiploom         50   Grass  Flying  133    133   \n",
      "28800      11859      2     Sealeo         50     Ice   Water  168    168   \n",
      "28801      11859      3     Lombre         50   Water   Grass  138    138   \n",
      "28802      11859      4  Poliwhirl         50   Water    None  143    143   \n",
      "28803      11859      5     Marill         50   Water   Fairy  148    148   \n",
      "\n",
      "       attack  defense  spatk  spdef  speed     damage  damage_physical  \\\n",
      "0          50       68     50     80    116  24.713971        24.974118   \n",
      "1          27       36     27     42     60  13.314250        13.454400   \n",
      "2         128       76    128     76     93  23.592000        23.840337   \n",
      "3         116      122    150    128     82  23.578066        23.826256   \n",
      "4         139      115     87     97     64  19.782965        19.991207   \n",
      "...       ...      ...    ...    ...    ...        ...              ...   \n",
      "28799      68       73     68     88    103  20.917699        21.137885   \n",
      "28800      83       93     98     93     68  20.916957        21.137135   \n",
      "28801      73       73     83     93     73  20.919000        21.139200   \n",
      "28802      88       88     73     73    113  20.919000        21.139200   \n",
      "28803      43       73     43     73     63  20.911192        21.131310   \n",
      "\n",
      "       damage_special  \n",
      "0           24.451750  \n",
      "1           13.172086  \n",
      "2           23.343663  \n",
      "3           23.334031  \n",
      "4           19.568862  \n",
      "...               ...  \n",
      "28799       20.694527  \n",
      "28800       20.699811  \n",
      "28801       20.696778  \n",
      "28802       20.698800  \n",
      "28803       20.691074  \n",
      "\n",
      "[28804 rows x 16 columns]\n"
     ]
    }
   ],
   "source": [
    "# print(df_pokemons)\n",
    "# print(list(df_pokemons.columns))\n",
    "\n",
    "# Obliczenie zadawanego zniszczenia i dodanie kolumny\"demage\"\n",
    "# W tym wypadku pozostanie do wyliczenia wzór:\n",
    "# damage = ((((2*level/5)+2)+(A/D)/50)+2)*random*type\n",
    "# gdzie:\tlevel = p.pokelevel\n",
    "# A = attack lub spatk\n",
    "# D = defense lub spdef\n",
    "# random = random integer percentage between 0.85 and 1.00 (inclusive)\n",
    "# type = type effectiveness (edited) \n",
    "# Zastanowić się czy współczynnik \"random\" przenieść do wyliczenia przed walką (żeby uniknąć powtarzalnych wartość dla całego dataframe)\n",
    "df_pokemons[\"damage_physical\"] = ((((2 * df_pokemons[\"pokelevel\"])/5)+(df_pokemons[\"attack\"]/df_pokemons[\"defense\"])/50)+2)*(rd.randint(85, 100)/100) # *type - zdefiniować\n",
    "df_pokemons[\"damage_special\"] = ((((2 * df_pokemons[\"pokelevel\"])/5)+(df_pokemons[\"spatk\"]/df_pokemons[\"spdef\"])/50)+2)*(rd.randint(85, 100)/100) # *type - zdefiniować\n",
    "print(df_pokemons)\n",
    "\n"
   ]
  }
 ],
 "metadata": {
  "kernelspec": {
   "display_name": "Python 3",
   "language": "python",
   "name": "python3"
  },
  "language_info": {
   "codemirror_mode": {
    "name": "ipython",
    "version": 3
   },
   "file_extension": ".py",
   "mimetype": "text/x-python",
   "name": "python",
   "nbconvert_exporter": "python",
   "pygments_lexer": "ipython3",
   "version": "3.8.8"
  }
 },
 "nbformat": 4,
 "nbformat_minor": 5
}
