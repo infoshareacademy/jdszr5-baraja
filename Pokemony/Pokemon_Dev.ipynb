{
 "cells": [
  {
   "cell_type": "code",
   "execution_count": null,
   "id": "5056e1f5",
   "metadata": {},
   "outputs": [],
   "source": [
    "import os\n",
    "import glob\n",
    "import numpy as np\n",
    "import pandas as pd\n",
    "import random as rd"
   ]
  },
  {
   "cell_type": "code",
   "execution_count": null,
   "id": "939c165a",
   "metadata": {},
   "outputs": [],
   "source": [
    "glob.glob(os.path.join(os.path.abspath(\"\"),\"*\"))"
   ]
  },
  {
   "cell_type": "code",
   "execution_count": null,
   "id": "cd187248",
   "metadata": {},
   "outputs": [],
   "source": [
    "full = pd.read_csv(\"pokemon_202110171358.csv\")\n",
    "df_pokemons = pd.read_csv(\"pokemon_202110171358.csv\")\n",
    "df_trainers = pd.read_csv(\"trainers_202110171359.csv\")"
   ]
  },
  {
   "cell_type": "code",
<<<<<<< HEAD
   "execution_count": 97,
=======
   "execution_count": 33,
>>>>>>> e12170f9ce1c3c9505d7a3c8033cd9313dc7c617
   "id": "dfde7901",
   "metadata": {},
   "outputs": [
    {
     "name": "stdout",
     "output_type": "stream",
     "text": [
<<<<<<< HEAD
      "Poliwhirl Water None\n"
=======
      "Lopunny Normal None\n"
>>>>>>> e12170f9ce1c3c9505d7a3c8033cd9313dc7c617
     ]
    },
    {
     "data": {
<<<<<<< HEAD
      "text/plain": [
       "'Normal'"
      ]
     },
     "execution_count": 97,
=======
      "text/html": [
       "<div>\n",
       "<style scoped>\n",
       "    .dataframe tbody tr th:only-of-type {\n",
       "        vertical-align: middle;\n",
       "    }\n",
       "\n",
       "    .dataframe tbody tr th {\n",
       "        vertical-align: top;\n",
       "    }\n",
       "\n",
       "    .dataframe thead th {\n",
       "        text-align: right;\n",
       "    }\n",
       "</style>\n",
       "<table border=\"1\" class=\"dataframe\">\n",
       "  <thead>\n",
       "    <tr style=\"text-align: right;\">\n",
       "      <th></th>\n",
       "      <th>trainerID</th>\n",
       "      <th>place</th>\n",
       "      <th>pokename</th>\n",
       "      <th>pokelevel</th>\n",
       "      <th>type1</th>\n",
       "      <th>type2</th>\n",
       "      <th>hp</th>\n",
       "      <th>maxhp</th>\n",
       "      <th>attack</th>\n",
       "      <th>defense</th>\n",
       "      <th>spatk</th>\n",
       "      <th>spdef</th>\n",
       "      <th>speed</th>\n",
       "      <th>damage_physical</th>\n",
       "      <th>damage_special</th>\n",
       "    </tr>\n",
       "  </thead>\n",
       "  <tbody>\n",
       "    <tr>\n",
       "      <th>0</th>\n",
       "      <td>4486</td>\n",
       "      <td>2</td>\n",
       "      <td>Shieldon</td>\n",
       "      <td>62</td>\n",
       "      <td>Rock</td>\n",
       "      <td>Steel</td>\n",
       "      <td>131</td>\n",
       "      <td>131</td>\n",
       "      <td>79</td>\n",
       "      <td>173</td>\n",
       "      <td>79</td>\n",
       "      <td>136</td>\n",
       "      <td>64</td>\n",
       "      <td>24.0</td>\n",
       "      <td>26.0</td>\n",
       "    </tr>\n",
       "    <tr>\n",
       "      <th>1</th>\n",
       "      <td>3331</td>\n",
       "      <td>1</td>\n",
       "      <td>Shiftry</td>\n",
       "      <td>43</td>\n",
       "      <td>Grass</td>\n",
       "      <td>Dark</td>\n",
       "      <td>145</td>\n",
       "      <td>145</td>\n",
       "      <td>106</td>\n",
       "      <td>72</td>\n",
       "      <td>97</td>\n",
       "      <td>72</td>\n",
       "      <td>89</td>\n",
       "      <td>17.0</td>\n",
       "      <td>18.0</td>\n",
       "    </tr>\n",
       "    <tr>\n",
       "      <th>2</th>\n",
       "      <td>9643</td>\n",
       "      <td>2</td>\n",
       "      <td>Poliwhirl</td>\n",
       "      <td>27</td>\n",
       "      <td>Water</td>\n",
       "      <td>None</td>\n",
       "      <td>81</td>\n",
       "      <td>81</td>\n",
       "      <td>49</td>\n",
       "      <td>49</td>\n",
       "      <td>41</td>\n",
       "      <td>41</td>\n",
       "      <td>63</td>\n",
       "      <td>12.0</td>\n",
       "      <td>12.0</td>\n",
       "    </tr>\n",
       "    <tr>\n",
       "      <th>3</th>\n",
       "      <td>1198</td>\n",
       "      <td>0</td>\n",
       "      <td>Wingull</td>\n",
       "      <td>20</td>\n",
       "      <td>Water</td>\n",
       "      <td>Flying</td>\n",
       "      <td>53</td>\n",
       "      <td>53</td>\n",
       "      <td>24</td>\n",
       "      <td>24</td>\n",
       "      <td>34</td>\n",
       "      <td>24</td>\n",
       "      <td>46</td>\n",
       "      <td>9.0</td>\n",
       "      <td>10.0</td>\n",
       "    </tr>\n",
       "    <tr>\n",
       "      <th>4</th>\n",
       "      <td>853</td>\n",
       "      <td>0</td>\n",
       "      <td>Cacturne</td>\n",
       "      <td>43</td>\n",
       "      <td>Grass</td>\n",
       "      <td>Dark</td>\n",
       "      <td>128</td>\n",
       "      <td>128</td>\n",
       "      <td>119</td>\n",
       "      <td>72</td>\n",
       "      <td>119</td>\n",
       "      <td>72</td>\n",
       "      <td>67</td>\n",
       "      <td>18.0</td>\n",
       "      <td>18.0</td>\n",
       "    </tr>\n",
       "  </tbody>\n",
       "</table>\n",
       "</div>"
      ],
      "text/plain": [
       "   trainerID  place   pokename  pokelevel  type1   type2   hp  maxhp  attack  \\\n",
       "0       4486      2   Shieldon         62   Rock   Steel  131    131      79   \n",
       "1       3331      1    Shiftry         43  Grass    Dark  145    145     106   \n",
       "2       9643      2  Poliwhirl         27  Water    None   81     81      49   \n",
       "3       1198      0    Wingull         20  Water  Flying   53     53      24   \n",
       "4        853      0   Cacturne         43  Grass    Dark  128    128     119   \n",
       "\n",
       "   defense  spatk  spdef  speed  damage_physical  damage_special  \n",
       "0      173     79    136     64             24.0            26.0  \n",
       "1       72     97     72     89             17.0            18.0  \n",
       "2       49     41     41     63             12.0            12.0  \n",
       "3       24     34     24     46              9.0            10.0  \n",
       "4       72    119     72     67             18.0            18.0  "
      ]
     },
     "execution_count": 33,
>>>>>>> e12170f9ce1c3c9505d7a3c8033cd9313dc7c617
     "metadata": {},
     "output_type": "execute_result"
    }
   ],
   "execution_count": null,
   "id": "dfde7901",
   "metadata": {},
   "outputs": [],
   "source": [
    "# print(df_pokemons)\n",
    "# print(list(df_pokemons.columns))\n",
    "\n",
    "# Obliczenie zadawanego zniszczenia i dodanie kolumny\"demage\"\n",
    "#\n",
    "    # Wzór:\n",
    "    # damage = ((((2*level/5)+2)+(A/D)/50)+2)*random*type\n",
    "        # gdzie: level = p.pokelevel\n",
    "        # A = attack lub spatk\n",
    "        # D = defense lub spdef\n",
    "        # random = random integer percentage between 0.85 and 1.00 (inclusive)\n",
    "        # type = type effectiveness (edited) \n",
    "# Zastanowić się czy współczynnik \"random\" przenieść do wyliczenia przed walką (żeby uniknąć powtarzalnych wartość dla całego dataframe)\n",
    "df_pokemons[\"damage_physical\"] = round(((((2 * df_pokemons[\"pokelevel\"])/5)+(df_pokemons[\"attack\"]/df_pokemons[\"defense\"])/50)+2)*(rd.randint(85, 100)/100)) # *type - zdefiniować\n",
    "df_pokemons[\"damage_special\"] = round(((((2 * df_pokemons[\"pokelevel\"])/5)+(df_pokemons[\"spatk\"]/df_pokemons[\"spdef\"])/50)+2)*(rd.randint(85, 100)/100)) # *type - zdefiniować\n",
    "\n",
    "# Utworzenie listy z indeksów pokemonów - do wykorzystania przy losowaniu random\n",
    "# pokemons_indexes = list(df_pokemons.index.values)\n",
    "# Wylosowanie n=10 pokemonów do dalszej gry\n",
    "df_pokemons = df_pokemons.sample(100)\n",
    "df_pokemons = df_pokemons.reset_index(drop=True) #nowe indeksy dla wylosowanych pokemonów\n",
    "df_ai_pokemons = df_pokemons.sample(3) # wylosowanie 3 pokemonów dla ai (przeciwnik)\n",
    "wybor_pokemona = int(input(\"Wybierz pokemona wpisując liczbę od 0 do 99:\\n\")) #prośba o wybór pokemona do symulacji\n",
    "baraja_poke = df_pokemons.iloc[wybor_pokemona , : ] #przypisanie wybranego pokemona do zmiennej baraja_poke\n",
    "ai_poke = df_ai_pokemons.iloc[0]\n",
    "print(baraja_poke[2],baraja_poke[4],baraja_poke[5]) #wyświetlenie nazwy pokemona i jego typów\n",
    "# print(df_pokemons.iloc[ wybor_pokemona , : ]) #wyświetla dane dla wybranego pokemona po liczbie\n",
    "df_pokemons.head()\n",
    "ai_poke[4]"
   ]
  },
  {
   "cell_type": "code",
<<<<<<< HEAD
   "execution_count": 102,
   "id": "d107fc0c",
   "metadata": {},
   "outputs": [
    {
     "name": "stdout",
     "output_type": "stream",
     "text": [
      "Your Pokemon is Poliwhirl and it is Water and None type.\n",
      "Opponet's Pokemon is Bibarel and it is Normal and Water type.\n",
      "1.0 <class 'float'>\n"
     ]
    }
   ],
=======
   "execution_count": null,
   "id": "1c97ebac",
   "metadata": {},
   "outputs": [],
   "source": []
  },
  {
   "cell_type": "code",
   "execution_count": null,
   "id": "d107fc0c",
   "metadata": {},
   "outputs": [],
>>>>>>> e12170f9ce1c3c9505d7a3c8033cd9313dc7c617
   "source": [
    "# Wyszukanie współczynnika TYPE do wzoru demage\n",
    "# Funkcja ma zwrócić wartości współczynnika \"type\" jako float, który będzie wykorzystany do obliczenia \"demage\" i \"special demage\"\n",
    "#      zmienne wymagane do fukncji: typ pokemona atakującego (baraja_poke) i broniącego się (ai_poke)\n",
    "\n",
    "df_type = pd.read_excel(r\"C:\\Users\\Pingwiny\\baraja\\Pokemony\\poke_type.xlsx\")\n",
    "# df_type = df_type.rename_axis()\n",
    "# index = [\"Normal\",\"Fighting\",\"Flying\",\"Poison\",\"Ground\",\"Rock\",\"Bug\",\"Ghost\",\"Steel\",\"Fire\",\"Water\",\"Grass\",\"Electric\",\"Psychc\",\"Ice\",\"Dragon\",\"Dark\",\"Fairy\"]\n",
    "#             columns=[\"Normal\",\"Fighting\",\"Flying\",\"Poison\",\"Ground\",\"Rock\",\"Bug\",\"Ghost\",\"Steel\",\"Fire\",\"Water\",\"Grass\",\"Electric\",\"Psychc\",\"Ice\",\"Dragon\",\"Dark\",\"Fairy\"])\n",
    "# df_type = df_type.drop(['Unnamed: 0'], axis=1)\n",
    "\n",
    "df_type = df_type.set_index(\"Unnamed: 0\")\n",
    "df_type = df_type.rename_axis(\"\", axis=\"index\")\n",
    "# df = pd.DataFrame([[1, 2], [4, 5], [7, 8]],\n",
    "#      index=['cobra', 'viper', 'sidewinder'],\n",
    "#      columns=['max_speed', 'shield'])\n",
    "\n",
    "#zmienne_1: nazwa i typy pokemona baraja.\n",
    "baraja_pokename = baraja_poke[2]\n",
    "baraja_poke_type1 = baraja_poke[4]\n",
    "baraja_poke_type2 = baraja_poke[5]\n",
    "print(f\"Your Pokemon is {baraja_pokename} and it is {baraja_poke_type1} and {baraja_poke_type2} type.\")\n",
    "#zmienne_2: nazwa i typy pokemona ai - przeciwnik.\n",
    "ai_pokename = ai_poke[2]\n",
    "ai_poke_type1 = ai_poke[4]\n",
    "ai_poke_type2 = ai_poke[5]\n",
    "print(f\"Opponet's Pokemon is {ai_pokename} and it is {ai_poke_type1} and {ai_poke_type2} type.\")\n",
    "\n",
    "df_type.head()\n",
    "type_factor = float(df_type.loc[baraja_poke_type1, ai_poke_type1])\n",
    "print(type_factor, type(type_factor))"
   ]
  },
  {
   "cell_type": "code",
   "execution_count": null,
   "id": "fc398ffd",
   "metadata": {},
   "outputs": [],
   "source": [
    "full[\"damage_physical\"] = round(((((2 * full[\"pokelevel\"])/5)+(full[\"attack\"]/full[\"defense\"])/50)+2)*(rd.randint(85, 100)/100)) # *type - zdefiniować\n",
    "full[\"damage_special\"] = round(((((2 * full[\"pokelevel\"])/5)+(full[\"spatk\"]/full[\"spdef\"])/50)+2)*(rd.randint(85, 100)/100)) # *type - zdefiniować"
   ]
  },
  {
   "cell_type": "code",
   "execution_count": null,
   "id": "a771389f",
   "metadata": {
    "scrolled": true
   },
   "outputs": [],
   "source": [
    "full"
   ]
  },
  {
   "cell_type": "code",
   "execution_count": null,
   "id": "45c92d9c",
   "metadata": {},
   "outputs": [],
   "source": [
    "def opp():\n",
    "    rd_find = rd.randint(1,len(full))\n",
    "    rd_poke = full.loc[rd_find]\n",
    "    name =  rd_poke[\"pokename\"]\n",
    "    typ = rd_poke[\"type1\"]\n",
    "    index = rd_find\n",
    "    print(f\"Twój przeciwnik to {name}.\\nJego typ to {typ}. Numer indexu pokemona to {index}\")\n",
    "    if typ == \"Fire\" or typ == \"Water\" or typ == \"Grass\" or typ == \"Electric\" or typ == \"Ice\" or typ == \"Psychic\":\n",
    "        damage = rd_poke[\"damage_physical\"] * rd_poke[\"hp\"]\n",
    "        return f\"Wynik to {damage}\"\n",
    "    else:\n",
    "        damage = rd_poke[\"damage_special\"] * rd_poke[\"hp\"]\n",
    "        return f\"Wynik to {damage}\"\n",
    "    \n",
    "\n",
    "\n",
    "print(opp())\n",
    "\n",
    "# def ranking():\n",
    "\n",
    "\n",
    "# print(ranking())"
   ]
  },
  {
   "cell_type": "code",
   "execution_count": null,
   "id": "06447700",
   "metadata": {},
   "outputs": [],
   "source": [
    "full[\"result\"] = full[\"damage_special\"] * full[\"hp\"]\n",
    "\n",
    "\n",
    "s = int(input(\"Wpisz index pokemona \"))\n",
    "s_chosen = full.loc[s][\"result\"]\n",
    "\n",
    "print(s_chosen)\n",
    "greater = full[full[\"result\"] >= s_chosen].count()\n",
    "print(greater[\"result\"])\n",
    "lower = full[full[\"result\"] < s_chosen].count()\n",
    "\n",
    "win = round((greater[\"result\"] / len(full)),2)\n",
    "loose = round((1 - win),2)\n",
    "print(f\"Wygrasz z {win} przeciwników oraz przegrasz z {loose} przeciwników\")"
   ]
  },
  {
   "cell_type": "code",
   "execution_count": null,
   "id": "56c1b0f8",
   "metadata": {},
   "outputs": [],
   "source": [
    "# 1. STATYSTYKA\n",
    "#     > zestawienie sumaryczne pokelevelow przez typy pokemonów uwzględniając liczebność,\n",
    "#     > wyznaczenie prawdopodobieństwa wylosowania kart danego typu,\n",
    "#     > dodanie demage albo special demage w zależności od typu pokemona:\n",
    "#         >> przyjmujemy zakres demage - dwie kolumny: demage min (wartość random=0,85), demage max (wartość random=1,0)\n",
    "#             >>> dla każdego pokemona, następnie liczymy średni demage dla danych typów\n",
    "#             >>> zestawiamy z prawdopodobieństwem wylosowania danego typu\n",
    "#             >>> dla każdego typu przedstawić demage w formie wykresu skrzynkowego (max, min i średnia)\n",
    "#         >> \"defense\" do statystyki (wyliczenie we wzorze \"demage\") = 1 - jest to wartość pobierana od przeciwnika = obniża \"demage\" atakującego,\n",
    "#         >> Rodzaj ataku w funkcji typu pokemona:\n",
    "#             >>> physical attack: Fire, Water, Grass, Electric, Ice, Psychic, Steel\n",
    "#             >>> special attack: Normal, Fighting, Flying, Ground, Rock, Bug, Poison, Ghost, Dragon, Dark\n",
    "#     > zastanowić się jak uwzględnić HP (zdrowie) - odejmowanie po ataku.\n",
    "\n",
    "    \n",
    "#  Rodzaj ataku w funkcji typu pokemona:\n",
    "#    physical attack: Fire, Water, Grass, Electric, Ice, Psychic, Steel\n",
    "#    special attack: Normal, Fighting, Flying, Ground, Rock, Bug, Poison, Ghost, Dragon, Dark"
   ]
  },
  {
   "cell_type": "code",
   "execution_count": null,
   "id": "dfde7901",
   "metadata": {
    "scrolled": true
   },
   "outputs": [],
   "source": [
    "# print(df_pokemons)\n",
    "# print(list(df_pokemons.columns))\n",
    "\n",
    "# Obliczenie zadawanego zniszczenia i dodanie kolumny\"demage\"\n",
    "#\n",
    "    # Wzór:\n",
    "    # damage = ((((2*level/5)+2)+(A/D)/50)+2)*random*type\n",
    "        # gdzie: level = p.pokelevel\n",
    "        # A = attack lub spatk\n",
    "        # D = defense lub spdef\n",
    "        # random = random integer percentage between 0.85 and 1.00 (inclusive)\n",
    "        # type = type effectiveness (edited) \n",
    "# Zastanowić się czy współczynnik \"random\" przenieść do wyliczenia przed walką (żeby uniknąć powtarzalnych wartość dla całego dataframe)\n",
    "df_pokemons[\"damage_physical\"] = round(((((2 * df_pokemons[\"pokelevel\"])/5)+(df_pokemons[\"attack\"]/df_pokemons[\"defense\"])/50)+2)*(rd.randint(85, 100)/100)) # *type - zdefiniować\n",
    "df_pokemons[\"damage_special\"] = round(((((2 * df_pokemons[\"pokelevel\"])/5)+(df_pokemons[\"spatk\"]/df_pokemons[\"spdef\"])/50)+2)*(rd.randint(85, 100)/100)) # *type - zdefiniować\n",
    "\n",
    "# Utworzenie listy z indeksów pokemonów - do wykorzystania przy losowaniu random\n",
    "# pokemons_indexes = list(df_pokemons.index.values)\n",
    "# Wylosowanie n=10 pokemonów do dalszej gry\n",
    "## >>>>>>> Wypisać numer i nazwę pokemona <<<<<<< np. osobne \n",
    "df_pokemons = df_pokemons.sample(100)\n",
    "df_pokemons = df_pokemons.reset_index(drop=True) #nowe indeksy dla wylosowanych pokemonów\n",
    "\n",
    "while True:\n",
    "    wybor_pokemona = int(input(\"Wybierz Pokemona wpisując liczbę od 0 do 99:\\n\")) #prośba o wybór pokemona do symulacji\n",
    "    if wybor_pokemona >= 0 and wybor_pokemona < 100:\n",
    "        break\n",
    "    else:\n",
    "        print(\"Wprowadź liczbę z zakresu od 0 do 99, która reprezentuje losowo wybranego Pokemona:\")\n",
    "    \n",
    "    \n",
    "print(df_pokemons.iloc[wybor_pokemona , : ]) #wyświetla dane dla wybranego pokemona po liczbie"
   ]
  },
  {
   "cell_type": "code",
   "execution_count": null,
   "id": "2b9d7a7f",
   "metadata": {},
   "outputs": [],
   "source": [
    "# Intro do symulatora walki pokemonów\n",
    "print(\"\"\"\n",
    "         ***************************************      `;-.          ___,\n",
    "         * Witaj w symulatorze walki Pokemonów *        `.`\\_...._/`.-\"`\n",
    "         ***************************************          \\        /      ,\n",
    "                                                          /()   () \\    .' `-._ \n",
    "                     _                                   |)  .    ()\\  /   _.'     \n",
    "         _ __   ___ | | _____ _ __ ___   ___  _ __       \\  -'-     ,; '. < \n",
    "        | '_ \\ / _ \\| |/ / _ \\ '_ ` _ \\ / _ \\| '_ \\       ;.__     ,;|   > \\\\\n",
    "        | |_) | (_) |   <  __/ | | | | | (_) | | | |     / ,    / ,  |.-'.-'\n",
    "        | .__/ \\___/|_|\\_\\___|_| |_| |_|\\___/|_| |_|    (_/    (_/ ,;|.<`\n",
    "        |_|                                               \\    ,     ;-`\n",
    "                                                           >   \\    /\n",
    "                                                          (_,-'`> .'\n",
    "                                                               (_,'\n",
    "\"\"\")\n"
   ]
  },
  {
   "cell_type": "code",
<<<<<<< HEAD
   "execution_count": null,
   "id": "9c4a5d34",
   "metadata": {},
   "outputs": [],
   "source": [
    "def pull60():\n",
    "    pass"
=======
   "execution_count": 69,
   "id": "9c4a5d34",
   "metadata": {},
   "outputs": [
    {
     "name": "stdout",
     "output_type": "stream",
     "text": [
      "['Staraptor', 'Raichu', 'Chinchou', 'Wailmer', 'Electrode', 'Golduck', 'Zubat', 'Machoke', 'Nuzleaf', 'Bisharp', 'Magikarp', 'Swellow', 'Hariyama', 'Tentacool', 'Starmie', 'Arbok', 'Chimecho', 'Baltoy', 'Kangaskhan', 'Buizel', 'Nidoking', 'Buneary', 'Makuhita', 'Zangoose', 'Seadra', 'Magcargo', 'Weezing', 'Suicune', 'Loudred', 'Pidgeotto', 'Illumise', 'Diglett', 'Kecleon', 'Geodude', 'Camerupt', 'Geodude', 'Electrode', 'Jirachi', 'Golem', 'Dodrio', 'Sawk', 'Zubat', 'Ludicolo', 'Dusclops', 'Weavile', 'Psyduck', 'Spearow', 'Meowth', 'Oddish', 'Golduck', 'Quagsire', 'Tentacruel', 'Heatran', 'Vigoroth', 'Machop', 'Heracross', 'Basculin', 'Kadabra', 'Seedot', 'Beautifly']\n"
     ]
    }
   ],
   "source": [
    "def pull60():\n",
    "    lista = full[\"pokename\"]\n",
    "    newlista = rd.choices(lista, k = 60)\n",
    "    return newlista\n",
    "\n",
    "print(pull60())"
    "    lista = np.array(full[\"pokename\"])\n",
    "    lista \n",
    "    return lista\n",
    "\n",
    "print(len(pull60()))"
>>>>>>> e12170f9ce1c3c9505d7a3c8033cd9313dc7c617
   ]
  }
 ],
 "metadata": {
  "kernelspec": {
   "display_name": "Python 3",
   "language": "python",
   "name": "python3"
  },
  "language_info": {
   "codemirror_mode": {
    "name": "ipython",
    "version": 3
   },
   "file_extension": ".py",
   "mimetype": "text/x-python",
   "name": "python",
   "nbconvert_exporter": "python",
   "pygments_lexer": "ipython3",
   "version": "3.8.8"
  }
 },
 "nbformat": 4,
 "nbformat_minor": 5
}
