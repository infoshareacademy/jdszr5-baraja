{
 "cells": [
  {
   "cell_type": "code",
   "execution_count": 1,
   "id": "5056e1f5",
   "metadata": {},
   "outputs": [],
   "source": [
    "import os\n",
    "import glob\n",
    "import numpy as np\n",
    "import pandas as pd"
   ]
  },
  {
   "cell_type": "code",
   "execution_count": 11,
   "id": "939c165a",
   "metadata": {},
   "outputs": [
    {
     "data": {
      "text/plain": [
       "['C:\\\\Users\\\\Bartek\\\\Desktop\\\\Pokemony\\\\pokemony.txt',\n",
       " 'C:\\\\Users\\\\Bartek\\\\Desktop\\\\Pokemony\\\\pokemon_202110171358.csv',\n",
       " 'C:\\\\Users\\\\Bartek\\\\Desktop\\\\Pokemony\\\\trainers_202110171359.csv',\n",
       " 'C:\\\\Users\\\\Bartek\\\\Desktop\\\\Pokemony\\\\Untitled.ipynb']"
      ]
     },
     "execution_count": 11,
     "metadata": {},
     "output_type": "execute_result"
    }
   ],
   "source": [
    "glob.glob(os.path.join(os.path.abspath(\"\"),\"*\"))\n"
   ]
  },
  {
   "cell_type": "code",
   "execution_count": 12,
   "id": "cd187248",
   "metadata": {},
   "outputs": [],
   "source": [
    "file_1 = pd.read_csv(\"pokemon_202110171358.csv\")\n",
    "file_2 = pd.read_csv(\"trainers_202110171359.csv\")"
   ]
  },
  {
   "cell_type": "code",
   "execution_count": null,
   "id": "dfde7901",
   "metadata": {},
   "outputs": [],
   "source": []
  }
 ],
 "metadata": {
  "kernelspec": {
   "display_name": "Python 3",
   "language": "python",
   "name": "python3"
  },
  "language_info": {
   "codemirror_mode": {
    "name": "ipython",
    "version": 3
   },
   "file_extension": ".py",
   "mimetype": "text/x-python",
   "name": "python",
   "nbconvert_exporter": "python",
   "pygments_lexer": "ipython3",
   "version": "3.8.8"
  }
 },
 "nbformat": 4,
 "nbformat_minor": 5
}
