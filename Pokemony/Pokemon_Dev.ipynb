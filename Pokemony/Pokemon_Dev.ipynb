{
 "cells": [
  {
   "cell_type": "code",
   "execution_count": null,
   "id": "5056e1f5",
   "metadata": {},
   "outputs": [],
   "source": [
    "import os\n",
    "import glob\n",
    "import numpy as np\n",
    "import pandas as pd\n",
    "import random as rd\n",
    "import matplotlib.pyplot as plt"
   ]
  },
  {
   "cell_type": "code",
   "execution_count": null,
   "id": "939c165a",
   "metadata": {},
   "outputs": [],
   "source": [
    "glob.glob(os.path.join(os.path.abspath(\"\"),\"*\"))"
   ]
  },
  {
   "cell_type": "code",
   "execution_count": null,
   "id": "cd187248",
   "metadata": {},
   "outputs": [],
   "source": [
    "full = pd.read_csv(\"pokemon_202110171358.csv\")\n",
    "df_pokemons = pd.read_csv(\"pokemon_202110171358.csv\")\n",
    "df_trainers = pd.read_csv(\"trainers_202110171359.csv\")"
   ]
  },
  {
   "cell_type": "code",
   "execution_count": null,
   "id": "dfde7901",
   "metadata": {},
   "outputs": [],
   "source": [
    "# print(df_pokemons)\n",
    "# print(list(df_pokemons.columns))\n",
    "\n",
    "# Obliczenie zadawanego zniszczenia i dodanie kolumny\"demage\"\n",
    "#\n",
    "    # Wzór:\n",
    "    # damage = ((((2*level/5)+2)+(A/D)/50)+2)*random*type\n",
    "        # gdzie: level = p.pokelevel\n",
    "        # A = attack lub spatk\n",
    "        # D = defense lub spdef\n",
    "        # random = random integer percentage between 0.85 and 1.00 (inclusive)\n",
    "        # type = type effectiveness (edited) \n",
    "# Zastanowić się czy współczynnik \"random\" przenieść do wyliczenia przed walką (żeby uniknąć powtarzalnych wartość dla całego dataframe)\n",
    "df_pokemons[\"damage_physical\"] = round(((((2 * df_pokemons[\"pokelevel\"])/5)+(df_pokemons[\"attack\"]/df_pokemons[\"defense\"])/50)+2)*(rd.randint(85, 100)/100)) # *type - zdefiniować\n",
    "df_pokemons[\"damage_special\"] = round(((((2 * df_pokemons[\"pokelevel\"])/5)+(df_pokemons[\"spatk\"]/df_pokemons[\"spdef\"])/50)+2)*(rd.randint(85, 100)/100)) # *type - zdefiniować\n",
    "\n",
    "# Wylosowanie n pokemonów do dalszej gry\n",
    "df_pokemons = df_pokemons.sample(100)\n",
    "\n",
    "# Wylosowanie 3 pokemonów dla ai (przeciwnik)\n",
    "df_ai_pokemons = df_pokemons.sample(3)\n",
    "\n",
    "# Reset indeksów dla wylosowanych baraja_pokemonów\n",
    "df_pokemons = df_pokemons.reset_index(drop=True)\n",
    "\n",
    "# Reset indeksów dla wylosowanych ai_pokemonów\n",
    "df_ai_pokemons = df_ai_pokemons.reset_index(drop=True)\n",
    "\n",
    "# Wybór pokemona do symulacji\n",
    "wybor_pokemona = int(input(\"Wybierz baraja_pokemona wpisując liczbę od 0 do 99:\\n\"))\n",
    "wybor_ai_pokemona = int(input(\"Wybierz ai_pokemona wpisując liczbę od 0 do 2:\\n\"))\n",
    "\n",
    "# Przypisanie wybranego pokemona do zmiennej baraja_poke\n",
    "baraja_poke = df_pokemons.iloc[wybor_pokemona , :]\n",
    "ai_poke = df_ai_pokemons.iloc[wybor_ai_pokemona, :]\n",
    "\n",
    "# Wyświetlenie nazwy pokemona i jego typów\n",
    "print(\"Pokemon baraja:\",baraja_poke[2],baraja_poke[4],baraja_poke[5])\n",
    "print(\"Pokemon AI:\",ai_poke[2],ai_poke[4],ai_poke[5])\n",
    "\n",
    "df_ai_pokemons.head()\n",
    "# print(df_pokemons.iloc[ wybor_pokemona , : ]) #wyświetla dane dla wybranego pokemona po liczbie"
   ]
  },
  {
   "cell_type": "code",
   "execution_count": null,
   "id": "d107fc0c",
   "metadata": {},
   "outputs": [],
   "source": [
    "# Wyszukanie współczynnika \"type\" do wzoru demage\n",
    "# Funkcja ma zwrócić wartości współczynnika \"type\" jako float, który będzie wykorzystany do obliczenia \"demage\" i \"special demage\"\n",
    "#      zmienne wymagane do fukncji: typ pokemona atakującego (baraja_poke) i broniącego się (ai_poke)\n",
    "\n",
    "df_type = pd.read_excel(r\"C:\\Users\\Pingwiny\\baraja\\Pokemony\\poke_type.xlsx\")\n",
    "# df_type = df_type.rename_axis()\n",
    "# index = [\"Normal\",\"Fighting\",\"Flying\",\"Poison\",\"Ground\",\"Rock\",\"Bug\",\"Ghost\",\"Steel\",\"Fire\",\"Water\",\"Grass\",\"Electric\",\"Psychc\",\"Ice\",\"Dragon\",\"Dark\",\"Fairy\"]\n",
    "#             columns=[\"Normal\",\"Fighting\",\"Flying\",\"Poison\",\"Ground\",\"Rock\",\"Bug\",\"Ghost\",\"Steel\",\"Fire\",\"Water\",\"Grass\",\"Electric\",\"Psychc\",\"Ice\",\"Dragon\",\"Dark\",\"Fairy\"])\n",
    "# df_type = df_type.drop(['Unnamed: 0'], axis=1)\n",
    "\n",
    "df_type = df_type.set_index(\"Unnamed: 0\")\n",
    "df_type = df_type.rename_axis(\"\", axis=\"index\")\n",
    "\n",
    "#zmienne_1: nazwa i typy pokemona baraja.\n",
    "baraja_pokename = baraja_poke[2]\n",
    "baraja_poke_type1 = baraja_poke[4]\n",
    "baraja_poke_type2 = baraja_poke[5]\n",
    "print(f\"Your Pokemon is {baraja_pokename} and it is {baraja_poke_type1} and {baraja_poke_type2} type.\")\n",
    "#zmienne_2: nazwa i typy pokemona ai - przeciwnik.\n",
    "ai_pokename = ai_poke[2]\n",
    "ai_poke_type1 = ai_poke[4]\n",
    "ai_poke_type2 = ai_poke[5]\n",
    "print(f\"Opponent's Pokemon is {ai_pokename} and it is {ai_poke_type1} and {ai_poke_type2} type.\")\n",
    "\n",
    "type_factor = float(df_type.loc[baraja_poke_type1, ai_poke_type1])\n",
    "print(type_factor, type(type_factor))"
   ]
  },
  {
   "cell_type": "code",
   "execution_count": null,
   "id": "fc398ffd",
   "metadata": {},
   "outputs": [],
   "source": [
    "full[\"damage_physical\"] = round(((((2 * full[\"pokelevel\"])/5)+(full[\"attack\"]/full[\"defense\"])/50)+2)*(rd.randint(85, 100)/100)) # *type - zdefiniować\n",
    "full[\"damage_special\"] = round(((((2 * full[\"pokelevel\"])/5)+(full[\"spatk\"]/full[\"spdef\"])/50)+2)*(rd.randint(85, 100)/100)) # *type - zdefiniować"
   ]
  },
  {
   "cell_type": "code",
   "execution_count": null,
   "id": "45c92d9c",
   "metadata": {},
   "outputs": [],
   "source": [
    "def opp():\n",
    "    rd_find = rd.randint(1,len(full))\n",
    "    rd_poke = full.loc[rd_find]\n",
    "    name =  rd_poke[\"pokename\"]\n",
    "    typ = rd_poke[\"type1\"]\n",
    "    index = rd_find\n",
    "    print(f\"Twój przeciwnik to {name}.\\nJego typ to {typ}. Numer indexu pokemona to {index}\")\n",
    "    if typ == \"Fire\" or typ == \"Water\" or typ == \"Grass\" or typ == \"Electric\" or typ == \"Ice\" or typ == \"Psychic\":\n",
    "        damage = rd_poke[\"damage_physical\"] * rd_poke[\"hp\"]\n",
    "        return f\"Wynik to {damage}\"\n",
    "    else:\n",
    "        damage = rd_poke[\"damage_special\"] * rd_poke[\"hp\"]\n",
    "        return f\"Wynik to {damage}\"\n",
    "    \n",
    "\n",
    "\n",
    "print(opp())\n",
    "\n",
    "# def ranking():\n",
    "\n",
    "\n",
    "# print(ranking())"
   ]
  },
  {
   "cell_type": "code",
   "execution_count": null,
   "id": "06447700",
   "metadata": {},
   "outputs": [],
   "source": [
    "full[\"result\"] = full[\"damage_special\"] * full[\"hp\"]\n",
    "\n",
    "\n",
    "s = int(input(\"Wpisz index pokemona \"))\n",
    "s_chosen = full.loc[s][\"result\"]\n",
    "\n",
    "print(s_chosen)\n",
    "greater = full[full[\"result\"] >= s_chosen].count()\n",
    "print(greater[\"result\"])\n",
    "lower = full[full[\"result\"] < s_chosen].count()\n",
    "\n",
    "win = round((greater[\"result\"] / len(full)),2)\n",
    "loose = round((1 - win),2)\n",
    "print(f\"Wygrasz z {win} przeciwników oraz przegrasz z {loose} przeciwników\")"
   ]
  },
  {
   "cell_type": "code",
   "execution_count": null,
   "id": "56c1b0f8",
   "metadata": {},
   "outputs": [],
   "source": [
    "# 1. STATYSTYKA\n",
    "#     > zestawienie sumaryczne pokelevelow przez typy pokemonów uwzględniając liczebność,\n",
    "#     > wyznaczenie prawdopodobieństwa wylosowania kart danego typu,\n",
    "#     > dodanie demage albo special demage w zależności od typu pokemona:\n",
    "#         >> przyjmujemy zakres demage - dwie kolumny: demage min (wartość random=0,85), demage max (wartość random=1,0)\n",
    "#             >>> dla każdego pokemona, następnie liczymy średni demage dla danych typów\n",
    "#             >>> zestawiamy z prawdopodobieństwem wylosowania danego typu\n",
    "#             >>> dla każdego typu przedstawić demage w formie wykresu skrzynkowego (max, min i średnia)\n",
    "#         >> \"defense\" do statystyki (wyliczenie we wzorze \"demage\") = 1 - jest to wartość pobierana od przeciwnika = obniża \"demage\" atakującego,\n",
    "#         >> Rodzaj ataku w funkcji typu pokemona:\n",
    "#             >>> physical attack: Fire, Water, Grass, Electric, Ice, Psychic, Steel\n",
    "#             >>> special attack: Normal, Fighting, Flying, Ground, Rock, Bug, Poison, Ghost, Dragon, Dark\n",
    "#     > zastanowić się jak uwzględnić HP (zdrowie) - odejmowanie po ataku. \n",
    "#  Rodzaj ataku w funkcji typu pokemona:\n",
    "#    physical attack: Fire, Water, Grass, Electric, Ice, Psychic, Steel\n",
    "#    special attack: Normal, Fighting, Flying, Ground, Rock, Bug, Poison, Ghost, Dragon, Dark"
   ]
  },
  {
   "cell_type": "code",
   "execution_count": null,
   "id": "dfde7901",
   "metadata": {
    "scrolled": true
   },
   "outputs": [],
   "source": [
    "# print(df_pokemons)\n",
    "# print(list(df_pokemons.columns))\n",
    "\n",
    "# Obliczenie zadawanego zniszczenia i dodanie kolumny\"demage\"\n",
    "#\n",
    "    # Wzór:\n",
    "    # damage = ((((2*level/5)+2)+(A/D)/50)+2)*random*type\n",
    "        # gdzie: level = p.pokelevel\n",
    "        # A = attack lub spatk\n",
    "        # D = defense lub spdef\n",
    "        # random = random integer percentage between 0.85 and 1.00 (inclusive)\n",
    "        # type = type effectiveness (edited) \n",
    "# Zastanowić się czy współczynnik \"random\" przenieść do wyliczenia przed walką (żeby uniknąć powtarzalnych wartość dla całego dataframe)\n",
    "df_pokemons[\"damage_physical\"] = round(((((2 * df_pokemons[\"pokelevel\"])/5)+(df_pokemons[\"attack\"]/df_pokemons[\"defense\"])/50)+2)*(rd.randint(85, 100)/100)) # *type - zdefiniować\n",
    "df_pokemons[\"damage_special\"] = round(((((2 * df_pokemons[\"pokelevel\"])/5)+(df_pokemons[\"spatk\"]/df_pokemons[\"spdef\"])/50)+2)*(rd.randint(85, 100)/100)) # *type - zdefiniować\n",
    "\n",
    "# Utworzenie listy z indeksów pokemonów - do wykorzystania przy losowaniu random\n",
    "# pokemons_indexes = list(df_pokemons.index.values)\n",
    "# Wylosowanie n=10 pokemonów do dalszej gry\n",
    "## >>>>>>> Wypisać numer i nazwę pokemona <<<<<<< np. osobne \n",
    "df_pokemons = df_pokemons.sample(100)\n",
    "df_pokemons = df_pokemons.reset_index(drop=True) #nowe indeksy dla wylosowanych pokemonów\n",
    "\n",
    "while True:\n",
    "    wybor_pokemona = int(input(\"Wybierz Pokemona wpisując liczbę od 0 do 99:\\n\")) #prośba o wybór pokemona do symulacji\n",
    "    if wybor_pokemona >= 0 and wybor_pokemona < 100:\n",
    "        break\n",
    "    else:\n",
    "        print(\"Wprowadź liczbę z zakresu od 0 do 99, która reprezentuje losowo wybranego Pokemona:\")\n",
    "    \n",
    "    \n",
    "print(df_pokemons.iloc[wybor_pokemona , : ]) #wyświetla dane dla wybranego pokemona po liczbie"
   ]
  },
  {
   "cell_type": "code",
   "execution_count": null,
   "id": "2b9d7a7f",
   "metadata": {},
   "outputs": [],
   "source": [
    "# Intro do symulatora walki pokemonów\n",
    "print(\"\"\"\n",
    "         ***************************************      `;-.          ___,\n",
    "         * Witaj w symulatorze walki Pokemonów *        `.`\\_...._/`.-\"`\n",
    "         ***************************************          \\        /      ,\n",
    "                                                          /()   () \\    .' `-._ \n",
    "                     _                                   |)  .    ()\\  /   _.'     \n",
    "         _ __   ___ | | _____ _ __ ___   ___  _ __       \\  -'-     ,; '. < \n",
    "        | '_ \\ / _ \\| |/ / _ \\ '_ ` _ \\ / _ \\| '_ \\       ;.__     ,;|   > \\\\\n",
    "        | |_) | (_) |   <  __/ | | | | | (_) | | | |     / ,    / ,  |.-'.-'\n",
    "        | .__/ \\___/|_|\\_\\___|_| |_| |_|\\___/|_| |_|    (_/    (_/ ,;|.<`\n",
    "        |_|                                               \\    ,     ;-`\n",
    "                                                           >   \\    /\n",
    "                                                          (_,-'`> .'\n",
    "                                                               (_,'\n",
    "\"\"\")\n"
   ]
  },
  {
   "cell_type": "code",
   "execution_count": null,
   "id": "9c4a5d34",
   "metadata": {},
   "outputs": [],
   "source": [
    "def pull60():\n",
    "    poke_list = full[[\"pokename\", \"type1\"]]\n",
    "    newlista = poke_list.sample(n = 60).sort_index()\n",
    "    return newlista\n",
    "\n"
   ]
  },
  {
   "cell_type": "code",
   "execution_count": 187,
   "id": "3af67f5f",
   "metadata": {},
   "outputs": [],
   "source": [
    "def wykres_atak():\n",
    "    num = int(input())\n",
    "\n",
    "    pn = full.iloc[num][\"pokename\"]\n",
    "    pl = full[full[\"pokename\"] == pn][\"attack\"].to_numpy()\n",
    "    z = full[full[\"pokename\"] == pn]\n",
    "    pl.sort()\n",
    "\n",
    "    atk = full.iloc[num][\"attack\"]\n",
    "\n",
    "    a = full[full[\"pokename\"] == pn][\"attack\"].sort_values().to_numpy()\n",
    "    z = 1 #pierwszy \n",
    "\n",
    "    for g in a:\n",
    "        if g < full.iloc[num][\"attack\"]:\n",
    "            z += 1\n",
    "\n",
    "    plt.plot(pl) #Jak wyglądają pokemony tej samej nazwy na osi\n",
    "    plt.scatter(x=z, y= atk, c=\"r\") #Gdzie dokładnie jest nasz pokemon\n",
    "    plt.title(\"Attack - \" + pn )\n",
    "    plt.xlabel(\"Numer w rankingu\")\n",
    "    plt.ylabel(\"Atak\")\n",
    "\n"
   ]
  },
  {
   "cell_type": "code",
   "execution_count": 188,
   "id": "a2ff78e0",
   "metadata": {},
   "outputs": [
    {
     "data": {
      "image/png": "[encoded data removed]",
      "text/plain": [
       "<Figure size 432x288 with 1 Axes>"
      ]
     },
     "metadata": {
      "needs_background": "light"
     },
     "output_type": "display_data"
    }
   ],
   "source": [
    "wykres_atak()"
   ]
  }
 ],
 "metadata": {
  "kernelspec": {
   "display_name": "Python 3",
   "language": "python",
   "name": "python3"
  },
  "language_info": {
   "codemirror_mode": {
    "name": "ipython",
    "version": 3
   },
   "file_extension": ".py",
   "mimetype": "text/x-python",
   "name": "python",
   "nbconvert_exporter": "python",
   "pygments_lexer": "ipython3",
   "version": "3.8.8"
  }
 },
 "nbformat": 4,
 "nbformat_minor": 5
}
